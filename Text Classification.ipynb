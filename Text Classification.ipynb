{
 "cells": [
  {
   "cell_type": "markdown",
   "metadata": {
    "heading_collapsed": true,
    "init_cell": true
   },
   "source": [
    "## Imports"
   ]
  },
  {
   "cell_type": "code",
   "execution_count": 1,
   "metadata": {
    "hidden": true,
    "init_cell": true
   },
   "outputs": [],
   "source": [
    "import pandas as pd\n",
    "import numpy as np\n",
    "import string\n",
    "import random\n",
    "from termcolor import colored\n",
    "from collections import defaultdict \n",
    "from sklearn.feature_extraction.text import CountVectorizer,TfidfVectorizer, HashingVectorizer\n",
    "from sklearn.base import TransformerMixin\n",
    "from sklearn.pipeline import Pipeline, FeatureUnion\n",
    "import skipthoughts\n",
    "from sklearn import metrics\n",
    "from sklearn.multiclass import OneVsRestClassifier\n",
    "from sklearn.model_selection import GridSearchCV, RandomizedSearchCV, train_test_split\n",
    "from sklearn.svm import SVC\n",
    "from sklearn.linear_model import LogisticRegression, SGDClassifier\n",
    "import spacy\n",
    "import unidecode\n",
    "from sklearn import preprocessing\n",
    "import ktrain\n",
    "from ktrain import text"
   ]
  },
  {
   "cell_type": "markdown",
   "metadata": {},
   "source": [
    "## Tokenizer"
   ]
  },
  {
   "cell_type": "code",
   "execution_count": 12,
   "metadata": {
    "init_cell": true
   },
   "outputs": [],
   "source": [
    "tok_nlp = spacy.load('en_core_web_sm')\n",
    "\n",
    "def tokenizer(sentence):\n",
    "    sentence = unidecode.unidecode(sentence.lower())\n",
    "    mytokens = []\n",
    "    sentence_len = len(sentence.split(' '))\n",
    "    \n",
    "    for token in tok_nlp(sentence):\n",
    "        if (\n",
    "            not token.is_stop and \n",
    "            not token.is_punct and\n",
    "#             not token.pos_ == 'PROPN' and \n",
    "            not token.is_space\n",
    "        ):\n",
    "            mytokens.append(token.lemma_.strip())\n",
    "    \n",
    "    return ' '.join(mytokens)"
   ]
  },
  {
   "cell_type": "code",
   "execution_count": 19,
   "metadata": {},
   "outputs": [],
   "source": [
    "def tokenizer(sentence):\n",
    "    sentence = unidecode.unidecode(sentence.lower())\n",
    "    mytokens = []\n",
    "    for token in tok_nlp(sentence):\n",
    "        if (not token.is_punct and not token.is_space):\n",
    "            lemma = token.lemma_\n",
    "            if (lemma == '-PRON-'):\n",
    "                mytokens.append(token.text.strip())\n",
    "            else:\n",
    "                mytokens.append(token.lemma_.strip())\n",
    "    \n",
    "    return ' '.join(mytokens)"
   ]
  },
  {
   "cell_type": "code",
   "execution_count": 20,
   "metadata": {},
   "outputs": [
    {
     "data": {
      "text/plain": [
       "'how be you do apple'"
      ]
     },
     "execution_count": 20,
     "metadata": {},
     "output_type": "execute_result"
    }
   ],
   "source": [
    "tokenizer(\"how are you doing apple?\")"
   ]
  },
  {
   "cell_type": "markdown",
   "metadata": {
    "heading_collapsed": true
   },
   "source": [
    "## Helper Fuctions"
   ]
  },
  {
   "cell_type": "code",
   "execution_count": 3,
   "metadata": {
    "hidden": true,
    "init_cell": true
   },
   "outputs": [],
   "source": [
    "def get_accuracy(preds, labels):\n",
    "    print(\"Accuracy:\", metrics.accuracy_score(y_true=labels, y_pred=preds ,normalize=False))\n",
    "    print(metrics.classification_report(y_true=labels, y_pred=preds))\n",
    "    \n",
    "def save_model_results(preds):\n",
    "    pd.DataFrame(preds).to_excel(\"temp.xlsx\")"
   ]
  },
  {
   "cell_type": "markdown",
   "metadata": {},
   "source": [
    "## Reading Train and Test Data"
   ]
  },
  {
   "cell_type": "markdown",
   "metadata": {},
   "source": [
    "**Random_State = 45**"
   ]
  },
  {
   "cell_type": "code",
   "execution_count": 4,
   "metadata": {
    "init_cell": true
   },
   "outputs": [],
   "source": [
    "df = pd.read_excel('Training Phrases.xlsx', sheet_name='Testing of Models', nrows=456)\n",
    "df = df.drop(df.index[0])\n",
    "df = df[df.columns[[1, 2]]]\n",
    "df.columns = [\"Text\", \"Label\"]\n",
    "df['Text'] = df['Text'].apply(tokenizer)\n",
    "\n",
    "x_train, x_test, y_train, y_test = train_test_split(df['Text'], df['Label'], random_state=45, test_size=0.20)\n",
    "x_test = x_test.sort_index()\n",
    "y_test = y_test.sort_index()\n",
    "\n",
    "test_emails_df = pd.read_excel('Training Phrases.xlsx', sheet_name='Manual Test cases', nrows=23)\n",
    "test_emails_df = test_emails_df.drop(test_emails_df.index[0])\n",
    "test_emails_df.columns = [\"Label\", \"Email\"]\n",
    "test_emails_df['Email'] = test_emails_df['Email'].apply(tokenizer)\n",
    "test_emails_df['Label'] = test_emails_df['Label'].apply(lambda label: '_'.join(label.lower().split(' ')))"
   ]
  },
  {
   "cell_type": "code",
   "execution_count": 5,
   "metadata": {
    "init_cell": true
   },
   "outputs": [
    {
     "name": "stdout",
     "output_type": "stream",
     "text": [
      "Total classes:  21\n"
     ]
    },
    {
     "data": {
      "text/plain": [
       "job_alerts                    45\n",
       "howto_apply                   40\n",
       "application_status            31\n",
       "job_close_date                30\n",
       "salary                        30\n",
       "multiple_role                 27\n",
       "feedback                      26\n",
       "assessment_campatilibility    24\n",
       "interview_reschedule          23\n",
       "disability                    22\n",
       "reinstate_application         19\n",
       "job_account_issue             19\n",
       "assessment_timebox            16\n",
       "assessment_link_problem       16\n",
       "age_limit                     16\n",
       "cv_past_experience            15\n",
       "interview_response_time       13\n",
       "late_for_interview            13\n",
       "work_experience               11\n",
       "assessment_validity           10\n",
       "special_needs_at_work          9\n",
       "Name: Label, dtype: int64"
      ]
     },
     "execution_count": 5,
     "metadata": {},
     "output_type": "execute_result"
    }
   ],
   "source": [
    "classes = df.Label.unique()\n",
    "print(\"Total classes: \", len(classes))\n",
    "df.Label.value_counts()"
   ]
  },
  {
   "cell_type": "markdown",
   "metadata": {
    "heading_collapsed": true
   },
   "source": [
    "## Reformatting Data to Reduce Classes"
   ]
  },
  {
   "cell_type": "code",
   "execution_count": 33,
   "metadata": {
    "hidden": true
   },
   "outputs": [],
   "source": [
    "new_df = pd.DataFrame()\n",
    "\n",
    "for _, value in df['Label'].items():\n",
    "    if \"assessment\" in value:\n",
    "        new_df = new_df.append({'Label': \"assessment\"}, ignore_index=True)\n",
    "    elif \"interview\" in value:\n",
    "        new_df = new_df.append({'Label': \"interview\"}, ignore_index=True)\n",
    "    elif (\n",
    "        \"job\" in value or \n",
    "        value == \"cv_past_experience\" or\n",
    "        value == \"application_status\" or\n",
    "        value == \"howto_apply\" or\n",
    "        value == \"feedback\" or\n",
    "        value == \"multiple_role\" or\n",
    "        value == \"reinstate_application\"\n",
    "    ):\n",
    "        new_df = new_df.append({'Label': \"job_application\"}, ignore_index=True)\n",
    "    else:\n",
    "        new_df = new_df.append({'Label': \"job_details\"}, ignore_index=True)\n",
    "        \n",
    "new_df.to_excel(\"4 Classes.xlsx\")"
   ]
  },
  {
   "cell_type": "markdown",
   "metadata": {
    "hidden": true
   },
   "source": [
    "### Assessment Train Data"
   ]
  },
  {
   "cell_type": "code",
   "execution_count": 71,
   "metadata": {
    "hidden": true
   },
   "outputs": [],
   "source": [
    "new_df = pd.DataFrame()\n",
    "\n",
    "for _, value in df['Label'].items():\n",
    "    if \"assessment\" in value:\n",
    "        new_df = new_df.append({'Label': value}, ignore_index=True)\n",
    "    else:\n",
    "        new_df = new_df.append({'Label': \"other\"}, ignore_index=True)\n",
    "        \n",
    "to_write = pd.concat([df['Text'].reset_index(drop=True), new_df['Label'].reset_index(drop=True)], axis=1)\n",
    "to_write.to_excel(\"Assessment Train.xlsx\")"
   ]
  },
  {
   "cell_type": "markdown",
   "metadata": {
    "hidden": true
   },
   "source": [
    "### Interview Train Data"
   ]
  },
  {
   "cell_type": "code",
   "execution_count": 72,
   "metadata": {
    "hidden": true
   },
   "outputs": [],
   "source": [
    "new_df = pd.DataFrame()\n",
    "\n",
    "for _, value in df['Label'].items():\n",
    "    if \"interview\" in value:\n",
    "        new_df = new_df.append({'Label': value}, ignore_index=True)\n",
    "    else:\n",
    "        new_df = new_df.append({'Label': \"other\"}, ignore_index=True)\n",
    "        \n",
    "to_write = pd.concat([df['Text'].reset_index(drop=True), new_df['Label'].reset_index(drop=True)], axis=1)\n",
    "to_write.to_excel(\"Interview Train.xlsx\")"
   ]
  },
  {
   "cell_type": "markdown",
   "metadata": {
    "hidden": true
   },
   "source": [
    "### Job Details Train Data"
   ]
  },
  {
   "cell_type": "code",
   "execution_count": 74,
   "metadata": {
    "hidden": true
   },
   "outputs": [],
   "source": [
    "new_df = pd.DataFrame()\n",
    "\n",
    "for _, value in df['Label'].items():\n",
    "    if (\n",
    "        \"job\" in value or \n",
    "        value == \"cv_past_experience\" or\n",
    "        value == \"application_status\" or\n",
    "        value == \"howto_apply\" or\n",
    "        value == \"feedback\" or\n",
    "        value == \"multiple_role\" or\n",
    "        value == \"reinstate_application\"\n",
    "    ):\n",
    "        new_df = new_df.append({'Label': value}, ignore_index=True)\n",
    "    else:\n",
    "        new_df = new_df.append({'Label': \"other\"}, ignore_index=True)\n",
    " \n",
    "to_write = pd.concat([df['Text'].reset_index(drop=True), new_df['Label'].reset_index(drop=True)], axis=1)\n",
    "to_write.to_excel(\"Job Detail Train.xlsx\")"
   ]
  },
  {
   "cell_type": "markdown",
   "metadata": {
    "hidden": true
   },
   "source": [
    "### Job Application Train Data"
   ]
  },
  {
   "cell_type": "code",
   "execution_count": 75,
   "metadata": {
    "hidden": true
   },
   "outputs": [],
   "source": [
    "new_df = pd.DataFrame()\n",
    "\n",
    "for _, value in df['Label'].items():\n",
    "    if (\n",
    "        value == \"salary\" or\n",
    "        value == \"work_experience\" or\n",
    "        value == \"age_limit\" or\n",
    "        value == \"special_needs_at_work\" or\n",
    "        value == \"disability\"\n",
    "    ):\n",
    "        new_df = new_df.append({'Label': value}, ignore_index=True)\n",
    "    else:\n",
    "        new_df = new_df.append({'Label': \"other\"}, ignore_index=True)\n",
    "        \n",
    "to_write = pd.concat([df['Text'].reset_index(drop=True), new_df['Label'].reset_index(drop=True)], axis=1)\n",
    "to_write.to_excel(\"Job Application Train.xlsx\")"
   ]
  },
  {
   "cell_type": "markdown",
   "metadata": {},
   "source": [
    "## To-Do"
   ]
  },
  {
   "cell_type": "markdown",
   "metadata": {},
   "source": [
    "1. Remove salutations from emails\n",
    "1. Random Forests\n",
    "1. Ensure word embeddings are correct\n",
    "1. Test and Train accuracies should be similar to avoid overfitting\n",
    "1. Reduce the test set"
   ]
  },
  {
   "cell_type": "markdown",
   "metadata": {},
   "source": [
    "## Sklearn"
   ]
  },
  {
   "cell_type": "markdown",
   "metadata": {},
   "source": [
    "### Saving Model Output In Excel File"
   ]
  },
  {
   "cell_type": "code",
   "execution_count": 43,
   "metadata": {},
   "outputs": [],
   "source": [
    "# Generating mapping column\n",
    "a = pd.DataFrame(preds)\n",
    "b = pd.DataFrame(df['Label'])\n",
    "a.columns = ['Label']\n",
    "b = b.reset_index(drop=True)\n",
    "a = a.reset_index(drop=True)\n",
    "\n",
    "(a==b).to_excel(\"temp.xlsx\")"
   ]
  },
  {
   "cell_type": "code",
   "execution_count": 16,
   "metadata": {},
   "outputs": [],
   "source": [
    "pd.DataFrame(robert_predictions_labels).to_excel(\"preds.xlsx\")"
   ]
  },
  {
   "cell_type": "markdown",
   "metadata": {},
   "source": [
    "### Training and Testing"
   ]
  },
  {
   "cell_type": "markdown",
   "metadata": {
    "heading_collapsed": true
   },
   "source": [
    "#### Multi Stage Models"
   ]
  },
  {
   "cell_type": "code",
   "execution_count": 76,
   "metadata": {
    "hidden": true
   },
   "outputs": [
    {
     "name": "stdout",
     "output_type": "stream",
     "text": [
      "Accuracy: 84\n",
      "                 precision    recall  f1-score   support\n",
      "\n",
      "     assessment       0.91      0.91      0.91        11\n",
      "      interview       1.00      0.88      0.93        16\n",
      "job_application       0.88      0.98      0.92        44\n",
      "    job_details       1.00      0.85      0.92        20\n",
      "\n",
      "       accuracy                           0.92        91\n",
      "      macro avg       0.95      0.90      0.92        91\n",
      "   weighted avg       0.93      0.92      0.92        91\n",
      "\n"
     ]
    }
   ],
   "source": [
    "df = pd.read_excel('Training Phrases - 4 Classes.xlsx', sheet_name='Testing of Models', nrows=456)\n",
    "df = df.drop(df.index[0])\n",
    "df = df[df.columns[[1, 2]]]\n",
    "df.columns = [\"Text\", \"Label\"]\n",
    "df['Text'] = df['Text'].apply(tokenizer)\n",
    "\n",
    "x_train, x_test, y_train, y_test = train_test_split(df['Text'], df['Label'], random_state=45, test_size=0.20)\n",
    "x_test = x_test.sort_index()\n",
    "y_test = y_test.sort_index()\n",
    "\n",
    "outer_pipe = Pipeline(\n",
    "    steps=[\n",
    "        (\"combined_features\", FeatureUnion(\n",
    "                transformer_list=[\n",
    "                    (\"tfid\", TfidfVectorizer(ngram_range=(1,3))),\n",
    "                    (\"embed\", SpacyVectorTransformer(nlp)),\n",
    "                ]\n",
    "        )),\n",
    "        (\"classifier\", SVC(C=150, gamma=0.02, probability=True))\n",
    "    ]\n",
    ")\n",
    "\n",
    "outer_pipe.fit(x_train, y_train)\n",
    "predicted = outer_pipe.predict(x_test)\n",
    "\n",
    "print(\"Accuracy:\", metrics.accuracy_score(y_true=y_test, y_pred=predicted, normalize=False))\n",
    "print(metrics.classification_report(y_true=y_test, y_pred=predicted))"
   ]
  },
  {
   "cell_type": "code",
   "execution_count": null,
   "metadata": {
    "hidden": true
   },
   "outputs": [],
   "source": [
    "total_correct = 0\n",
    "\n",
    "for i in range(0, x_test.shape[0]):\n",
    "    v = x_test.iloc[i]\n",
    "    main_class = outer_pipe.predict([v])\n",
    "    pred = None\n",
    "    \n",
    "    if (main_class == 'job_application'):\n",
    "        pred = job_app_model.predict([v])[0]\n",
    "    \n",
    "    elif (main_class == 'interview'):\n",
    "        pred = interview_model.predict([v])[0]\n",
    "    \n",
    "    elif (main_class == 'job_details'):\n",
    "        pred = job_detail_model.predict([v])[0]\n",
    "    \n",
    "    elif (main_class == 'assessment'):\n",
    "        pred = assessment_model.predict([v])[0]\n",
    "    \n",
    "    if y_test.iloc[i] == pred:\n",
    "        total_correct += 1\n",
    "    else:\n",
    "        print (\"\\nConfused:\", v, \"\\nActual:\", y_test.iloc[i], \"\\nPredicted:\", pred)\n",
    "      \n",
    "print(\"\\nACCURACY: \", total_correct / x_test.shape[0])"
   ]
  },
  {
   "cell_type": "code",
   "execution_count": 77,
   "metadata": {
    "hidden": true
   },
   "outputs": [
    {
     "name": "stdout",
     "output_type": "stream",
     "text": [
      "Accuracy: 87\n",
      "                            precision    recall  f1-score   support\n",
      "\n",
      "assessment_campatilibility       0.67      0.50      0.57         4\n",
      "   assessment_link_problem       1.00      0.50      0.67         2\n",
      "        assessment_timebox       0.67      1.00      0.80         2\n",
      "       assessment_validity       1.00      0.50      0.67         2\n",
      "                     other       0.98      1.00      0.99        81\n",
      "\n",
      "                  accuracy                           0.96        91\n",
      "                 macro avg       0.86      0.70      0.74        91\n",
      "              weighted avg       0.96      0.96      0.95        91\n",
      "\n"
     ]
    }
   ],
   "source": [
    "df = pd.read_excel('Assessment Train.xlsx', nrows=456)\n",
    "df = df.drop(df.index[0])\n",
    "df = df[df.columns[[1, 2]]]\n",
    "df.columns = [\"Text\", \"Label\"]\n",
    "\n",
    "x_train, x_test, y_train, y_test = train_test_split(df['Text'], df['Label'], random_state=45, test_size=0.20)\n",
    "x_test = x_test.sort_index()\n",
    "y_test = y_test.sort_index()\n",
    "\n",
    "assessment_model = Pipeline(\n",
    "    steps=[\n",
    "        (\"combined_features\", FeatureUnion(\n",
    "                transformer_list=[\n",
    "                    (\"tfid\", TfidfVectorizer(ngram_range=(1,3))),\n",
    "                    (\"embed\", SpacyVectorTransformer(nlp)),\n",
    "                ]\n",
    "        )),\n",
    "        (\"classifier\", SVC(C=150, gamma=0.02, probability=True))\n",
    "    ]\n",
    ")\n",
    "\n",
    "assessment_model.fit(x_train, y_train)\n",
    "predicted = assessment_model.predict(x_test)\n",
    "\n",
    "print(\"Accuracy:\", metrics.accuracy_score(y_true=y_test, y_pred=predicted, normalize=False))\n",
    "print(metrics.classification_report(y_true=y_test, y_pred=predicted))"
   ]
  },
  {
   "cell_type": "code",
   "execution_count": 78,
   "metadata": {
    "hidden": true
   },
   "outputs": [
    {
     "name": "stdout",
     "output_type": "stream",
     "text": [
      "Accuracy: 86\n",
      "                         precision    recall  f1-score   support\n",
      "\n",
      "   interview_reschedule       0.86      0.60      0.71        10\n",
      "interview_response_time       1.00      1.00      1.00         3\n",
      "     late_for_interview       0.75      1.00      0.86         3\n",
      "                  other       0.96      0.99      0.97        75\n",
      "\n",
      "               accuracy                           0.95        91\n",
      "              macro avg       0.89      0.90      0.88        91\n",
      "           weighted avg       0.94      0.95      0.94        91\n",
      "\n"
     ]
    }
   ],
   "source": [
    "df = pd.read_excel('Interview Train.xlsx', nrows=456)\n",
    "df = df.drop(df.index[0])\n",
    "df = df[df.columns[[1, 2]]]\n",
    "df.columns = [\"Text\", \"Label\"]\n",
    "\n",
    "x_train, x_test, y_train, y_test = train_test_split(df['Text'], df['Label'], random_state=45, test_size=0.20)\n",
    "x_test = x_test.sort_index()\n",
    "y_test = y_test.sort_index()\n",
    "\n",
    "interview_model = Pipeline(\n",
    "    steps=[\n",
    "        (\"combined_features\", FeatureUnion(\n",
    "                transformer_list=[\n",
    "                    (\"tfid\", TfidfVectorizer(ngram_range=(1,3))),\n",
    "                    (\"embed\", SpacyVectorTransformer(nlp)),\n",
    "                ]\n",
    "        )),\n",
    "        (\"classifier\", SVC(C=150, gamma=0.02, probability=True))\n",
    "    ]\n",
    ")\n",
    "\n",
    "interview_model.fit(x_train, y_train)\n",
    "predicted = interview_model.predict(x_test)\n",
    "\n",
    "print(\"Accuracy:\", metrics.accuracy_score(y_true=y_test, y_pred=predicted, normalize=False))\n",
    "print(metrics.classification_report(y_true=y_test, y_pred=predicted))"
   ]
  },
  {
   "cell_type": "code",
   "execution_count": 79,
   "metadata": {
    "hidden": true
   },
   "outputs": [
    {
     "name": "stdout",
     "output_type": "stream",
     "text": [
      "Accuracy: 86\n",
      "                       precision    recall  f1-score   support\n",
      "\n",
      "            age_limit       0.67      0.67      0.67         3\n",
      "           disability       0.83      0.71      0.77         7\n",
      "                other       0.96      1.00      0.98        70\n",
      "               salary       1.00      0.86      0.92         7\n",
      "special_needs_at_work       1.00      0.50      0.67         2\n",
      "      work_experience       1.00      1.00      1.00         2\n",
      "\n",
      "             accuracy                           0.95        91\n",
      "            macro avg       0.91      0.79      0.83        91\n",
      "         weighted avg       0.94      0.95      0.94        91\n",
      "\n"
     ]
    }
   ],
   "source": [
    "df = pd.read_excel('Job Application Train.xlsx', nrows=456)\n",
    "df = df.drop(df.index[0])\n",
    "df = df[df.columns[[1, 2]]]\n",
    "df.columns = [\"Text\", \"Label\"]\n",
    "\n",
    "x_train, x_test, y_train, y_test = train_test_split(df['Text'], df['Label'], random_state=45, test_size=0.20)\n",
    "x_test = x_test.sort_index()\n",
    "y_test = y_test.sort_index()\n",
    "\n",
    "job_app_model = Pipeline(\n",
    "    steps=[\n",
    "        (\"combined_features\", FeatureUnion(\n",
    "                transformer_list=[\n",
    "                    (\"tfid\", TfidfVectorizer(ngram_range=(1,3))),\n",
    "                    (\"embed\", SpacyVectorTransformer(nlp)),\n",
    "                ]\n",
    "        )),\n",
    "        (\"classifier\", SVC(C=150, gamma=0.02, probability=True))\n",
    "    ]\n",
    ")\n",
    "\n",
    "job_app_model.fit(x_train, y_train)\n",
    "predicted = job_app_model.predict(x_test)\n",
    "\n",
    "print(\"Accuracy:\", metrics.accuracy_score(y_true=y_test, y_pred=predicted, normalize=False))\n",
    "print(metrics.classification_report(y_true=y_test, y_pred=predicted))"
   ]
  },
  {
   "cell_type": "code",
   "execution_count": 80,
   "metadata": {
    "hidden": true
   },
   "outputs": [
    {
     "name": "stdout",
     "output_type": "stream",
     "text": [
      "Accuracy: 76\n",
      "                       precision    recall  f1-score   support\n",
      "\n",
      "   application_status       0.62      0.83      0.71         6\n",
      "   cv_past_experience       0.50      1.00      0.67         1\n",
      "             feedback       0.67      0.29      0.40         7\n",
      "          howto_apply       0.67      0.50      0.57         8\n",
      "    job_account_issue       1.00      1.00      1.00         1\n",
      "           job_alerts       0.80      0.89      0.84         9\n",
      "       job_close_date       1.00      1.00      1.00         5\n",
      "        multiple_role       0.62      0.83      0.71         6\n",
      "                other       0.94      0.94      0.94        47\n",
      "reinstate_application       1.00      1.00      1.00         1\n",
      "\n",
      "             accuracy                           0.84        91\n",
      "            macro avg       0.78      0.83      0.78        91\n",
      "         weighted avg       0.84      0.84      0.83        91\n",
      "\n"
     ]
    }
   ],
   "source": [
    "df = pd.read_excel('Job Detail Train.xlsx', nrows=456)\n",
    "df = df.drop(df.index[0])\n",
    "df = df[df.columns[[1, 2]]]\n",
    "df.columns = [\"Text\", \"Label\"]\n",
    "\n",
    "x_train, x_test, y_train, y_test = train_test_split(df['Text'], df['Label'], random_state=45, test_size=0.20)\n",
    "x_test = x_test.sort_index()\n",
    "y_test = y_test.sort_index()\n",
    "\n",
    "job_detail_model = Pipeline(\n",
    "    steps=[\n",
    "        (\"combined_features\", FeatureUnion(\n",
    "                transformer_list=[\n",
    "                    (\"tfid\", TfidfVectorizer(ngram_range=(1,3))),\n",
    "                    (\"embed\", SpacyVectorTransformer(nlp)),\n",
    "                ]\n",
    "        )),\n",
    "        (\"classifier\", SVC(C=150, gamma=0.02, probability=True))\n",
    "    ]\n",
    ")\n",
    "\n",
    "job_detail_model.fit(x_train, y_train)\n",
    "predicted = job_detail_model.predict(x_test)\n",
    "\n",
    "print(\"Accuracy:\", metrics.accuracy_score(y_true=y_test, y_pred=predicted, normalize=False))\n",
    "print(metrics.classification_report(y_true=y_test, y_pred=predicted))"
   ]
  },
  {
   "cell_type": "markdown",
   "metadata": {},
   "source": [
    "#### Single Model"
   ]
  },
  {
   "cell_type": "code",
   "execution_count": 6,
   "metadata": {
    "code_folding": [],
    "init_cell": true,
    "scrolled": false
   },
   "outputs": [
    {
     "ename": "NameError",
     "evalue": "name 'SpacyVectorTransformer' is not defined",
     "output_type": "error",
     "traceback": [
      "\u001b[1;31m---------------------------------------------------------------------------\u001b[0m",
      "\u001b[1;31mNameError\u001b[0m                                 Traceback (most recent call last)",
      "\u001b[1;32m<ipython-input-6-c67cb303be45>\u001b[0m in \u001b[0;36m<module>\u001b[1;34m\u001b[0m\n\u001b[0;32m      6\u001b[0m                 transformer_list=[\n\u001b[0;32m      7\u001b[0m                     \u001b[1;33m(\u001b[0m\u001b[1;34m'tfid'\u001b[0m\u001b[1;33m,\u001b[0m  \u001b[0mTfidfVectorizer\u001b[0m\u001b[1;33m(\u001b[0m\u001b[0mngram_range\u001b[0m\u001b[1;33m=\u001b[0m\u001b[1;33m(\u001b[0m\u001b[1;36m1\u001b[0m\u001b[1;33m,\u001b[0m \u001b[1;36m3\u001b[0m\u001b[1;33m)\u001b[0m\u001b[1;33m)\u001b[0m\u001b[1;33m)\u001b[0m\u001b[1;33m,\u001b[0m\u001b[1;33m\u001b[0m\u001b[1;33m\u001b[0m\u001b[0m\n\u001b[1;32m----> 8\u001b[1;33m                     \u001b[1;33m(\u001b[0m\u001b[1;34m\"embed\"\u001b[0m\u001b[1;33m,\u001b[0m \u001b[0mSpacyVectorTransformer\u001b[0m\u001b[1;33m(\u001b[0m\u001b[0mnlp\u001b[0m\u001b[1;33m)\u001b[0m\u001b[1;33m)\u001b[0m\u001b[1;33m,\u001b[0m\u001b[1;33m\u001b[0m\u001b[1;33m\u001b[0m\u001b[0m\n\u001b[0m\u001b[0;32m      9\u001b[0m                 ]\n\u001b[0;32m     10\u001b[0m         )),\n",
      "\u001b[1;31mNameError\u001b[0m: name 'SpacyVectorTransformer' is not defined"
     ]
    }
   ],
   "source": [
    "classifier = SVC(C=150, gamma=0.02, probability=True)\n",
    "\n",
    "pipe = Pipeline(\n",
    "    steps=[\n",
    "        (\"combined_features\", FeatureUnion(\n",
    "                transformer_list=[\n",
    "                    ('tfid',  TfidfVectorizer(ngram_range=(1, 3))),\n",
    "                    (\"embed\", SpacyVectorTransformer(nlp)),\n",
    "                ]\n",
    "        )),\n",
    "        (\"classifier\", SVC(C=150, gamma=0.02, probability=True, class_weight='balanced'))\n",
    "    ])\n",
    "\n",
    "pipe.fit(x_train, y_train)\n",
    "predicted = pipe.predict_proba(x_test)\n",
    "\n",
    "print(\"Accuracy:\", metrics.accuracy_score(y_true=y_test, y_pred=pipe.predict(x_test), normalize=False))\n",
    "print(metrics.classification_report(y_true=y_test, y_pred=pipe.predict(x_test)))"
   ]
  },
  {
   "cell_type": "markdown",
   "metadata": {},
   "source": [
    "#### Testing on Emails\n",
    "\n",
    "1. SVC = 6/21\n",
    "1. roberta-untok = 11/21\n",
    "1. roberta-large = 9/21\n",
    "1. roberta-v4 = 13/21"
   ]
  },
  {
   "cell_type": "code",
   "execution_count": 18,
   "metadata": {},
   "outputs": [
    {
     "data": {
      "text/html": [],
      "text/plain": [
       "<IPython.core.display.HTML object>"
      ]
     },
     "metadata": {},
     "output_type": "display_data"
    },
    {
     "name": "stdout",
     "output_type": "stream",
     "text": [
      "Accuracy: 13\n",
      "                            precision    recall  f1-score   support\n",
      "\n",
      "                 age_limit       1.00      1.00      1.00         1\n",
      "        application_status       1.00      1.00      1.00         1\n",
      "  assessment_campatibility       0.00      0.00      0.00         1\n",
      "assessment_campatilibility       0.00      0.00      0.00         0\n",
      "           assessment_link       0.00      0.00      0.00         1\n",
      "       assessment_time_box       0.00      0.00      0.00         1\n",
      "        assessment_timebox       0.00      0.00      0.00         0\n",
      "       assessment_validity       1.00      1.00      1.00         1\n",
      "        cv_past_experience       1.00      1.00      1.00         1\n",
      "                disability       1.00      1.00      1.00         1\n",
      "                  feedback       1.00      1.00      1.00         1\n",
      "              how_to_apply       0.00      0.00      0.00         1\n",
      "               howto_apply       0.00      0.00      0.00         0\n",
      "      interview_reschedule       1.00      1.00      1.00         1\n",
      "   interview_response_time       1.00      1.00      1.00         1\n",
      "         job_account_issue       1.00      1.00      1.00         1\n",
      "                 job_alert       0.00      0.00      0.00         1\n",
      "                job_alerts       0.00      0.00      0.00         0\n",
      "            job_close_date       0.00      0.00      0.00         0\n",
      "          job_closing_date       0.00      0.00      0.00         1\n",
      "        late_for_interview       1.00      1.00      1.00         1\n",
      "                multi_role       0.00      0.00      0.00         1\n",
      "             multiple_role       0.00      0.00      0.00         0\n",
      "     reinstate_application       1.00      1.00      1.00         1\n",
      "                    salary       1.00      1.00      1.00         1\n",
      "     special_needs_at_work       1.00      1.00      1.00         1\n",
      "           work_experience       0.00      0.00      0.00         1\n",
      "\n",
      "                  accuracy                           0.62        21\n",
      "                 macro avg       0.48      0.48      0.48        21\n",
      "              weighted avg       0.62      0.62      0.62        21\n",
      "\n"
     ]
    },
    {
     "name": "stderr",
     "output_type": "stream",
     "text": [
      "C:\\Users\\Amer\\Miniconda3\\envs\\nlp\\lib\\site-packages\\sklearn\\metrics\\classification.py:1437: UndefinedMetricWarning: Precision and F-score are ill-defined and being set to 0.0 in labels with no predicted samples.\n",
      "  'precision', 'predicted', average, warn_for)\n",
      "C:\\Users\\Amer\\Miniconda3\\envs\\nlp\\lib\\site-packages\\sklearn\\metrics\\classification.py:1439: UndefinedMetricWarning: Recall and F-score are ill-defined and being set to 0.0 in labels with no true samples.\n",
      "  'recall', 'true', average, warn_for)\n"
     ]
    }
   ],
   "source": [
    "email_preds = predictor.predict(test_emails_df['Email'].values)\n",
    "print(\"Accuracy:\", metrics.accuracy_score(y_true=test_emails_df['Label'].values, y_pred=email_preds, normalize=False))\n",
    "print(metrics.classification_report(y_true=test_emails_df['Label'].values, y_pred=email_preds))"
   ]
  },
  {
   "cell_type": "markdown",
   "metadata": {
    "heading_collapsed": true
   },
   "source": [
    "### Extensive Model Comparison"
   ]
  },
  {
   "cell_type": "code",
   "execution_count": 68,
   "metadata": {
    "hidden": true,
    "scrolled": true
   },
   "outputs": [
    {
     "name": "stdout",
     "output_type": "stream",
     "text": [
      "\n",
      "Iteration:  0\n"
     ]
    },
    {
     "data": {
      "text/html": [],
      "text/plain": [
       "<IPython.core.display.HTML object>"
      ]
     },
     "metadata": {},
     "output_type": "display_data"
    },
    {
     "name": "stdout",
     "output_type": "stream",
     "text": [
      "Accuracy A: 0.945054945054945\n",
      "Accuracy B: 0.8021978021978022\n",
      "\n",
      "Iteration:  1\n"
     ]
    },
    {
     "data": {
      "text/html": [],
      "text/plain": [
       "<IPython.core.display.HTML object>"
      ]
     },
     "metadata": {},
     "output_type": "display_data"
    },
    {
     "name": "stdout",
     "output_type": "stream",
     "text": [
      "Accuracy A: 0.9340659340659341\n",
      "Accuracy B: 0.8021978021978022\n",
      "\n",
      "Iteration:  2\n"
     ]
    },
    {
     "data": {
      "text/html": [],
      "text/plain": [
       "<IPython.core.display.HTML object>"
      ]
     },
     "metadata": {},
     "output_type": "display_data"
    },
    {
     "name": "stdout",
     "output_type": "stream",
     "text": [
      "Accuracy A: 0.945054945054945\n",
      "Accuracy B: 0.7912087912087912\n",
      "\n",
      "Iteration:  3\n"
     ]
    },
    {
     "data": {
      "text/html": [],
      "text/plain": [
       "<IPython.core.display.HTML object>"
      ]
     },
     "metadata": {},
     "output_type": "display_data"
    },
    {
     "ename": "KeyboardInterrupt",
     "evalue": "",
     "output_type": "error",
     "traceback": [
      "\u001b[1;31m---------------------------------------------------------------------------\u001b[0m",
      "\u001b[1;31mKeyboardInterrupt\u001b[0m                         Traceback (most recent call last)",
      "\u001b[1;32m<ipython-input-68-37a9467df626>\u001b[0m in \u001b[0;36m<module>\u001b[1;34m\u001b[0m\n\u001b[0;32m     19\u001b[0m \u001b[1;33m\u001b[0m\u001b[0m\n\u001b[0;32m     20\u001b[0m \u001b[1;31m#     pipe.fit(x_train, y_train)\u001b[0m\u001b[1;33m\u001b[0m\u001b[1;33m\u001b[0m\u001b[1;33m\u001b[0m\u001b[0m\n\u001b[1;32m---> 21\u001b[1;33m     \u001b[0mpredicted\u001b[0m \u001b[1;33m=\u001b[0m \u001b[0mensemble\u001b[0m\u001b[1;33m.\u001b[0m\u001b[0mpredict\u001b[0m\u001b[1;33m(\u001b[0m\u001b[0mx_test\u001b[0m\u001b[1;33m.\u001b[0m\u001b[0mvalues\u001b[0m\u001b[1;33m)\u001b[0m\u001b[1;33m\u001b[0m\u001b[1;33m\u001b[0m\u001b[0m\n\u001b[0m\u001b[0;32m     22\u001b[0m     \u001b[0maccuracy_a\u001b[0m \u001b[1;33m=\u001b[0m \u001b[0mmetrics\u001b[0m\u001b[1;33m.\u001b[0m\u001b[0maccuracy_score\u001b[0m\u001b[1;33m(\u001b[0m\u001b[0my_test\u001b[0m\u001b[1;33m,\u001b[0m \u001b[0mpredicted\u001b[0m\u001b[1;33m)\u001b[0m\u001b[1;33m\u001b[0m\u001b[1;33m\u001b[0m\u001b[0m\n\u001b[0;32m     23\u001b[0m     \u001b[0mtotal_a\u001b[0m \u001b[1;33m+=\u001b[0m \u001b[0maccuracy_a\u001b[0m\u001b[1;33m\u001b[0m\u001b[1;33m\u001b[0m\u001b[0m\n",
      "\u001b[1;32m~\\Miniconda3\\envs\\nlp\\lib\\site-packages\\mlxtend\\classifier\\ensemble_vote.py\u001b[0m in \u001b[0;36mpredict\u001b[1;34m(self, X)\u001b[0m\n\u001b[0;32m    199\u001b[0m         \u001b[1;32mif\u001b[0m \u001b[0mself\u001b[0m\u001b[1;33m.\u001b[0m\u001b[0mvoting\u001b[0m \u001b[1;33m==\u001b[0m \u001b[1;34m'soft'\u001b[0m\u001b[1;33m:\u001b[0m\u001b[1;33m\u001b[0m\u001b[1;33m\u001b[0m\u001b[0m\n\u001b[0;32m    200\u001b[0m \u001b[1;33m\u001b[0m\u001b[0m\n\u001b[1;32m--> 201\u001b[1;33m             \u001b[0mmaj\u001b[0m \u001b[1;33m=\u001b[0m \u001b[0mnp\u001b[0m\u001b[1;33m.\u001b[0m\u001b[0margmax\u001b[0m\u001b[1;33m(\u001b[0m\u001b[0mself\u001b[0m\u001b[1;33m.\u001b[0m\u001b[0mpredict_proba\u001b[0m\u001b[1;33m(\u001b[0m\u001b[0mX\u001b[0m\u001b[1;33m)\u001b[0m\u001b[1;33m,\u001b[0m \u001b[0maxis\u001b[0m\u001b[1;33m=\u001b[0m\u001b[1;36m1\u001b[0m\u001b[1;33m)\u001b[0m\u001b[1;33m\u001b[0m\u001b[1;33m\u001b[0m\u001b[0m\n\u001b[0m\u001b[0;32m    202\u001b[0m \u001b[1;33m\u001b[0m\u001b[0m\n\u001b[0;32m    203\u001b[0m         \u001b[1;32melse\u001b[0m\u001b[1;33m:\u001b[0m  \u001b[1;31m# 'hard' voting\u001b[0m\u001b[1;33m\u001b[0m\u001b[1;33m\u001b[0m\u001b[0m\n",
      "\u001b[1;32m~\\Miniconda3\\envs\\nlp\\lib\\site-packages\\mlxtend\\classifier\\ensemble_vote.py\u001b[0m in \u001b[0;36mpredict_proba\u001b[1;34m(self, X)\u001b[0m\n\u001b[0;32m    232\u001b[0m                                  \"call `fit` before exploiting the model.\")\n\u001b[0;32m    233\u001b[0m \u001b[1;33m\u001b[0m\u001b[0m\n\u001b[1;32m--> 234\u001b[1;33m         \u001b[0mavg\u001b[0m \u001b[1;33m=\u001b[0m \u001b[0mnp\u001b[0m\u001b[1;33m.\u001b[0m\u001b[0maverage\u001b[0m\u001b[1;33m(\u001b[0m\u001b[0mself\u001b[0m\u001b[1;33m.\u001b[0m\u001b[0m_predict_probas\u001b[0m\u001b[1;33m(\u001b[0m\u001b[0mX\u001b[0m\u001b[1;33m)\u001b[0m\u001b[1;33m,\u001b[0m \u001b[0maxis\u001b[0m\u001b[1;33m=\u001b[0m\u001b[1;36m0\u001b[0m\u001b[1;33m,\u001b[0m \u001b[0mweights\u001b[0m\u001b[1;33m=\u001b[0m\u001b[0mself\u001b[0m\u001b[1;33m.\u001b[0m\u001b[0mweights\u001b[0m\u001b[1;33m)\u001b[0m\u001b[1;33m\u001b[0m\u001b[1;33m\u001b[0m\u001b[0m\n\u001b[0m\u001b[0;32m    235\u001b[0m         \u001b[1;32mreturn\u001b[0m \u001b[0mavg\u001b[0m\u001b[1;33m\u001b[0m\u001b[1;33m\u001b[0m\u001b[0m\n\u001b[0;32m    236\u001b[0m \u001b[1;33m\u001b[0m\u001b[0m\n",
      "\u001b[1;32m~\\Miniconda3\\envs\\nlp\\lib\\site-packages\\mlxtend\\classifier\\ensemble_vote.py\u001b[0m in \u001b[0;36m_predict_probas\u001b[1;34m(self, X)\u001b[0m\n\u001b[0;32m    283\u001b[0m     \u001b[1;32mdef\u001b[0m \u001b[0m_predict_probas\u001b[0m\u001b[1;33m(\u001b[0m\u001b[0mself\u001b[0m\u001b[1;33m,\u001b[0m \u001b[0mX\u001b[0m\u001b[1;33m)\u001b[0m\u001b[1;33m:\u001b[0m\u001b[1;33m\u001b[0m\u001b[1;33m\u001b[0m\u001b[0m\n\u001b[0;32m    284\u001b[0m         \u001b[1;34m\"\"\"Collect results from clf.predict_proba calls.\"\"\"\u001b[0m\u001b[1;33m\u001b[0m\u001b[1;33m\u001b[0m\u001b[0m\n\u001b[1;32m--> 285\u001b[1;33m         \u001b[1;32mreturn\u001b[0m \u001b[0mnp\u001b[0m\u001b[1;33m.\u001b[0m\u001b[0masarray\u001b[0m\u001b[1;33m(\u001b[0m\u001b[1;33m[\u001b[0m\u001b[0mclf\u001b[0m\u001b[1;33m.\u001b[0m\u001b[0mpredict_proba\u001b[0m\u001b[1;33m(\u001b[0m\u001b[0mX\u001b[0m\u001b[1;33m)\u001b[0m \u001b[1;32mfor\u001b[0m \u001b[0mclf\u001b[0m \u001b[1;32min\u001b[0m \u001b[0mself\u001b[0m\u001b[1;33m.\u001b[0m\u001b[0mclfs_\u001b[0m\u001b[1;33m]\u001b[0m\u001b[1;33m)\u001b[0m\u001b[1;33m\u001b[0m\u001b[1;33m\u001b[0m\u001b[0m\n\u001b[0m",
      "\u001b[1;32m~\\Miniconda3\\envs\\nlp\\lib\\site-packages\\mlxtend\\classifier\\ensemble_vote.py\u001b[0m in \u001b[0;36m<listcomp>\u001b[1;34m(.0)\u001b[0m\n\u001b[0;32m    283\u001b[0m     \u001b[1;32mdef\u001b[0m \u001b[0m_predict_probas\u001b[0m\u001b[1;33m(\u001b[0m\u001b[0mself\u001b[0m\u001b[1;33m,\u001b[0m \u001b[0mX\u001b[0m\u001b[1;33m)\u001b[0m\u001b[1;33m:\u001b[0m\u001b[1;33m\u001b[0m\u001b[1;33m\u001b[0m\u001b[0m\n\u001b[0;32m    284\u001b[0m         \u001b[1;34m\"\"\"Collect results from clf.predict_proba calls.\"\"\"\u001b[0m\u001b[1;33m\u001b[0m\u001b[1;33m\u001b[0m\u001b[0m\n\u001b[1;32m--> 285\u001b[1;33m         \u001b[1;32mreturn\u001b[0m \u001b[0mnp\u001b[0m\u001b[1;33m.\u001b[0m\u001b[0masarray\u001b[0m\u001b[1;33m(\u001b[0m\u001b[1;33m[\u001b[0m\u001b[0mclf\u001b[0m\u001b[1;33m.\u001b[0m\u001b[0mpredict_proba\u001b[0m\u001b[1;33m(\u001b[0m\u001b[0mX\u001b[0m\u001b[1;33m)\u001b[0m \u001b[1;32mfor\u001b[0m \u001b[0mclf\u001b[0m \u001b[1;32min\u001b[0m \u001b[0mself\u001b[0m\u001b[1;33m.\u001b[0m\u001b[0mclfs_\u001b[0m\u001b[1;33m]\u001b[0m\u001b[1;33m)\u001b[0m\u001b[1;33m\u001b[0m\u001b[1;33m\u001b[0m\u001b[0m\n\u001b[0m",
      "\u001b[1;32m~\\Miniconda3\\envs\\nlp\\lib\\site-packages\\ktrain\\text\\predictor.py\u001b[0m in \u001b[0;36mpredict_proba\u001b[1;34m(self, texts)\u001b[0m\n\u001b[0;32m     80\u001b[0m         \u001b[0mReturns\u001b[0m \u001b[0mprobabilities\u001b[0m \u001b[0mof\u001b[0m \u001b[0meach\u001b[0m \u001b[1;32mclass\u001b[0m\u001b[1;33m.\u001b[0m\u001b[1;33m\u001b[0m\u001b[1;33m\u001b[0m\u001b[0m\n\u001b[0;32m     81\u001b[0m         \"\"\"\n\u001b[1;32m---> 82\u001b[1;33m         \u001b[1;32mreturn\u001b[0m \u001b[0mself\u001b[0m\u001b[1;33m.\u001b[0m\u001b[0mpredict\u001b[0m\u001b[1;33m(\u001b[0m\u001b[0mtexts\u001b[0m\u001b[1;33m,\u001b[0m \u001b[0mreturn_proba\u001b[0m\u001b[1;33m=\u001b[0m\u001b[1;32mTrue\u001b[0m\u001b[1;33m)\u001b[0m\u001b[1;33m\u001b[0m\u001b[1;33m\u001b[0m\u001b[0m\n\u001b[0m\u001b[0;32m     83\u001b[0m \u001b[1;33m\u001b[0m\u001b[0m\n\u001b[0;32m     84\u001b[0m \u001b[1;33m\u001b[0m\u001b[0m\n",
      "\u001b[1;32m~\\Miniconda3\\envs\\nlp\\lib\\site-packages\\ktrain\\text\\predictor.py\u001b[0m in \u001b[0;36mpredict\u001b[1;34m(self, texts, return_proba)\u001b[0m\n\u001b[0;32m     51\u001b[0m             \u001b[0mtseq\u001b[0m\u001b[1;33m.\u001b[0m\u001b[0mbatch_size\u001b[0m \u001b[1;33m=\u001b[0m \u001b[0mself\u001b[0m\u001b[1;33m.\u001b[0m\u001b[0mbatch_size\u001b[0m\u001b[1;33m\u001b[0m\u001b[1;33m\u001b[0m\u001b[0m\n\u001b[0;32m     52\u001b[0m             \u001b[0mtexts\u001b[0m \u001b[1;33m=\u001b[0m \u001b[0mtseq\u001b[0m\u001b[1;33m.\u001b[0m\u001b[0mto_tfdataset\u001b[0m\u001b[1;33m(\u001b[0m\u001b[0mtrain\u001b[0m\u001b[1;33m=\u001b[0m\u001b[1;32mFalse\u001b[0m\u001b[1;33m)\u001b[0m\u001b[1;33m\u001b[0m\u001b[1;33m\u001b[0m\u001b[0m\n\u001b[1;32m---> 53\u001b[1;33m             \u001b[0mpreds\u001b[0m \u001b[1;33m=\u001b[0m \u001b[0mself\u001b[0m\u001b[1;33m.\u001b[0m\u001b[0mmodel\u001b[0m\u001b[1;33m.\u001b[0m\u001b[0mpredict\u001b[0m\u001b[1;33m(\u001b[0m\u001b[0mtexts\u001b[0m\u001b[1;33m)\u001b[0m\u001b[1;33m\u001b[0m\u001b[1;33m\u001b[0m\u001b[0m\n\u001b[0m\u001b[0;32m     54\u001b[0m         \u001b[1;32melse\u001b[0m\u001b[1;33m:\u001b[0m\u001b[1;33m\u001b[0m\u001b[1;33m\u001b[0m\u001b[0m\n\u001b[0;32m     55\u001b[0m             \u001b[0mtexts\u001b[0m \u001b[1;33m=\u001b[0m \u001b[0mself\u001b[0m\u001b[1;33m.\u001b[0m\u001b[0mpreproc\u001b[0m\u001b[1;33m.\u001b[0m\u001b[0mpreprocess\u001b[0m\u001b[1;33m(\u001b[0m\u001b[0mtexts\u001b[0m\u001b[1;33m)\u001b[0m\u001b[1;33m\u001b[0m\u001b[1;33m\u001b[0m\u001b[0m\n",
      "\u001b[1;32m~\\Miniconda3\\envs\\nlp\\lib\\site-packages\\tensorflow_core\\python\\keras\\engine\\training.py\u001b[0m in \u001b[0;36mpredict\u001b[1;34m(self, x, batch_size, verbose, steps, callbacks, max_queue_size, workers, use_multiprocessing)\u001b[0m\n\u001b[0;32m   1011\u001b[0m         \u001b[0mmax_queue_size\u001b[0m\u001b[1;33m=\u001b[0m\u001b[0mmax_queue_size\u001b[0m\u001b[1;33m,\u001b[0m\u001b[1;33m\u001b[0m\u001b[1;33m\u001b[0m\u001b[0m\n\u001b[0;32m   1012\u001b[0m         \u001b[0mworkers\u001b[0m\u001b[1;33m=\u001b[0m\u001b[0mworkers\u001b[0m\u001b[1;33m,\u001b[0m\u001b[1;33m\u001b[0m\u001b[1;33m\u001b[0m\u001b[0m\n\u001b[1;32m-> 1013\u001b[1;33m         use_multiprocessing=use_multiprocessing)\n\u001b[0m\u001b[0;32m   1014\u001b[0m \u001b[1;33m\u001b[0m\u001b[0m\n\u001b[0;32m   1015\u001b[0m   \u001b[1;32mdef\u001b[0m \u001b[0mreset_metrics\u001b[0m\u001b[1;33m(\u001b[0m\u001b[0mself\u001b[0m\u001b[1;33m)\u001b[0m\u001b[1;33m:\u001b[0m\u001b[1;33m\u001b[0m\u001b[1;33m\u001b[0m\u001b[0m\n",
      "\u001b[1;32m~\\Miniconda3\\envs\\nlp\\lib\\site-packages\\tensorflow_core\\python\\keras\\engine\\training_v2.py\u001b[0m in \u001b[0;36mpredict\u001b[1;34m(self, model, x, batch_size, verbose, steps, callbacks, max_queue_size, workers, use_multiprocessing, **kwargs)\u001b[0m\n\u001b[0;32m    496\u001b[0m         \u001b[0mmodel\u001b[0m\u001b[1;33m,\u001b[0m \u001b[0mModeKeys\u001b[0m\u001b[1;33m.\u001b[0m\u001b[0mPREDICT\u001b[0m\u001b[1;33m,\u001b[0m \u001b[0mx\u001b[0m\u001b[1;33m=\u001b[0m\u001b[0mx\u001b[0m\u001b[1;33m,\u001b[0m \u001b[0mbatch_size\u001b[0m\u001b[1;33m=\u001b[0m\u001b[0mbatch_size\u001b[0m\u001b[1;33m,\u001b[0m \u001b[0mverbose\u001b[0m\u001b[1;33m=\u001b[0m\u001b[0mverbose\u001b[0m\u001b[1;33m,\u001b[0m\u001b[1;33m\u001b[0m\u001b[1;33m\u001b[0m\u001b[0m\n\u001b[0;32m    497\u001b[0m         \u001b[0msteps\u001b[0m\u001b[1;33m=\u001b[0m\u001b[0msteps\u001b[0m\u001b[1;33m,\u001b[0m \u001b[0mcallbacks\u001b[0m\u001b[1;33m=\u001b[0m\u001b[0mcallbacks\u001b[0m\u001b[1;33m,\u001b[0m \u001b[0mmax_queue_size\u001b[0m\u001b[1;33m=\u001b[0m\u001b[0mmax_queue_size\u001b[0m\u001b[1;33m,\u001b[0m\u001b[1;33m\u001b[0m\u001b[1;33m\u001b[0m\u001b[0m\n\u001b[1;32m--> 498\u001b[1;33m         workers=workers, use_multiprocessing=use_multiprocessing, **kwargs)\n\u001b[0m\u001b[0;32m    499\u001b[0m \u001b[1;33m\u001b[0m\u001b[0m\n\u001b[0;32m    500\u001b[0m \u001b[1;33m\u001b[0m\u001b[0m\n",
      "\u001b[1;32m~\\Miniconda3\\envs\\nlp\\lib\\site-packages\\tensorflow_core\\python\\keras\\engine\\training_v2.py\u001b[0m in \u001b[0;36m_model_iteration\u001b[1;34m(self, model, mode, x, y, batch_size, verbose, sample_weight, steps, callbacks, max_queue_size, workers, use_multiprocessing, **kwargs)\u001b[0m\n\u001b[0;32m    473\u001b[0m               \u001b[0mmode\u001b[0m\u001b[1;33m=\u001b[0m\u001b[0mmode\u001b[0m\u001b[1;33m,\u001b[0m\u001b[1;33m\u001b[0m\u001b[1;33m\u001b[0m\u001b[0m\n\u001b[0;32m    474\u001b[0m               \u001b[0mtraining_context\u001b[0m\u001b[1;33m=\u001b[0m\u001b[0mtraining_context\u001b[0m\u001b[1;33m,\u001b[0m\u001b[1;33m\u001b[0m\u001b[1;33m\u001b[0m\u001b[0m\n\u001b[1;32m--> 475\u001b[1;33m               total_epochs=1)\n\u001b[0m\u001b[0;32m    476\u001b[0m           \u001b[0mcbks\u001b[0m\u001b[1;33m.\u001b[0m\u001b[0mmake_logs\u001b[0m\u001b[1;33m(\u001b[0m\u001b[0mmodel\u001b[0m\u001b[1;33m,\u001b[0m \u001b[0mepoch_logs\u001b[0m\u001b[1;33m,\u001b[0m \u001b[0mresult\u001b[0m\u001b[1;33m,\u001b[0m \u001b[0mmode\u001b[0m\u001b[1;33m)\u001b[0m\u001b[1;33m\u001b[0m\u001b[1;33m\u001b[0m\u001b[0m\n\u001b[0;32m    477\u001b[0m \u001b[1;33m\u001b[0m\u001b[0m\n",
      "\u001b[1;32m~\\Miniconda3\\envs\\nlp\\lib\\site-packages\\tensorflow_core\\python\\keras\\engine\\training_v2.py\u001b[0m in \u001b[0;36mrun_one_epoch\u001b[1;34m(model, iterator, execution_function, dataset_size, batch_size, strategy, steps_per_epoch, num_samples, mode, training_context, total_epochs)\u001b[0m\n\u001b[0;32m    126\u001b[0m         step=step, mode=mode, size=current_batch_size) as batch_logs:\n\u001b[0;32m    127\u001b[0m       \u001b[1;32mtry\u001b[0m\u001b[1;33m:\u001b[0m\u001b[1;33m\u001b[0m\u001b[1;33m\u001b[0m\u001b[0m\n\u001b[1;32m--> 128\u001b[1;33m         \u001b[0mbatch_outs\u001b[0m \u001b[1;33m=\u001b[0m \u001b[0mexecution_function\u001b[0m\u001b[1;33m(\u001b[0m\u001b[0miterator\u001b[0m\u001b[1;33m)\u001b[0m\u001b[1;33m\u001b[0m\u001b[1;33m\u001b[0m\u001b[0m\n\u001b[0m\u001b[0;32m    129\u001b[0m       \u001b[1;32mexcept\u001b[0m \u001b[1;33m(\u001b[0m\u001b[0mStopIteration\u001b[0m\u001b[1;33m,\u001b[0m \u001b[0merrors\u001b[0m\u001b[1;33m.\u001b[0m\u001b[0mOutOfRangeError\u001b[0m\u001b[1;33m)\u001b[0m\u001b[1;33m:\u001b[0m\u001b[1;33m\u001b[0m\u001b[1;33m\u001b[0m\u001b[0m\n\u001b[0;32m    130\u001b[0m         \u001b[1;31m# TODO(kaftan): File bug about tf function and errors.OutOfRangeError?\u001b[0m\u001b[1;33m\u001b[0m\u001b[1;33m\u001b[0m\u001b[1;33m\u001b[0m\u001b[0m\n",
      "\u001b[1;32m~\\Miniconda3\\envs\\nlp\\lib\\site-packages\\tensorflow_core\\python\\keras\\engine\\training_v2_utils.py\u001b[0m in \u001b[0;36mexecution_function\u001b[1;34m(input_fn)\u001b[0m\n\u001b[0;32m     96\u001b[0m     \u001b[1;31m# `numpy` translates Tensors to values in Eager mode.\u001b[0m\u001b[1;33m\u001b[0m\u001b[1;33m\u001b[0m\u001b[1;33m\u001b[0m\u001b[0m\n\u001b[0;32m     97\u001b[0m     return nest.map_structure(_non_none_constant_value,\n\u001b[1;32m---> 98\u001b[1;33m                               distributed_function(input_fn))\n\u001b[0m\u001b[0;32m     99\u001b[0m \u001b[1;33m\u001b[0m\u001b[0m\n\u001b[0;32m    100\u001b[0m   \u001b[1;32mreturn\u001b[0m \u001b[0mexecution_function\u001b[0m\u001b[1;33m\u001b[0m\u001b[1;33m\u001b[0m\u001b[0m\n",
      "\u001b[1;32m~\\Miniconda3\\envs\\nlp\\lib\\site-packages\\tensorflow_core\\python\\eager\\def_function.py\u001b[0m in \u001b[0;36m__call__\u001b[1;34m(self, *args, **kwds)\u001b[0m\n\u001b[0;32m    566\u001b[0m         \u001b[0mxla_context\u001b[0m\u001b[1;33m.\u001b[0m\u001b[0mExit\u001b[0m\u001b[1;33m(\u001b[0m\u001b[1;33m)\u001b[0m\u001b[1;33m\u001b[0m\u001b[1;33m\u001b[0m\u001b[0m\n\u001b[0;32m    567\u001b[0m     \u001b[1;32melse\u001b[0m\u001b[1;33m:\u001b[0m\u001b[1;33m\u001b[0m\u001b[1;33m\u001b[0m\u001b[0m\n\u001b[1;32m--> 568\u001b[1;33m       \u001b[0mresult\u001b[0m \u001b[1;33m=\u001b[0m \u001b[0mself\u001b[0m\u001b[1;33m.\u001b[0m\u001b[0m_call\u001b[0m\u001b[1;33m(\u001b[0m\u001b[1;33m*\u001b[0m\u001b[0margs\u001b[0m\u001b[1;33m,\u001b[0m \u001b[1;33m**\u001b[0m\u001b[0mkwds\u001b[0m\u001b[1;33m)\u001b[0m\u001b[1;33m\u001b[0m\u001b[1;33m\u001b[0m\u001b[0m\n\u001b[0m\u001b[0;32m    569\u001b[0m \u001b[1;33m\u001b[0m\u001b[0m\n\u001b[0;32m    570\u001b[0m     \u001b[1;32mif\u001b[0m \u001b[0mtracing_count\u001b[0m \u001b[1;33m==\u001b[0m \u001b[0mself\u001b[0m\u001b[1;33m.\u001b[0m\u001b[0m_get_tracing_count\u001b[0m\u001b[1;33m(\u001b[0m\u001b[1;33m)\u001b[0m\u001b[1;33m:\u001b[0m\u001b[1;33m\u001b[0m\u001b[1;33m\u001b[0m\u001b[0m\n",
      "\u001b[1;32m~\\Miniconda3\\envs\\nlp\\lib\\site-packages\\tensorflow_core\\python\\eager\\def_function.py\u001b[0m in \u001b[0;36m_call\u001b[1;34m(self, *args, **kwds)\u001b[0m\n\u001b[0;32m    604\u001b[0m       \u001b[1;31m# In this case we have not created variables on the first call. So we can\u001b[0m\u001b[1;33m\u001b[0m\u001b[1;33m\u001b[0m\u001b[1;33m\u001b[0m\u001b[0m\n\u001b[0;32m    605\u001b[0m       \u001b[1;31m# run the first trace but we should fail if variables are created.\u001b[0m\u001b[1;33m\u001b[0m\u001b[1;33m\u001b[0m\u001b[1;33m\u001b[0m\u001b[0m\n\u001b[1;32m--> 606\u001b[1;33m       \u001b[0mresults\u001b[0m \u001b[1;33m=\u001b[0m \u001b[0mself\u001b[0m\u001b[1;33m.\u001b[0m\u001b[0m_stateful_fn\u001b[0m\u001b[1;33m(\u001b[0m\u001b[1;33m*\u001b[0m\u001b[0margs\u001b[0m\u001b[1;33m,\u001b[0m \u001b[1;33m**\u001b[0m\u001b[0mkwds\u001b[0m\u001b[1;33m)\u001b[0m\u001b[1;33m\u001b[0m\u001b[1;33m\u001b[0m\u001b[0m\n\u001b[0m\u001b[0;32m    607\u001b[0m       \u001b[1;32mif\u001b[0m \u001b[0mself\u001b[0m\u001b[1;33m.\u001b[0m\u001b[0m_created_variables\u001b[0m\u001b[1;33m:\u001b[0m\u001b[1;33m\u001b[0m\u001b[1;33m\u001b[0m\u001b[0m\n\u001b[0;32m    608\u001b[0m         raise ValueError(\"Creating variables on a non-first call to a function\"\n",
      "\u001b[1;32m~\\Miniconda3\\envs\\nlp\\lib\\site-packages\\tensorflow_core\\python\\eager\\function.py\u001b[0m in \u001b[0;36m__call__\u001b[1;34m(self, *args, **kwargs)\u001b[0m\n\u001b[0;32m   2361\u001b[0m     \u001b[1;32mwith\u001b[0m \u001b[0mself\u001b[0m\u001b[1;33m.\u001b[0m\u001b[0m_lock\u001b[0m\u001b[1;33m:\u001b[0m\u001b[1;33m\u001b[0m\u001b[1;33m\u001b[0m\u001b[0m\n\u001b[0;32m   2362\u001b[0m       \u001b[0mgraph_function\u001b[0m\u001b[1;33m,\u001b[0m \u001b[0margs\u001b[0m\u001b[1;33m,\u001b[0m \u001b[0mkwargs\u001b[0m \u001b[1;33m=\u001b[0m \u001b[0mself\u001b[0m\u001b[1;33m.\u001b[0m\u001b[0m_maybe_define_function\u001b[0m\u001b[1;33m(\u001b[0m\u001b[0margs\u001b[0m\u001b[1;33m,\u001b[0m \u001b[0mkwargs\u001b[0m\u001b[1;33m)\u001b[0m\u001b[1;33m\u001b[0m\u001b[1;33m\u001b[0m\u001b[0m\n\u001b[1;32m-> 2363\u001b[1;33m     \u001b[1;32mreturn\u001b[0m \u001b[0mgraph_function\u001b[0m\u001b[1;33m.\u001b[0m\u001b[0m_filtered_call\u001b[0m\u001b[1;33m(\u001b[0m\u001b[0margs\u001b[0m\u001b[1;33m,\u001b[0m \u001b[0mkwargs\u001b[0m\u001b[1;33m)\u001b[0m  \u001b[1;31m# pylint: disable=protected-access\u001b[0m\u001b[1;33m\u001b[0m\u001b[1;33m\u001b[0m\u001b[0m\n\u001b[0m\u001b[0;32m   2364\u001b[0m \u001b[1;33m\u001b[0m\u001b[0m\n\u001b[0;32m   2365\u001b[0m   \u001b[1;33m@\u001b[0m\u001b[0mproperty\u001b[0m\u001b[1;33m\u001b[0m\u001b[1;33m\u001b[0m\u001b[0m\n",
      "\u001b[1;32m~\\Miniconda3\\envs\\nlp\\lib\\site-packages\\tensorflow_core\\python\\eager\\function.py\u001b[0m in \u001b[0;36m_filtered_call\u001b[1;34m(self, args, kwargs)\u001b[0m\n\u001b[0;32m   1609\u001b[0m          if isinstance(t, (ops.Tensor,\n\u001b[0;32m   1610\u001b[0m                            resource_variable_ops.BaseResourceVariable))),\n\u001b[1;32m-> 1611\u001b[1;33m         self.captured_inputs)\n\u001b[0m\u001b[0;32m   1612\u001b[0m \u001b[1;33m\u001b[0m\u001b[0m\n\u001b[0;32m   1613\u001b[0m   \u001b[1;32mdef\u001b[0m \u001b[0m_call_flat\u001b[0m\u001b[1;33m(\u001b[0m\u001b[0mself\u001b[0m\u001b[1;33m,\u001b[0m \u001b[0margs\u001b[0m\u001b[1;33m,\u001b[0m \u001b[0mcaptured_inputs\u001b[0m\u001b[1;33m,\u001b[0m \u001b[0mcancellation_manager\u001b[0m\u001b[1;33m=\u001b[0m\u001b[1;32mNone\u001b[0m\u001b[1;33m)\u001b[0m\u001b[1;33m:\u001b[0m\u001b[1;33m\u001b[0m\u001b[1;33m\u001b[0m\u001b[0m\n",
      "\u001b[1;32m~\\Miniconda3\\envs\\nlp\\lib\\site-packages\\tensorflow_core\\python\\eager\\function.py\u001b[0m in \u001b[0;36m_call_flat\u001b[1;34m(self, args, captured_inputs, cancellation_manager)\u001b[0m\n\u001b[0;32m   1690\u001b[0m       \u001b[1;31m# No tape is watching; skip to running the function.\u001b[0m\u001b[1;33m\u001b[0m\u001b[1;33m\u001b[0m\u001b[1;33m\u001b[0m\u001b[0m\n\u001b[0;32m   1691\u001b[0m       return self._build_call_outputs(self._inference_function.call(\n\u001b[1;32m-> 1692\u001b[1;33m           ctx, args, cancellation_manager=cancellation_manager))\n\u001b[0m\u001b[0;32m   1693\u001b[0m     forward_backward = self._select_forward_and_backward_functions(\n\u001b[0;32m   1694\u001b[0m         \u001b[0margs\u001b[0m\u001b[1;33m,\u001b[0m\u001b[1;33m\u001b[0m\u001b[1;33m\u001b[0m\u001b[0m\n",
      "\u001b[1;32m~\\Miniconda3\\envs\\nlp\\lib\\site-packages\\tensorflow_core\\python\\eager\\function.py\u001b[0m in \u001b[0;36mcall\u001b[1;34m(self, ctx, args, cancellation_manager)\u001b[0m\n\u001b[0;32m    543\u001b[0m               \u001b[0minputs\u001b[0m\u001b[1;33m=\u001b[0m\u001b[0margs\u001b[0m\u001b[1;33m,\u001b[0m\u001b[1;33m\u001b[0m\u001b[1;33m\u001b[0m\u001b[0m\n\u001b[0;32m    544\u001b[0m               \u001b[0mattrs\u001b[0m\u001b[1;33m=\u001b[0m\u001b[1;33m(\u001b[0m\u001b[1;34m\"executor_type\"\u001b[0m\u001b[1;33m,\u001b[0m \u001b[0mexecutor_type\u001b[0m\u001b[1;33m,\u001b[0m \u001b[1;34m\"config_proto\"\u001b[0m\u001b[1;33m,\u001b[0m \u001b[0mconfig\u001b[0m\u001b[1;33m)\u001b[0m\u001b[1;33m,\u001b[0m\u001b[1;33m\u001b[0m\u001b[1;33m\u001b[0m\u001b[0m\n\u001b[1;32m--> 545\u001b[1;33m               ctx=ctx)\n\u001b[0m\u001b[0;32m    546\u001b[0m         \u001b[1;32melse\u001b[0m\u001b[1;33m:\u001b[0m\u001b[1;33m\u001b[0m\u001b[1;33m\u001b[0m\u001b[0m\n\u001b[0;32m    547\u001b[0m           outputs = execute.execute_with_cancellation(\n",
      "\u001b[1;32m~\\Miniconda3\\envs\\nlp\\lib\\site-packages\\tensorflow_core\\python\\eager\\execute.py\u001b[0m in \u001b[0;36mquick_execute\u001b[1;34m(op_name, num_outputs, inputs, attrs, ctx, name)\u001b[0m\n\u001b[0;32m     59\u001b[0m     tensors = pywrap_tensorflow.TFE_Py_Execute(ctx._handle, device_name,\n\u001b[0;32m     60\u001b[0m                                                \u001b[0mop_name\u001b[0m\u001b[1;33m,\u001b[0m \u001b[0minputs\u001b[0m\u001b[1;33m,\u001b[0m \u001b[0mattrs\u001b[0m\u001b[1;33m,\u001b[0m\u001b[1;33m\u001b[0m\u001b[1;33m\u001b[0m\u001b[0m\n\u001b[1;32m---> 61\u001b[1;33m                                                num_outputs)\n\u001b[0m\u001b[0;32m     62\u001b[0m   \u001b[1;32mexcept\u001b[0m \u001b[0mcore\u001b[0m\u001b[1;33m.\u001b[0m\u001b[0m_NotOkStatusException\u001b[0m \u001b[1;32mas\u001b[0m \u001b[0me\u001b[0m\u001b[1;33m:\u001b[0m\u001b[1;33m\u001b[0m\u001b[1;33m\u001b[0m\u001b[0m\n\u001b[0;32m     63\u001b[0m     \u001b[1;32mif\u001b[0m \u001b[0mname\u001b[0m \u001b[1;32mis\u001b[0m \u001b[1;32mnot\u001b[0m \u001b[1;32mNone\u001b[0m\u001b[1;33m:\u001b[0m\u001b[1;33m\u001b[0m\u001b[1;33m\u001b[0m\u001b[0m\n",
      "\u001b[1;31mKeyboardInterrupt\u001b[0m: "
     ]
    }
   ],
   "source": [
    "total_a = 0\n",
    "total_b = 0\n",
    "\n",
    "total_iters = 10\n",
    "for i in range(0, total_iters):\n",
    "    print(\"\\nIteration: \", i)\n",
    "    df = pd.read_excel('Training Phrases.xlsx', sheet_name='Testing of Models', nrows=456)\n",
    "    df = df.drop(df.index[0])\n",
    "    df = df[df.columns[[1, 2]]]\n",
    "    df.columns = [\"Text\", \"Label\"]\n",
    "    df['Text'] = df['Text'].apply(tokenizer)\n",
    "    x_train, x_test, y_train, y_test = train_test_split(df[\"Text\"], df[\"Label\"], random_state=i, test_size=0.2)\n",
    "    \n",
    "#     vectorizer = TfidfVectorizer(ngram_range=(1,3)) \n",
    "#     classifier = SVC(C=150, gamma=0.02, probability=True)\n",
    "#     pipe = Pipeline([('vectorizer', vectorizer),\n",
    "#                      ('classifier', classifier)])\n",
    "                     \n",
    "\n",
    "#     pipe.fit(x_train, y_train)\n",
    "    predicted = ensemble.predict(x_test.values)\n",
    "    accuracy_a = metrics.accuracy_score(y_test, predicted)\n",
    "    total_a += accuracy_a\n",
    "    print(\"Accuracy A:\", accuracy_a)\n",
    "    \n",
    "#     vectorizer = TfidfVectorizer(ngram_range=(1,3)) \n",
    "    classifier = SVC(C=150, gamma=0.02, probability=True)\n",
    "    pipe = Pipeline(\n",
    "    steps=[\n",
    "        (\"combined_features\", FeatureUnion(\n",
    "                transformer_list=[\n",
    "                    (\"tfid\", TfidfVectorizer(ngram_range=(1,3))),\n",
    "                    (\"embed\", SpacyVectorTransformer(nlp)),\n",
    "                ]\n",
    "        )),\n",
    "        (\"classifier\", classifier),\n",
    "        ]\n",
    "    )\n",
    "    pipe.fit(x_train, y_train)\n",
    "    predicted = pipe.predict(x_test)\n",
    "    \n",
    "    accuracy_b = metrics.accuracy_score(y_test, predicted)\n",
    "    total_b += accuracy_b\n",
    "    print(\"Accuracy B:\", accuracy_b)\n",
    "\n",
    "print(\"\\nAverage Accuracy A:\", total_a/total_iters)\n",
    "print(\"Average Accuracy B:\", total_b/total_iters)"
   ]
  },
  {
   "cell_type": "markdown",
   "metadata": {},
   "source": [
    "### spaCy Vectorizer"
   ]
  },
  {
   "cell_type": "code",
   "execution_count": null,
   "metadata": {
    "init_cell": true
   },
   "outputs": [],
   "source": [
    "import spacy \n",
    "from sklearn.base import BaseEstimator, TransformerMixin\n",
    "nlp = spacy.load(\"en_core_web_lg\")  \n",
    "\n",
    "class SpacyVectorTransformer(BaseEstimator, TransformerMixin):\n",
    "    def __init__(self, nlp):\n",
    "        self.nlp = nlp\n",
    "\n",
    "    def fit(self, X, y):\n",
    "        return self\n",
    "\n",
    "    def transform(self, X):\n",
    "        return [self.nlp(text).vector for text in X]"
   ]
  },
  {
   "cell_type": "markdown",
   "metadata": {
    "heading_collapsed": true
   },
   "source": [
    "### Embeddings Vectorizer"
   ]
  },
  {
   "cell_type": "code",
   "execution_count": 17,
   "metadata": {
    "code_folding": [],
    "hidden": true
   },
   "outputs": [],
   "source": [
    "class GloveTransformer(TransformerMixin):\n",
    "    \n",
    "    def fit(self, X, y=None):\n",
    "        return self\n",
    "    \n",
    "    def transform(self, X):    \n",
    "        return [len([tok for tok in tok_nlp(doc) if tok.pos_ == u'VERB']) for doc in X]\n",
    "    \n",
    "    def fit_transform(self, X, y=None):\n",
    "        return self.fit(X).transform(X)\n",
    "    \n",
    "    \n",
    "glove_transformer = GloveTransformer()"
   ]
  },
  {
   "cell_type": "markdown",
   "metadata": {
    "heading_collapsed": true
   },
   "source": [
    "## spaCy "
   ]
  },
  {
   "cell_type": "code",
   "execution_count": 48,
   "metadata": {
    "code_folding": [
     0,
     8,
     34
    ],
    "hidden": true
   },
   "outputs": [],
   "source": [
    "def create_cat_dict(label):\n",
    "    mydict = {}\n",
    "    for class_ in classes:\n",
    "        mydict[class_] = (class_ == label)\n",
    "        \n",
    "    return mydict\n",
    "\n",
    "\n",
    "def get_preds(texts, labels, output=False):\n",
    "    total_correct = 0\n",
    "    wrong_preds = defaultdict(int)\n",
    "    preds = []\n",
    "    \n",
    "    for test_phrase in zip(texts, labels):\n",
    "        phrase = test_phrase[0]\n",
    "        label = [key for (key, value) in test_phrase[1].items() if value == True][0]\n",
    "        pred_cats = nlp(phrase).cats\n",
    "        pred = max(pred_cats, key=pred_cats.get)\n",
    "        preds.append(pred)\n",
    "        \n",
    "        if (label == pred):\n",
    "            total_correct += 1\n",
    "            \n",
    "        else:\n",
    "            wrong_preds[label] += 1\n",
    "            \n",
    "            if (output):\n",
    "                print(\"\\n\", \"-\"*15, \"\\nPhrase:\", phrase)\n",
    "                print(\"Label:\", label)\n",
    "                print(\"Prediction:\", pred)\n",
    "        \n",
    "    return (total_correct, wrong_preds, preds)\n",
    "\n",
    "\n",
    "def load_data(split=0.80, tok=False):\n",
    "    if tok:\n",
    "        df['tuples'] = df.apply(lambda row: (tokenizer(row['Text']), row['Label']), axis=1)\n",
    "    else:\n",
    "        df['tuples'] = df.apply(lambda row: (row['Text'], row['Label']), axis=1)\n",
    "    \n",
    "    train_data = df['tuples'].tolist()\n",
    "#     random.shuffle(train_data)\n",
    "    texts, labels = zip(*train_data)\n",
    "    cats = [create_cat_dict(y) for y in labels]\n",
    "    split = int(len(train_data) * split)\n",
    "    \n",
    "#     return (texts[:split], cats[:split]), (texts[split:], cats[split:])\n",
    "    return (texts, cats)"
   ]
  },
  {
   "cell_type": "code",
   "execution_count": 50,
   "metadata": {
    "hidden": true
   },
   "outputs": [
    {
     "name": "stdout",
     "output_type": "stream",
     "text": [
      "1                           (sign job alert, job_alerts)\n",
      "2                 (tell job alert regularly, job_alerts)\n",
      "3                 (want subscribe job alert, job_alerts)\n",
      "4      (want receive new job notification email sign,...\n",
      "5              (learn late job opening boot, job_alerts)\n",
      "                             ...                        \n",
      "451              (day care child, special_needs_at_work)\n",
      "452    (animal stay working hour, special_needs_at_work)\n",
      "453                        (care, special_needs_at_work)\n",
      "454    (information workplace accommodation, special_...\n",
      "455    (hi look apply role store wheelchair let know ...\n",
      "Name: tuples, Length: 455, dtype: object\n",
      "('sign job alert', 'tell job alert regularly', 'want subscribe job alert', 'want receive new job notification email sign', 'learn late job opening boot', 'want know late job', 'sign new job opening', 'email alert', 'weekly email job alert', 'monthly email job alert', '', 'job particular job title', 'job alert sector wise', 'mention', 'job particular job type', 'job alert specify language', 'particular salary range', 'unsubscribe job alert', 'alert subscribe', 'offer discount avail subscription', 'job alert', 'job alert entry level', 'interested management job alert', 'want job alert new opening', 'want job alert accord qualification', 'late marketing job', 'want remote job alert', 'way sign job alert notify future opportunity', 'charge job alert', 'good evening currently nursery nurse want progress career trainee pre customer service live warminster wiltshire tell job area role thank', 'hi recently wonder sale assistant vacancy available interested work boot live near regard', 'dear like introduce highlight interest future current role feel suitable graduate 2019 class degree management 6 year experience retail sainsbury work customer service assistant team manager currently customer trading manager work 6 year whilst study degree time look future career strong reputable business look opportunity use degree retail experience progress career base career look progress develop skill knowledge attach link profile', 'write likely job opportunity boot interested work company hardworke enthusiastic come achieve goal work customer eye tiny detail prepare commit training require experience work boot refer cv moment resume document sincerely', 'hello soon finish role temp store currently look job wonder job availability widne boot store', 'good evening hope help girlfriend french national plan relocate live permanent basis currently work beauty seller look submit cv boot potential job opening apply appreciate help able provide regard', 'hello look work pharmacist pharmacy graduate summer 2020 thank kind regard', 'good afternoon internet boot 15 year old 15 year old female look job coventry feedback advance', 'weekend available 15 year old area thank advance', 'job boot fill find site', 'candidate pharmacy student currently study wonder opportunity available break 2020 currently stay willing work 20 hour week holiday gain experience pharmacy field attach resume look forward hear soon', 'experience administer vaccine school aged immunisation thank assistance anticipation early reply faithfully', 'good evening write question employment company 15 year old curious apply job store look like age hour look like aware age certain limitation place aware weth position available store area apologise case question answer thank regard', 'student interested talented customer service start beauty sale role londonderry', 'dear recruitment interested look work public sector customer /patient care employ large organisation redundancy package 2020 courtesy email type vacancy surround area age 55 fit healthy look transition view second career suitably available contact gladly submit c v', 'find difficult online morning discuss current vacancy contact number regard', 'hand store', 'send', 'submit store', 'send cv', '', 'email send', 'online link apply', 'step process', 'pre requite apply particular position', 'need send cover letter', 'confirmation receive', 'notification', 'social medium channel apply', 'basic step send job application courier', 'information require apply job', 'apply', 'send', 'find job link apply', 'apply', 'apply post software developer', 'way apply job', 'way apply post', 'find job application form', 'write cover letter', 'apply job person', 'process apply job', 'apply job', 'send unsolicited application', 'step process', 'apply paper application', 'reapply job', 'ad position interested find career apply', 'interested apply pharmacy job boot tell contact', 'good afternoon like apply trainee pharmacy adviser good customer experience work cabin crew 3 year learn fast work time cruise terminal check people cruise cruise different system learn fast look cv attachment look forward hear', 'hello 16 year look job want work boot regent road know apply try job app website decide email youse honestly need help thank attention appreciate', 'dear excited write open pharmacist position job post website notice requirement match history perfectly 1 year experience competent diligent reliable pharmacist strong record consistently provide personalize customer service maintain efficient pharmacy kindly find attach file resume moment review sincere pleasure hear soon discuss opportunity', 'dear team excuse cold approach write aware interest find relevant role boot look current opportunity directly relevant advertise moment want reach explain background experience share mathematic graduate accountant 12 year post qualification experience work property industry 15 year experience privately company 100 recently global developer lead team project manage large portfolio retail residential office asset approach commercial wealth knowledge real operational issue time work stand retail unit large build strong relationship operation team level site staff ceo level feel adaptable approach add value opportunity arise boot appreciate time read email love opportunity conversation answer question feel free contact number', 'look job time .i currently work poundland .i experience 6 month .if vacancy reply phone email attach', 'good morning apply position health care assistant base co advertise unfortunately unable apply web site customer focus passionate work dedicate flexible hard work person thank advance read look forward hear regard', 'hello wonder specific person talk employment giltbrook store thank', 'close job description know open', 'end job let know', 'deadline job mention date help', 'long apply job', 'cut date apply job want know', 'close let know', 'want know job close long apply', 'date apply job let know', 'day apply job find job description', 'want apply job mention day apply job tell', 'day apply role interested', 'tell date apply job', 'deadline application', 'day apply', 'date send email', 'close date job', 'final date apply', 'conclusion date application', 'end date application', 'date submission require document', 'conclusion date job application', 'job post closing date find closing date', 'deadline job application', 'register closing', 'deadline job application', 'submit application deadline', 'position available advertise 3 month ago', 'close date job posting', 'unable application closing date apply position', 'submission time application vacancy', 'apply role', 'interested job apply', 'apply multiple job time', 'apply multiple role', 'interested job apply', 'apply job', 'apply role', 'send application role time', 'eligible role apply', 'qualified role apply', 'skill position apply multiple role', 'link apply position', 'process apply multiple position', 'apply multiple role', 'apply multiple role account', 'currently learn development apply multiple role', 'academic background apply multiple role', 'fall multiple job criterion apply', 'limit number application submit', 'applicant apply multiple position', 'choose consider specific position multiple role', 'apply multiple position require answer assessment question', 'maximum number job apply', 'job apply', 'apply position time', 'wonder help apply job day ago come job interested ok apply job', 'apply time instead application reserve list different career opportunity apply opportunity learn job love apply role boot interview candidate apply role mean need information reject interview apply role boot immediately wait know online assessment wait 12 month reapply kindly let know', 'application ask cv tell previous experience', 'apply job able upload cv send share experience', 'complete application ask cv problem', 'place application nee send', 'concerned able upload cv apply job problem need send cv', 'find link attach cv', 'mention experience application update', 'send system let upload cv', 'think chance upload cv share cv', 'complete job application ask like share work experience history', 'submit job application chance upload cv like share work experience', 'find place share upload cv application process send cv submit job application', 'complete job application realize share place upload share cv', 'directly site upload cv ready', 'good evening recently apply job face counter branch able help interested job help appreciate thank', 'withdraw application reinstate', 'apply ago withdraw application want apply', 'complete job application application want reinstate application need complete new application', 'cancel job application want apply', 'application withdraw earlier', 'cancel job application early nee start new application', 'resume process', 'want resume application process', 'want resume cv process', 'resume application', 'apply early start previous application', 'apply old email', 'application', 'application assessment exam prior 1 2019', 'cancel reinstate application impact job', 'cancel reinstate application multiple time', 'cancel application able reinstate', 'application new email', 'concern chance continue application retail assistant boot retail able complete online assessment phone smash access email know complete online assessment cv boot store feel like perfect candidate job work boot know role regulation', 'find happen application', 'know status job application', 'long know status job application', 'know successful job application', 'consider application', 'application process know', 'application consider long', 'know job', 'status application', 'find status application', 'soon response application', 'job application accept reject', 'let know expect decision', 'consideration job', 'long review process', 'application check', 'contact company apply multiple job', 'know application receive', 'monitor understand status application', 'expect hear boot apply position', 'receive confirmation email know application submit', 'know successfully submit application', 'long entire application process', 'find status application', 'track status application', 'track application status', 'know job application submit successfully', 'confirm receive complete online assessment', 'good afternoon candidate recently apply job boot trainee advisor wonder position fill complete assessment hear kind regard', 'dear hope complete decision exercise let know mind let know inthis process look forward hear thank', 'hello email find submit online assessment evening wonder hear sorry know probably busy interested position 10 year retail experience company think fit job look forward hear regard', 'successful application feedback', 'share feedback application', 'want know reason select share information', 'want know application successful feedback', 'job like know reason', 'appreciate application successful want improve like know reason decision', 'want know reason rejection', 'hear feedback application interview', 'want know weak area cause rejection', 'appreciate opportunity learn interview feedback', 'possible love feedback interview skill overall qualification', 'weakness interview', 'provide detail interview', 'valuable feedback', 'job description clear advertisement elaborate job description', 'curious know feedback application', 'apply kindly review feedback thank', 'concern application', 'contact interview feedback', 'contact interviewer feedback interview', 'basis disqualify interview', 'response reject', 'write tip improve application', 'good afternoon apply time enquire store encourage apply complete online assessment status boot account email notification send yesterday receive confirm notification kind regard', 'recently find vacancy interested apply heathrow near want know eligibility work apply complete online assessment information.please let know positively interest', '', 'ask complete online assessment time complete', 'time complete online assessment', 'time limit online assessment', 'long complete assessment', 'invest question assessment', 'time complete assessment', 'extra time question', 'run time assessment retake', 'hour complete online assessment', 'question online assessment fix time limit complete assessment run time', 'able complete online assessment time affect chance job', 'run time whilst complete online assessment affect job prospect', 'time assessment complete', 'complete online assessment time negative affect chance job', 'long complete online assessment', 'hi assessment tonight work flash work office regard', 'click link open online assessment', 'link assessment work help', 'try complete online assessment link work', 'send link assessment send work', 'click assessment link happen help', 'assessment expire new link assessment', 'link unavailable area send update assessment link', 'accidently open link assessment assessment fill submit time', 'email assessment send', 'open assessment link expire way new link', 'assessment', 'click assessment link assessment enter new assessment', 'test link work', 'question assessment link issue', 'time submit assessment', 'try submit confirm assessment unable proceed system assessment step', 'struggle complete online assessment', 'open assessment phone', 'able open assessment tablet', 'access need', 'assessment work open', 'unable view assessment question', 'face difficulty read assessment', 'assessment responsive screen question viewable', 'struggle properly view question browser', 'able open assessment tablet', 'click assessment link open happen help', 'compatible assessment link', 'web browser use assessment', 'device operating system assessment compatible', 'compatible mobile tablet device', 'open assessment link', 'unable open assessment link internet explorer', 'apply job test struggle work computer crash lock', 'morning send link online testing download ipad access thank', 'hello complete online questionnaire trouble fill second personality screen question tick 3 box suppose appreciate kindly enlighten issue thank', 'recently find vacancy interested apply heathrow near want know eligibility work apply complete online assessment information.please let know positively interest', 'hi recently try complete online assessment support device try try different device unfortunately able complete assessment send alternative link different way complete assessment', 'hi thank link apply phone press link copy paste browser find suggestion thank', 'apply position 22nd send link online assessment twice try link phone laptop receive error message click link screen shoot late e mail', 'need complete online assessment time apply', 'complete assessment earlier want apply anther job need complete assessment', 'need complete assessment new job interested', 'long assessment valid need assessment time', 'assessment valid want apply job reuse complete earlier', '1 assessment position', 'validity period assessment', 'complete online assessment week ago nee apply job', 'online assessment ago apply job apply job need retake assessment valid', 'need retake assessment time apply job', 'difference affect performance selection process', 'special nee affect application adversely', 'learn disability problem', 'blind affect application', 'visually impair know affect performance', 'difficulty hear', 'suffer autism disorder effect job application job', 'heart disease special medical assistance people suffer heart disease', 'special measure people paralyze leg', 'tax incentive hire people disability', 'people', 'people disability work', 'person disability like work boot job', 'think employer supervisor discriminate disability', 'employer provide help job accommodate disability', 'new boot provide general guidance', 'compensation benefit like disable person', 'position', 'receive accommodation person disability', 'enhance service employee disability', 'boot disability awareness material training workshop employee', 'find information specific disability medical condition', '', 'want interview', 'able change time interview', 'feel need alter interview timing ok', 'illness need interview', 'urgent work', 'day interview like', 'appointment doctor want interview reschedule', 'kindly interview', 'extension interview', 'today come tomorrow', 'involve car accident possible present interview schedule time date', 'time interview', 'personal emergency able interview schedule date time request interview date', 'good day reschedule available anytime week', 'let know good time reschedule happy meet convenient', 'happy come 3:00 p.m. instead', 'receive email interview interview unforeseen circumstance', 'happy time work', 'appear interview interview day', 'schedule person interview', 'apply post seasonal assistant unable attend interview book new slot unable online.i open work store area vacancy leave', 'good afternoon send application online time role branch assessment lose email interview load contact head office reschedule actual store close home advise email easy email think case contact', 'run late interview', 'stick traffic late interview', 'able time', 'like run late interview ok', 'run 10 minute late ok', '15 minute late interview', 'half hour schedule interview time panic', 'late interview kindly set interview later day', 'come city able come time interview', 'road maintenance late interview', 'appointment doctor clash interview time reach late interview', 'available slot 11 interview run late thank', 'personal issue unable come time interview availability time today', 'hear', 'hear update', 'long response interview', 'lose phone interview mark email', 'send interview response new email', 'hear', 'week hear hear', 'month job receive update interview update', 'interview week ago news feedback consider job', 'ago hear shall suppose job', 'long result interview', 'long wait follow', 'time hear interview follow', 'account help', '', 'unable change help', 'account accessible email find', 'help open account', 'close account', '', 'hold', 'option account', 'change account email address', 'account', 'create account', 'delete account', 'update', 'view', 'change email address create new account new email', 'lose', 'error message unable find e mail password system', 'apply position year ago line application system let enter apply line forget question', 'old need work boot', 'age limit work boot', 'age limit work position', 'retirement age position apply', 'till age eligible work company', 'minimum age require job', 'find age criterion work position age criterion', 'age relaxation role', '28 year old eligible job', '16 year old consider role', 'policy employ young people age issue role', '60 year old concerned age cause issue employ senior people', 'age limit employment', 'hello wonder possible work customer advisor 15 able work let know possible thank', 'want work boot little 13 wonder 14 start', 'hello 14 look job website 15 think ask chance accept look 15 help way think ask thank', 'find salary role', 'different salary range', '', 'offer job', 'find salary position find salary position', 'salary application tell salary job', 'job pay', 'pay', 'start salary', 'pay probation period', 'start salary look close 50000', 'annual salary position', 'offer position', 'salary experience', '', 'annual salary position', 'willing accept position pay 50000', 'salary benefit job', 'expectation job application', 'salary expectation email', 'like learn salary post', 'look competitive offer include benefit kind compensation', 'salary', 'provide salary new job open', 'pay offer position', 'salary job', 'mention wage post find salary job opening', 'salary offer internship', 'job pay', 'pay', 'work experience boot', 'interested work experience role', 'work experience eligible position', 'work experience require job', 'offer work experience boot', 'look work experience placement apply', 'apply work experience boot', 'special requirement work experience need worry', 'keen work experience boot help', 'experience match need role', 'good afternoon work borough team support people employment want find work experience placement branch client age 16 working age number training course application form cv writing benefit real work experience able help look forward hear regard', 'disability need adjustment able work work premise work pattern possible', 'suffer allergy work home day', 'need reach work floor unable walk stair', 'need near window suffocation problem asthma', 'day care child', 'animal stay working hour', 'care', 'information workplace accommodation', 'hi look apply role store wheelchair let know access ok job thank') [{'job_alerts': True, 'howto_apply': False, 'job_close_date': False, 'multiple_role': False, 'cv_past_experience': False, 'reinstate_application': False, 'application_status': False, 'feedback': False, 'assessment_timebox': False, 'assessment_link_problem': False, 'assessment_campatilibility': False, 'assessment_validity': False, 'disability': False, 'interview_reschedule': False, 'late_for_interview': False, 'interview_response_time': False, 'job_account_issue': False, 'age_limit': False, 'salary': False, 'work_experience': False, 'special_needs_at_work': False}, {'job_alerts': True, 'howto_apply': False, 'job_close_date': False, 'multiple_role': False, 'cv_past_experience': False, 'reinstate_application': False, 'application_status': False, 'feedback': False, 'assessment_timebox': False, 'assessment_link_problem': False, 'assessment_campatilibility': False, 'assessment_validity': False, 'disability': False, 'interview_reschedule': False, 'late_for_interview': False, 'interview_response_time': False, 'job_account_issue': False, 'age_limit': False, 'salary': False, 'work_experience': False, 'special_needs_at_work': False}, {'job_alerts': True, 'howto_apply': False, 'job_close_date': False, 'multiple_role': False, 'cv_past_experience': False, 'reinstate_application': False, 'application_status': False, 'feedback': False, 'assessment_timebox': False, 'assessment_link_problem': False, 'assessment_campatilibility': False, 'assessment_validity': False, 'disability': False, 'interview_reschedule': False, 'late_for_interview': False, 'interview_response_time': False, 'job_account_issue': False, 'age_limit': False, 'salary': False, 'work_experience': False, 'special_needs_at_work': False}, {'job_alerts': True, 'howto_apply': False, 'job_close_date': False, 'multiple_role': False, 'cv_past_experience': False, 'reinstate_application': False, 'application_status': False, 'feedback': False, 'assessment_timebox': False, 'assessment_link_problem': False, 'assessment_campatilibility': False, 'assessment_validity': False, 'disability': False, 'interview_reschedule': False, 'late_for_interview': False, 'interview_response_time': False, 'job_account_issue': False, 'age_limit': False, 'salary': False, 'work_experience': False, 'special_needs_at_work': False}, {'job_alerts': True, 'howto_apply': False, 'job_close_date': False, 'multiple_role': False, 'cv_past_experience': False, 'reinstate_application': False, 'application_status': False, 'feedback': False, 'assessment_timebox': False, 'assessment_link_problem': False, 'assessment_campatilibility': False, 'assessment_validity': False, 'disability': False, 'interview_reschedule': False, 'late_for_interview': False, 'interview_response_time': False, 'job_account_issue': False, 'age_limit': False, 'salary': False, 'work_experience': False, 'special_needs_at_work': False}, {'job_alerts': True, 'howto_apply': False, 'job_close_date': False, 'multiple_role': False, 'cv_past_experience': False, 'reinstate_application': False, 'application_status': False, 'feedback': False, 'assessment_timebox': False, 'assessment_link_problem': False, 'assessment_campatilibility': False, 'assessment_validity': False, 'disability': False, 'interview_reschedule': False, 'late_for_interview': False, 'interview_response_time': False, 'job_account_issue': False, 'age_limit': False, 'salary': False, 'work_experience': False, 'special_needs_at_work': False}, {'job_alerts': True, 'howto_apply': False, 'job_close_date': False, 'multiple_role': False, 'cv_past_experience': False, 'reinstate_application': False, 'application_status': False, 'feedback': False, 'assessment_timebox': False, 'assessment_link_problem': False, 'assessment_campatilibility': False, 'assessment_validity': False, 'disability': False, 'interview_reschedule': False, 'late_for_interview': False, 'interview_response_time': False, 'job_account_issue': False, 'age_limit': False, 'salary': False, 'work_experience': False, 'special_needs_at_work': False}, {'job_alerts': True, 'howto_apply': False, 'job_close_date': False, 'multiple_role': False, 'cv_past_experience': False, 'reinstate_application': False, 'application_status': False, 'feedback': False, 'assessment_timebox': False, 'assessment_link_problem': False, 'assessment_campatilibility': False, 'assessment_validity': False, 'disability': False, 'interview_reschedule': False, 'late_for_interview': False, 'interview_response_time': False, 'job_account_issue': False, 'age_limit': False, 'salary': False, 'work_experience': False, 'special_needs_at_work': False}, {'job_alerts': True, 'howto_apply': False, 'job_close_date': False, 'multiple_role': False, 'cv_past_experience': False, 'reinstate_application': False, 'application_status': False, 'feedback': False, 'assessment_timebox': False, 'assessment_link_problem': False, 'assessment_campatilibility': False, 'assessment_validity': False, 'disability': False, 'interview_reschedule': False, 'late_for_interview': False, 'interview_response_time': False, 'job_account_issue': False, 'age_limit': False, 'salary': False, 'work_experience': False, 'special_needs_at_work': False}, {'job_alerts': True, 'howto_apply': False, 'job_close_date': False, 'multiple_role': False, 'cv_past_experience': False, 'reinstate_application': False, 'application_status': False, 'feedback': False, 'assessment_timebox': False, 'assessment_link_problem': False, 'assessment_campatilibility': False, 'assessment_validity': False, 'disability': False, 'interview_reschedule': False, 'late_for_interview': False, 'interview_response_time': False, 'job_account_issue': False, 'age_limit': False, 'salary': False, 'work_experience': False, 'special_needs_at_work': False}, {'job_alerts': True, 'howto_apply': False, 'job_close_date': False, 'multiple_role': False, 'cv_past_experience': False, 'reinstate_application': False, 'application_status': False, 'feedback': False, 'assessment_timebox': False, 'assessment_link_problem': False, 'assessment_campatilibility': False, 'assessment_validity': False, 'disability': False, 'interview_reschedule': False, 'late_for_interview': False, 'interview_response_time': False, 'job_account_issue': False, 'age_limit': False, 'salary': False, 'work_experience': False, 'special_needs_at_work': False}, {'job_alerts': True, 'howto_apply': False, 'job_close_date': False, 'multiple_role': False, 'cv_past_experience': False, 'reinstate_application': False, 'application_status': False, 'feedback': False, 'assessment_timebox': False, 'assessment_link_problem': False, 'assessment_campatilibility': False, 'assessment_validity': False, 'disability': False, 'interview_reschedule': False, 'late_for_interview': False, 'interview_response_time': False, 'job_account_issue': False, 'age_limit': False, 'salary': False, 'work_experience': False, 'special_needs_at_work': False}, {'job_alerts': True, 'howto_apply': False, 'job_close_date': False, 'multiple_role': False, 'cv_past_experience': False, 'reinstate_application': False, 'application_status': False, 'feedback': False, 'assessment_timebox': False, 'assessment_link_problem': False, 'assessment_campatilibility': False, 'assessment_validity': False, 'disability': False, 'interview_reschedule': False, 'late_for_interview': False, 'interview_response_time': False, 'job_account_issue': False, 'age_limit': False, 'salary': False, 'work_experience': False, 'special_needs_at_work': False}, {'job_alerts': True, 'howto_apply': False, 'job_close_date': False, 'multiple_role': False, 'cv_past_experience': False, 'reinstate_application': False, 'application_status': False, 'feedback': False, 'assessment_timebox': False, 'assessment_link_problem': False, 'assessment_campatilibility': False, 'assessment_validity': False, 'disability': False, 'interview_reschedule': False, 'late_for_interview': False, 'interview_response_time': False, 'job_account_issue': False, 'age_limit': False, 'salary': False, 'work_experience': False, 'special_needs_at_work': False}, {'job_alerts': True, 'howto_apply': False, 'job_close_date': False, 'multiple_role': False, 'cv_past_experience': False, 'reinstate_application': False, 'application_status': False, 'feedback': False, 'assessment_timebox': False, 'assessment_link_problem': False, 'assessment_campatilibility': False, 'assessment_validity': False, 'disability': False, 'interview_reschedule': False, 'late_for_interview': False, 'interview_response_time': False, 'job_account_issue': False, 'age_limit': False, 'salary': False, 'work_experience': False, 'special_needs_at_work': False}, {'job_alerts': True, 'howto_apply': False, 'job_close_date': False, 'multiple_role': False, 'cv_past_experience': False, 'reinstate_application': False, 'application_status': False, 'feedback': False, 'assessment_timebox': False, 'assessment_link_problem': False, 'assessment_campatilibility': False, 'assessment_validity': False, 'disability': False, 'interview_reschedule': False, 'late_for_interview': False, 'interview_response_time': False, 'job_account_issue': False, 'age_limit': False, 'salary': False, 'work_experience': False, 'special_needs_at_work': False}, {'job_alerts': True, 'howto_apply': False, 'job_close_date': False, 'multiple_role': False, 'cv_past_experience': False, 'reinstate_application': False, 'application_status': False, 'feedback': False, 'assessment_timebox': False, 'assessment_link_problem': False, 'assessment_campatilibility': False, 'assessment_validity': False, 'disability': False, 'interview_reschedule': False, 'late_for_interview': False, 'interview_response_time': False, 'job_account_issue': False, 'age_limit': False, 'salary': False, 'work_experience': False, 'special_needs_at_work': False}, {'job_alerts': True, 'howto_apply': False, 'job_close_date': False, 'multiple_role': False, 'cv_past_experience': False, 'reinstate_application': False, 'application_status': False, 'feedback': False, 'assessment_timebox': False, 'assessment_link_problem': False, 'assessment_campatilibility': False, 'assessment_validity': False, 'disability': False, 'interview_reschedule': False, 'late_for_interview': False, 'interview_response_time': False, 'job_account_issue': False, 'age_limit': False, 'salary': False, 'work_experience': False, 'special_needs_at_work': False}, {'job_alerts': True, 'howto_apply': False, 'job_close_date': False, 'multiple_role': False, 'cv_past_experience': False, 'reinstate_application': False, 'application_status': False, 'feedback': False, 'assessment_timebox': False, 'assessment_link_problem': False, 'assessment_campatilibility': False, 'assessment_validity': False, 'disability': False, 'interview_reschedule': False, 'late_for_interview': False, 'interview_response_time': False, 'job_account_issue': False, 'age_limit': False, 'salary': False, 'work_experience': False, 'special_needs_at_work': False}, {'job_alerts': True, 'howto_apply': False, 'job_close_date': False, 'multiple_role': False, 'cv_past_experience': False, 'reinstate_application': False, 'application_status': False, 'feedback': False, 'assessment_timebox': False, 'assessment_link_problem': False, 'assessment_campatilibility': False, 'assessment_validity': False, 'disability': False, 'interview_reschedule': False, 'late_for_interview': False, 'interview_response_time': False, 'job_account_issue': False, 'age_limit': False, 'salary': False, 'work_experience': False, 'special_needs_at_work': False}, {'job_alerts': True, 'howto_apply': False, 'job_close_date': False, 'multiple_role': False, 'cv_past_experience': False, 'reinstate_application': False, 'application_status': False, 'feedback': False, 'assessment_timebox': False, 'assessment_link_problem': False, 'assessment_campatilibility': False, 'assessment_validity': False, 'disability': False, 'interview_reschedule': False, 'late_for_interview': False, 'interview_response_time': False, 'job_account_issue': False, 'age_limit': False, 'salary': False, 'work_experience': False, 'special_needs_at_work': False}, {'job_alerts': True, 'howto_apply': False, 'job_close_date': False, 'multiple_role': False, 'cv_past_experience': False, 'reinstate_application': False, 'application_status': False, 'feedback': False, 'assessment_timebox': False, 'assessment_link_problem': False, 'assessment_campatilibility': False, 'assessment_validity': False, 'disability': False, 'interview_reschedule': False, 'late_for_interview': False, 'interview_response_time': False, 'job_account_issue': False, 'age_limit': False, 'salary': False, 'work_experience': False, 'special_needs_at_work': False}, {'job_alerts': True, 'howto_apply': False, 'job_close_date': False, 'multiple_role': False, 'cv_past_experience': False, 'reinstate_application': False, 'application_status': False, 'feedback': False, 'assessment_timebox': False, 'assessment_link_problem': False, 'assessment_campatilibility': False, 'assessment_validity': False, 'disability': False, 'interview_reschedule': False, 'late_for_interview': False, 'interview_response_time': False, 'job_account_issue': False, 'age_limit': False, 'salary': False, 'work_experience': False, 'special_needs_at_work': False}, {'job_alerts': True, 'howto_apply': False, 'job_close_date': False, 'multiple_role': False, 'cv_past_experience': False, 'reinstate_application': False, 'application_status': False, 'feedback': False, 'assessment_timebox': False, 'assessment_link_problem': False, 'assessment_campatilibility': False, 'assessment_validity': False, 'disability': False, 'interview_reschedule': False, 'late_for_interview': False, 'interview_response_time': False, 'job_account_issue': False, 'age_limit': False, 'salary': False, 'work_experience': False, 'special_needs_at_work': False}, {'job_alerts': True, 'howto_apply': False, 'job_close_date': False, 'multiple_role': False, 'cv_past_experience': False, 'reinstate_application': False, 'application_status': False, 'feedback': False, 'assessment_timebox': False, 'assessment_link_problem': False, 'assessment_campatilibility': False, 'assessment_validity': False, 'disability': False, 'interview_reschedule': False, 'late_for_interview': False, 'interview_response_time': False, 'job_account_issue': False, 'age_limit': False, 'salary': False, 'work_experience': False, 'special_needs_at_work': False}, {'job_alerts': True, 'howto_apply': False, 'job_close_date': False, 'multiple_role': False, 'cv_past_experience': False, 'reinstate_application': False, 'application_status': False, 'feedback': False, 'assessment_timebox': False, 'assessment_link_problem': False, 'assessment_campatilibility': False, 'assessment_validity': False, 'disability': False, 'interview_reschedule': False, 'late_for_interview': False, 'interview_response_time': False, 'job_account_issue': False, 'age_limit': False, 'salary': False, 'work_experience': False, 'special_needs_at_work': False}, {'job_alerts': True, 'howto_apply': False, 'job_close_date': False, 'multiple_role': False, 'cv_past_experience': False, 'reinstate_application': False, 'application_status': False, 'feedback': False, 'assessment_timebox': False, 'assessment_link_problem': False, 'assessment_campatilibility': False, 'assessment_validity': False, 'disability': False, 'interview_reschedule': False, 'late_for_interview': False, 'interview_response_time': False, 'job_account_issue': False, 'age_limit': False, 'salary': False, 'work_experience': False, 'special_needs_at_work': False}, {'job_alerts': True, 'howto_apply': False, 'job_close_date': False, 'multiple_role': False, 'cv_past_experience': False, 'reinstate_application': False, 'application_status': False, 'feedback': False, 'assessment_timebox': False, 'assessment_link_problem': False, 'assessment_campatilibility': False, 'assessment_validity': False, 'disability': False, 'interview_reschedule': False, 'late_for_interview': False, 'interview_response_time': False, 'job_account_issue': False, 'age_limit': False, 'salary': False, 'work_experience': False, 'special_needs_at_work': False}, {'job_alerts': True, 'howto_apply': False, 'job_close_date': False, 'multiple_role': False, 'cv_past_experience': False, 'reinstate_application': False, 'application_status': False, 'feedback': False, 'assessment_timebox': False, 'assessment_link_problem': False, 'assessment_campatilibility': False, 'assessment_validity': False, 'disability': False, 'interview_reschedule': False, 'late_for_interview': False, 'interview_response_time': False, 'job_account_issue': False, 'age_limit': False, 'salary': False, 'work_experience': False, 'special_needs_at_work': False}, {'job_alerts': True, 'howto_apply': False, 'job_close_date': False, 'multiple_role': False, 'cv_past_experience': False, 'reinstate_application': False, 'application_status': False, 'feedback': False, 'assessment_timebox': False, 'assessment_link_problem': False, 'assessment_campatilibility': False, 'assessment_validity': False, 'disability': False, 'interview_reschedule': False, 'late_for_interview': False, 'interview_response_time': False, 'job_account_issue': False, 'age_limit': False, 'salary': False, 'work_experience': False, 'special_needs_at_work': False}, {'job_alerts': True, 'howto_apply': False, 'job_close_date': False, 'multiple_role': False, 'cv_past_experience': False, 'reinstate_application': False, 'application_status': False, 'feedback': False, 'assessment_timebox': False, 'assessment_link_problem': False, 'assessment_campatilibility': False, 'assessment_validity': False, 'disability': False, 'interview_reschedule': False, 'late_for_interview': False, 'interview_response_time': False, 'job_account_issue': False, 'age_limit': False, 'salary': False, 'work_experience': False, 'special_needs_at_work': False}, {'job_alerts': True, 'howto_apply': False, 'job_close_date': False, 'multiple_role': False, 'cv_past_experience': False, 'reinstate_application': False, 'application_status': False, 'feedback': False, 'assessment_timebox': False, 'assessment_link_problem': False, 'assessment_campatilibility': False, 'assessment_validity': False, 'disability': False, 'interview_reschedule': False, 'late_for_interview': False, 'interview_response_time': False, 'job_account_issue': False, 'age_limit': False, 'salary': False, 'work_experience': False, 'special_needs_at_work': False}, {'job_alerts': True, 'howto_apply': False, 'job_close_date': False, 'multiple_role': False, 'cv_past_experience': False, 'reinstate_application': False, 'application_status': False, 'feedback': False, 'assessment_timebox': False, 'assessment_link_problem': False, 'assessment_campatilibility': False, 'assessment_validity': False, 'disability': False, 'interview_reschedule': False, 'late_for_interview': False, 'interview_response_time': False, 'job_account_issue': False, 'age_limit': False, 'salary': False, 'work_experience': False, 'special_needs_at_work': False}, {'job_alerts': True, 'howto_apply': False, 'job_close_date': False, 'multiple_role': False, 'cv_past_experience': False, 'reinstate_application': False, 'application_status': False, 'feedback': False, 'assessment_timebox': False, 'assessment_link_problem': False, 'assessment_campatilibility': False, 'assessment_validity': False, 'disability': False, 'interview_reschedule': False, 'late_for_interview': False, 'interview_response_time': False, 'job_account_issue': False, 'age_limit': False, 'salary': False, 'work_experience': False, 'special_needs_at_work': False}, {'job_alerts': True, 'howto_apply': False, 'job_close_date': False, 'multiple_role': False, 'cv_past_experience': False, 'reinstate_application': False, 'application_status': False, 'feedback': False, 'assessment_timebox': False, 'assessment_link_problem': False, 'assessment_campatilibility': False, 'assessment_validity': False, 'disability': False, 'interview_reschedule': False, 'late_for_interview': False, 'interview_response_time': False, 'job_account_issue': False, 'age_limit': False, 'salary': False, 'work_experience': False, 'special_needs_at_work': False}, {'job_alerts': True, 'howto_apply': False, 'job_close_date': False, 'multiple_role': False, 'cv_past_experience': False, 'reinstate_application': False, 'application_status': False, 'feedback': False, 'assessment_timebox': False, 'assessment_link_problem': False, 'assessment_campatilibility': False, 'assessment_validity': False, 'disability': False, 'interview_reschedule': False, 'late_for_interview': False, 'interview_response_time': False, 'job_account_issue': False, 'age_limit': False, 'salary': False, 'work_experience': False, 'special_needs_at_work': False}, {'job_alerts': True, 'howto_apply': False, 'job_close_date': False, 'multiple_role': False, 'cv_past_experience': False, 'reinstate_application': False, 'application_status': False, 'feedback': False, 'assessment_timebox': False, 'assessment_link_problem': False, 'assessment_campatilibility': False, 'assessment_validity': False, 'disability': False, 'interview_reschedule': False, 'late_for_interview': False, 'interview_response_time': False, 'job_account_issue': False, 'age_limit': False, 'salary': False, 'work_experience': False, 'special_needs_at_work': False}, {'job_alerts': True, 'howto_apply': False, 'job_close_date': False, 'multiple_role': False, 'cv_past_experience': False, 'reinstate_application': False, 'application_status': False, 'feedback': False, 'assessment_timebox': False, 'assessment_link_problem': False, 'assessment_campatilibility': False, 'assessment_validity': False, 'disability': False, 'interview_reschedule': False, 'late_for_interview': False, 'interview_response_time': False, 'job_account_issue': False, 'age_limit': False, 'salary': False, 'work_experience': False, 'special_needs_at_work': False}, {'job_alerts': True, 'howto_apply': False, 'job_close_date': False, 'multiple_role': False, 'cv_past_experience': False, 'reinstate_application': False, 'application_status': False, 'feedback': False, 'assessment_timebox': False, 'assessment_link_problem': False, 'assessment_campatilibility': False, 'assessment_validity': False, 'disability': False, 'interview_reschedule': False, 'late_for_interview': False, 'interview_response_time': False, 'job_account_issue': False, 'age_limit': False, 'salary': False, 'work_experience': False, 'special_needs_at_work': False}, {'job_alerts': True, 'howto_apply': False, 'job_close_date': False, 'multiple_role': False, 'cv_past_experience': False, 'reinstate_application': False, 'application_status': False, 'feedback': False, 'assessment_timebox': False, 'assessment_link_problem': False, 'assessment_campatilibility': False, 'assessment_validity': False, 'disability': False, 'interview_reschedule': False, 'late_for_interview': False, 'interview_response_time': False, 'job_account_issue': False, 'age_limit': False, 'salary': False, 'work_experience': False, 'special_needs_at_work': False}, {'job_alerts': True, 'howto_apply': False, 'job_close_date': False, 'multiple_role': False, 'cv_past_experience': False, 'reinstate_application': False, 'application_status': False, 'feedback': False, 'assessment_timebox': False, 'assessment_link_problem': False, 'assessment_campatilibility': False, 'assessment_validity': False, 'disability': False, 'interview_reschedule': False, 'late_for_interview': False, 'interview_response_time': False, 'job_account_issue': False, 'age_limit': False, 'salary': False, 'work_experience': False, 'special_needs_at_work': False}, {'job_alerts': True, 'howto_apply': False, 'job_close_date': False, 'multiple_role': False, 'cv_past_experience': False, 'reinstate_application': False, 'application_status': False, 'feedback': False, 'assessment_timebox': False, 'assessment_link_problem': False, 'assessment_campatilibility': False, 'assessment_validity': False, 'disability': False, 'interview_reschedule': False, 'late_for_interview': False, 'interview_response_time': False, 'job_account_issue': False, 'age_limit': False, 'salary': False, 'work_experience': False, 'special_needs_at_work': False}, {'job_alerts': True, 'howto_apply': False, 'job_close_date': False, 'multiple_role': False, 'cv_past_experience': False, 'reinstate_application': False, 'application_status': False, 'feedback': False, 'assessment_timebox': False, 'assessment_link_problem': False, 'assessment_campatilibility': False, 'assessment_validity': False, 'disability': False, 'interview_reschedule': False, 'late_for_interview': False, 'interview_response_time': False, 'job_account_issue': False, 'age_limit': False, 'salary': False, 'work_experience': False, 'special_needs_at_work': False}, {'job_alerts': True, 'howto_apply': False, 'job_close_date': False, 'multiple_role': False, 'cv_past_experience': False, 'reinstate_application': False, 'application_status': False, 'feedback': False, 'assessment_timebox': False, 'assessment_link_problem': False, 'assessment_campatilibility': False, 'assessment_validity': False, 'disability': False, 'interview_reschedule': False, 'late_for_interview': False, 'interview_response_time': False, 'job_account_issue': False, 'age_limit': False, 'salary': False, 'work_experience': False, 'special_needs_at_work': False}, {'job_alerts': True, 'howto_apply': False, 'job_close_date': False, 'multiple_role': False, 'cv_past_experience': False, 'reinstate_application': False, 'application_status': False, 'feedback': False, 'assessment_timebox': False, 'assessment_link_problem': False, 'assessment_campatilibility': False, 'assessment_validity': False, 'disability': False, 'interview_reschedule': False, 'late_for_interview': False, 'interview_response_time': False, 'job_account_issue': False, 'age_limit': False, 'salary': False, 'work_experience': False, 'special_needs_at_work': False}, {'job_alerts': False, 'howto_apply': True, 'job_close_date': False, 'multiple_role': False, 'cv_past_experience': False, 'reinstate_application': False, 'application_status': False, 'feedback': False, 'assessment_timebox': False, 'assessment_link_problem': False, 'assessment_campatilibility': False, 'assessment_validity': False, 'disability': False, 'interview_reschedule': False, 'late_for_interview': False, 'interview_response_time': False, 'job_account_issue': False, 'age_limit': False, 'salary': False, 'work_experience': False, 'special_needs_at_work': False}, {'job_alerts': False, 'howto_apply': True, 'job_close_date': False, 'multiple_role': False, 'cv_past_experience': False, 'reinstate_application': False, 'application_status': False, 'feedback': False, 'assessment_timebox': False, 'assessment_link_problem': False, 'assessment_campatilibility': False, 'assessment_validity': False, 'disability': False, 'interview_reschedule': False, 'late_for_interview': False, 'interview_response_time': False, 'job_account_issue': False, 'age_limit': False, 'salary': False, 'work_experience': False, 'special_needs_at_work': False}, {'job_alerts': False, 'howto_apply': True, 'job_close_date': False, 'multiple_role': False, 'cv_past_experience': False, 'reinstate_application': False, 'application_status': False, 'feedback': False, 'assessment_timebox': False, 'assessment_link_problem': False, 'assessment_campatilibility': False, 'assessment_validity': False, 'disability': False, 'interview_reschedule': False, 'late_for_interview': False, 'interview_response_time': False, 'job_account_issue': False, 'age_limit': False, 'salary': False, 'work_experience': False, 'special_needs_at_work': False}, {'job_alerts': False, 'howto_apply': True, 'job_close_date': False, 'multiple_role': False, 'cv_past_experience': False, 'reinstate_application': False, 'application_status': False, 'feedback': False, 'assessment_timebox': False, 'assessment_link_problem': False, 'assessment_campatilibility': False, 'assessment_validity': False, 'disability': False, 'interview_reschedule': False, 'late_for_interview': False, 'interview_response_time': False, 'job_account_issue': False, 'age_limit': False, 'salary': False, 'work_experience': False, 'special_needs_at_work': False}, {'job_alerts': False, 'howto_apply': True, 'job_close_date': False, 'multiple_role': False, 'cv_past_experience': False, 'reinstate_application': False, 'application_status': False, 'feedback': False, 'assessment_timebox': False, 'assessment_link_problem': False, 'assessment_campatilibility': False, 'assessment_validity': False, 'disability': False, 'interview_reschedule': False, 'late_for_interview': False, 'interview_response_time': False, 'job_account_issue': False, 'age_limit': False, 'salary': False, 'work_experience': False, 'special_needs_at_work': False}, {'job_alerts': False, 'howto_apply': True, 'job_close_date': False, 'multiple_role': False, 'cv_past_experience': False, 'reinstate_application': False, 'application_status': False, 'feedback': False, 'assessment_timebox': False, 'assessment_link_problem': False, 'assessment_campatilibility': False, 'assessment_validity': False, 'disability': False, 'interview_reschedule': False, 'late_for_interview': False, 'interview_response_time': False, 'job_account_issue': False, 'age_limit': False, 'salary': False, 'work_experience': False, 'special_needs_at_work': False}, {'job_alerts': False, 'howto_apply': True, 'job_close_date': False, 'multiple_role': False, 'cv_past_experience': False, 'reinstate_application': False, 'application_status': False, 'feedback': False, 'assessment_timebox': False, 'assessment_link_problem': False, 'assessment_campatilibility': False, 'assessment_validity': False, 'disability': False, 'interview_reschedule': False, 'late_for_interview': False, 'interview_response_time': False, 'job_account_issue': False, 'age_limit': False, 'salary': False, 'work_experience': False, 'special_needs_at_work': False}, {'job_alerts': False, 'howto_apply': True, 'job_close_date': False, 'multiple_role': False, 'cv_past_experience': False, 'reinstate_application': False, 'application_status': False, 'feedback': False, 'assessment_timebox': False, 'assessment_link_problem': False, 'assessment_campatilibility': False, 'assessment_validity': False, 'disability': False, 'interview_reschedule': False, 'late_for_interview': False, 'interview_response_time': False, 'job_account_issue': False, 'age_limit': False, 'salary': False, 'work_experience': False, 'special_needs_at_work': False}, {'job_alerts': False, 'howto_apply': True, 'job_close_date': False, 'multiple_role': False, 'cv_past_experience': False, 'reinstate_application': False, 'application_status': False, 'feedback': False, 'assessment_timebox': False, 'assessment_link_problem': False, 'assessment_campatilibility': False, 'assessment_validity': False, 'disability': False, 'interview_reschedule': False, 'late_for_interview': False, 'interview_response_time': False, 'job_account_issue': False, 'age_limit': False, 'salary': False, 'work_experience': False, 'special_needs_at_work': False}, {'job_alerts': False, 'howto_apply': True, 'job_close_date': False, 'multiple_role': False, 'cv_past_experience': False, 'reinstate_application': False, 'application_status': False, 'feedback': False, 'assessment_timebox': False, 'assessment_link_problem': False, 'assessment_campatilibility': False, 'assessment_validity': False, 'disability': False, 'interview_reschedule': False, 'late_for_interview': False, 'interview_response_time': False, 'job_account_issue': False, 'age_limit': False, 'salary': False, 'work_experience': False, 'special_needs_at_work': False}, {'job_alerts': False, 'howto_apply': True, 'job_close_date': False, 'multiple_role': False, 'cv_past_experience': False, 'reinstate_application': False, 'application_status': False, 'feedback': False, 'assessment_timebox': False, 'assessment_link_problem': False, 'assessment_campatilibility': False, 'assessment_validity': False, 'disability': False, 'interview_reschedule': False, 'late_for_interview': False, 'interview_response_time': False, 'job_account_issue': False, 'age_limit': False, 'salary': False, 'work_experience': False, 'special_needs_at_work': False}, {'job_alerts': False, 'howto_apply': True, 'job_close_date': False, 'multiple_role': False, 'cv_past_experience': False, 'reinstate_application': False, 'application_status': False, 'feedback': False, 'assessment_timebox': False, 'assessment_link_problem': False, 'assessment_campatilibility': False, 'assessment_validity': False, 'disability': False, 'interview_reschedule': False, 'late_for_interview': False, 'interview_response_time': False, 'job_account_issue': False, 'age_limit': False, 'salary': False, 'work_experience': False, 'special_needs_at_work': False}, {'job_alerts': False, 'howto_apply': True, 'job_close_date': False, 'multiple_role': False, 'cv_past_experience': False, 'reinstate_application': False, 'application_status': False, 'feedback': False, 'assessment_timebox': False, 'assessment_link_problem': False, 'assessment_campatilibility': False, 'assessment_validity': False, 'disability': False, 'interview_reschedule': False, 'late_for_interview': False, 'interview_response_time': False, 'job_account_issue': False, 'age_limit': False, 'salary': False, 'work_experience': False, 'special_needs_at_work': False}, {'job_alerts': False, 'howto_apply': True, 'job_close_date': False, 'multiple_role': False, 'cv_past_experience': False, 'reinstate_application': False, 'application_status': False, 'feedback': False, 'assessment_timebox': False, 'assessment_link_problem': False, 'assessment_campatilibility': False, 'assessment_validity': False, 'disability': False, 'interview_reschedule': False, 'late_for_interview': False, 'interview_response_time': False, 'job_account_issue': False, 'age_limit': False, 'salary': False, 'work_experience': False, 'special_needs_at_work': False}, {'job_alerts': False, 'howto_apply': True, 'job_close_date': False, 'multiple_role': False, 'cv_past_experience': False, 'reinstate_application': False, 'application_status': False, 'feedback': False, 'assessment_timebox': False, 'assessment_link_problem': False, 'assessment_campatilibility': False, 'assessment_validity': False, 'disability': False, 'interview_reschedule': False, 'late_for_interview': False, 'interview_response_time': False, 'job_account_issue': False, 'age_limit': False, 'salary': False, 'work_experience': False, 'special_needs_at_work': False}, {'job_alerts': False, 'howto_apply': True, 'job_close_date': False, 'multiple_role': False, 'cv_past_experience': False, 'reinstate_application': False, 'application_status': False, 'feedback': False, 'assessment_timebox': False, 'assessment_link_problem': False, 'assessment_campatilibility': False, 'assessment_validity': False, 'disability': False, 'interview_reschedule': False, 'late_for_interview': False, 'interview_response_time': False, 'job_account_issue': False, 'age_limit': False, 'salary': False, 'work_experience': False, 'special_needs_at_work': False}, {'job_alerts': False, 'howto_apply': True, 'job_close_date': False, 'multiple_role': False, 'cv_past_experience': False, 'reinstate_application': False, 'application_status': False, 'feedback': False, 'assessment_timebox': False, 'assessment_link_problem': False, 'assessment_campatilibility': False, 'assessment_validity': False, 'disability': False, 'interview_reschedule': False, 'late_for_interview': False, 'interview_response_time': False, 'job_account_issue': False, 'age_limit': False, 'salary': False, 'work_experience': False, 'special_needs_at_work': False}, {'job_alerts': False, 'howto_apply': True, 'job_close_date': False, 'multiple_role': False, 'cv_past_experience': False, 'reinstate_application': False, 'application_status': False, 'feedback': False, 'assessment_timebox': False, 'assessment_link_problem': False, 'assessment_campatilibility': False, 'assessment_validity': False, 'disability': False, 'interview_reschedule': False, 'late_for_interview': False, 'interview_response_time': False, 'job_account_issue': False, 'age_limit': False, 'salary': False, 'work_experience': False, 'special_needs_at_work': False}, {'job_alerts': False, 'howto_apply': True, 'job_close_date': False, 'multiple_role': False, 'cv_past_experience': False, 'reinstate_application': False, 'application_status': False, 'feedback': False, 'assessment_timebox': False, 'assessment_link_problem': False, 'assessment_campatilibility': False, 'assessment_validity': False, 'disability': False, 'interview_reschedule': False, 'late_for_interview': False, 'interview_response_time': False, 'job_account_issue': False, 'age_limit': False, 'salary': False, 'work_experience': False, 'special_needs_at_work': False}, {'job_alerts': False, 'howto_apply': True, 'job_close_date': False, 'multiple_role': False, 'cv_past_experience': False, 'reinstate_application': False, 'application_status': False, 'feedback': False, 'assessment_timebox': False, 'assessment_link_problem': False, 'assessment_campatilibility': False, 'assessment_validity': False, 'disability': False, 'interview_reschedule': False, 'late_for_interview': False, 'interview_response_time': False, 'job_account_issue': False, 'age_limit': False, 'salary': False, 'work_experience': False, 'special_needs_at_work': False}, {'job_alerts': False, 'howto_apply': True, 'job_close_date': False, 'multiple_role': False, 'cv_past_experience': False, 'reinstate_application': False, 'application_status': False, 'feedback': False, 'assessment_timebox': False, 'assessment_link_problem': False, 'assessment_campatilibility': False, 'assessment_validity': False, 'disability': False, 'interview_reschedule': False, 'late_for_interview': False, 'interview_response_time': False, 'job_account_issue': False, 'age_limit': False, 'salary': False, 'work_experience': False, 'special_needs_at_work': False}, {'job_alerts': False, 'howto_apply': True, 'job_close_date': False, 'multiple_role': False, 'cv_past_experience': False, 'reinstate_application': False, 'application_status': False, 'feedback': False, 'assessment_timebox': False, 'assessment_link_problem': False, 'assessment_campatilibility': False, 'assessment_validity': False, 'disability': False, 'interview_reschedule': False, 'late_for_interview': False, 'interview_response_time': False, 'job_account_issue': False, 'age_limit': False, 'salary': False, 'work_experience': False, 'special_needs_at_work': False}, {'job_alerts': False, 'howto_apply': True, 'job_close_date': False, 'multiple_role': False, 'cv_past_experience': False, 'reinstate_application': False, 'application_status': False, 'feedback': False, 'assessment_timebox': False, 'assessment_link_problem': False, 'assessment_campatilibility': False, 'assessment_validity': False, 'disability': False, 'interview_reschedule': False, 'late_for_interview': False, 'interview_response_time': False, 'job_account_issue': False, 'age_limit': False, 'salary': False, 'work_experience': False, 'special_needs_at_work': False}, {'job_alerts': False, 'howto_apply': True, 'job_close_date': False, 'multiple_role': False, 'cv_past_experience': False, 'reinstate_application': False, 'application_status': False, 'feedback': False, 'assessment_timebox': False, 'assessment_link_problem': False, 'assessment_campatilibility': False, 'assessment_validity': False, 'disability': False, 'interview_reschedule': False, 'late_for_interview': False, 'interview_response_time': False, 'job_account_issue': False, 'age_limit': False, 'salary': False, 'work_experience': False, 'special_needs_at_work': False}, {'job_alerts': False, 'howto_apply': True, 'job_close_date': False, 'multiple_role': False, 'cv_past_experience': False, 'reinstate_application': False, 'application_status': False, 'feedback': False, 'assessment_timebox': False, 'assessment_link_problem': False, 'assessment_campatilibility': False, 'assessment_validity': False, 'disability': False, 'interview_reschedule': False, 'late_for_interview': False, 'interview_response_time': False, 'job_account_issue': False, 'age_limit': False, 'salary': False, 'work_experience': False, 'special_needs_at_work': False}, {'job_alerts': False, 'howto_apply': True, 'job_close_date': False, 'multiple_role': False, 'cv_past_experience': False, 'reinstate_application': False, 'application_status': False, 'feedback': False, 'assessment_timebox': False, 'assessment_link_problem': False, 'assessment_campatilibility': False, 'assessment_validity': False, 'disability': False, 'interview_reschedule': False, 'late_for_interview': False, 'interview_response_time': False, 'job_account_issue': False, 'age_limit': False, 'salary': False, 'work_experience': False, 'special_needs_at_work': False}, {'job_alerts': False, 'howto_apply': True, 'job_close_date': False, 'multiple_role': False, 'cv_past_experience': False, 'reinstate_application': False, 'application_status': False, 'feedback': False, 'assessment_timebox': False, 'assessment_link_problem': False, 'assessment_campatilibility': False, 'assessment_validity': False, 'disability': False, 'interview_reschedule': False, 'late_for_interview': False, 'interview_response_time': False, 'job_account_issue': False, 'age_limit': False, 'salary': False, 'work_experience': False, 'special_needs_at_work': False}, {'job_alerts': False, 'howto_apply': True, 'job_close_date': False, 'multiple_role': False, 'cv_past_experience': False, 'reinstate_application': False, 'application_status': False, 'feedback': False, 'assessment_timebox': False, 'assessment_link_problem': False, 'assessment_campatilibility': False, 'assessment_validity': False, 'disability': False, 'interview_reschedule': False, 'late_for_interview': False, 'interview_response_time': False, 'job_account_issue': False, 'age_limit': False, 'salary': False, 'work_experience': False, 'special_needs_at_work': False}, {'job_alerts': False, 'howto_apply': True, 'job_close_date': False, 'multiple_role': False, 'cv_past_experience': False, 'reinstate_application': False, 'application_status': False, 'feedback': False, 'assessment_timebox': False, 'assessment_link_problem': False, 'assessment_campatilibility': False, 'assessment_validity': False, 'disability': False, 'interview_reschedule': False, 'late_for_interview': False, 'interview_response_time': False, 'job_account_issue': False, 'age_limit': False, 'salary': False, 'work_experience': False, 'special_needs_at_work': False}, {'job_alerts': False, 'howto_apply': True, 'job_close_date': False, 'multiple_role': False, 'cv_past_experience': False, 'reinstate_application': False, 'application_status': False, 'feedback': False, 'assessment_timebox': False, 'assessment_link_problem': False, 'assessment_campatilibility': False, 'assessment_validity': False, 'disability': False, 'interview_reschedule': False, 'late_for_interview': False, 'interview_response_time': False, 'job_account_issue': False, 'age_limit': False, 'salary': False, 'work_experience': False, 'special_needs_at_work': False}, {'job_alerts': False, 'howto_apply': True, 'job_close_date': False, 'multiple_role': False, 'cv_past_experience': False, 'reinstate_application': False, 'application_status': False, 'feedback': False, 'assessment_timebox': False, 'assessment_link_problem': False, 'assessment_campatilibility': False, 'assessment_validity': False, 'disability': False, 'interview_reschedule': False, 'late_for_interview': False, 'interview_response_time': False, 'job_account_issue': False, 'age_limit': False, 'salary': False, 'work_experience': False, 'special_needs_at_work': False}, {'job_alerts': False, 'howto_apply': True, 'job_close_date': False, 'multiple_role': False, 'cv_past_experience': False, 'reinstate_application': False, 'application_status': False, 'feedback': False, 'assessment_timebox': False, 'assessment_link_problem': False, 'assessment_campatilibility': False, 'assessment_validity': False, 'disability': False, 'interview_reschedule': False, 'late_for_interview': False, 'interview_response_time': False, 'job_account_issue': False, 'age_limit': False, 'salary': False, 'work_experience': False, 'special_needs_at_work': False}, {'job_alerts': False, 'howto_apply': True, 'job_close_date': False, 'multiple_role': False, 'cv_past_experience': False, 'reinstate_application': False, 'application_status': False, 'feedback': False, 'assessment_timebox': False, 'assessment_link_problem': False, 'assessment_campatilibility': False, 'assessment_validity': False, 'disability': False, 'interview_reschedule': False, 'late_for_interview': False, 'interview_response_time': False, 'job_account_issue': False, 'age_limit': False, 'salary': False, 'work_experience': False, 'special_needs_at_work': False}, {'job_alerts': False, 'howto_apply': True, 'job_close_date': False, 'multiple_role': False, 'cv_past_experience': False, 'reinstate_application': False, 'application_status': False, 'feedback': False, 'assessment_timebox': False, 'assessment_link_problem': False, 'assessment_campatilibility': False, 'assessment_validity': False, 'disability': False, 'interview_reschedule': False, 'late_for_interview': False, 'interview_response_time': False, 'job_account_issue': False, 'age_limit': False, 'salary': False, 'work_experience': False, 'special_needs_at_work': False}, {'job_alerts': False, 'howto_apply': True, 'job_close_date': False, 'multiple_role': False, 'cv_past_experience': False, 'reinstate_application': False, 'application_status': False, 'feedback': False, 'assessment_timebox': False, 'assessment_link_problem': False, 'assessment_campatilibility': False, 'assessment_validity': False, 'disability': False, 'interview_reschedule': False, 'late_for_interview': False, 'interview_response_time': False, 'job_account_issue': False, 'age_limit': False, 'salary': False, 'work_experience': False, 'special_needs_at_work': False}, {'job_alerts': False, 'howto_apply': True, 'job_close_date': False, 'multiple_role': False, 'cv_past_experience': False, 'reinstate_application': False, 'application_status': False, 'feedback': False, 'assessment_timebox': False, 'assessment_link_problem': False, 'assessment_campatilibility': False, 'assessment_validity': False, 'disability': False, 'interview_reschedule': False, 'late_for_interview': False, 'interview_response_time': False, 'job_account_issue': False, 'age_limit': False, 'salary': False, 'work_experience': False, 'special_needs_at_work': False}, {'job_alerts': False, 'howto_apply': True, 'job_close_date': False, 'multiple_role': False, 'cv_past_experience': False, 'reinstate_application': False, 'application_status': False, 'feedback': False, 'assessment_timebox': False, 'assessment_link_problem': False, 'assessment_campatilibility': False, 'assessment_validity': False, 'disability': False, 'interview_reschedule': False, 'late_for_interview': False, 'interview_response_time': False, 'job_account_issue': False, 'age_limit': False, 'salary': False, 'work_experience': False, 'special_needs_at_work': False}, {'job_alerts': False, 'howto_apply': True, 'job_close_date': False, 'multiple_role': False, 'cv_past_experience': False, 'reinstate_application': False, 'application_status': False, 'feedback': False, 'assessment_timebox': False, 'assessment_link_problem': False, 'assessment_campatilibility': False, 'assessment_validity': False, 'disability': False, 'interview_reschedule': False, 'late_for_interview': False, 'interview_response_time': False, 'job_account_issue': False, 'age_limit': False, 'salary': False, 'work_experience': False, 'special_needs_at_work': False}, {'job_alerts': False, 'howto_apply': True, 'job_close_date': False, 'multiple_role': False, 'cv_past_experience': False, 'reinstate_application': False, 'application_status': False, 'feedback': False, 'assessment_timebox': False, 'assessment_link_problem': False, 'assessment_campatilibility': False, 'assessment_validity': False, 'disability': False, 'interview_reschedule': False, 'late_for_interview': False, 'interview_response_time': False, 'job_account_issue': False, 'age_limit': False, 'salary': False, 'work_experience': False, 'special_needs_at_work': False}, {'job_alerts': False, 'howto_apply': True, 'job_close_date': False, 'multiple_role': False, 'cv_past_experience': False, 'reinstate_application': False, 'application_status': False, 'feedback': False, 'assessment_timebox': False, 'assessment_link_problem': False, 'assessment_campatilibility': False, 'assessment_validity': False, 'disability': False, 'interview_reschedule': False, 'late_for_interview': False, 'interview_response_time': False, 'job_account_issue': False, 'age_limit': False, 'salary': False, 'work_experience': False, 'special_needs_at_work': False}, {'job_alerts': False, 'howto_apply': False, 'job_close_date': True, 'multiple_role': False, 'cv_past_experience': False, 'reinstate_application': False, 'application_status': False, 'feedback': False, 'assessment_timebox': False, 'assessment_link_problem': False, 'assessment_campatilibility': False, 'assessment_validity': False, 'disability': False, 'interview_reschedule': False, 'late_for_interview': False, 'interview_response_time': False, 'job_account_issue': False, 'age_limit': False, 'salary': False, 'work_experience': False, 'special_needs_at_work': False}, {'job_alerts': False, 'howto_apply': False, 'job_close_date': True, 'multiple_role': False, 'cv_past_experience': False, 'reinstate_application': False, 'application_status': False, 'feedback': False, 'assessment_timebox': False, 'assessment_link_problem': False, 'assessment_campatilibility': False, 'assessment_validity': False, 'disability': False, 'interview_reschedule': False, 'late_for_interview': False, 'interview_response_time': False, 'job_account_issue': False, 'age_limit': False, 'salary': False, 'work_experience': False, 'special_needs_at_work': False}, {'job_alerts': False, 'howto_apply': False, 'job_close_date': True, 'multiple_role': False, 'cv_past_experience': False, 'reinstate_application': False, 'application_status': False, 'feedback': False, 'assessment_timebox': False, 'assessment_link_problem': False, 'assessment_campatilibility': False, 'assessment_validity': False, 'disability': False, 'interview_reschedule': False, 'late_for_interview': False, 'interview_response_time': False, 'job_account_issue': False, 'age_limit': False, 'salary': False, 'work_experience': False, 'special_needs_at_work': False}, {'job_alerts': False, 'howto_apply': False, 'job_close_date': True, 'multiple_role': False, 'cv_past_experience': False, 'reinstate_application': False, 'application_status': False, 'feedback': False, 'assessment_timebox': False, 'assessment_link_problem': False, 'assessment_campatilibility': False, 'assessment_validity': False, 'disability': False, 'interview_reschedule': False, 'late_for_interview': False, 'interview_response_time': False, 'job_account_issue': False, 'age_limit': False, 'salary': False, 'work_experience': False, 'special_needs_at_work': False}, {'job_alerts': False, 'howto_apply': False, 'job_close_date': True, 'multiple_role': False, 'cv_past_experience': False, 'reinstate_application': False, 'application_status': False, 'feedback': False, 'assessment_timebox': False, 'assessment_link_problem': False, 'assessment_campatilibility': False, 'assessment_validity': False, 'disability': False, 'interview_reschedule': False, 'late_for_interview': False, 'interview_response_time': False, 'job_account_issue': False, 'age_limit': False, 'salary': False, 'work_experience': False, 'special_needs_at_work': False}, {'job_alerts': False, 'howto_apply': False, 'job_close_date': True, 'multiple_role': False, 'cv_past_experience': False, 'reinstate_application': False, 'application_status': False, 'feedback': False, 'assessment_timebox': False, 'assessment_link_problem': False, 'assessment_campatilibility': False, 'assessment_validity': False, 'disability': False, 'interview_reschedule': False, 'late_for_interview': False, 'interview_response_time': False, 'job_account_issue': False, 'age_limit': False, 'salary': False, 'work_experience': False, 'special_needs_at_work': False}, {'job_alerts': False, 'howto_apply': False, 'job_close_date': True, 'multiple_role': False, 'cv_past_experience': False, 'reinstate_application': False, 'application_status': False, 'feedback': False, 'assessment_timebox': False, 'assessment_link_problem': False, 'assessment_campatilibility': False, 'assessment_validity': False, 'disability': False, 'interview_reschedule': False, 'late_for_interview': False, 'interview_response_time': False, 'job_account_issue': False, 'age_limit': False, 'salary': False, 'work_experience': False, 'special_needs_at_work': False}, {'job_alerts': False, 'howto_apply': False, 'job_close_date': True, 'multiple_role': False, 'cv_past_experience': False, 'reinstate_application': False, 'application_status': False, 'feedback': False, 'assessment_timebox': False, 'assessment_link_problem': False, 'assessment_campatilibility': False, 'assessment_validity': False, 'disability': False, 'interview_reschedule': False, 'late_for_interview': False, 'interview_response_time': False, 'job_account_issue': False, 'age_limit': False, 'salary': False, 'work_experience': False, 'special_needs_at_work': False}, {'job_alerts': False, 'howto_apply': False, 'job_close_date': True, 'multiple_role': False, 'cv_past_experience': False, 'reinstate_application': False, 'application_status': False, 'feedback': False, 'assessment_timebox': False, 'assessment_link_problem': False, 'assessment_campatilibility': False, 'assessment_validity': False, 'disability': False, 'interview_reschedule': False, 'late_for_interview': False, 'interview_response_time': False, 'job_account_issue': False, 'age_limit': False, 'salary': False, 'work_experience': False, 'special_needs_at_work': False}, {'job_alerts': False, 'howto_apply': False, 'job_close_date': True, 'multiple_role': False, 'cv_past_experience': False, 'reinstate_application': False, 'application_status': False, 'feedback': False, 'assessment_timebox': False, 'assessment_link_problem': False, 'assessment_campatilibility': False, 'assessment_validity': False, 'disability': False, 'interview_reschedule': False, 'late_for_interview': False, 'interview_response_time': False, 'job_account_issue': False, 'age_limit': False, 'salary': False, 'work_experience': False, 'special_needs_at_work': False}, {'job_alerts': False, 'howto_apply': False, 'job_close_date': True, 'multiple_role': False, 'cv_past_experience': False, 'reinstate_application': False, 'application_status': False, 'feedback': False, 'assessment_timebox': False, 'assessment_link_problem': False, 'assessment_campatilibility': False, 'assessment_validity': False, 'disability': False, 'interview_reschedule': False, 'late_for_interview': False, 'interview_response_time': False, 'job_account_issue': False, 'age_limit': False, 'salary': False, 'work_experience': False, 'special_needs_at_work': False}, {'job_alerts': False, 'howto_apply': False, 'job_close_date': True, 'multiple_role': False, 'cv_past_experience': False, 'reinstate_application': False, 'application_status': False, 'feedback': False, 'assessment_timebox': False, 'assessment_link_problem': False, 'assessment_campatilibility': False, 'assessment_validity': False, 'disability': False, 'interview_reschedule': False, 'late_for_interview': False, 'interview_response_time': False, 'job_account_issue': False, 'age_limit': False, 'salary': False, 'work_experience': False, 'special_needs_at_work': False}, {'job_alerts': False, 'howto_apply': False, 'job_close_date': True, 'multiple_role': False, 'cv_past_experience': False, 'reinstate_application': False, 'application_status': False, 'feedback': False, 'assessment_timebox': False, 'assessment_link_problem': False, 'assessment_campatilibility': False, 'assessment_validity': False, 'disability': False, 'interview_reschedule': False, 'late_for_interview': False, 'interview_response_time': False, 'job_account_issue': False, 'age_limit': False, 'salary': False, 'work_experience': False, 'special_needs_at_work': False}, {'job_alerts': False, 'howto_apply': False, 'job_close_date': True, 'multiple_role': False, 'cv_past_experience': False, 'reinstate_application': False, 'application_status': False, 'feedback': False, 'assessment_timebox': False, 'assessment_link_problem': False, 'assessment_campatilibility': False, 'assessment_validity': False, 'disability': False, 'interview_reschedule': False, 'late_for_interview': False, 'interview_response_time': False, 'job_account_issue': False, 'age_limit': False, 'salary': False, 'work_experience': False, 'special_needs_at_work': False}, {'job_alerts': False, 'howto_apply': False, 'job_close_date': True, 'multiple_role': False, 'cv_past_experience': False, 'reinstate_application': False, 'application_status': False, 'feedback': False, 'assessment_timebox': False, 'assessment_link_problem': False, 'assessment_campatilibility': False, 'assessment_validity': False, 'disability': False, 'interview_reschedule': False, 'late_for_interview': False, 'interview_response_time': False, 'job_account_issue': False, 'age_limit': False, 'salary': False, 'work_experience': False, 'special_needs_at_work': False}, {'job_alerts': False, 'howto_apply': False, 'job_close_date': True, 'multiple_role': False, 'cv_past_experience': False, 'reinstate_application': False, 'application_status': False, 'feedback': False, 'assessment_timebox': False, 'assessment_link_problem': False, 'assessment_campatilibility': False, 'assessment_validity': False, 'disability': False, 'interview_reschedule': False, 'late_for_interview': False, 'interview_response_time': False, 'job_account_issue': False, 'age_limit': False, 'salary': False, 'work_experience': False, 'special_needs_at_work': False}, {'job_alerts': False, 'howto_apply': False, 'job_close_date': True, 'multiple_role': False, 'cv_past_experience': False, 'reinstate_application': False, 'application_status': False, 'feedback': False, 'assessment_timebox': False, 'assessment_link_problem': False, 'assessment_campatilibility': False, 'assessment_validity': False, 'disability': False, 'interview_reschedule': False, 'late_for_interview': False, 'interview_response_time': False, 'job_account_issue': False, 'age_limit': False, 'salary': False, 'work_experience': False, 'special_needs_at_work': False}, {'job_alerts': False, 'howto_apply': False, 'job_close_date': True, 'multiple_role': False, 'cv_past_experience': False, 'reinstate_application': False, 'application_status': False, 'feedback': False, 'assessment_timebox': False, 'assessment_link_problem': False, 'assessment_campatilibility': False, 'assessment_validity': False, 'disability': False, 'interview_reschedule': False, 'late_for_interview': False, 'interview_response_time': False, 'job_account_issue': False, 'age_limit': False, 'salary': False, 'work_experience': False, 'special_needs_at_work': False}, {'job_alerts': False, 'howto_apply': False, 'job_close_date': True, 'multiple_role': False, 'cv_past_experience': False, 'reinstate_application': False, 'application_status': False, 'feedback': False, 'assessment_timebox': False, 'assessment_link_problem': False, 'assessment_campatilibility': False, 'assessment_validity': False, 'disability': False, 'interview_reschedule': False, 'late_for_interview': False, 'interview_response_time': False, 'job_account_issue': False, 'age_limit': False, 'salary': False, 'work_experience': False, 'special_needs_at_work': False}, {'job_alerts': False, 'howto_apply': False, 'job_close_date': True, 'multiple_role': False, 'cv_past_experience': False, 'reinstate_application': False, 'application_status': False, 'feedback': False, 'assessment_timebox': False, 'assessment_link_problem': False, 'assessment_campatilibility': False, 'assessment_validity': False, 'disability': False, 'interview_reschedule': False, 'late_for_interview': False, 'interview_response_time': False, 'job_account_issue': False, 'age_limit': False, 'salary': False, 'work_experience': False, 'special_needs_at_work': False}, {'job_alerts': False, 'howto_apply': False, 'job_close_date': True, 'multiple_role': False, 'cv_past_experience': False, 'reinstate_application': False, 'application_status': False, 'feedback': False, 'assessment_timebox': False, 'assessment_link_problem': False, 'assessment_campatilibility': False, 'assessment_validity': False, 'disability': False, 'interview_reschedule': False, 'late_for_interview': False, 'interview_response_time': False, 'job_account_issue': False, 'age_limit': False, 'salary': False, 'work_experience': False, 'special_needs_at_work': False}, {'job_alerts': False, 'howto_apply': False, 'job_close_date': True, 'multiple_role': False, 'cv_past_experience': False, 'reinstate_application': False, 'application_status': False, 'feedback': False, 'assessment_timebox': False, 'assessment_link_problem': False, 'assessment_campatilibility': False, 'assessment_validity': False, 'disability': False, 'interview_reschedule': False, 'late_for_interview': False, 'interview_response_time': False, 'job_account_issue': False, 'age_limit': False, 'salary': False, 'work_experience': False, 'special_needs_at_work': False}, {'job_alerts': False, 'howto_apply': False, 'job_close_date': True, 'multiple_role': False, 'cv_past_experience': False, 'reinstate_application': False, 'application_status': False, 'feedback': False, 'assessment_timebox': False, 'assessment_link_problem': False, 'assessment_campatilibility': False, 'assessment_validity': False, 'disability': False, 'interview_reschedule': False, 'late_for_interview': False, 'interview_response_time': False, 'job_account_issue': False, 'age_limit': False, 'salary': False, 'work_experience': False, 'special_needs_at_work': False}, {'job_alerts': False, 'howto_apply': False, 'job_close_date': True, 'multiple_role': False, 'cv_past_experience': False, 'reinstate_application': False, 'application_status': False, 'feedback': False, 'assessment_timebox': False, 'assessment_link_problem': False, 'assessment_campatilibility': False, 'assessment_validity': False, 'disability': False, 'interview_reschedule': False, 'late_for_interview': False, 'interview_response_time': False, 'job_account_issue': False, 'age_limit': False, 'salary': False, 'work_experience': False, 'special_needs_at_work': False}, {'job_alerts': False, 'howto_apply': False, 'job_close_date': True, 'multiple_role': False, 'cv_past_experience': False, 'reinstate_application': False, 'application_status': False, 'feedback': False, 'assessment_timebox': False, 'assessment_link_problem': False, 'assessment_campatilibility': False, 'assessment_validity': False, 'disability': False, 'interview_reschedule': False, 'late_for_interview': False, 'interview_response_time': False, 'job_account_issue': False, 'age_limit': False, 'salary': False, 'work_experience': False, 'special_needs_at_work': False}, {'job_alerts': False, 'howto_apply': False, 'job_close_date': True, 'multiple_role': False, 'cv_past_experience': False, 'reinstate_application': False, 'application_status': False, 'feedback': False, 'assessment_timebox': False, 'assessment_link_problem': False, 'assessment_campatilibility': False, 'assessment_validity': False, 'disability': False, 'interview_reschedule': False, 'late_for_interview': False, 'interview_response_time': False, 'job_account_issue': False, 'age_limit': False, 'salary': False, 'work_experience': False, 'special_needs_at_work': False}, {'job_alerts': False, 'howto_apply': False, 'job_close_date': True, 'multiple_role': False, 'cv_past_experience': False, 'reinstate_application': False, 'application_status': False, 'feedback': False, 'assessment_timebox': False, 'assessment_link_problem': False, 'assessment_campatilibility': False, 'assessment_validity': False, 'disability': False, 'interview_reschedule': False, 'late_for_interview': False, 'interview_response_time': False, 'job_account_issue': False, 'age_limit': False, 'salary': False, 'work_experience': False, 'special_needs_at_work': False}, {'job_alerts': False, 'howto_apply': False, 'job_close_date': True, 'multiple_role': False, 'cv_past_experience': False, 'reinstate_application': False, 'application_status': False, 'feedback': False, 'assessment_timebox': False, 'assessment_link_problem': False, 'assessment_campatilibility': False, 'assessment_validity': False, 'disability': False, 'interview_reschedule': False, 'late_for_interview': False, 'interview_response_time': False, 'job_account_issue': False, 'age_limit': False, 'salary': False, 'work_experience': False, 'special_needs_at_work': False}, {'job_alerts': False, 'howto_apply': False, 'job_close_date': True, 'multiple_role': False, 'cv_past_experience': False, 'reinstate_application': False, 'application_status': False, 'feedback': False, 'assessment_timebox': False, 'assessment_link_problem': False, 'assessment_campatilibility': False, 'assessment_validity': False, 'disability': False, 'interview_reschedule': False, 'late_for_interview': False, 'interview_response_time': False, 'job_account_issue': False, 'age_limit': False, 'salary': False, 'work_experience': False, 'special_needs_at_work': False}, {'job_alerts': False, 'howto_apply': False, 'job_close_date': True, 'multiple_role': False, 'cv_past_experience': False, 'reinstate_application': False, 'application_status': False, 'feedback': False, 'assessment_timebox': False, 'assessment_link_problem': False, 'assessment_campatilibility': False, 'assessment_validity': False, 'disability': False, 'interview_reschedule': False, 'late_for_interview': False, 'interview_response_time': False, 'job_account_issue': False, 'age_limit': False, 'salary': False, 'work_experience': False, 'special_needs_at_work': False}, {'job_alerts': False, 'howto_apply': False, 'job_close_date': False, 'multiple_role': True, 'cv_past_experience': False, 'reinstate_application': False, 'application_status': False, 'feedback': False, 'assessment_timebox': False, 'assessment_link_problem': False, 'assessment_campatilibility': False, 'assessment_validity': False, 'disability': False, 'interview_reschedule': False, 'late_for_interview': False, 'interview_response_time': False, 'job_account_issue': False, 'age_limit': False, 'salary': False, 'work_experience': False, 'special_needs_at_work': False}, {'job_alerts': False, 'howto_apply': False, 'job_close_date': False, 'multiple_role': True, 'cv_past_experience': False, 'reinstate_application': False, 'application_status': False, 'feedback': False, 'assessment_timebox': False, 'assessment_link_problem': False, 'assessment_campatilibility': False, 'assessment_validity': False, 'disability': False, 'interview_reschedule': False, 'late_for_interview': False, 'interview_response_time': False, 'job_account_issue': False, 'age_limit': False, 'salary': False, 'work_experience': False, 'special_needs_at_work': False}, {'job_alerts': False, 'howto_apply': False, 'job_close_date': False, 'multiple_role': True, 'cv_past_experience': False, 'reinstate_application': False, 'application_status': False, 'feedback': False, 'assessment_timebox': False, 'assessment_link_problem': False, 'assessment_campatilibility': False, 'assessment_validity': False, 'disability': False, 'interview_reschedule': False, 'late_for_interview': False, 'interview_response_time': False, 'job_account_issue': False, 'age_limit': False, 'salary': False, 'work_experience': False, 'special_needs_at_work': False}, {'job_alerts': False, 'howto_apply': False, 'job_close_date': False, 'multiple_role': True, 'cv_past_experience': False, 'reinstate_application': False, 'application_status': False, 'feedback': False, 'assessment_timebox': False, 'assessment_link_problem': False, 'assessment_campatilibility': False, 'assessment_validity': False, 'disability': False, 'interview_reschedule': False, 'late_for_interview': False, 'interview_response_time': False, 'job_account_issue': False, 'age_limit': False, 'salary': False, 'work_experience': False, 'special_needs_at_work': False}, {'job_alerts': False, 'howto_apply': False, 'job_close_date': False, 'multiple_role': True, 'cv_past_experience': False, 'reinstate_application': False, 'application_status': False, 'feedback': False, 'assessment_timebox': False, 'assessment_link_problem': False, 'assessment_campatilibility': False, 'assessment_validity': False, 'disability': False, 'interview_reschedule': False, 'late_for_interview': False, 'interview_response_time': False, 'job_account_issue': False, 'age_limit': False, 'salary': False, 'work_experience': False, 'special_needs_at_work': False}, {'job_alerts': False, 'howto_apply': False, 'job_close_date': False, 'multiple_role': True, 'cv_past_experience': False, 'reinstate_application': False, 'application_status': False, 'feedback': False, 'assessment_timebox': False, 'assessment_link_problem': False, 'assessment_campatilibility': False, 'assessment_validity': False, 'disability': False, 'interview_reschedule': False, 'late_for_interview': False, 'interview_response_time': False, 'job_account_issue': False, 'age_limit': False, 'salary': False, 'work_experience': False, 'special_needs_at_work': False}, {'job_alerts': False, 'howto_apply': False, 'job_close_date': False, 'multiple_role': True, 'cv_past_experience': False, 'reinstate_application': False, 'application_status': False, 'feedback': False, 'assessment_timebox': False, 'assessment_link_problem': False, 'assessment_campatilibility': False, 'assessment_validity': False, 'disability': False, 'interview_reschedule': False, 'late_for_interview': False, 'interview_response_time': False, 'job_account_issue': False, 'age_limit': False, 'salary': False, 'work_experience': False, 'special_needs_at_work': False}, {'job_alerts': False, 'howto_apply': False, 'job_close_date': False, 'multiple_role': True, 'cv_past_experience': False, 'reinstate_application': False, 'application_status': False, 'feedback': False, 'assessment_timebox': False, 'assessment_link_problem': False, 'assessment_campatilibility': False, 'assessment_validity': False, 'disability': False, 'interview_reschedule': False, 'late_for_interview': False, 'interview_response_time': False, 'job_account_issue': False, 'age_limit': False, 'salary': False, 'work_experience': False, 'special_needs_at_work': False}, {'job_alerts': False, 'howto_apply': False, 'job_close_date': False, 'multiple_role': True, 'cv_past_experience': False, 'reinstate_application': False, 'application_status': False, 'feedback': False, 'assessment_timebox': False, 'assessment_link_problem': False, 'assessment_campatilibility': False, 'assessment_validity': False, 'disability': False, 'interview_reschedule': False, 'late_for_interview': False, 'interview_response_time': False, 'job_account_issue': False, 'age_limit': False, 'salary': False, 'work_experience': False, 'special_needs_at_work': False}, {'job_alerts': False, 'howto_apply': False, 'job_close_date': False, 'multiple_role': True, 'cv_past_experience': False, 'reinstate_application': False, 'application_status': False, 'feedback': False, 'assessment_timebox': False, 'assessment_link_problem': False, 'assessment_campatilibility': False, 'assessment_validity': False, 'disability': False, 'interview_reschedule': False, 'late_for_interview': False, 'interview_response_time': False, 'job_account_issue': False, 'age_limit': False, 'salary': False, 'work_experience': False, 'special_needs_at_work': False}, {'job_alerts': False, 'howto_apply': False, 'job_close_date': False, 'multiple_role': True, 'cv_past_experience': False, 'reinstate_application': False, 'application_status': False, 'feedback': False, 'assessment_timebox': False, 'assessment_link_problem': False, 'assessment_campatilibility': False, 'assessment_validity': False, 'disability': False, 'interview_reschedule': False, 'late_for_interview': False, 'interview_response_time': False, 'job_account_issue': False, 'age_limit': False, 'salary': False, 'work_experience': False, 'special_needs_at_work': False}, {'job_alerts': False, 'howto_apply': False, 'job_close_date': False, 'multiple_role': True, 'cv_past_experience': False, 'reinstate_application': False, 'application_status': False, 'feedback': False, 'assessment_timebox': False, 'assessment_link_problem': False, 'assessment_campatilibility': False, 'assessment_validity': False, 'disability': False, 'interview_reschedule': False, 'late_for_interview': False, 'interview_response_time': False, 'job_account_issue': False, 'age_limit': False, 'salary': False, 'work_experience': False, 'special_needs_at_work': False}, {'job_alerts': False, 'howto_apply': False, 'job_close_date': False, 'multiple_role': True, 'cv_past_experience': False, 'reinstate_application': False, 'application_status': False, 'feedback': False, 'assessment_timebox': False, 'assessment_link_problem': False, 'assessment_campatilibility': False, 'assessment_validity': False, 'disability': False, 'interview_reschedule': False, 'late_for_interview': False, 'interview_response_time': False, 'job_account_issue': False, 'age_limit': False, 'salary': False, 'work_experience': False, 'special_needs_at_work': False}, {'job_alerts': False, 'howto_apply': False, 'job_close_date': False, 'multiple_role': True, 'cv_past_experience': False, 'reinstate_application': False, 'application_status': False, 'feedback': False, 'assessment_timebox': False, 'assessment_link_problem': False, 'assessment_campatilibility': False, 'assessment_validity': False, 'disability': False, 'interview_reschedule': False, 'late_for_interview': False, 'interview_response_time': False, 'job_account_issue': False, 'age_limit': False, 'salary': False, 'work_experience': False, 'special_needs_at_work': False}, {'job_alerts': False, 'howto_apply': False, 'job_close_date': False, 'multiple_role': True, 'cv_past_experience': False, 'reinstate_application': False, 'application_status': False, 'feedback': False, 'assessment_timebox': False, 'assessment_link_problem': False, 'assessment_campatilibility': False, 'assessment_validity': False, 'disability': False, 'interview_reschedule': False, 'late_for_interview': False, 'interview_response_time': False, 'job_account_issue': False, 'age_limit': False, 'salary': False, 'work_experience': False, 'special_needs_at_work': False}, {'job_alerts': False, 'howto_apply': False, 'job_close_date': False, 'multiple_role': True, 'cv_past_experience': False, 'reinstate_application': False, 'application_status': False, 'feedback': False, 'assessment_timebox': False, 'assessment_link_problem': False, 'assessment_campatilibility': False, 'assessment_validity': False, 'disability': False, 'interview_reschedule': False, 'late_for_interview': False, 'interview_response_time': False, 'job_account_issue': False, 'age_limit': False, 'salary': False, 'work_experience': False, 'special_needs_at_work': False}, {'job_alerts': False, 'howto_apply': False, 'job_close_date': False, 'multiple_role': True, 'cv_past_experience': False, 'reinstate_application': False, 'application_status': False, 'feedback': False, 'assessment_timebox': False, 'assessment_link_problem': False, 'assessment_campatilibility': False, 'assessment_validity': False, 'disability': False, 'interview_reschedule': False, 'late_for_interview': False, 'interview_response_time': False, 'job_account_issue': False, 'age_limit': False, 'salary': False, 'work_experience': False, 'special_needs_at_work': False}, {'job_alerts': False, 'howto_apply': False, 'job_close_date': False, 'multiple_role': True, 'cv_past_experience': False, 'reinstate_application': False, 'application_status': False, 'feedback': False, 'assessment_timebox': False, 'assessment_link_problem': False, 'assessment_campatilibility': False, 'assessment_validity': False, 'disability': False, 'interview_reschedule': False, 'late_for_interview': False, 'interview_response_time': False, 'job_account_issue': False, 'age_limit': False, 'salary': False, 'work_experience': False, 'special_needs_at_work': False}, {'job_alerts': False, 'howto_apply': False, 'job_close_date': False, 'multiple_role': True, 'cv_past_experience': False, 'reinstate_application': False, 'application_status': False, 'feedback': False, 'assessment_timebox': False, 'assessment_link_problem': False, 'assessment_campatilibility': False, 'assessment_validity': False, 'disability': False, 'interview_reschedule': False, 'late_for_interview': False, 'interview_response_time': False, 'job_account_issue': False, 'age_limit': False, 'salary': False, 'work_experience': False, 'special_needs_at_work': False}, {'job_alerts': False, 'howto_apply': False, 'job_close_date': False, 'multiple_role': True, 'cv_past_experience': False, 'reinstate_application': False, 'application_status': False, 'feedback': False, 'assessment_timebox': False, 'assessment_link_problem': False, 'assessment_campatilibility': False, 'assessment_validity': False, 'disability': False, 'interview_reschedule': False, 'late_for_interview': False, 'interview_response_time': False, 'job_account_issue': False, 'age_limit': False, 'salary': False, 'work_experience': False, 'special_needs_at_work': False}, {'job_alerts': False, 'howto_apply': False, 'job_close_date': False, 'multiple_role': True, 'cv_past_experience': False, 'reinstate_application': False, 'application_status': False, 'feedback': False, 'assessment_timebox': False, 'assessment_link_problem': False, 'assessment_campatilibility': False, 'assessment_validity': False, 'disability': False, 'interview_reschedule': False, 'late_for_interview': False, 'interview_response_time': False, 'job_account_issue': False, 'age_limit': False, 'salary': False, 'work_experience': False, 'special_needs_at_work': False}, {'job_alerts': False, 'howto_apply': False, 'job_close_date': False, 'multiple_role': True, 'cv_past_experience': False, 'reinstate_application': False, 'application_status': False, 'feedback': False, 'assessment_timebox': False, 'assessment_link_problem': False, 'assessment_campatilibility': False, 'assessment_validity': False, 'disability': False, 'interview_reschedule': False, 'late_for_interview': False, 'interview_response_time': False, 'job_account_issue': False, 'age_limit': False, 'salary': False, 'work_experience': False, 'special_needs_at_work': False}, {'job_alerts': False, 'howto_apply': False, 'job_close_date': False, 'multiple_role': True, 'cv_past_experience': False, 'reinstate_application': False, 'application_status': False, 'feedback': False, 'assessment_timebox': False, 'assessment_link_problem': False, 'assessment_campatilibility': False, 'assessment_validity': False, 'disability': False, 'interview_reschedule': False, 'late_for_interview': False, 'interview_response_time': False, 'job_account_issue': False, 'age_limit': False, 'salary': False, 'work_experience': False, 'special_needs_at_work': False}, {'job_alerts': False, 'howto_apply': False, 'job_close_date': False, 'multiple_role': True, 'cv_past_experience': False, 'reinstate_application': False, 'application_status': False, 'feedback': False, 'assessment_timebox': False, 'assessment_link_problem': False, 'assessment_campatilibility': False, 'assessment_validity': False, 'disability': False, 'interview_reschedule': False, 'late_for_interview': False, 'interview_response_time': False, 'job_account_issue': False, 'age_limit': False, 'salary': False, 'work_experience': False, 'special_needs_at_work': False}, {'job_alerts': False, 'howto_apply': False, 'job_close_date': False, 'multiple_role': True, 'cv_past_experience': False, 'reinstate_application': False, 'application_status': False, 'feedback': False, 'assessment_timebox': False, 'assessment_link_problem': False, 'assessment_campatilibility': False, 'assessment_validity': False, 'disability': False, 'interview_reschedule': False, 'late_for_interview': False, 'interview_response_time': False, 'job_account_issue': False, 'age_limit': False, 'salary': False, 'work_experience': False, 'special_needs_at_work': False}, {'job_alerts': False, 'howto_apply': False, 'job_close_date': False, 'multiple_role': True, 'cv_past_experience': False, 'reinstate_application': False, 'application_status': False, 'feedback': False, 'assessment_timebox': False, 'assessment_link_problem': False, 'assessment_campatilibility': False, 'assessment_validity': False, 'disability': False, 'interview_reschedule': False, 'late_for_interview': False, 'interview_response_time': False, 'job_account_issue': False, 'age_limit': False, 'salary': False, 'work_experience': False, 'special_needs_at_work': False}, {'job_alerts': False, 'howto_apply': False, 'job_close_date': False, 'multiple_role': True, 'cv_past_experience': False, 'reinstate_application': False, 'application_status': False, 'feedback': False, 'assessment_timebox': False, 'assessment_link_problem': False, 'assessment_campatilibility': False, 'assessment_validity': False, 'disability': False, 'interview_reschedule': False, 'late_for_interview': False, 'interview_response_time': False, 'job_account_issue': False, 'age_limit': False, 'salary': False, 'work_experience': False, 'special_needs_at_work': False}, {'job_alerts': False, 'howto_apply': False, 'job_close_date': False, 'multiple_role': False, 'cv_past_experience': True, 'reinstate_application': False, 'application_status': False, 'feedback': False, 'assessment_timebox': False, 'assessment_link_problem': False, 'assessment_campatilibility': False, 'assessment_validity': False, 'disability': False, 'interview_reschedule': False, 'late_for_interview': False, 'interview_response_time': False, 'job_account_issue': False, 'age_limit': False, 'salary': False, 'work_experience': False, 'special_needs_at_work': False}, {'job_alerts': False, 'howto_apply': False, 'job_close_date': False, 'multiple_role': False, 'cv_past_experience': True, 'reinstate_application': False, 'application_status': False, 'feedback': False, 'assessment_timebox': False, 'assessment_link_problem': False, 'assessment_campatilibility': False, 'assessment_validity': False, 'disability': False, 'interview_reschedule': False, 'late_for_interview': False, 'interview_response_time': False, 'job_account_issue': False, 'age_limit': False, 'salary': False, 'work_experience': False, 'special_needs_at_work': False}, {'job_alerts': False, 'howto_apply': False, 'job_close_date': False, 'multiple_role': False, 'cv_past_experience': True, 'reinstate_application': False, 'application_status': False, 'feedback': False, 'assessment_timebox': False, 'assessment_link_problem': False, 'assessment_campatilibility': False, 'assessment_validity': False, 'disability': False, 'interview_reschedule': False, 'late_for_interview': False, 'interview_response_time': False, 'job_account_issue': False, 'age_limit': False, 'salary': False, 'work_experience': False, 'special_needs_at_work': False}, {'job_alerts': False, 'howto_apply': False, 'job_close_date': False, 'multiple_role': False, 'cv_past_experience': True, 'reinstate_application': False, 'application_status': False, 'feedback': False, 'assessment_timebox': False, 'assessment_link_problem': False, 'assessment_campatilibility': False, 'assessment_validity': False, 'disability': False, 'interview_reschedule': False, 'late_for_interview': False, 'interview_response_time': False, 'job_account_issue': False, 'age_limit': False, 'salary': False, 'work_experience': False, 'special_needs_at_work': False}, {'job_alerts': False, 'howto_apply': False, 'job_close_date': False, 'multiple_role': False, 'cv_past_experience': True, 'reinstate_application': False, 'application_status': False, 'feedback': False, 'assessment_timebox': False, 'assessment_link_problem': False, 'assessment_campatilibility': False, 'assessment_validity': False, 'disability': False, 'interview_reschedule': False, 'late_for_interview': False, 'interview_response_time': False, 'job_account_issue': False, 'age_limit': False, 'salary': False, 'work_experience': False, 'special_needs_at_work': False}, {'job_alerts': False, 'howto_apply': False, 'job_close_date': False, 'multiple_role': False, 'cv_past_experience': True, 'reinstate_application': False, 'application_status': False, 'feedback': False, 'assessment_timebox': False, 'assessment_link_problem': False, 'assessment_campatilibility': False, 'assessment_validity': False, 'disability': False, 'interview_reschedule': False, 'late_for_interview': False, 'interview_response_time': False, 'job_account_issue': False, 'age_limit': False, 'salary': False, 'work_experience': False, 'special_needs_at_work': False}, {'job_alerts': False, 'howto_apply': False, 'job_close_date': False, 'multiple_role': False, 'cv_past_experience': True, 'reinstate_application': False, 'application_status': False, 'feedback': False, 'assessment_timebox': False, 'assessment_link_problem': False, 'assessment_campatilibility': False, 'assessment_validity': False, 'disability': False, 'interview_reschedule': False, 'late_for_interview': False, 'interview_response_time': False, 'job_account_issue': False, 'age_limit': False, 'salary': False, 'work_experience': False, 'special_needs_at_work': False}, {'job_alerts': False, 'howto_apply': False, 'job_close_date': False, 'multiple_role': False, 'cv_past_experience': True, 'reinstate_application': False, 'application_status': False, 'feedback': False, 'assessment_timebox': False, 'assessment_link_problem': False, 'assessment_campatilibility': False, 'assessment_validity': False, 'disability': False, 'interview_reschedule': False, 'late_for_interview': False, 'interview_response_time': False, 'job_account_issue': False, 'age_limit': False, 'salary': False, 'work_experience': False, 'special_needs_at_work': False}, {'job_alerts': False, 'howto_apply': False, 'job_close_date': False, 'multiple_role': False, 'cv_past_experience': True, 'reinstate_application': False, 'application_status': False, 'feedback': False, 'assessment_timebox': False, 'assessment_link_problem': False, 'assessment_campatilibility': False, 'assessment_validity': False, 'disability': False, 'interview_reschedule': False, 'late_for_interview': False, 'interview_response_time': False, 'job_account_issue': False, 'age_limit': False, 'salary': False, 'work_experience': False, 'special_needs_at_work': False}, {'job_alerts': False, 'howto_apply': False, 'job_close_date': False, 'multiple_role': False, 'cv_past_experience': True, 'reinstate_application': False, 'application_status': False, 'feedback': False, 'assessment_timebox': False, 'assessment_link_problem': False, 'assessment_campatilibility': False, 'assessment_validity': False, 'disability': False, 'interview_reschedule': False, 'late_for_interview': False, 'interview_response_time': False, 'job_account_issue': False, 'age_limit': False, 'salary': False, 'work_experience': False, 'special_needs_at_work': False}, {'job_alerts': False, 'howto_apply': False, 'job_close_date': False, 'multiple_role': False, 'cv_past_experience': True, 'reinstate_application': False, 'application_status': False, 'feedback': False, 'assessment_timebox': False, 'assessment_link_problem': False, 'assessment_campatilibility': False, 'assessment_validity': False, 'disability': False, 'interview_reschedule': False, 'late_for_interview': False, 'interview_response_time': False, 'job_account_issue': False, 'age_limit': False, 'salary': False, 'work_experience': False, 'special_needs_at_work': False}, {'job_alerts': False, 'howto_apply': False, 'job_close_date': False, 'multiple_role': False, 'cv_past_experience': True, 'reinstate_application': False, 'application_status': False, 'feedback': False, 'assessment_timebox': False, 'assessment_link_problem': False, 'assessment_campatilibility': False, 'assessment_validity': False, 'disability': False, 'interview_reschedule': False, 'late_for_interview': False, 'interview_response_time': False, 'job_account_issue': False, 'age_limit': False, 'salary': False, 'work_experience': False, 'special_needs_at_work': False}, {'job_alerts': False, 'howto_apply': False, 'job_close_date': False, 'multiple_role': False, 'cv_past_experience': True, 'reinstate_application': False, 'application_status': False, 'feedback': False, 'assessment_timebox': False, 'assessment_link_problem': False, 'assessment_campatilibility': False, 'assessment_validity': False, 'disability': False, 'interview_reschedule': False, 'late_for_interview': False, 'interview_response_time': False, 'job_account_issue': False, 'age_limit': False, 'salary': False, 'work_experience': False, 'special_needs_at_work': False}, {'job_alerts': False, 'howto_apply': False, 'job_close_date': False, 'multiple_role': False, 'cv_past_experience': True, 'reinstate_application': False, 'application_status': False, 'feedback': False, 'assessment_timebox': False, 'assessment_link_problem': False, 'assessment_campatilibility': False, 'assessment_validity': False, 'disability': False, 'interview_reschedule': False, 'late_for_interview': False, 'interview_response_time': False, 'job_account_issue': False, 'age_limit': False, 'salary': False, 'work_experience': False, 'special_needs_at_work': False}, {'job_alerts': False, 'howto_apply': False, 'job_close_date': False, 'multiple_role': False, 'cv_past_experience': True, 'reinstate_application': False, 'application_status': False, 'feedback': False, 'assessment_timebox': False, 'assessment_link_problem': False, 'assessment_campatilibility': False, 'assessment_validity': False, 'disability': False, 'interview_reschedule': False, 'late_for_interview': False, 'interview_response_time': False, 'job_account_issue': False, 'age_limit': False, 'salary': False, 'work_experience': False, 'special_needs_at_work': False}, {'job_alerts': False, 'howto_apply': False, 'job_close_date': False, 'multiple_role': False, 'cv_past_experience': False, 'reinstate_application': True, 'application_status': False, 'feedback': False, 'assessment_timebox': False, 'assessment_link_problem': False, 'assessment_campatilibility': False, 'assessment_validity': False, 'disability': False, 'interview_reschedule': False, 'late_for_interview': False, 'interview_response_time': False, 'job_account_issue': False, 'age_limit': False, 'salary': False, 'work_experience': False, 'special_needs_at_work': False}, {'job_alerts': False, 'howto_apply': False, 'job_close_date': False, 'multiple_role': False, 'cv_past_experience': False, 'reinstate_application': True, 'application_status': False, 'feedback': False, 'assessment_timebox': False, 'assessment_link_problem': False, 'assessment_campatilibility': False, 'assessment_validity': False, 'disability': False, 'interview_reschedule': False, 'late_for_interview': False, 'interview_response_time': False, 'job_account_issue': False, 'age_limit': False, 'salary': False, 'work_experience': False, 'special_needs_at_work': False}, {'job_alerts': False, 'howto_apply': False, 'job_close_date': False, 'multiple_role': False, 'cv_past_experience': False, 'reinstate_application': True, 'application_status': False, 'feedback': False, 'assessment_timebox': False, 'assessment_link_problem': False, 'assessment_campatilibility': False, 'assessment_validity': False, 'disability': False, 'interview_reschedule': False, 'late_for_interview': False, 'interview_response_time': False, 'job_account_issue': False, 'age_limit': False, 'salary': False, 'work_experience': False, 'special_needs_at_work': False}, {'job_alerts': False, 'howto_apply': False, 'job_close_date': False, 'multiple_role': False, 'cv_past_experience': False, 'reinstate_application': True, 'application_status': False, 'feedback': False, 'assessment_timebox': False, 'assessment_link_problem': False, 'assessment_campatilibility': False, 'assessment_validity': False, 'disability': False, 'interview_reschedule': False, 'late_for_interview': False, 'interview_response_time': False, 'job_account_issue': False, 'age_limit': False, 'salary': False, 'work_experience': False, 'special_needs_at_work': False}, {'job_alerts': False, 'howto_apply': False, 'job_close_date': False, 'multiple_role': False, 'cv_past_experience': False, 'reinstate_application': True, 'application_status': False, 'feedback': False, 'assessment_timebox': False, 'assessment_link_problem': False, 'assessment_campatilibility': False, 'assessment_validity': False, 'disability': False, 'interview_reschedule': False, 'late_for_interview': False, 'interview_response_time': False, 'job_account_issue': False, 'age_limit': False, 'salary': False, 'work_experience': False, 'special_needs_at_work': False}, {'job_alerts': False, 'howto_apply': False, 'job_close_date': False, 'multiple_role': False, 'cv_past_experience': False, 'reinstate_application': True, 'application_status': False, 'feedback': False, 'assessment_timebox': False, 'assessment_link_problem': False, 'assessment_campatilibility': False, 'assessment_validity': False, 'disability': False, 'interview_reschedule': False, 'late_for_interview': False, 'interview_response_time': False, 'job_account_issue': False, 'age_limit': False, 'salary': False, 'work_experience': False, 'special_needs_at_work': False}, {'job_alerts': False, 'howto_apply': False, 'job_close_date': False, 'multiple_role': False, 'cv_past_experience': False, 'reinstate_application': True, 'application_status': False, 'feedback': False, 'assessment_timebox': False, 'assessment_link_problem': False, 'assessment_campatilibility': False, 'assessment_validity': False, 'disability': False, 'interview_reschedule': False, 'late_for_interview': False, 'interview_response_time': False, 'job_account_issue': False, 'age_limit': False, 'salary': False, 'work_experience': False, 'special_needs_at_work': False}, {'job_alerts': False, 'howto_apply': False, 'job_close_date': False, 'multiple_role': False, 'cv_past_experience': False, 'reinstate_application': True, 'application_status': False, 'feedback': False, 'assessment_timebox': False, 'assessment_link_problem': False, 'assessment_campatilibility': False, 'assessment_validity': False, 'disability': False, 'interview_reschedule': False, 'late_for_interview': False, 'interview_response_time': False, 'job_account_issue': False, 'age_limit': False, 'salary': False, 'work_experience': False, 'special_needs_at_work': False}, {'job_alerts': False, 'howto_apply': False, 'job_close_date': False, 'multiple_role': False, 'cv_past_experience': False, 'reinstate_application': True, 'application_status': False, 'feedback': False, 'assessment_timebox': False, 'assessment_link_problem': False, 'assessment_campatilibility': False, 'assessment_validity': False, 'disability': False, 'interview_reschedule': False, 'late_for_interview': False, 'interview_response_time': False, 'job_account_issue': False, 'age_limit': False, 'salary': False, 'work_experience': False, 'special_needs_at_work': False}, {'job_alerts': False, 'howto_apply': False, 'job_close_date': False, 'multiple_role': False, 'cv_past_experience': False, 'reinstate_application': True, 'application_status': False, 'feedback': False, 'assessment_timebox': False, 'assessment_link_problem': False, 'assessment_campatilibility': False, 'assessment_validity': False, 'disability': False, 'interview_reschedule': False, 'late_for_interview': False, 'interview_response_time': False, 'job_account_issue': False, 'age_limit': False, 'salary': False, 'work_experience': False, 'special_needs_at_work': False}, {'job_alerts': False, 'howto_apply': False, 'job_close_date': False, 'multiple_role': False, 'cv_past_experience': False, 'reinstate_application': True, 'application_status': False, 'feedback': False, 'assessment_timebox': False, 'assessment_link_problem': False, 'assessment_campatilibility': False, 'assessment_validity': False, 'disability': False, 'interview_reschedule': False, 'late_for_interview': False, 'interview_response_time': False, 'job_account_issue': False, 'age_limit': False, 'salary': False, 'work_experience': False, 'special_needs_at_work': False}, {'job_alerts': False, 'howto_apply': False, 'job_close_date': False, 'multiple_role': False, 'cv_past_experience': False, 'reinstate_application': True, 'application_status': False, 'feedback': False, 'assessment_timebox': False, 'assessment_link_problem': False, 'assessment_campatilibility': False, 'assessment_validity': False, 'disability': False, 'interview_reschedule': False, 'late_for_interview': False, 'interview_response_time': False, 'job_account_issue': False, 'age_limit': False, 'salary': False, 'work_experience': False, 'special_needs_at_work': False}, {'job_alerts': False, 'howto_apply': False, 'job_close_date': False, 'multiple_role': False, 'cv_past_experience': False, 'reinstate_application': True, 'application_status': False, 'feedback': False, 'assessment_timebox': False, 'assessment_link_problem': False, 'assessment_campatilibility': False, 'assessment_validity': False, 'disability': False, 'interview_reschedule': False, 'late_for_interview': False, 'interview_response_time': False, 'job_account_issue': False, 'age_limit': False, 'salary': False, 'work_experience': False, 'special_needs_at_work': False}, {'job_alerts': False, 'howto_apply': False, 'job_close_date': False, 'multiple_role': False, 'cv_past_experience': False, 'reinstate_application': True, 'application_status': False, 'feedback': False, 'assessment_timebox': False, 'assessment_link_problem': False, 'assessment_campatilibility': False, 'assessment_validity': False, 'disability': False, 'interview_reschedule': False, 'late_for_interview': False, 'interview_response_time': False, 'job_account_issue': False, 'age_limit': False, 'salary': False, 'work_experience': False, 'special_needs_at_work': False}, {'job_alerts': False, 'howto_apply': False, 'job_close_date': False, 'multiple_role': False, 'cv_past_experience': False, 'reinstate_application': True, 'application_status': False, 'feedback': False, 'assessment_timebox': False, 'assessment_link_problem': False, 'assessment_campatilibility': False, 'assessment_validity': False, 'disability': False, 'interview_reschedule': False, 'late_for_interview': False, 'interview_response_time': False, 'job_account_issue': False, 'age_limit': False, 'salary': False, 'work_experience': False, 'special_needs_at_work': False}, {'job_alerts': False, 'howto_apply': False, 'job_close_date': False, 'multiple_role': False, 'cv_past_experience': False, 'reinstate_application': True, 'application_status': False, 'feedback': False, 'assessment_timebox': False, 'assessment_link_problem': False, 'assessment_campatilibility': False, 'assessment_validity': False, 'disability': False, 'interview_reschedule': False, 'late_for_interview': False, 'interview_response_time': False, 'job_account_issue': False, 'age_limit': False, 'salary': False, 'work_experience': False, 'special_needs_at_work': False}, {'job_alerts': False, 'howto_apply': False, 'job_close_date': False, 'multiple_role': False, 'cv_past_experience': False, 'reinstate_application': True, 'application_status': False, 'feedback': False, 'assessment_timebox': False, 'assessment_link_problem': False, 'assessment_campatilibility': False, 'assessment_validity': False, 'disability': False, 'interview_reschedule': False, 'late_for_interview': False, 'interview_response_time': False, 'job_account_issue': False, 'age_limit': False, 'salary': False, 'work_experience': False, 'special_needs_at_work': False}, {'job_alerts': False, 'howto_apply': False, 'job_close_date': False, 'multiple_role': False, 'cv_past_experience': False, 'reinstate_application': True, 'application_status': False, 'feedback': False, 'assessment_timebox': False, 'assessment_link_problem': False, 'assessment_campatilibility': False, 'assessment_validity': False, 'disability': False, 'interview_reschedule': False, 'late_for_interview': False, 'interview_response_time': False, 'job_account_issue': False, 'age_limit': False, 'salary': False, 'work_experience': False, 'special_needs_at_work': False}, {'job_alerts': False, 'howto_apply': False, 'job_close_date': False, 'multiple_role': False, 'cv_past_experience': False, 'reinstate_application': True, 'application_status': False, 'feedback': False, 'assessment_timebox': False, 'assessment_link_problem': False, 'assessment_campatilibility': False, 'assessment_validity': False, 'disability': False, 'interview_reschedule': False, 'late_for_interview': False, 'interview_response_time': False, 'job_account_issue': False, 'age_limit': False, 'salary': False, 'work_experience': False, 'special_needs_at_work': False}, {'job_alerts': False, 'howto_apply': False, 'job_close_date': False, 'multiple_role': False, 'cv_past_experience': False, 'reinstate_application': False, 'application_status': True, 'feedback': False, 'assessment_timebox': False, 'assessment_link_problem': False, 'assessment_campatilibility': False, 'assessment_validity': False, 'disability': False, 'interview_reschedule': False, 'late_for_interview': False, 'interview_response_time': False, 'job_account_issue': False, 'age_limit': False, 'salary': False, 'work_experience': False, 'special_needs_at_work': False}, {'job_alerts': False, 'howto_apply': False, 'job_close_date': False, 'multiple_role': False, 'cv_past_experience': False, 'reinstate_application': False, 'application_status': True, 'feedback': False, 'assessment_timebox': False, 'assessment_link_problem': False, 'assessment_campatilibility': False, 'assessment_validity': False, 'disability': False, 'interview_reschedule': False, 'late_for_interview': False, 'interview_response_time': False, 'job_account_issue': False, 'age_limit': False, 'salary': False, 'work_experience': False, 'special_needs_at_work': False}, {'job_alerts': False, 'howto_apply': False, 'job_close_date': False, 'multiple_role': False, 'cv_past_experience': False, 'reinstate_application': False, 'application_status': True, 'feedback': False, 'assessment_timebox': False, 'assessment_link_problem': False, 'assessment_campatilibility': False, 'assessment_validity': False, 'disability': False, 'interview_reschedule': False, 'late_for_interview': False, 'interview_response_time': False, 'job_account_issue': False, 'age_limit': False, 'salary': False, 'work_experience': False, 'special_needs_at_work': False}, {'job_alerts': False, 'howto_apply': False, 'job_close_date': False, 'multiple_role': False, 'cv_past_experience': False, 'reinstate_application': False, 'application_status': True, 'feedback': False, 'assessment_timebox': False, 'assessment_link_problem': False, 'assessment_campatilibility': False, 'assessment_validity': False, 'disability': False, 'interview_reschedule': False, 'late_for_interview': False, 'interview_response_time': False, 'job_account_issue': False, 'age_limit': False, 'salary': False, 'work_experience': False, 'special_needs_at_work': False}, {'job_alerts': False, 'howto_apply': False, 'job_close_date': False, 'multiple_role': False, 'cv_past_experience': False, 'reinstate_application': False, 'application_status': True, 'feedback': False, 'assessment_timebox': False, 'assessment_link_problem': False, 'assessment_campatilibility': False, 'assessment_validity': False, 'disability': False, 'interview_reschedule': False, 'late_for_interview': False, 'interview_response_time': False, 'job_account_issue': False, 'age_limit': False, 'salary': False, 'work_experience': False, 'special_needs_at_work': False}, {'job_alerts': False, 'howto_apply': False, 'job_close_date': False, 'multiple_role': False, 'cv_past_experience': False, 'reinstate_application': False, 'application_status': True, 'feedback': False, 'assessment_timebox': False, 'assessment_link_problem': False, 'assessment_campatilibility': False, 'assessment_validity': False, 'disability': False, 'interview_reschedule': False, 'late_for_interview': False, 'interview_response_time': False, 'job_account_issue': False, 'age_limit': False, 'salary': False, 'work_experience': False, 'special_needs_at_work': False}, {'job_alerts': False, 'howto_apply': False, 'job_close_date': False, 'multiple_role': False, 'cv_past_experience': False, 'reinstate_application': False, 'application_status': True, 'feedback': False, 'assessment_timebox': False, 'assessment_link_problem': False, 'assessment_campatilibility': False, 'assessment_validity': False, 'disability': False, 'interview_reschedule': False, 'late_for_interview': False, 'interview_response_time': False, 'job_account_issue': False, 'age_limit': False, 'salary': False, 'work_experience': False, 'special_needs_at_work': False}, {'job_alerts': False, 'howto_apply': False, 'job_close_date': False, 'multiple_role': False, 'cv_past_experience': False, 'reinstate_application': False, 'application_status': True, 'feedback': False, 'assessment_timebox': False, 'assessment_link_problem': False, 'assessment_campatilibility': False, 'assessment_validity': False, 'disability': False, 'interview_reschedule': False, 'late_for_interview': False, 'interview_response_time': False, 'job_account_issue': False, 'age_limit': False, 'salary': False, 'work_experience': False, 'special_needs_at_work': False}, {'job_alerts': False, 'howto_apply': False, 'job_close_date': False, 'multiple_role': False, 'cv_past_experience': False, 'reinstate_application': False, 'application_status': True, 'feedback': False, 'assessment_timebox': False, 'assessment_link_problem': False, 'assessment_campatilibility': False, 'assessment_validity': False, 'disability': False, 'interview_reschedule': False, 'late_for_interview': False, 'interview_response_time': False, 'job_account_issue': False, 'age_limit': False, 'salary': False, 'work_experience': False, 'special_needs_at_work': False}, {'job_alerts': False, 'howto_apply': False, 'job_close_date': False, 'multiple_role': False, 'cv_past_experience': False, 'reinstate_application': False, 'application_status': True, 'feedback': False, 'assessment_timebox': False, 'assessment_link_problem': False, 'assessment_campatilibility': False, 'assessment_validity': False, 'disability': False, 'interview_reschedule': False, 'late_for_interview': False, 'interview_response_time': False, 'job_account_issue': False, 'age_limit': False, 'salary': False, 'work_experience': False, 'special_needs_at_work': False}, {'job_alerts': False, 'howto_apply': False, 'job_close_date': False, 'multiple_role': False, 'cv_past_experience': False, 'reinstate_application': False, 'application_status': True, 'feedback': False, 'assessment_timebox': False, 'assessment_link_problem': False, 'assessment_campatilibility': False, 'assessment_validity': False, 'disability': False, 'interview_reschedule': False, 'late_for_interview': False, 'interview_response_time': False, 'job_account_issue': False, 'age_limit': False, 'salary': False, 'work_experience': False, 'special_needs_at_work': False}, {'job_alerts': False, 'howto_apply': False, 'job_close_date': False, 'multiple_role': False, 'cv_past_experience': False, 'reinstate_application': False, 'application_status': True, 'feedback': False, 'assessment_timebox': False, 'assessment_link_problem': False, 'assessment_campatilibility': False, 'assessment_validity': False, 'disability': False, 'interview_reschedule': False, 'late_for_interview': False, 'interview_response_time': False, 'job_account_issue': False, 'age_limit': False, 'salary': False, 'work_experience': False, 'special_needs_at_work': False}, {'job_alerts': False, 'howto_apply': False, 'job_close_date': False, 'multiple_role': False, 'cv_past_experience': False, 'reinstate_application': False, 'application_status': True, 'feedback': False, 'assessment_timebox': False, 'assessment_link_problem': False, 'assessment_campatilibility': False, 'assessment_validity': False, 'disability': False, 'interview_reschedule': False, 'late_for_interview': False, 'interview_response_time': False, 'job_account_issue': False, 'age_limit': False, 'salary': False, 'work_experience': False, 'special_needs_at_work': False}, {'job_alerts': False, 'howto_apply': False, 'job_close_date': False, 'multiple_role': False, 'cv_past_experience': False, 'reinstate_application': False, 'application_status': True, 'feedback': False, 'assessment_timebox': False, 'assessment_link_problem': False, 'assessment_campatilibility': False, 'assessment_validity': False, 'disability': False, 'interview_reschedule': False, 'late_for_interview': False, 'interview_response_time': False, 'job_account_issue': False, 'age_limit': False, 'salary': False, 'work_experience': False, 'special_needs_at_work': False}, {'job_alerts': False, 'howto_apply': False, 'job_close_date': False, 'multiple_role': False, 'cv_past_experience': False, 'reinstate_application': False, 'application_status': True, 'feedback': False, 'assessment_timebox': False, 'assessment_link_problem': False, 'assessment_campatilibility': False, 'assessment_validity': False, 'disability': False, 'interview_reschedule': False, 'late_for_interview': False, 'interview_response_time': False, 'job_account_issue': False, 'age_limit': False, 'salary': False, 'work_experience': False, 'special_needs_at_work': False}, {'job_alerts': False, 'howto_apply': False, 'job_close_date': False, 'multiple_role': False, 'cv_past_experience': False, 'reinstate_application': False, 'application_status': True, 'feedback': False, 'assessment_timebox': False, 'assessment_link_problem': False, 'assessment_campatilibility': False, 'assessment_validity': False, 'disability': False, 'interview_reschedule': False, 'late_for_interview': False, 'interview_response_time': False, 'job_account_issue': False, 'age_limit': False, 'salary': False, 'work_experience': False, 'special_needs_at_work': False}, {'job_alerts': False, 'howto_apply': False, 'job_close_date': False, 'multiple_role': False, 'cv_past_experience': False, 'reinstate_application': False, 'application_status': True, 'feedback': False, 'assessment_timebox': False, 'assessment_link_problem': False, 'assessment_campatilibility': False, 'assessment_validity': False, 'disability': False, 'interview_reschedule': False, 'late_for_interview': False, 'interview_response_time': False, 'job_account_issue': False, 'age_limit': False, 'salary': False, 'work_experience': False, 'special_needs_at_work': False}, {'job_alerts': False, 'howto_apply': False, 'job_close_date': False, 'multiple_role': False, 'cv_past_experience': False, 'reinstate_application': False, 'application_status': True, 'feedback': False, 'assessment_timebox': False, 'assessment_link_problem': False, 'assessment_campatilibility': False, 'assessment_validity': False, 'disability': False, 'interview_reschedule': False, 'late_for_interview': False, 'interview_response_time': False, 'job_account_issue': False, 'age_limit': False, 'salary': False, 'work_experience': False, 'special_needs_at_work': False}, {'job_alerts': False, 'howto_apply': False, 'job_close_date': False, 'multiple_role': False, 'cv_past_experience': False, 'reinstate_application': False, 'application_status': True, 'feedback': False, 'assessment_timebox': False, 'assessment_link_problem': False, 'assessment_campatilibility': False, 'assessment_validity': False, 'disability': False, 'interview_reschedule': False, 'late_for_interview': False, 'interview_response_time': False, 'job_account_issue': False, 'age_limit': False, 'salary': False, 'work_experience': False, 'special_needs_at_work': False}, {'job_alerts': False, 'howto_apply': False, 'job_close_date': False, 'multiple_role': False, 'cv_past_experience': False, 'reinstate_application': False, 'application_status': True, 'feedback': False, 'assessment_timebox': False, 'assessment_link_problem': False, 'assessment_campatilibility': False, 'assessment_validity': False, 'disability': False, 'interview_reschedule': False, 'late_for_interview': False, 'interview_response_time': False, 'job_account_issue': False, 'age_limit': False, 'salary': False, 'work_experience': False, 'special_needs_at_work': False}, {'job_alerts': False, 'howto_apply': False, 'job_close_date': False, 'multiple_role': False, 'cv_past_experience': False, 'reinstate_application': False, 'application_status': True, 'feedback': False, 'assessment_timebox': False, 'assessment_link_problem': False, 'assessment_campatilibility': False, 'assessment_validity': False, 'disability': False, 'interview_reschedule': False, 'late_for_interview': False, 'interview_response_time': False, 'job_account_issue': False, 'age_limit': False, 'salary': False, 'work_experience': False, 'special_needs_at_work': False}, {'job_alerts': False, 'howto_apply': False, 'job_close_date': False, 'multiple_role': False, 'cv_past_experience': False, 'reinstate_application': False, 'application_status': True, 'feedback': False, 'assessment_timebox': False, 'assessment_link_problem': False, 'assessment_campatilibility': False, 'assessment_validity': False, 'disability': False, 'interview_reschedule': False, 'late_for_interview': False, 'interview_response_time': False, 'job_account_issue': False, 'age_limit': False, 'salary': False, 'work_experience': False, 'special_needs_at_work': False}, {'job_alerts': False, 'howto_apply': False, 'job_close_date': False, 'multiple_role': False, 'cv_past_experience': False, 'reinstate_application': False, 'application_status': True, 'feedback': False, 'assessment_timebox': False, 'assessment_link_problem': False, 'assessment_campatilibility': False, 'assessment_validity': False, 'disability': False, 'interview_reschedule': False, 'late_for_interview': False, 'interview_response_time': False, 'job_account_issue': False, 'age_limit': False, 'salary': False, 'work_experience': False, 'special_needs_at_work': False}, {'job_alerts': False, 'howto_apply': False, 'job_close_date': False, 'multiple_role': False, 'cv_past_experience': False, 'reinstate_application': False, 'application_status': True, 'feedback': False, 'assessment_timebox': False, 'assessment_link_problem': False, 'assessment_campatilibility': False, 'assessment_validity': False, 'disability': False, 'interview_reschedule': False, 'late_for_interview': False, 'interview_response_time': False, 'job_account_issue': False, 'age_limit': False, 'salary': False, 'work_experience': False, 'special_needs_at_work': False}, {'job_alerts': False, 'howto_apply': False, 'job_close_date': False, 'multiple_role': False, 'cv_past_experience': False, 'reinstate_application': False, 'application_status': True, 'feedback': False, 'assessment_timebox': False, 'assessment_link_problem': False, 'assessment_campatilibility': False, 'assessment_validity': False, 'disability': False, 'interview_reschedule': False, 'late_for_interview': False, 'interview_response_time': False, 'job_account_issue': False, 'age_limit': False, 'salary': False, 'work_experience': False, 'special_needs_at_work': False}, {'job_alerts': False, 'howto_apply': False, 'job_close_date': False, 'multiple_role': False, 'cv_past_experience': False, 'reinstate_application': False, 'application_status': True, 'feedback': False, 'assessment_timebox': False, 'assessment_link_problem': False, 'assessment_campatilibility': False, 'assessment_validity': False, 'disability': False, 'interview_reschedule': False, 'late_for_interview': False, 'interview_response_time': False, 'job_account_issue': False, 'age_limit': False, 'salary': False, 'work_experience': False, 'special_needs_at_work': False}, {'job_alerts': False, 'howto_apply': False, 'job_close_date': False, 'multiple_role': False, 'cv_past_experience': False, 'reinstate_application': False, 'application_status': True, 'feedback': False, 'assessment_timebox': False, 'assessment_link_problem': False, 'assessment_campatilibility': False, 'assessment_validity': False, 'disability': False, 'interview_reschedule': False, 'late_for_interview': False, 'interview_response_time': False, 'job_account_issue': False, 'age_limit': False, 'salary': False, 'work_experience': False, 'special_needs_at_work': False}, {'job_alerts': False, 'howto_apply': False, 'job_close_date': False, 'multiple_role': False, 'cv_past_experience': False, 'reinstate_application': False, 'application_status': True, 'feedback': False, 'assessment_timebox': False, 'assessment_link_problem': False, 'assessment_campatilibility': False, 'assessment_validity': False, 'disability': False, 'interview_reschedule': False, 'late_for_interview': False, 'interview_response_time': False, 'job_account_issue': False, 'age_limit': False, 'salary': False, 'work_experience': False, 'special_needs_at_work': False}, {'job_alerts': False, 'howto_apply': False, 'job_close_date': False, 'multiple_role': False, 'cv_past_experience': False, 'reinstate_application': False, 'application_status': True, 'feedback': False, 'assessment_timebox': False, 'assessment_link_problem': False, 'assessment_campatilibility': False, 'assessment_validity': False, 'disability': False, 'interview_reschedule': False, 'late_for_interview': False, 'interview_response_time': False, 'job_account_issue': False, 'age_limit': False, 'salary': False, 'work_experience': False, 'special_needs_at_work': False}, {'job_alerts': False, 'howto_apply': False, 'job_close_date': False, 'multiple_role': False, 'cv_past_experience': False, 'reinstate_application': False, 'application_status': True, 'feedback': False, 'assessment_timebox': False, 'assessment_link_problem': False, 'assessment_campatilibility': False, 'assessment_validity': False, 'disability': False, 'interview_reschedule': False, 'late_for_interview': False, 'interview_response_time': False, 'job_account_issue': False, 'age_limit': False, 'salary': False, 'work_experience': False, 'special_needs_at_work': False}, {'job_alerts': False, 'howto_apply': False, 'job_close_date': False, 'multiple_role': False, 'cv_past_experience': False, 'reinstate_application': False, 'application_status': True, 'feedback': False, 'assessment_timebox': False, 'assessment_link_problem': False, 'assessment_campatilibility': False, 'assessment_validity': False, 'disability': False, 'interview_reschedule': False, 'late_for_interview': False, 'interview_response_time': False, 'job_account_issue': False, 'age_limit': False, 'salary': False, 'work_experience': False, 'special_needs_at_work': False}, {'job_alerts': False, 'howto_apply': False, 'job_close_date': False, 'multiple_role': False, 'cv_past_experience': False, 'reinstate_application': False, 'application_status': False, 'feedback': True, 'assessment_timebox': False, 'assessment_link_problem': False, 'assessment_campatilibility': False, 'assessment_validity': False, 'disability': False, 'interview_reschedule': False, 'late_for_interview': False, 'interview_response_time': False, 'job_account_issue': False, 'age_limit': False, 'salary': False, 'work_experience': False, 'special_needs_at_work': False}, {'job_alerts': False, 'howto_apply': False, 'job_close_date': False, 'multiple_role': False, 'cv_past_experience': False, 'reinstate_application': False, 'application_status': False, 'feedback': True, 'assessment_timebox': False, 'assessment_link_problem': False, 'assessment_campatilibility': False, 'assessment_validity': False, 'disability': False, 'interview_reschedule': False, 'late_for_interview': False, 'interview_response_time': False, 'job_account_issue': False, 'age_limit': False, 'salary': False, 'work_experience': False, 'special_needs_at_work': False}, {'job_alerts': False, 'howto_apply': False, 'job_close_date': False, 'multiple_role': False, 'cv_past_experience': False, 'reinstate_application': False, 'application_status': False, 'feedback': True, 'assessment_timebox': False, 'assessment_link_problem': False, 'assessment_campatilibility': False, 'assessment_validity': False, 'disability': False, 'interview_reschedule': False, 'late_for_interview': False, 'interview_response_time': False, 'job_account_issue': False, 'age_limit': False, 'salary': False, 'work_experience': False, 'special_needs_at_work': False}, {'job_alerts': False, 'howto_apply': False, 'job_close_date': False, 'multiple_role': False, 'cv_past_experience': False, 'reinstate_application': False, 'application_status': False, 'feedback': True, 'assessment_timebox': False, 'assessment_link_problem': False, 'assessment_campatilibility': False, 'assessment_validity': False, 'disability': False, 'interview_reschedule': False, 'late_for_interview': False, 'interview_response_time': False, 'job_account_issue': False, 'age_limit': False, 'salary': False, 'work_experience': False, 'special_needs_at_work': False}, {'job_alerts': False, 'howto_apply': False, 'job_close_date': False, 'multiple_role': False, 'cv_past_experience': False, 'reinstate_application': False, 'application_status': False, 'feedback': True, 'assessment_timebox': False, 'assessment_link_problem': False, 'assessment_campatilibility': False, 'assessment_validity': False, 'disability': False, 'interview_reschedule': False, 'late_for_interview': False, 'interview_response_time': False, 'job_account_issue': False, 'age_limit': False, 'salary': False, 'work_experience': False, 'special_needs_at_work': False}, {'job_alerts': False, 'howto_apply': False, 'job_close_date': False, 'multiple_role': False, 'cv_past_experience': False, 'reinstate_application': False, 'application_status': False, 'feedback': True, 'assessment_timebox': False, 'assessment_link_problem': False, 'assessment_campatilibility': False, 'assessment_validity': False, 'disability': False, 'interview_reschedule': False, 'late_for_interview': False, 'interview_response_time': False, 'job_account_issue': False, 'age_limit': False, 'salary': False, 'work_experience': False, 'special_needs_at_work': False}, {'job_alerts': False, 'howto_apply': False, 'job_close_date': False, 'multiple_role': False, 'cv_past_experience': False, 'reinstate_application': False, 'application_status': False, 'feedback': True, 'assessment_timebox': False, 'assessment_link_problem': False, 'assessment_campatilibility': False, 'assessment_validity': False, 'disability': False, 'interview_reschedule': False, 'late_for_interview': False, 'interview_response_time': False, 'job_account_issue': False, 'age_limit': False, 'salary': False, 'work_experience': False, 'special_needs_at_work': False}, {'job_alerts': False, 'howto_apply': False, 'job_close_date': False, 'multiple_role': False, 'cv_past_experience': False, 'reinstate_application': False, 'application_status': False, 'feedback': True, 'assessment_timebox': False, 'assessment_link_problem': False, 'assessment_campatilibility': False, 'assessment_validity': False, 'disability': False, 'interview_reschedule': False, 'late_for_interview': False, 'interview_response_time': False, 'job_account_issue': False, 'age_limit': False, 'salary': False, 'work_experience': False, 'special_needs_at_work': False}, {'job_alerts': False, 'howto_apply': False, 'job_close_date': False, 'multiple_role': False, 'cv_past_experience': False, 'reinstate_application': False, 'application_status': False, 'feedback': True, 'assessment_timebox': False, 'assessment_link_problem': False, 'assessment_campatilibility': False, 'assessment_validity': False, 'disability': False, 'interview_reschedule': False, 'late_for_interview': False, 'interview_response_time': False, 'job_account_issue': False, 'age_limit': False, 'salary': False, 'work_experience': False, 'special_needs_at_work': False}, {'job_alerts': False, 'howto_apply': False, 'job_close_date': False, 'multiple_role': False, 'cv_past_experience': False, 'reinstate_application': False, 'application_status': False, 'feedback': True, 'assessment_timebox': False, 'assessment_link_problem': False, 'assessment_campatilibility': False, 'assessment_validity': False, 'disability': False, 'interview_reschedule': False, 'late_for_interview': False, 'interview_response_time': False, 'job_account_issue': False, 'age_limit': False, 'salary': False, 'work_experience': False, 'special_needs_at_work': False}, {'job_alerts': False, 'howto_apply': False, 'job_close_date': False, 'multiple_role': False, 'cv_past_experience': False, 'reinstate_application': False, 'application_status': False, 'feedback': True, 'assessment_timebox': False, 'assessment_link_problem': False, 'assessment_campatilibility': False, 'assessment_validity': False, 'disability': False, 'interview_reschedule': False, 'late_for_interview': False, 'interview_response_time': False, 'job_account_issue': False, 'age_limit': False, 'salary': False, 'work_experience': False, 'special_needs_at_work': False}, {'job_alerts': False, 'howto_apply': False, 'job_close_date': False, 'multiple_role': False, 'cv_past_experience': False, 'reinstate_application': False, 'application_status': False, 'feedback': True, 'assessment_timebox': False, 'assessment_link_problem': False, 'assessment_campatilibility': False, 'assessment_validity': False, 'disability': False, 'interview_reschedule': False, 'late_for_interview': False, 'interview_response_time': False, 'job_account_issue': False, 'age_limit': False, 'salary': False, 'work_experience': False, 'special_needs_at_work': False}, {'job_alerts': False, 'howto_apply': False, 'job_close_date': False, 'multiple_role': False, 'cv_past_experience': False, 'reinstate_application': False, 'application_status': False, 'feedback': True, 'assessment_timebox': False, 'assessment_link_problem': False, 'assessment_campatilibility': False, 'assessment_validity': False, 'disability': False, 'interview_reschedule': False, 'late_for_interview': False, 'interview_response_time': False, 'job_account_issue': False, 'age_limit': False, 'salary': False, 'work_experience': False, 'special_needs_at_work': False}, {'job_alerts': False, 'howto_apply': False, 'job_close_date': False, 'multiple_role': False, 'cv_past_experience': False, 'reinstate_application': False, 'application_status': False, 'feedback': True, 'assessment_timebox': False, 'assessment_link_problem': False, 'assessment_campatilibility': False, 'assessment_validity': False, 'disability': False, 'interview_reschedule': False, 'late_for_interview': False, 'interview_response_time': False, 'job_account_issue': False, 'age_limit': False, 'salary': False, 'work_experience': False, 'special_needs_at_work': False}, {'job_alerts': False, 'howto_apply': False, 'job_close_date': False, 'multiple_role': False, 'cv_past_experience': False, 'reinstate_application': False, 'application_status': False, 'feedback': True, 'assessment_timebox': False, 'assessment_link_problem': False, 'assessment_campatilibility': False, 'assessment_validity': False, 'disability': False, 'interview_reschedule': False, 'late_for_interview': False, 'interview_response_time': False, 'job_account_issue': False, 'age_limit': False, 'salary': False, 'work_experience': False, 'special_needs_at_work': False}, {'job_alerts': False, 'howto_apply': False, 'job_close_date': False, 'multiple_role': False, 'cv_past_experience': False, 'reinstate_application': False, 'application_status': False, 'feedback': True, 'assessment_timebox': False, 'assessment_link_problem': False, 'assessment_campatilibility': False, 'assessment_validity': False, 'disability': False, 'interview_reschedule': False, 'late_for_interview': False, 'interview_response_time': False, 'job_account_issue': False, 'age_limit': False, 'salary': False, 'work_experience': False, 'special_needs_at_work': False}, {'job_alerts': False, 'howto_apply': False, 'job_close_date': False, 'multiple_role': False, 'cv_past_experience': False, 'reinstate_application': False, 'application_status': False, 'feedback': True, 'assessment_timebox': False, 'assessment_link_problem': False, 'assessment_campatilibility': False, 'assessment_validity': False, 'disability': False, 'interview_reschedule': False, 'late_for_interview': False, 'interview_response_time': False, 'job_account_issue': False, 'age_limit': False, 'salary': False, 'work_experience': False, 'special_needs_at_work': False}, {'job_alerts': False, 'howto_apply': False, 'job_close_date': False, 'multiple_role': False, 'cv_past_experience': False, 'reinstate_application': False, 'application_status': False, 'feedback': True, 'assessment_timebox': False, 'assessment_link_problem': False, 'assessment_campatilibility': False, 'assessment_validity': False, 'disability': False, 'interview_reschedule': False, 'late_for_interview': False, 'interview_response_time': False, 'job_account_issue': False, 'age_limit': False, 'salary': False, 'work_experience': False, 'special_needs_at_work': False}, {'job_alerts': False, 'howto_apply': False, 'job_close_date': False, 'multiple_role': False, 'cv_past_experience': False, 'reinstate_application': False, 'application_status': False, 'feedback': True, 'assessment_timebox': False, 'assessment_link_problem': False, 'assessment_campatilibility': False, 'assessment_validity': False, 'disability': False, 'interview_reschedule': False, 'late_for_interview': False, 'interview_response_time': False, 'job_account_issue': False, 'age_limit': False, 'salary': False, 'work_experience': False, 'special_needs_at_work': False}, {'job_alerts': False, 'howto_apply': False, 'job_close_date': False, 'multiple_role': False, 'cv_past_experience': False, 'reinstate_application': False, 'application_status': False, 'feedback': True, 'assessment_timebox': False, 'assessment_link_problem': False, 'assessment_campatilibility': False, 'assessment_validity': False, 'disability': False, 'interview_reschedule': False, 'late_for_interview': False, 'interview_response_time': False, 'job_account_issue': False, 'age_limit': False, 'salary': False, 'work_experience': False, 'special_needs_at_work': False}, {'job_alerts': False, 'howto_apply': False, 'job_close_date': False, 'multiple_role': False, 'cv_past_experience': False, 'reinstate_application': False, 'application_status': False, 'feedback': True, 'assessment_timebox': False, 'assessment_link_problem': False, 'assessment_campatilibility': False, 'assessment_validity': False, 'disability': False, 'interview_reschedule': False, 'late_for_interview': False, 'interview_response_time': False, 'job_account_issue': False, 'age_limit': False, 'salary': False, 'work_experience': False, 'special_needs_at_work': False}, {'job_alerts': False, 'howto_apply': False, 'job_close_date': False, 'multiple_role': False, 'cv_past_experience': False, 'reinstate_application': False, 'application_status': False, 'feedback': True, 'assessment_timebox': False, 'assessment_link_problem': False, 'assessment_campatilibility': False, 'assessment_validity': False, 'disability': False, 'interview_reschedule': False, 'late_for_interview': False, 'interview_response_time': False, 'job_account_issue': False, 'age_limit': False, 'salary': False, 'work_experience': False, 'special_needs_at_work': False}, {'job_alerts': False, 'howto_apply': False, 'job_close_date': False, 'multiple_role': False, 'cv_past_experience': False, 'reinstate_application': False, 'application_status': False, 'feedback': True, 'assessment_timebox': False, 'assessment_link_problem': False, 'assessment_campatilibility': False, 'assessment_validity': False, 'disability': False, 'interview_reschedule': False, 'late_for_interview': False, 'interview_response_time': False, 'job_account_issue': False, 'age_limit': False, 'salary': False, 'work_experience': False, 'special_needs_at_work': False}, {'job_alerts': False, 'howto_apply': False, 'job_close_date': False, 'multiple_role': False, 'cv_past_experience': False, 'reinstate_application': False, 'application_status': False, 'feedback': True, 'assessment_timebox': False, 'assessment_link_problem': False, 'assessment_campatilibility': False, 'assessment_validity': False, 'disability': False, 'interview_reschedule': False, 'late_for_interview': False, 'interview_response_time': False, 'job_account_issue': False, 'age_limit': False, 'salary': False, 'work_experience': False, 'special_needs_at_work': False}, {'job_alerts': False, 'howto_apply': False, 'job_close_date': False, 'multiple_role': False, 'cv_past_experience': False, 'reinstate_application': False, 'application_status': False, 'feedback': True, 'assessment_timebox': False, 'assessment_link_problem': False, 'assessment_campatilibility': False, 'assessment_validity': False, 'disability': False, 'interview_reschedule': False, 'late_for_interview': False, 'interview_response_time': False, 'job_account_issue': False, 'age_limit': False, 'salary': False, 'work_experience': False, 'special_needs_at_work': False}, {'job_alerts': False, 'howto_apply': False, 'job_close_date': False, 'multiple_role': False, 'cv_past_experience': False, 'reinstate_application': False, 'application_status': False, 'feedback': True, 'assessment_timebox': False, 'assessment_link_problem': False, 'assessment_campatilibility': False, 'assessment_validity': False, 'disability': False, 'interview_reschedule': False, 'late_for_interview': False, 'interview_response_time': False, 'job_account_issue': False, 'age_limit': False, 'salary': False, 'work_experience': False, 'special_needs_at_work': False}, {'job_alerts': False, 'howto_apply': False, 'job_close_date': False, 'multiple_role': False, 'cv_past_experience': False, 'reinstate_application': False, 'application_status': False, 'feedback': False, 'assessment_timebox': True, 'assessment_link_problem': False, 'assessment_campatilibility': False, 'assessment_validity': False, 'disability': False, 'interview_reschedule': False, 'late_for_interview': False, 'interview_response_time': False, 'job_account_issue': False, 'age_limit': False, 'salary': False, 'work_experience': False, 'special_needs_at_work': False}, {'job_alerts': False, 'howto_apply': False, 'job_close_date': False, 'multiple_role': False, 'cv_past_experience': False, 'reinstate_application': False, 'application_status': False, 'feedback': False, 'assessment_timebox': True, 'assessment_link_problem': False, 'assessment_campatilibility': False, 'assessment_validity': False, 'disability': False, 'interview_reschedule': False, 'late_for_interview': False, 'interview_response_time': False, 'job_account_issue': False, 'age_limit': False, 'salary': False, 'work_experience': False, 'special_needs_at_work': False}, {'job_alerts': False, 'howto_apply': False, 'job_close_date': False, 'multiple_role': False, 'cv_past_experience': False, 'reinstate_application': False, 'application_status': False, 'feedback': False, 'assessment_timebox': True, 'assessment_link_problem': False, 'assessment_campatilibility': False, 'assessment_validity': False, 'disability': False, 'interview_reschedule': False, 'late_for_interview': False, 'interview_response_time': False, 'job_account_issue': False, 'age_limit': False, 'salary': False, 'work_experience': False, 'special_needs_at_work': False}, {'job_alerts': False, 'howto_apply': False, 'job_close_date': False, 'multiple_role': False, 'cv_past_experience': False, 'reinstate_application': False, 'application_status': False, 'feedback': False, 'assessment_timebox': True, 'assessment_link_problem': False, 'assessment_campatilibility': False, 'assessment_validity': False, 'disability': False, 'interview_reschedule': False, 'late_for_interview': False, 'interview_response_time': False, 'job_account_issue': False, 'age_limit': False, 'salary': False, 'work_experience': False, 'special_needs_at_work': False}, {'job_alerts': False, 'howto_apply': False, 'job_close_date': False, 'multiple_role': False, 'cv_past_experience': False, 'reinstate_application': False, 'application_status': False, 'feedback': False, 'assessment_timebox': True, 'assessment_link_problem': False, 'assessment_campatilibility': False, 'assessment_validity': False, 'disability': False, 'interview_reschedule': False, 'late_for_interview': False, 'interview_response_time': False, 'job_account_issue': False, 'age_limit': False, 'salary': False, 'work_experience': False, 'special_needs_at_work': False}, {'job_alerts': False, 'howto_apply': False, 'job_close_date': False, 'multiple_role': False, 'cv_past_experience': False, 'reinstate_application': False, 'application_status': False, 'feedback': False, 'assessment_timebox': True, 'assessment_link_problem': False, 'assessment_campatilibility': False, 'assessment_validity': False, 'disability': False, 'interview_reschedule': False, 'late_for_interview': False, 'interview_response_time': False, 'job_account_issue': False, 'age_limit': False, 'salary': False, 'work_experience': False, 'special_needs_at_work': False}, {'job_alerts': False, 'howto_apply': False, 'job_close_date': False, 'multiple_role': False, 'cv_past_experience': False, 'reinstate_application': False, 'application_status': False, 'feedback': False, 'assessment_timebox': True, 'assessment_link_problem': False, 'assessment_campatilibility': False, 'assessment_validity': False, 'disability': False, 'interview_reschedule': False, 'late_for_interview': False, 'interview_response_time': False, 'job_account_issue': False, 'age_limit': False, 'salary': False, 'work_experience': False, 'special_needs_at_work': False}, {'job_alerts': False, 'howto_apply': False, 'job_close_date': False, 'multiple_role': False, 'cv_past_experience': False, 'reinstate_application': False, 'application_status': False, 'feedback': False, 'assessment_timebox': True, 'assessment_link_problem': False, 'assessment_campatilibility': False, 'assessment_validity': False, 'disability': False, 'interview_reschedule': False, 'late_for_interview': False, 'interview_response_time': False, 'job_account_issue': False, 'age_limit': False, 'salary': False, 'work_experience': False, 'special_needs_at_work': False}, {'job_alerts': False, 'howto_apply': False, 'job_close_date': False, 'multiple_role': False, 'cv_past_experience': False, 'reinstate_application': False, 'application_status': False, 'feedback': False, 'assessment_timebox': True, 'assessment_link_problem': False, 'assessment_campatilibility': False, 'assessment_validity': False, 'disability': False, 'interview_reschedule': False, 'late_for_interview': False, 'interview_response_time': False, 'job_account_issue': False, 'age_limit': False, 'salary': False, 'work_experience': False, 'special_needs_at_work': False}, {'job_alerts': False, 'howto_apply': False, 'job_close_date': False, 'multiple_role': False, 'cv_past_experience': False, 'reinstate_application': False, 'application_status': False, 'feedback': False, 'assessment_timebox': True, 'assessment_link_problem': False, 'assessment_campatilibility': False, 'assessment_validity': False, 'disability': False, 'interview_reschedule': False, 'late_for_interview': False, 'interview_response_time': False, 'job_account_issue': False, 'age_limit': False, 'salary': False, 'work_experience': False, 'special_needs_at_work': False}, {'job_alerts': False, 'howto_apply': False, 'job_close_date': False, 'multiple_role': False, 'cv_past_experience': False, 'reinstate_application': False, 'application_status': False, 'feedback': False, 'assessment_timebox': True, 'assessment_link_problem': False, 'assessment_campatilibility': False, 'assessment_validity': False, 'disability': False, 'interview_reschedule': False, 'late_for_interview': False, 'interview_response_time': False, 'job_account_issue': False, 'age_limit': False, 'salary': False, 'work_experience': False, 'special_needs_at_work': False}, {'job_alerts': False, 'howto_apply': False, 'job_close_date': False, 'multiple_role': False, 'cv_past_experience': False, 'reinstate_application': False, 'application_status': False, 'feedback': False, 'assessment_timebox': True, 'assessment_link_problem': False, 'assessment_campatilibility': False, 'assessment_validity': False, 'disability': False, 'interview_reschedule': False, 'late_for_interview': False, 'interview_response_time': False, 'job_account_issue': False, 'age_limit': False, 'salary': False, 'work_experience': False, 'special_needs_at_work': False}, {'job_alerts': False, 'howto_apply': False, 'job_close_date': False, 'multiple_role': False, 'cv_past_experience': False, 'reinstate_application': False, 'application_status': False, 'feedback': False, 'assessment_timebox': True, 'assessment_link_problem': False, 'assessment_campatilibility': False, 'assessment_validity': False, 'disability': False, 'interview_reschedule': False, 'late_for_interview': False, 'interview_response_time': False, 'job_account_issue': False, 'age_limit': False, 'salary': False, 'work_experience': False, 'special_needs_at_work': False}, {'job_alerts': False, 'howto_apply': False, 'job_close_date': False, 'multiple_role': False, 'cv_past_experience': False, 'reinstate_application': False, 'application_status': False, 'feedback': False, 'assessment_timebox': True, 'assessment_link_problem': False, 'assessment_campatilibility': False, 'assessment_validity': False, 'disability': False, 'interview_reschedule': False, 'late_for_interview': False, 'interview_response_time': False, 'job_account_issue': False, 'age_limit': False, 'salary': False, 'work_experience': False, 'special_needs_at_work': False}, {'job_alerts': False, 'howto_apply': False, 'job_close_date': False, 'multiple_role': False, 'cv_past_experience': False, 'reinstate_application': False, 'application_status': False, 'feedback': False, 'assessment_timebox': True, 'assessment_link_problem': False, 'assessment_campatilibility': False, 'assessment_validity': False, 'disability': False, 'interview_reschedule': False, 'late_for_interview': False, 'interview_response_time': False, 'job_account_issue': False, 'age_limit': False, 'salary': False, 'work_experience': False, 'special_needs_at_work': False}, {'job_alerts': False, 'howto_apply': False, 'job_close_date': False, 'multiple_role': False, 'cv_past_experience': False, 'reinstate_application': False, 'application_status': False, 'feedback': False, 'assessment_timebox': True, 'assessment_link_problem': False, 'assessment_campatilibility': False, 'assessment_validity': False, 'disability': False, 'interview_reschedule': False, 'late_for_interview': False, 'interview_response_time': False, 'job_account_issue': False, 'age_limit': False, 'salary': False, 'work_experience': False, 'special_needs_at_work': False}, {'job_alerts': False, 'howto_apply': False, 'job_close_date': False, 'multiple_role': False, 'cv_past_experience': False, 'reinstate_application': False, 'application_status': False, 'feedback': False, 'assessment_timebox': False, 'assessment_link_problem': True, 'assessment_campatilibility': False, 'assessment_validity': False, 'disability': False, 'interview_reschedule': False, 'late_for_interview': False, 'interview_response_time': False, 'job_account_issue': False, 'age_limit': False, 'salary': False, 'work_experience': False, 'special_needs_at_work': False}, {'job_alerts': False, 'howto_apply': False, 'job_close_date': False, 'multiple_role': False, 'cv_past_experience': False, 'reinstate_application': False, 'application_status': False, 'feedback': False, 'assessment_timebox': False, 'assessment_link_problem': True, 'assessment_campatilibility': False, 'assessment_validity': False, 'disability': False, 'interview_reschedule': False, 'late_for_interview': False, 'interview_response_time': False, 'job_account_issue': False, 'age_limit': False, 'salary': False, 'work_experience': False, 'special_needs_at_work': False}, {'job_alerts': False, 'howto_apply': False, 'job_close_date': False, 'multiple_role': False, 'cv_past_experience': False, 'reinstate_application': False, 'application_status': False, 'feedback': False, 'assessment_timebox': False, 'assessment_link_problem': True, 'assessment_campatilibility': False, 'assessment_validity': False, 'disability': False, 'interview_reschedule': False, 'late_for_interview': False, 'interview_response_time': False, 'job_account_issue': False, 'age_limit': False, 'salary': False, 'work_experience': False, 'special_needs_at_work': False}, {'job_alerts': False, 'howto_apply': False, 'job_close_date': False, 'multiple_role': False, 'cv_past_experience': False, 'reinstate_application': False, 'application_status': False, 'feedback': False, 'assessment_timebox': False, 'assessment_link_problem': True, 'assessment_campatilibility': False, 'assessment_validity': False, 'disability': False, 'interview_reschedule': False, 'late_for_interview': False, 'interview_response_time': False, 'job_account_issue': False, 'age_limit': False, 'salary': False, 'work_experience': False, 'special_needs_at_work': False}, {'job_alerts': False, 'howto_apply': False, 'job_close_date': False, 'multiple_role': False, 'cv_past_experience': False, 'reinstate_application': False, 'application_status': False, 'feedback': False, 'assessment_timebox': False, 'assessment_link_problem': True, 'assessment_campatilibility': False, 'assessment_validity': False, 'disability': False, 'interview_reschedule': False, 'late_for_interview': False, 'interview_response_time': False, 'job_account_issue': False, 'age_limit': False, 'salary': False, 'work_experience': False, 'special_needs_at_work': False}, {'job_alerts': False, 'howto_apply': False, 'job_close_date': False, 'multiple_role': False, 'cv_past_experience': False, 'reinstate_application': False, 'application_status': False, 'feedback': False, 'assessment_timebox': False, 'assessment_link_problem': True, 'assessment_campatilibility': False, 'assessment_validity': False, 'disability': False, 'interview_reschedule': False, 'late_for_interview': False, 'interview_response_time': False, 'job_account_issue': False, 'age_limit': False, 'salary': False, 'work_experience': False, 'special_needs_at_work': False}, {'job_alerts': False, 'howto_apply': False, 'job_close_date': False, 'multiple_role': False, 'cv_past_experience': False, 'reinstate_application': False, 'application_status': False, 'feedback': False, 'assessment_timebox': False, 'assessment_link_problem': True, 'assessment_campatilibility': False, 'assessment_validity': False, 'disability': False, 'interview_reschedule': False, 'late_for_interview': False, 'interview_response_time': False, 'job_account_issue': False, 'age_limit': False, 'salary': False, 'work_experience': False, 'special_needs_at_work': False}, {'job_alerts': False, 'howto_apply': False, 'job_close_date': False, 'multiple_role': False, 'cv_past_experience': False, 'reinstate_application': False, 'application_status': False, 'feedback': False, 'assessment_timebox': False, 'assessment_link_problem': True, 'assessment_campatilibility': False, 'assessment_validity': False, 'disability': False, 'interview_reschedule': False, 'late_for_interview': False, 'interview_response_time': False, 'job_account_issue': False, 'age_limit': False, 'salary': False, 'work_experience': False, 'special_needs_at_work': False}, {'job_alerts': False, 'howto_apply': False, 'job_close_date': False, 'multiple_role': False, 'cv_past_experience': False, 'reinstate_application': False, 'application_status': False, 'feedback': False, 'assessment_timebox': False, 'assessment_link_problem': True, 'assessment_campatilibility': False, 'assessment_validity': False, 'disability': False, 'interview_reschedule': False, 'late_for_interview': False, 'interview_response_time': False, 'job_account_issue': False, 'age_limit': False, 'salary': False, 'work_experience': False, 'special_needs_at_work': False}, {'job_alerts': False, 'howto_apply': False, 'job_close_date': False, 'multiple_role': False, 'cv_past_experience': False, 'reinstate_application': False, 'application_status': False, 'feedback': False, 'assessment_timebox': False, 'assessment_link_problem': True, 'assessment_campatilibility': False, 'assessment_validity': False, 'disability': False, 'interview_reschedule': False, 'late_for_interview': False, 'interview_response_time': False, 'job_account_issue': False, 'age_limit': False, 'salary': False, 'work_experience': False, 'special_needs_at_work': False}, {'job_alerts': False, 'howto_apply': False, 'job_close_date': False, 'multiple_role': False, 'cv_past_experience': False, 'reinstate_application': False, 'application_status': False, 'feedback': False, 'assessment_timebox': False, 'assessment_link_problem': True, 'assessment_campatilibility': False, 'assessment_validity': False, 'disability': False, 'interview_reschedule': False, 'late_for_interview': False, 'interview_response_time': False, 'job_account_issue': False, 'age_limit': False, 'salary': False, 'work_experience': False, 'special_needs_at_work': False}, {'job_alerts': False, 'howto_apply': False, 'job_close_date': False, 'multiple_role': False, 'cv_past_experience': False, 'reinstate_application': False, 'application_status': False, 'feedback': False, 'assessment_timebox': False, 'assessment_link_problem': True, 'assessment_campatilibility': False, 'assessment_validity': False, 'disability': False, 'interview_reschedule': False, 'late_for_interview': False, 'interview_response_time': False, 'job_account_issue': False, 'age_limit': False, 'salary': False, 'work_experience': False, 'special_needs_at_work': False}, {'job_alerts': False, 'howto_apply': False, 'job_close_date': False, 'multiple_role': False, 'cv_past_experience': False, 'reinstate_application': False, 'application_status': False, 'feedback': False, 'assessment_timebox': False, 'assessment_link_problem': True, 'assessment_campatilibility': False, 'assessment_validity': False, 'disability': False, 'interview_reschedule': False, 'late_for_interview': False, 'interview_response_time': False, 'job_account_issue': False, 'age_limit': False, 'salary': False, 'work_experience': False, 'special_needs_at_work': False}, {'job_alerts': False, 'howto_apply': False, 'job_close_date': False, 'multiple_role': False, 'cv_past_experience': False, 'reinstate_application': False, 'application_status': False, 'feedback': False, 'assessment_timebox': False, 'assessment_link_problem': True, 'assessment_campatilibility': False, 'assessment_validity': False, 'disability': False, 'interview_reschedule': False, 'late_for_interview': False, 'interview_response_time': False, 'job_account_issue': False, 'age_limit': False, 'salary': False, 'work_experience': False, 'special_needs_at_work': False}, {'job_alerts': False, 'howto_apply': False, 'job_close_date': False, 'multiple_role': False, 'cv_past_experience': False, 'reinstate_application': False, 'application_status': False, 'feedback': False, 'assessment_timebox': False, 'assessment_link_problem': True, 'assessment_campatilibility': False, 'assessment_validity': False, 'disability': False, 'interview_reschedule': False, 'late_for_interview': False, 'interview_response_time': False, 'job_account_issue': False, 'age_limit': False, 'salary': False, 'work_experience': False, 'special_needs_at_work': False}, {'job_alerts': False, 'howto_apply': False, 'job_close_date': False, 'multiple_role': False, 'cv_past_experience': False, 'reinstate_application': False, 'application_status': False, 'feedback': False, 'assessment_timebox': False, 'assessment_link_problem': True, 'assessment_campatilibility': False, 'assessment_validity': False, 'disability': False, 'interview_reschedule': False, 'late_for_interview': False, 'interview_response_time': False, 'job_account_issue': False, 'age_limit': False, 'salary': False, 'work_experience': False, 'special_needs_at_work': False}, {'job_alerts': False, 'howto_apply': False, 'job_close_date': False, 'multiple_role': False, 'cv_past_experience': False, 'reinstate_application': False, 'application_status': False, 'feedback': False, 'assessment_timebox': False, 'assessment_link_problem': False, 'assessment_campatilibility': True, 'assessment_validity': False, 'disability': False, 'interview_reschedule': False, 'late_for_interview': False, 'interview_response_time': False, 'job_account_issue': False, 'age_limit': False, 'salary': False, 'work_experience': False, 'special_needs_at_work': False}, {'job_alerts': False, 'howto_apply': False, 'job_close_date': False, 'multiple_role': False, 'cv_past_experience': False, 'reinstate_application': False, 'application_status': False, 'feedback': False, 'assessment_timebox': False, 'assessment_link_problem': False, 'assessment_campatilibility': True, 'assessment_validity': False, 'disability': False, 'interview_reschedule': False, 'late_for_interview': False, 'interview_response_time': False, 'job_account_issue': False, 'age_limit': False, 'salary': False, 'work_experience': False, 'special_needs_at_work': False}, {'job_alerts': False, 'howto_apply': False, 'job_close_date': False, 'multiple_role': False, 'cv_past_experience': False, 'reinstate_application': False, 'application_status': False, 'feedback': False, 'assessment_timebox': False, 'assessment_link_problem': False, 'assessment_campatilibility': True, 'assessment_validity': False, 'disability': False, 'interview_reschedule': False, 'late_for_interview': False, 'interview_response_time': False, 'job_account_issue': False, 'age_limit': False, 'salary': False, 'work_experience': False, 'special_needs_at_work': False}, {'job_alerts': False, 'howto_apply': False, 'job_close_date': False, 'multiple_role': False, 'cv_past_experience': False, 'reinstate_application': False, 'application_status': False, 'feedback': False, 'assessment_timebox': False, 'assessment_link_problem': False, 'assessment_campatilibility': True, 'assessment_validity': False, 'disability': False, 'interview_reschedule': False, 'late_for_interview': False, 'interview_response_time': False, 'job_account_issue': False, 'age_limit': False, 'salary': False, 'work_experience': False, 'special_needs_at_work': False}, {'job_alerts': False, 'howto_apply': False, 'job_close_date': False, 'multiple_role': False, 'cv_past_experience': False, 'reinstate_application': False, 'application_status': False, 'feedback': False, 'assessment_timebox': False, 'assessment_link_problem': False, 'assessment_campatilibility': True, 'assessment_validity': False, 'disability': False, 'interview_reschedule': False, 'late_for_interview': False, 'interview_response_time': False, 'job_account_issue': False, 'age_limit': False, 'salary': False, 'work_experience': False, 'special_needs_at_work': False}, {'job_alerts': False, 'howto_apply': False, 'job_close_date': False, 'multiple_role': False, 'cv_past_experience': False, 'reinstate_application': False, 'application_status': False, 'feedback': False, 'assessment_timebox': False, 'assessment_link_problem': False, 'assessment_campatilibility': True, 'assessment_validity': False, 'disability': False, 'interview_reschedule': False, 'late_for_interview': False, 'interview_response_time': False, 'job_account_issue': False, 'age_limit': False, 'salary': False, 'work_experience': False, 'special_needs_at_work': False}, {'job_alerts': False, 'howto_apply': False, 'job_close_date': False, 'multiple_role': False, 'cv_past_experience': False, 'reinstate_application': False, 'application_status': False, 'feedback': False, 'assessment_timebox': False, 'assessment_link_problem': False, 'assessment_campatilibility': True, 'assessment_validity': False, 'disability': False, 'interview_reschedule': False, 'late_for_interview': False, 'interview_response_time': False, 'job_account_issue': False, 'age_limit': False, 'salary': False, 'work_experience': False, 'special_needs_at_work': False}, {'job_alerts': False, 'howto_apply': False, 'job_close_date': False, 'multiple_role': False, 'cv_past_experience': False, 'reinstate_application': False, 'application_status': False, 'feedback': False, 'assessment_timebox': False, 'assessment_link_problem': False, 'assessment_campatilibility': True, 'assessment_validity': False, 'disability': False, 'interview_reschedule': False, 'late_for_interview': False, 'interview_response_time': False, 'job_account_issue': False, 'age_limit': False, 'salary': False, 'work_experience': False, 'special_needs_at_work': False}, {'job_alerts': False, 'howto_apply': False, 'job_close_date': False, 'multiple_role': False, 'cv_past_experience': False, 'reinstate_application': False, 'application_status': False, 'feedback': False, 'assessment_timebox': False, 'assessment_link_problem': False, 'assessment_campatilibility': True, 'assessment_validity': False, 'disability': False, 'interview_reschedule': False, 'late_for_interview': False, 'interview_response_time': False, 'job_account_issue': False, 'age_limit': False, 'salary': False, 'work_experience': False, 'special_needs_at_work': False}, {'job_alerts': False, 'howto_apply': False, 'job_close_date': False, 'multiple_role': False, 'cv_past_experience': False, 'reinstate_application': False, 'application_status': False, 'feedback': False, 'assessment_timebox': False, 'assessment_link_problem': False, 'assessment_campatilibility': True, 'assessment_validity': False, 'disability': False, 'interview_reschedule': False, 'late_for_interview': False, 'interview_response_time': False, 'job_account_issue': False, 'age_limit': False, 'salary': False, 'work_experience': False, 'special_needs_at_work': False}, {'job_alerts': False, 'howto_apply': False, 'job_close_date': False, 'multiple_role': False, 'cv_past_experience': False, 'reinstate_application': False, 'application_status': False, 'feedback': False, 'assessment_timebox': False, 'assessment_link_problem': False, 'assessment_campatilibility': True, 'assessment_validity': False, 'disability': False, 'interview_reschedule': False, 'late_for_interview': False, 'interview_response_time': False, 'job_account_issue': False, 'age_limit': False, 'salary': False, 'work_experience': False, 'special_needs_at_work': False}, {'job_alerts': False, 'howto_apply': False, 'job_close_date': False, 'multiple_role': False, 'cv_past_experience': False, 'reinstate_application': False, 'application_status': False, 'feedback': False, 'assessment_timebox': False, 'assessment_link_problem': False, 'assessment_campatilibility': True, 'assessment_validity': False, 'disability': False, 'interview_reschedule': False, 'late_for_interview': False, 'interview_response_time': False, 'job_account_issue': False, 'age_limit': False, 'salary': False, 'work_experience': False, 'special_needs_at_work': False}, {'job_alerts': False, 'howto_apply': False, 'job_close_date': False, 'multiple_role': False, 'cv_past_experience': False, 'reinstate_application': False, 'application_status': False, 'feedback': False, 'assessment_timebox': False, 'assessment_link_problem': False, 'assessment_campatilibility': True, 'assessment_validity': False, 'disability': False, 'interview_reschedule': False, 'late_for_interview': False, 'interview_response_time': False, 'job_account_issue': False, 'age_limit': False, 'salary': False, 'work_experience': False, 'special_needs_at_work': False}, {'job_alerts': False, 'howto_apply': False, 'job_close_date': False, 'multiple_role': False, 'cv_past_experience': False, 'reinstate_application': False, 'application_status': False, 'feedback': False, 'assessment_timebox': False, 'assessment_link_problem': False, 'assessment_campatilibility': True, 'assessment_validity': False, 'disability': False, 'interview_reschedule': False, 'late_for_interview': False, 'interview_response_time': False, 'job_account_issue': False, 'age_limit': False, 'salary': False, 'work_experience': False, 'special_needs_at_work': False}, {'job_alerts': False, 'howto_apply': False, 'job_close_date': False, 'multiple_role': False, 'cv_past_experience': False, 'reinstate_application': False, 'application_status': False, 'feedback': False, 'assessment_timebox': False, 'assessment_link_problem': False, 'assessment_campatilibility': True, 'assessment_validity': False, 'disability': False, 'interview_reschedule': False, 'late_for_interview': False, 'interview_response_time': False, 'job_account_issue': False, 'age_limit': False, 'salary': False, 'work_experience': False, 'special_needs_at_work': False}, {'job_alerts': False, 'howto_apply': False, 'job_close_date': False, 'multiple_role': False, 'cv_past_experience': False, 'reinstate_application': False, 'application_status': False, 'feedback': False, 'assessment_timebox': False, 'assessment_link_problem': False, 'assessment_campatilibility': True, 'assessment_validity': False, 'disability': False, 'interview_reschedule': False, 'late_for_interview': False, 'interview_response_time': False, 'job_account_issue': False, 'age_limit': False, 'salary': False, 'work_experience': False, 'special_needs_at_work': False}, {'job_alerts': False, 'howto_apply': False, 'job_close_date': False, 'multiple_role': False, 'cv_past_experience': False, 'reinstate_application': False, 'application_status': False, 'feedback': False, 'assessment_timebox': False, 'assessment_link_problem': False, 'assessment_campatilibility': True, 'assessment_validity': False, 'disability': False, 'interview_reschedule': False, 'late_for_interview': False, 'interview_response_time': False, 'job_account_issue': False, 'age_limit': False, 'salary': False, 'work_experience': False, 'special_needs_at_work': False}, {'job_alerts': False, 'howto_apply': False, 'job_close_date': False, 'multiple_role': False, 'cv_past_experience': False, 'reinstate_application': False, 'application_status': False, 'feedback': False, 'assessment_timebox': False, 'assessment_link_problem': False, 'assessment_campatilibility': True, 'assessment_validity': False, 'disability': False, 'interview_reschedule': False, 'late_for_interview': False, 'interview_response_time': False, 'job_account_issue': False, 'age_limit': False, 'salary': False, 'work_experience': False, 'special_needs_at_work': False}, {'job_alerts': False, 'howto_apply': False, 'job_close_date': False, 'multiple_role': False, 'cv_past_experience': False, 'reinstate_application': False, 'application_status': False, 'feedback': False, 'assessment_timebox': False, 'assessment_link_problem': False, 'assessment_campatilibility': True, 'assessment_validity': False, 'disability': False, 'interview_reschedule': False, 'late_for_interview': False, 'interview_response_time': False, 'job_account_issue': False, 'age_limit': False, 'salary': False, 'work_experience': False, 'special_needs_at_work': False}, {'job_alerts': False, 'howto_apply': False, 'job_close_date': False, 'multiple_role': False, 'cv_past_experience': False, 'reinstate_application': False, 'application_status': False, 'feedback': False, 'assessment_timebox': False, 'assessment_link_problem': False, 'assessment_campatilibility': True, 'assessment_validity': False, 'disability': False, 'interview_reschedule': False, 'late_for_interview': False, 'interview_response_time': False, 'job_account_issue': False, 'age_limit': False, 'salary': False, 'work_experience': False, 'special_needs_at_work': False}, {'job_alerts': False, 'howto_apply': False, 'job_close_date': False, 'multiple_role': False, 'cv_past_experience': False, 'reinstate_application': False, 'application_status': False, 'feedback': False, 'assessment_timebox': False, 'assessment_link_problem': False, 'assessment_campatilibility': True, 'assessment_validity': False, 'disability': False, 'interview_reschedule': False, 'late_for_interview': False, 'interview_response_time': False, 'job_account_issue': False, 'age_limit': False, 'salary': False, 'work_experience': False, 'special_needs_at_work': False}, {'job_alerts': False, 'howto_apply': False, 'job_close_date': False, 'multiple_role': False, 'cv_past_experience': False, 'reinstate_application': False, 'application_status': False, 'feedback': False, 'assessment_timebox': False, 'assessment_link_problem': False, 'assessment_campatilibility': True, 'assessment_validity': False, 'disability': False, 'interview_reschedule': False, 'late_for_interview': False, 'interview_response_time': False, 'job_account_issue': False, 'age_limit': False, 'salary': False, 'work_experience': False, 'special_needs_at_work': False}, {'job_alerts': False, 'howto_apply': False, 'job_close_date': False, 'multiple_role': False, 'cv_past_experience': False, 'reinstate_application': False, 'application_status': False, 'feedback': False, 'assessment_timebox': False, 'assessment_link_problem': False, 'assessment_campatilibility': True, 'assessment_validity': False, 'disability': False, 'interview_reschedule': False, 'late_for_interview': False, 'interview_response_time': False, 'job_account_issue': False, 'age_limit': False, 'salary': False, 'work_experience': False, 'special_needs_at_work': False}, {'job_alerts': False, 'howto_apply': False, 'job_close_date': False, 'multiple_role': False, 'cv_past_experience': False, 'reinstate_application': False, 'application_status': False, 'feedback': False, 'assessment_timebox': False, 'assessment_link_problem': False, 'assessment_campatilibility': True, 'assessment_validity': False, 'disability': False, 'interview_reschedule': False, 'late_for_interview': False, 'interview_response_time': False, 'job_account_issue': False, 'age_limit': False, 'salary': False, 'work_experience': False, 'special_needs_at_work': False}, {'job_alerts': False, 'howto_apply': False, 'job_close_date': False, 'multiple_role': False, 'cv_past_experience': False, 'reinstate_application': False, 'application_status': False, 'feedback': False, 'assessment_timebox': False, 'assessment_link_problem': False, 'assessment_campatilibility': False, 'assessment_validity': True, 'disability': False, 'interview_reschedule': False, 'late_for_interview': False, 'interview_response_time': False, 'job_account_issue': False, 'age_limit': False, 'salary': False, 'work_experience': False, 'special_needs_at_work': False}, {'job_alerts': False, 'howto_apply': False, 'job_close_date': False, 'multiple_role': False, 'cv_past_experience': False, 'reinstate_application': False, 'application_status': False, 'feedback': False, 'assessment_timebox': False, 'assessment_link_problem': False, 'assessment_campatilibility': False, 'assessment_validity': True, 'disability': False, 'interview_reschedule': False, 'late_for_interview': False, 'interview_response_time': False, 'job_account_issue': False, 'age_limit': False, 'salary': False, 'work_experience': False, 'special_needs_at_work': False}, {'job_alerts': False, 'howto_apply': False, 'job_close_date': False, 'multiple_role': False, 'cv_past_experience': False, 'reinstate_application': False, 'application_status': False, 'feedback': False, 'assessment_timebox': False, 'assessment_link_problem': False, 'assessment_campatilibility': False, 'assessment_validity': True, 'disability': False, 'interview_reschedule': False, 'late_for_interview': False, 'interview_response_time': False, 'job_account_issue': False, 'age_limit': False, 'salary': False, 'work_experience': False, 'special_needs_at_work': False}, {'job_alerts': False, 'howto_apply': False, 'job_close_date': False, 'multiple_role': False, 'cv_past_experience': False, 'reinstate_application': False, 'application_status': False, 'feedback': False, 'assessment_timebox': False, 'assessment_link_problem': False, 'assessment_campatilibility': False, 'assessment_validity': True, 'disability': False, 'interview_reschedule': False, 'late_for_interview': False, 'interview_response_time': False, 'job_account_issue': False, 'age_limit': False, 'salary': False, 'work_experience': False, 'special_needs_at_work': False}, {'job_alerts': False, 'howto_apply': False, 'job_close_date': False, 'multiple_role': False, 'cv_past_experience': False, 'reinstate_application': False, 'application_status': False, 'feedback': False, 'assessment_timebox': False, 'assessment_link_problem': False, 'assessment_campatilibility': False, 'assessment_validity': True, 'disability': False, 'interview_reschedule': False, 'late_for_interview': False, 'interview_response_time': False, 'job_account_issue': False, 'age_limit': False, 'salary': False, 'work_experience': False, 'special_needs_at_work': False}, {'job_alerts': False, 'howto_apply': False, 'job_close_date': False, 'multiple_role': False, 'cv_past_experience': False, 'reinstate_application': False, 'application_status': False, 'feedback': False, 'assessment_timebox': False, 'assessment_link_problem': False, 'assessment_campatilibility': False, 'assessment_validity': True, 'disability': False, 'interview_reschedule': False, 'late_for_interview': False, 'interview_response_time': False, 'job_account_issue': False, 'age_limit': False, 'salary': False, 'work_experience': False, 'special_needs_at_work': False}, {'job_alerts': False, 'howto_apply': False, 'job_close_date': False, 'multiple_role': False, 'cv_past_experience': False, 'reinstate_application': False, 'application_status': False, 'feedback': False, 'assessment_timebox': False, 'assessment_link_problem': False, 'assessment_campatilibility': False, 'assessment_validity': True, 'disability': False, 'interview_reschedule': False, 'late_for_interview': False, 'interview_response_time': False, 'job_account_issue': False, 'age_limit': False, 'salary': False, 'work_experience': False, 'special_needs_at_work': False}, {'job_alerts': False, 'howto_apply': False, 'job_close_date': False, 'multiple_role': False, 'cv_past_experience': False, 'reinstate_application': False, 'application_status': False, 'feedback': False, 'assessment_timebox': False, 'assessment_link_problem': False, 'assessment_campatilibility': False, 'assessment_validity': True, 'disability': False, 'interview_reschedule': False, 'late_for_interview': False, 'interview_response_time': False, 'job_account_issue': False, 'age_limit': False, 'salary': False, 'work_experience': False, 'special_needs_at_work': False}, {'job_alerts': False, 'howto_apply': False, 'job_close_date': False, 'multiple_role': False, 'cv_past_experience': False, 'reinstate_application': False, 'application_status': False, 'feedback': False, 'assessment_timebox': False, 'assessment_link_problem': False, 'assessment_campatilibility': False, 'assessment_validity': True, 'disability': False, 'interview_reschedule': False, 'late_for_interview': False, 'interview_response_time': False, 'job_account_issue': False, 'age_limit': False, 'salary': False, 'work_experience': False, 'special_needs_at_work': False}, {'job_alerts': False, 'howto_apply': False, 'job_close_date': False, 'multiple_role': False, 'cv_past_experience': False, 'reinstate_application': False, 'application_status': False, 'feedback': False, 'assessment_timebox': False, 'assessment_link_problem': False, 'assessment_campatilibility': False, 'assessment_validity': True, 'disability': False, 'interview_reschedule': False, 'late_for_interview': False, 'interview_response_time': False, 'job_account_issue': False, 'age_limit': False, 'salary': False, 'work_experience': False, 'special_needs_at_work': False}, {'job_alerts': False, 'howto_apply': False, 'job_close_date': False, 'multiple_role': False, 'cv_past_experience': False, 'reinstate_application': False, 'application_status': False, 'feedback': False, 'assessment_timebox': False, 'assessment_link_problem': False, 'assessment_campatilibility': False, 'assessment_validity': False, 'disability': True, 'interview_reschedule': False, 'late_for_interview': False, 'interview_response_time': False, 'job_account_issue': False, 'age_limit': False, 'salary': False, 'work_experience': False, 'special_needs_at_work': False}, {'job_alerts': False, 'howto_apply': False, 'job_close_date': False, 'multiple_role': False, 'cv_past_experience': False, 'reinstate_application': False, 'application_status': False, 'feedback': False, 'assessment_timebox': False, 'assessment_link_problem': False, 'assessment_campatilibility': False, 'assessment_validity': False, 'disability': True, 'interview_reschedule': False, 'late_for_interview': False, 'interview_response_time': False, 'job_account_issue': False, 'age_limit': False, 'salary': False, 'work_experience': False, 'special_needs_at_work': False}, {'job_alerts': False, 'howto_apply': False, 'job_close_date': False, 'multiple_role': False, 'cv_past_experience': False, 'reinstate_application': False, 'application_status': False, 'feedback': False, 'assessment_timebox': False, 'assessment_link_problem': False, 'assessment_campatilibility': False, 'assessment_validity': False, 'disability': True, 'interview_reschedule': False, 'late_for_interview': False, 'interview_response_time': False, 'job_account_issue': False, 'age_limit': False, 'salary': False, 'work_experience': False, 'special_needs_at_work': False}, {'job_alerts': False, 'howto_apply': False, 'job_close_date': False, 'multiple_role': False, 'cv_past_experience': False, 'reinstate_application': False, 'application_status': False, 'feedback': False, 'assessment_timebox': False, 'assessment_link_problem': False, 'assessment_campatilibility': False, 'assessment_validity': False, 'disability': True, 'interview_reschedule': False, 'late_for_interview': False, 'interview_response_time': False, 'job_account_issue': False, 'age_limit': False, 'salary': False, 'work_experience': False, 'special_needs_at_work': False}, {'job_alerts': False, 'howto_apply': False, 'job_close_date': False, 'multiple_role': False, 'cv_past_experience': False, 'reinstate_application': False, 'application_status': False, 'feedback': False, 'assessment_timebox': False, 'assessment_link_problem': False, 'assessment_campatilibility': False, 'assessment_validity': False, 'disability': True, 'interview_reschedule': False, 'late_for_interview': False, 'interview_response_time': False, 'job_account_issue': False, 'age_limit': False, 'salary': False, 'work_experience': False, 'special_needs_at_work': False}, {'job_alerts': False, 'howto_apply': False, 'job_close_date': False, 'multiple_role': False, 'cv_past_experience': False, 'reinstate_application': False, 'application_status': False, 'feedback': False, 'assessment_timebox': False, 'assessment_link_problem': False, 'assessment_campatilibility': False, 'assessment_validity': False, 'disability': True, 'interview_reschedule': False, 'late_for_interview': False, 'interview_response_time': False, 'job_account_issue': False, 'age_limit': False, 'salary': False, 'work_experience': False, 'special_needs_at_work': False}, {'job_alerts': False, 'howto_apply': False, 'job_close_date': False, 'multiple_role': False, 'cv_past_experience': False, 'reinstate_application': False, 'application_status': False, 'feedback': False, 'assessment_timebox': False, 'assessment_link_problem': False, 'assessment_campatilibility': False, 'assessment_validity': False, 'disability': True, 'interview_reschedule': False, 'late_for_interview': False, 'interview_response_time': False, 'job_account_issue': False, 'age_limit': False, 'salary': False, 'work_experience': False, 'special_needs_at_work': False}, {'job_alerts': False, 'howto_apply': False, 'job_close_date': False, 'multiple_role': False, 'cv_past_experience': False, 'reinstate_application': False, 'application_status': False, 'feedback': False, 'assessment_timebox': False, 'assessment_link_problem': False, 'assessment_campatilibility': False, 'assessment_validity': False, 'disability': True, 'interview_reschedule': False, 'late_for_interview': False, 'interview_response_time': False, 'job_account_issue': False, 'age_limit': False, 'salary': False, 'work_experience': False, 'special_needs_at_work': False}, {'job_alerts': False, 'howto_apply': False, 'job_close_date': False, 'multiple_role': False, 'cv_past_experience': False, 'reinstate_application': False, 'application_status': False, 'feedback': False, 'assessment_timebox': False, 'assessment_link_problem': False, 'assessment_campatilibility': False, 'assessment_validity': False, 'disability': True, 'interview_reschedule': False, 'late_for_interview': False, 'interview_response_time': False, 'job_account_issue': False, 'age_limit': False, 'salary': False, 'work_experience': False, 'special_needs_at_work': False}, {'job_alerts': False, 'howto_apply': False, 'job_close_date': False, 'multiple_role': False, 'cv_past_experience': False, 'reinstate_application': False, 'application_status': False, 'feedback': False, 'assessment_timebox': False, 'assessment_link_problem': False, 'assessment_campatilibility': False, 'assessment_validity': False, 'disability': True, 'interview_reschedule': False, 'late_for_interview': False, 'interview_response_time': False, 'job_account_issue': False, 'age_limit': False, 'salary': False, 'work_experience': False, 'special_needs_at_work': False}, {'job_alerts': False, 'howto_apply': False, 'job_close_date': False, 'multiple_role': False, 'cv_past_experience': False, 'reinstate_application': False, 'application_status': False, 'feedback': False, 'assessment_timebox': False, 'assessment_link_problem': False, 'assessment_campatilibility': False, 'assessment_validity': False, 'disability': True, 'interview_reschedule': False, 'late_for_interview': False, 'interview_response_time': False, 'job_account_issue': False, 'age_limit': False, 'salary': False, 'work_experience': False, 'special_needs_at_work': False}, {'job_alerts': False, 'howto_apply': False, 'job_close_date': False, 'multiple_role': False, 'cv_past_experience': False, 'reinstate_application': False, 'application_status': False, 'feedback': False, 'assessment_timebox': False, 'assessment_link_problem': False, 'assessment_campatilibility': False, 'assessment_validity': False, 'disability': True, 'interview_reschedule': False, 'late_for_interview': False, 'interview_response_time': False, 'job_account_issue': False, 'age_limit': False, 'salary': False, 'work_experience': False, 'special_needs_at_work': False}, {'job_alerts': False, 'howto_apply': False, 'job_close_date': False, 'multiple_role': False, 'cv_past_experience': False, 'reinstate_application': False, 'application_status': False, 'feedback': False, 'assessment_timebox': False, 'assessment_link_problem': False, 'assessment_campatilibility': False, 'assessment_validity': False, 'disability': True, 'interview_reschedule': False, 'late_for_interview': False, 'interview_response_time': False, 'job_account_issue': False, 'age_limit': False, 'salary': False, 'work_experience': False, 'special_needs_at_work': False}, {'job_alerts': False, 'howto_apply': False, 'job_close_date': False, 'multiple_role': False, 'cv_past_experience': False, 'reinstate_application': False, 'application_status': False, 'feedback': False, 'assessment_timebox': False, 'assessment_link_problem': False, 'assessment_campatilibility': False, 'assessment_validity': False, 'disability': True, 'interview_reschedule': False, 'late_for_interview': False, 'interview_response_time': False, 'job_account_issue': False, 'age_limit': False, 'salary': False, 'work_experience': False, 'special_needs_at_work': False}, {'job_alerts': False, 'howto_apply': False, 'job_close_date': False, 'multiple_role': False, 'cv_past_experience': False, 'reinstate_application': False, 'application_status': False, 'feedback': False, 'assessment_timebox': False, 'assessment_link_problem': False, 'assessment_campatilibility': False, 'assessment_validity': False, 'disability': True, 'interview_reschedule': False, 'late_for_interview': False, 'interview_response_time': False, 'job_account_issue': False, 'age_limit': False, 'salary': False, 'work_experience': False, 'special_needs_at_work': False}, {'job_alerts': False, 'howto_apply': False, 'job_close_date': False, 'multiple_role': False, 'cv_past_experience': False, 'reinstate_application': False, 'application_status': False, 'feedback': False, 'assessment_timebox': False, 'assessment_link_problem': False, 'assessment_campatilibility': False, 'assessment_validity': False, 'disability': True, 'interview_reschedule': False, 'late_for_interview': False, 'interview_response_time': False, 'job_account_issue': False, 'age_limit': False, 'salary': False, 'work_experience': False, 'special_needs_at_work': False}, {'job_alerts': False, 'howto_apply': False, 'job_close_date': False, 'multiple_role': False, 'cv_past_experience': False, 'reinstate_application': False, 'application_status': False, 'feedback': False, 'assessment_timebox': False, 'assessment_link_problem': False, 'assessment_campatilibility': False, 'assessment_validity': False, 'disability': True, 'interview_reschedule': False, 'late_for_interview': False, 'interview_response_time': False, 'job_account_issue': False, 'age_limit': False, 'salary': False, 'work_experience': False, 'special_needs_at_work': False}, {'job_alerts': False, 'howto_apply': False, 'job_close_date': False, 'multiple_role': False, 'cv_past_experience': False, 'reinstate_application': False, 'application_status': False, 'feedback': False, 'assessment_timebox': False, 'assessment_link_problem': False, 'assessment_campatilibility': False, 'assessment_validity': False, 'disability': True, 'interview_reschedule': False, 'late_for_interview': False, 'interview_response_time': False, 'job_account_issue': False, 'age_limit': False, 'salary': False, 'work_experience': False, 'special_needs_at_work': False}, {'job_alerts': False, 'howto_apply': False, 'job_close_date': False, 'multiple_role': False, 'cv_past_experience': False, 'reinstate_application': False, 'application_status': False, 'feedback': False, 'assessment_timebox': False, 'assessment_link_problem': False, 'assessment_campatilibility': False, 'assessment_validity': False, 'disability': True, 'interview_reschedule': False, 'late_for_interview': False, 'interview_response_time': False, 'job_account_issue': False, 'age_limit': False, 'salary': False, 'work_experience': False, 'special_needs_at_work': False}, {'job_alerts': False, 'howto_apply': False, 'job_close_date': False, 'multiple_role': False, 'cv_past_experience': False, 'reinstate_application': False, 'application_status': False, 'feedback': False, 'assessment_timebox': False, 'assessment_link_problem': False, 'assessment_campatilibility': False, 'assessment_validity': False, 'disability': True, 'interview_reschedule': False, 'late_for_interview': False, 'interview_response_time': False, 'job_account_issue': False, 'age_limit': False, 'salary': False, 'work_experience': False, 'special_needs_at_work': False}, {'job_alerts': False, 'howto_apply': False, 'job_close_date': False, 'multiple_role': False, 'cv_past_experience': False, 'reinstate_application': False, 'application_status': False, 'feedback': False, 'assessment_timebox': False, 'assessment_link_problem': False, 'assessment_campatilibility': False, 'assessment_validity': False, 'disability': True, 'interview_reschedule': False, 'late_for_interview': False, 'interview_response_time': False, 'job_account_issue': False, 'age_limit': False, 'salary': False, 'work_experience': False, 'special_needs_at_work': False}, {'job_alerts': False, 'howto_apply': False, 'job_close_date': False, 'multiple_role': False, 'cv_past_experience': False, 'reinstate_application': False, 'application_status': False, 'feedback': False, 'assessment_timebox': False, 'assessment_link_problem': False, 'assessment_campatilibility': False, 'assessment_validity': False, 'disability': True, 'interview_reschedule': False, 'late_for_interview': False, 'interview_response_time': False, 'job_account_issue': False, 'age_limit': False, 'salary': False, 'work_experience': False, 'special_needs_at_work': False}, {'job_alerts': False, 'howto_apply': False, 'job_close_date': False, 'multiple_role': False, 'cv_past_experience': False, 'reinstate_application': False, 'application_status': False, 'feedback': False, 'assessment_timebox': False, 'assessment_link_problem': False, 'assessment_campatilibility': False, 'assessment_validity': False, 'disability': False, 'interview_reschedule': True, 'late_for_interview': False, 'interview_response_time': False, 'job_account_issue': False, 'age_limit': False, 'salary': False, 'work_experience': False, 'special_needs_at_work': False}, {'job_alerts': False, 'howto_apply': False, 'job_close_date': False, 'multiple_role': False, 'cv_past_experience': False, 'reinstate_application': False, 'application_status': False, 'feedback': False, 'assessment_timebox': False, 'assessment_link_problem': False, 'assessment_campatilibility': False, 'assessment_validity': False, 'disability': False, 'interview_reschedule': True, 'late_for_interview': False, 'interview_response_time': False, 'job_account_issue': False, 'age_limit': False, 'salary': False, 'work_experience': False, 'special_needs_at_work': False}, {'job_alerts': False, 'howto_apply': False, 'job_close_date': False, 'multiple_role': False, 'cv_past_experience': False, 'reinstate_application': False, 'application_status': False, 'feedback': False, 'assessment_timebox': False, 'assessment_link_problem': False, 'assessment_campatilibility': False, 'assessment_validity': False, 'disability': False, 'interview_reschedule': True, 'late_for_interview': False, 'interview_response_time': False, 'job_account_issue': False, 'age_limit': False, 'salary': False, 'work_experience': False, 'special_needs_at_work': False}, {'job_alerts': False, 'howto_apply': False, 'job_close_date': False, 'multiple_role': False, 'cv_past_experience': False, 'reinstate_application': False, 'application_status': False, 'feedback': False, 'assessment_timebox': False, 'assessment_link_problem': False, 'assessment_campatilibility': False, 'assessment_validity': False, 'disability': False, 'interview_reschedule': True, 'late_for_interview': False, 'interview_response_time': False, 'job_account_issue': False, 'age_limit': False, 'salary': False, 'work_experience': False, 'special_needs_at_work': False}, {'job_alerts': False, 'howto_apply': False, 'job_close_date': False, 'multiple_role': False, 'cv_past_experience': False, 'reinstate_application': False, 'application_status': False, 'feedback': False, 'assessment_timebox': False, 'assessment_link_problem': False, 'assessment_campatilibility': False, 'assessment_validity': False, 'disability': False, 'interview_reschedule': True, 'late_for_interview': False, 'interview_response_time': False, 'job_account_issue': False, 'age_limit': False, 'salary': False, 'work_experience': False, 'special_needs_at_work': False}, {'job_alerts': False, 'howto_apply': False, 'job_close_date': False, 'multiple_role': False, 'cv_past_experience': False, 'reinstate_application': False, 'application_status': False, 'feedback': False, 'assessment_timebox': False, 'assessment_link_problem': False, 'assessment_campatilibility': False, 'assessment_validity': False, 'disability': False, 'interview_reschedule': True, 'late_for_interview': False, 'interview_response_time': False, 'job_account_issue': False, 'age_limit': False, 'salary': False, 'work_experience': False, 'special_needs_at_work': False}, {'job_alerts': False, 'howto_apply': False, 'job_close_date': False, 'multiple_role': False, 'cv_past_experience': False, 'reinstate_application': False, 'application_status': False, 'feedback': False, 'assessment_timebox': False, 'assessment_link_problem': False, 'assessment_campatilibility': False, 'assessment_validity': False, 'disability': False, 'interview_reschedule': True, 'late_for_interview': False, 'interview_response_time': False, 'job_account_issue': False, 'age_limit': False, 'salary': False, 'work_experience': False, 'special_needs_at_work': False}, {'job_alerts': False, 'howto_apply': False, 'job_close_date': False, 'multiple_role': False, 'cv_past_experience': False, 'reinstate_application': False, 'application_status': False, 'feedback': False, 'assessment_timebox': False, 'assessment_link_problem': False, 'assessment_campatilibility': False, 'assessment_validity': False, 'disability': False, 'interview_reschedule': True, 'late_for_interview': False, 'interview_response_time': False, 'job_account_issue': False, 'age_limit': False, 'salary': False, 'work_experience': False, 'special_needs_at_work': False}, {'job_alerts': False, 'howto_apply': False, 'job_close_date': False, 'multiple_role': False, 'cv_past_experience': False, 'reinstate_application': False, 'application_status': False, 'feedback': False, 'assessment_timebox': False, 'assessment_link_problem': False, 'assessment_campatilibility': False, 'assessment_validity': False, 'disability': False, 'interview_reschedule': True, 'late_for_interview': False, 'interview_response_time': False, 'job_account_issue': False, 'age_limit': False, 'salary': False, 'work_experience': False, 'special_needs_at_work': False}, {'job_alerts': False, 'howto_apply': False, 'job_close_date': False, 'multiple_role': False, 'cv_past_experience': False, 'reinstate_application': False, 'application_status': False, 'feedback': False, 'assessment_timebox': False, 'assessment_link_problem': False, 'assessment_campatilibility': False, 'assessment_validity': False, 'disability': False, 'interview_reschedule': True, 'late_for_interview': False, 'interview_response_time': False, 'job_account_issue': False, 'age_limit': False, 'salary': False, 'work_experience': False, 'special_needs_at_work': False}, {'job_alerts': False, 'howto_apply': False, 'job_close_date': False, 'multiple_role': False, 'cv_past_experience': False, 'reinstate_application': False, 'application_status': False, 'feedback': False, 'assessment_timebox': False, 'assessment_link_problem': False, 'assessment_campatilibility': False, 'assessment_validity': False, 'disability': False, 'interview_reschedule': True, 'late_for_interview': False, 'interview_response_time': False, 'job_account_issue': False, 'age_limit': False, 'salary': False, 'work_experience': False, 'special_needs_at_work': False}, {'job_alerts': False, 'howto_apply': False, 'job_close_date': False, 'multiple_role': False, 'cv_past_experience': False, 'reinstate_application': False, 'application_status': False, 'feedback': False, 'assessment_timebox': False, 'assessment_link_problem': False, 'assessment_campatilibility': False, 'assessment_validity': False, 'disability': False, 'interview_reschedule': True, 'late_for_interview': False, 'interview_response_time': False, 'job_account_issue': False, 'age_limit': False, 'salary': False, 'work_experience': False, 'special_needs_at_work': False}, {'job_alerts': False, 'howto_apply': False, 'job_close_date': False, 'multiple_role': False, 'cv_past_experience': False, 'reinstate_application': False, 'application_status': False, 'feedback': False, 'assessment_timebox': False, 'assessment_link_problem': False, 'assessment_campatilibility': False, 'assessment_validity': False, 'disability': False, 'interview_reschedule': True, 'late_for_interview': False, 'interview_response_time': False, 'job_account_issue': False, 'age_limit': False, 'salary': False, 'work_experience': False, 'special_needs_at_work': False}, {'job_alerts': False, 'howto_apply': False, 'job_close_date': False, 'multiple_role': False, 'cv_past_experience': False, 'reinstate_application': False, 'application_status': False, 'feedback': False, 'assessment_timebox': False, 'assessment_link_problem': False, 'assessment_campatilibility': False, 'assessment_validity': False, 'disability': False, 'interview_reschedule': True, 'late_for_interview': False, 'interview_response_time': False, 'job_account_issue': False, 'age_limit': False, 'salary': False, 'work_experience': False, 'special_needs_at_work': False}, {'job_alerts': False, 'howto_apply': False, 'job_close_date': False, 'multiple_role': False, 'cv_past_experience': False, 'reinstate_application': False, 'application_status': False, 'feedback': False, 'assessment_timebox': False, 'assessment_link_problem': False, 'assessment_campatilibility': False, 'assessment_validity': False, 'disability': False, 'interview_reschedule': True, 'late_for_interview': False, 'interview_response_time': False, 'job_account_issue': False, 'age_limit': False, 'salary': False, 'work_experience': False, 'special_needs_at_work': False}, {'job_alerts': False, 'howto_apply': False, 'job_close_date': False, 'multiple_role': False, 'cv_past_experience': False, 'reinstate_application': False, 'application_status': False, 'feedback': False, 'assessment_timebox': False, 'assessment_link_problem': False, 'assessment_campatilibility': False, 'assessment_validity': False, 'disability': False, 'interview_reschedule': True, 'late_for_interview': False, 'interview_response_time': False, 'job_account_issue': False, 'age_limit': False, 'salary': False, 'work_experience': False, 'special_needs_at_work': False}, {'job_alerts': False, 'howto_apply': False, 'job_close_date': False, 'multiple_role': False, 'cv_past_experience': False, 'reinstate_application': False, 'application_status': False, 'feedback': False, 'assessment_timebox': False, 'assessment_link_problem': False, 'assessment_campatilibility': False, 'assessment_validity': False, 'disability': False, 'interview_reschedule': True, 'late_for_interview': False, 'interview_response_time': False, 'job_account_issue': False, 'age_limit': False, 'salary': False, 'work_experience': False, 'special_needs_at_work': False}, {'job_alerts': False, 'howto_apply': False, 'job_close_date': False, 'multiple_role': False, 'cv_past_experience': False, 'reinstate_application': False, 'application_status': False, 'feedback': False, 'assessment_timebox': False, 'assessment_link_problem': False, 'assessment_campatilibility': False, 'assessment_validity': False, 'disability': False, 'interview_reschedule': True, 'late_for_interview': False, 'interview_response_time': False, 'job_account_issue': False, 'age_limit': False, 'salary': False, 'work_experience': False, 'special_needs_at_work': False}, {'job_alerts': False, 'howto_apply': False, 'job_close_date': False, 'multiple_role': False, 'cv_past_experience': False, 'reinstate_application': False, 'application_status': False, 'feedback': False, 'assessment_timebox': False, 'assessment_link_problem': False, 'assessment_campatilibility': False, 'assessment_validity': False, 'disability': False, 'interview_reschedule': True, 'late_for_interview': False, 'interview_response_time': False, 'job_account_issue': False, 'age_limit': False, 'salary': False, 'work_experience': False, 'special_needs_at_work': False}, {'job_alerts': False, 'howto_apply': False, 'job_close_date': False, 'multiple_role': False, 'cv_past_experience': False, 'reinstate_application': False, 'application_status': False, 'feedback': False, 'assessment_timebox': False, 'assessment_link_problem': False, 'assessment_campatilibility': False, 'assessment_validity': False, 'disability': False, 'interview_reschedule': True, 'late_for_interview': False, 'interview_response_time': False, 'job_account_issue': False, 'age_limit': False, 'salary': False, 'work_experience': False, 'special_needs_at_work': False}, {'job_alerts': False, 'howto_apply': False, 'job_close_date': False, 'multiple_role': False, 'cv_past_experience': False, 'reinstate_application': False, 'application_status': False, 'feedback': False, 'assessment_timebox': False, 'assessment_link_problem': False, 'assessment_campatilibility': False, 'assessment_validity': False, 'disability': False, 'interview_reschedule': True, 'late_for_interview': False, 'interview_response_time': False, 'job_account_issue': False, 'age_limit': False, 'salary': False, 'work_experience': False, 'special_needs_at_work': False}, {'job_alerts': False, 'howto_apply': False, 'job_close_date': False, 'multiple_role': False, 'cv_past_experience': False, 'reinstate_application': False, 'application_status': False, 'feedback': False, 'assessment_timebox': False, 'assessment_link_problem': False, 'assessment_campatilibility': False, 'assessment_validity': False, 'disability': False, 'interview_reschedule': True, 'late_for_interview': False, 'interview_response_time': False, 'job_account_issue': False, 'age_limit': False, 'salary': False, 'work_experience': False, 'special_needs_at_work': False}, {'job_alerts': False, 'howto_apply': False, 'job_close_date': False, 'multiple_role': False, 'cv_past_experience': False, 'reinstate_application': False, 'application_status': False, 'feedback': False, 'assessment_timebox': False, 'assessment_link_problem': False, 'assessment_campatilibility': False, 'assessment_validity': False, 'disability': False, 'interview_reschedule': True, 'late_for_interview': False, 'interview_response_time': False, 'job_account_issue': False, 'age_limit': False, 'salary': False, 'work_experience': False, 'special_needs_at_work': False}, {'job_alerts': False, 'howto_apply': False, 'job_close_date': False, 'multiple_role': False, 'cv_past_experience': False, 'reinstate_application': False, 'application_status': False, 'feedback': False, 'assessment_timebox': False, 'assessment_link_problem': False, 'assessment_campatilibility': False, 'assessment_validity': False, 'disability': False, 'interview_reschedule': False, 'late_for_interview': True, 'interview_response_time': False, 'job_account_issue': False, 'age_limit': False, 'salary': False, 'work_experience': False, 'special_needs_at_work': False}, {'job_alerts': False, 'howto_apply': False, 'job_close_date': False, 'multiple_role': False, 'cv_past_experience': False, 'reinstate_application': False, 'application_status': False, 'feedback': False, 'assessment_timebox': False, 'assessment_link_problem': False, 'assessment_campatilibility': False, 'assessment_validity': False, 'disability': False, 'interview_reschedule': False, 'late_for_interview': True, 'interview_response_time': False, 'job_account_issue': False, 'age_limit': False, 'salary': False, 'work_experience': False, 'special_needs_at_work': False}, {'job_alerts': False, 'howto_apply': False, 'job_close_date': False, 'multiple_role': False, 'cv_past_experience': False, 'reinstate_application': False, 'application_status': False, 'feedback': False, 'assessment_timebox': False, 'assessment_link_problem': False, 'assessment_campatilibility': False, 'assessment_validity': False, 'disability': False, 'interview_reschedule': False, 'late_for_interview': True, 'interview_response_time': False, 'job_account_issue': False, 'age_limit': False, 'salary': False, 'work_experience': False, 'special_needs_at_work': False}, {'job_alerts': False, 'howto_apply': False, 'job_close_date': False, 'multiple_role': False, 'cv_past_experience': False, 'reinstate_application': False, 'application_status': False, 'feedback': False, 'assessment_timebox': False, 'assessment_link_problem': False, 'assessment_campatilibility': False, 'assessment_validity': False, 'disability': False, 'interview_reschedule': False, 'late_for_interview': True, 'interview_response_time': False, 'job_account_issue': False, 'age_limit': False, 'salary': False, 'work_experience': False, 'special_needs_at_work': False}, {'job_alerts': False, 'howto_apply': False, 'job_close_date': False, 'multiple_role': False, 'cv_past_experience': False, 'reinstate_application': False, 'application_status': False, 'feedback': False, 'assessment_timebox': False, 'assessment_link_problem': False, 'assessment_campatilibility': False, 'assessment_validity': False, 'disability': False, 'interview_reschedule': False, 'late_for_interview': True, 'interview_response_time': False, 'job_account_issue': False, 'age_limit': False, 'salary': False, 'work_experience': False, 'special_needs_at_work': False}, {'job_alerts': False, 'howto_apply': False, 'job_close_date': False, 'multiple_role': False, 'cv_past_experience': False, 'reinstate_application': False, 'application_status': False, 'feedback': False, 'assessment_timebox': False, 'assessment_link_problem': False, 'assessment_campatilibility': False, 'assessment_validity': False, 'disability': False, 'interview_reschedule': False, 'late_for_interview': True, 'interview_response_time': False, 'job_account_issue': False, 'age_limit': False, 'salary': False, 'work_experience': False, 'special_needs_at_work': False}, {'job_alerts': False, 'howto_apply': False, 'job_close_date': False, 'multiple_role': False, 'cv_past_experience': False, 'reinstate_application': False, 'application_status': False, 'feedback': False, 'assessment_timebox': False, 'assessment_link_problem': False, 'assessment_campatilibility': False, 'assessment_validity': False, 'disability': False, 'interview_reschedule': False, 'late_for_interview': True, 'interview_response_time': False, 'job_account_issue': False, 'age_limit': False, 'salary': False, 'work_experience': False, 'special_needs_at_work': False}, {'job_alerts': False, 'howto_apply': False, 'job_close_date': False, 'multiple_role': False, 'cv_past_experience': False, 'reinstate_application': False, 'application_status': False, 'feedback': False, 'assessment_timebox': False, 'assessment_link_problem': False, 'assessment_campatilibility': False, 'assessment_validity': False, 'disability': False, 'interview_reschedule': False, 'late_for_interview': True, 'interview_response_time': False, 'job_account_issue': False, 'age_limit': False, 'salary': False, 'work_experience': False, 'special_needs_at_work': False}, {'job_alerts': False, 'howto_apply': False, 'job_close_date': False, 'multiple_role': False, 'cv_past_experience': False, 'reinstate_application': False, 'application_status': False, 'feedback': False, 'assessment_timebox': False, 'assessment_link_problem': False, 'assessment_campatilibility': False, 'assessment_validity': False, 'disability': False, 'interview_reschedule': False, 'late_for_interview': True, 'interview_response_time': False, 'job_account_issue': False, 'age_limit': False, 'salary': False, 'work_experience': False, 'special_needs_at_work': False}, {'job_alerts': False, 'howto_apply': False, 'job_close_date': False, 'multiple_role': False, 'cv_past_experience': False, 'reinstate_application': False, 'application_status': False, 'feedback': False, 'assessment_timebox': False, 'assessment_link_problem': False, 'assessment_campatilibility': False, 'assessment_validity': False, 'disability': False, 'interview_reschedule': False, 'late_for_interview': True, 'interview_response_time': False, 'job_account_issue': False, 'age_limit': False, 'salary': False, 'work_experience': False, 'special_needs_at_work': False}, {'job_alerts': False, 'howto_apply': False, 'job_close_date': False, 'multiple_role': False, 'cv_past_experience': False, 'reinstate_application': False, 'application_status': False, 'feedback': False, 'assessment_timebox': False, 'assessment_link_problem': False, 'assessment_campatilibility': False, 'assessment_validity': False, 'disability': False, 'interview_reschedule': False, 'late_for_interview': True, 'interview_response_time': False, 'job_account_issue': False, 'age_limit': False, 'salary': False, 'work_experience': False, 'special_needs_at_work': False}, {'job_alerts': False, 'howto_apply': False, 'job_close_date': False, 'multiple_role': False, 'cv_past_experience': False, 'reinstate_application': False, 'application_status': False, 'feedback': False, 'assessment_timebox': False, 'assessment_link_problem': False, 'assessment_campatilibility': False, 'assessment_validity': False, 'disability': False, 'interview_reschedule': False, 'late_for_interview': True, 'interview_response_time': False, 'job_account_issue': False, 'age_limit': False, 'salary': False, 'work_experience': False, 'special_needs_at_work': False}, {'job_alerts': False, 'howto_apply': False, 'job_close_date': False, 'multiple_role': False, 'cv_past_experience': False, 'reinstate_application': False, 'application_status': False, 'feedback': False, 'assessment_timebox': False, 'assessment_link_problem': False, 'assessment_campatilibility': False, 'assessment_validity': False, 'disability': False, 'interview_reschedule': False, 'late_for_interview': True, 'interview_response_time': False, 'job_account_issue': False, 'age_limit': False, 'salary': False, 'work_experience': False, 'special_needs_at_work': False}, {'job_alerts': False, 'howto_apply': False, 'job_close_date': False, 'multiple_role': False, 'cv_past_experience': False, 'reinstate_application': False, 'application_status': False, 'feedback': False, 'assessment_timebox': False, 'assessment_link_problem': False, 'assessment_campatilibility': False, 'assessment_validity': False, 'disability': False, 'interview_reschedule': False, 'late_for_interview': False, 'interview_response_time': True, 'job_account_issue': False, 'age_limit': False, 'salary': False, 'work_experience': False, 'special_needs_at_work': False}, {'job_alerts': False, 'howto_apply': False, 'job_close_date': False, 'multiple_role': False, 'cv_past_experience': False, 'reinstate_application': False, 'application_status': False, 'feedback': False, 'assessment_timebox': False, 'assessment_link_problem': False, 'assessment_campatilibility': False, 'assessment_validity': False, 'disability': False, 'interview_reschedule': False, 'late_for_interview': False, 'interview_response_time': True, 'job_account_issue': False, 'age_limit': False, 'salary': False, 'work_experience': False, 'special_needs_at_work': False}, {'job_alerts': False, 'howto_apply': False, 'job_close_date': False, 'multiple_role': False, 'cv_past_experience': False, 'reinstate_application': False, 'application_status': False, 'feedback': False, 'assessment_timebox': False, 'assessment_link_problem': False, 'assessment_campatilibility': False, 'assessment_validity': False, 'disability': False, 'interview_reschedule': False, 'late_for_interview': False, 'interview_response_time': True, 'job_account_issue': False, 'age_limit': False, 'salary': False, 'work_experience': False, 'special_needs_at_work': False}, {'job_alerts': False, 'howto_apply': False, 'job_close_date': False, 'multiple_role': False, 'cv_past_experience': False, 'reinstate_application': False, 'application_status': False, 'feedback': False, 'assessment_timebox': False, 'assessment_link_problem': False, 'assessment_campatilibility': False, 'assessment_validity': False, 'disability': False, 'interview_reschedule': False, 'late_for_interview': False, 'interview_response_time': True, 'job_account_issue': False, 'age_limit': False, 'salary': False, 'work_experience': False, 'special_needs_at_work': False}, {'job_alerts': False, 'howto_apply': False, 'job_close_date': False, 'multiple_role': False, 'cv_past_experience': False, 'reinstate_application': False, 'application_status': False, 'feedback': False, 'assessment_timebox': False, 'assessment_link_problem': False, 'assessment_campatilibility': False, 'assessment_validity': False, 'disability': False, 'interview_reschedule': False, 'late_for_interview': False, 'interview_response_time': True, 'job_account_issue': False, 'age_limit': False, 'salary': False, 'work_experience': False, 'special_needs_at_work': False}, {'job_alerts': False, 'howto_apply': False, 'job_close_date': False, 'multiple_role': False, 'cv_past_experience': False, 'reinstate_application': False, 'application_status': False, 'feedback': False, 'assessment_timebox': False, 'assessment_link_problem': False, 'assessment_campatilibility': False, 'assessment_validity': False, 'disability': False, 'interview_reschedule': False, 'late_for_interview': False, 'interview_response_time': True, 'job_account_issue': False, 'age_limit': False, 'salary': False, 'work_experience': False, 'special_needs_at_work': False}, {'job_alerts': False, 'howto_apply': False, 'job_close_date': False, 'multiple_role': False, 'cv_past_experience': False, 'reinstate_application': False, 'application_status': False, 'feedback': False, 'assessment_timebox': False, 'assessment_link_problem': False, 'assessment_campatilibility': False, 'assessment_validity': False, 'disability': False, 'interview_reschedule': False, 'late_for_interview': False, 'interview_response_time': True, 'job_account_issue': False, 'age_limit': False, 'salary': False, 'work_experience': False, 'special_needs_at_work': False}, {'job_alerts': False, 'howto_apply': False, 'job_close_date': False, 'multiple_role': False, 'cv_past_experience': False, 'reinstate_application': False, 'application_status': False, 'feedback': False, 'assessment_timebox': False, 'assessment_link_problem': False, 'assessment_campatilibility': False, 'assessment_validity': False, 'disability': False, 'interview_reschedule': False, 'late_for_interview': False, 'interview_response_time': True, 'job_account_issue': False, 'age_limit': False, 'salary': False, 'work_experience': False, 'special_needs_at_work': False}, {'job_alerts': False, 'howto_apply': False, 'job_close_date': False, 'multiple_role': False, 'cv_past_experience': False, 'reinstate_application': False, 'application_status': False, 'feedback': False, 'assessment_timebox': False, 'assessment_link_problem': False, 'assessment_campatilibility': False, 'assessment_validity': False, 'disability': False, 'interview_reschedule': False, 'late_for_interview': False, 'interview_response_time': True, 'job_account_issue': False, 'age_limit': False, 'salary': False, 'work_experience': False, 'special_needs_at_work': False}, {'job_alerts': False, 'howto_apply': False, 'job_close_date': False, 'multiple_role': False, 'cv_past_experience': False, 'reinstate_application': False, 'application_status': False, 'feedback': False, 'assessment_timebox': False, 'assessment_link_problem': False, 'assessment_campatilibility': False, 'assessment_validity': False, 'disability': False, 'interview_reschedule': False, 'late_for_interview': False, 'interview_response_time': True, 'job_account_issue': False, 'age_limit': False, 'salary': False, 'work_experience': False, 'special_needs_at_work': False}, {'job_alerts': False, 'howto_apply': False, 'job_close_date': False, 'multiple_role': False, 'cv_past_experience': False, 'reinstate_application': False, 'application_status': False, 'feedback': False, 'assessment_timebox': False, 'assessment_link_problem': False, 'assessment_campatilibility': False, 'assessment_validity': False, 'disability': False, 'interview_reschedule': False, 'late_for_interview': False, 'interview_response_time': True, 'job_account_issue': False, 'age_limit': False, 'salary': False, 'work_experience': False, 'special_needs_at_work': False}, {'job_alerts': False, 'howto_apply': False, 'job_close_date': False, 'multiple_role': False, 'cv_past_experience': False, 'reinstate_application': False, 'application_status': False, 'feedback': False, 'assessment_timebox': False, 'assessment_link_problem': False, 'assessment_campatilibility': False, 'assessment_validity': False, 'disability': False, 'interview_reschedule': False, 'late_for_interview': False, 'interview_response_time': True, 'job_account_issue': False, 'age_limit': False, 'salary': False, 'work_experience': False, 'special_needs_at_work': False}, {'job_alerts': False, 'howto_apply': False, 'job_close_date': False, 'multiple_role': False, 'cv_past_experience': False, 'reinstate_application': False, 'application_status': False, 'feedback': False, 'assessment_timebox': False, 'assessment_link_problem': False, 'assessment_campatilibility': False, 'assessment_validity': False, 'disability': False, 'interview_reschedule': False, 'late_for_interview': False, 'interview_response_time': True, 'job_account_issue': False, 'age_limit': False, 'salary': False, 'work_experience': False, 'special_needs_at_work': False}, {'job_alerts': False, 'howto_apply': False, 'job_close_date': False, 'multiple_role': False, 'cv_past_experience': False, 'reinstate_application': False, 'application_status': False, 'feedback': False, 'assessment_timebox': False, 'assessment_link_problem': False, 'assessment_campatilibility': False, 'assessment_validity': False, 'disability': False, 'interview_reschedule': False, 'late_for_interview': False, 'interview_response_time': False, 'job_account_issue': True, 'age_limit': False, 'salary': False, 'work_experience': False, 'special_needs_at_work': False}, {'job_alerts': False, 'howto_apply': False, 'job_close_date': False, 'multiple_role': False, 'cv_past_experience': False, 'reinstate_application': False, 'application_status': False, 'feedback': False, 'assessment_timebox': False, 'assessment_link_problem': False, 'assessment_campatilibility': False, 'assessment_validity': False, 'disability': False, 'interview_reschedule': False, 'late_for_interview': False, 'interview_response_time': False, 'job_account_issue': True, 'age_limit': False, 'salary': False, 'work_experience': False, 'special_needs_at_work': False}, {'job_alerts': False, 'howto_apply': False, 'job_close_date': False, 'multiple_role': False, 'cv_past_experience': False, 'reinstate_application': False, 'application_status': False, 'feedback': False, 'assessment_timebox': False, 'assessment_link_problem': False, 'assessment_campatilibility': False, 'assessment_validity': False, 'disability': False, 'interview_reschedule': False, 'late_for_interview': False, 'interview_response_time': False, 'job_account_issue': True, 'age_limit': False, 'salary': False, 'work_experience': False, 'special_needs_at_work': False}, {'job_alerts': False, 'howto_apply': False, 'job_close_date': False, 'multiple_role': False, 'cv_past_experience': False, 'reinstate_application': False, 'application_status': False, 'feedback': False, 'assessment_timebox': False, 'assessment_link_problem': False, 'assessment_campatilibility': False, 'assessment_validity': False, 'disability': False, 'interview_reschedule': False, 'late_for_interview': False, 'interview_response_time': False, 'job_account_issue': True, 'age_limit': False, 'salary': False, 'work_experience': False, 'special_needs_at_work': False}, {'job_alerts': False, 'howto_apply': False, 'job_close_date': False, 'multiple_role': False, 'cv_past_experience': False, 'reinstate_application': False, 'application_status': False, 'feedback': False, 'assessment_timebox': False, 'assessment_link_problem': False, 'assessment_campatilibility': False, 'assessment_validity': False, 'disability': False, 'interview_reschedule': False, 'late_for_interview': False, 'interview_response_time': False, 'job_account_issue': True, 'age_limit': False, 'salary': False, 'work_experience': False, 'special_needs_at_work': False}, {'job_alerts': False, 'howto_apply': False, 'job_close_date': False, 'multiple_role': False, 'cv_past_experience': False, 'reinstate_application': False, 'application_status': False, 'feedback': False, 'assessment_timebox': False, 'assessment_link_problem': False, 'assessment_campatilibility': False, 'assessment_validity': False, 'disability': False, 'interview_reschedule': False, 'late_for_interview': False, 'interview_response_time': False, 'job_account_issue': True, 'age_limit': False, 'salary': False, 'work_experience': False, 'special_needs_at_work': False}, {'job_alerts': False, 'howto_apply': False, 'job_close_date': False, 'multiple_role': False, 'cv_past_experience': False, 'reinstate_application': False, 'application_status': False, 'feedback': False, 'assessment_timebox': False, 'assessment_link_problem': False, 'assessment_campatilibility': False, 'assessment_validity': False, 'disability': False, 'interview_reschedule': False, 'late_for_interview': False, 'interview_response_time': False, 'job_account_issue': True, 'age_limit': False, 'salary': False, 'work_experience': False, 'special_needs_at_work': False}, {'job_alerts': False, 'howto_apply': False, 'job_close_date': False, 'multiple_role': False, 'cv_past_experience': False, 'reinstate_application': False, 'application_status': False, 'feedback': False, 'assessment_timebox': False, 'assessment_link_problem': False, 'assessment_campatilibility': False, 'assessment_validity': False, 'disability': False, 'interview_reschedule': False, 'late_for_interview': False, 'interview_response_time': False, 'job_account_issue': True, 'age_limit': False, 'salary': False, 'work_experience': False, 'special_needs_at_work': False}, {'job_alerts': False, 'howto_apply': False, 'job_close_date': False, 'multiple_role': False, 'cv_past_experience': False, 'reinstate_application': False, 'application_status': False, 'feedback': False, 'assessment_timebox': False, 'assessment_link_problem': False, 'assessment_campatilibility': False, 'assessment_validity': False, 'disability': False, 'interview_reschedule': False, 'late_for_interview': False, 'interview_response_time': False, 'job_account_issue': True, 'age_limit': False, 'salary': False, 'work_experience': False, 'special_needs_at_work': False}, {'job_alerts': False, 'howto_apply': False, 'job_close_date': False, 'multiple_role': False, 'cv_past_experience': False, 'reinstate_application': False, 'application_status': False, 'feedback': False, 'assessment_timebox': False, 'assessment_link_problem': False, 'assessment_campatilibility': False, 'assessment_validity': False, 'disability': False, 'interview_reschedule': False, 'late_for_interview': False, 'interview_response_time': False, 'job_account_issue': True, 'age_limit': False, 'salary': False, 'work_experience': False, 'special_needs_at_work': False}, {'job_alerts': False, 'howto_apply': False, 'job_close_date': False, 'multiple_role': False, 'cv_past_experience': False, 'reinstate_application': False, 'application_status': False, 'feedback': False, 'assessment_timebox': False, 'assessment_link_problem': False, 'assessment_campatilibility': False, 'assessment_validity': False, 'disability': False, 'interview_reschedule': False, 'late_for_interview': False, 'interview_response_time': False, 'job_account_issue': True, 'age_limit': False, 'salary': False, 'work_experience': False, 'special_needs_at_work': False}, {'job_alerts': False, 'howto_apply': False, 'job_close_date': False, 'multiple_role': False, 'cv_past_experience': False, 'reinstate_application': False, 'application_status': False, 'feedback': False, 'assessment_timebox': False, 'assessment_link_problem': False, 'assessment_campatilibility': False, 'assessment_validity': False, 'disability': False, 'interview_reschedule': False, 'late_for_interview': False, 'interview_response_time': False, 'job_account_issue': True, 'age_limit': False, 'salary': False, 'work_experience': False, 'special_needs_at_work': False}, {'job_alerts': False, 'howto_apply': False, 'job_close_date': False, 'multiple_role': False, 'cv_past_experience': False, 'reinstate_application': False, 'application_status': False, 'feedback': False, 'assessment_timebox': False, 'assessment_link_problem': False, 'assessment_campatilibility': False, 'assessment_validity': False, 'disability': False, 'interview_reschedule': False, 'late_for_interview': False, 'interview_response_time': False, 'job_account_issue': True, 'age_limit': False, 'salary': False, 'work_experience': False, 'special_needs_at_work': False}, {'job_alerts': False, 'howto_apply': False, 'job_close_date': False, 'multiple_role': False, 'cv_past_experience': False, 'reinstate_application': False, 'application_status': False, 'feedback': False, 'assessment_timebox': False, 'assessment_link_problem': False, 'assessment_campatilibility': False, 'assessment_validity': False, 'disability': False, 'interview_reschedule': False, 'late_for_interview': False, 'interview_response_time': False, 'job_account_issue': True, 'age_limit': False, 'salary': False, 'work_experience': False, 'special_needs_at_work': False}, {'job_alerts': False, 'howto_apply': False, 'job_close_date': False, 'multiple_role': False, 'cv_past_experience': False, 'reinstate_application': False, 'application_status': False, 'feedback': False, 'assessment_timebox': False, 'assessment_link_problem': False, 'assessment_campatilibility': False, 'assessment_validity': False, 'disability': False, 'interview_reschedule': False, 'late_for_interview': False, 'interview_response_time': False, 'job_account_issue': True, 'age_limit': False, 'salary': False, 'work_experience': False, 'special_needs_at_work': False}, {'job_alerts': False, 'howto_apply': False, 'job_close_date': False, 'multiple_role': False, 'cv_past_experience': False, 'reinstate_application': False, 'application_status': False, 'feedback': False, 'assessment_timebox': False, 'assessment_link_problem': False, 'assessment_campatilibility': False, 'assessment_validity': False, 'disability': False, 'interview_reschedule': False, 'late_for_interview': False, 'interview_response_time': False, 'job_account_issue': True, 'age_limit': False, 'salary': False, 'work_experience': False, 'special_needs_at_work': False}, {'job_alerts': False, 'howto_apply': False, 'job_close_date': False, 'multiple_role': False, 'cv_past_experience': False, 'reinstate_application': False, 'application_status': False, 'feedback': False, 'assessment_timebox': False, 'assessment_link_problem': False, 'assessment_campatilibility': False, 'assessment_validity': False, 'disability': False, 'interview_reschedule': False, 'late_for_interview': False, 'interview_response_time': False, 'job_account_issue': True, 'age_limit': False, 'salary': False, 'work_experience': False, 'special_needs_at_work': False}, {'job_alerts': False, 'howto_apply': False, 'job_close_date': False, 'multiple_role': False, 'cv_past_experience': False, 'reinstate_application': False, 'application_status': False, 'feedback': False, 'assessment_timebox': False, 'assessment_link_problem': False, 'assessment_campatilibility': False, 'assessment_validity': False, 'disability': False, 'interview_reschedule': False, 'late_for_interview': False, 'interview_response_time': False, 'job_account_issue': True, 'age_limit': False, 'salary': False, 'work_experience': False, 'special_needs_at_work': False}, {'job_alerts': False, 'howto_apply': False, 'job_close_date': False, 'multiple_role': False, 'cv_past_experience': False, 'reinstate_application': False, 'application_status': False, 'feedback': False, 'assessment_timebox': False, 'assessment_link_problem': False, 'assessment_campatilibility': False, 'assessment_validity': False, 'disability': False, 'interview_reschedule': False, 'late_for_interview': False, 'interview_response_time': False, 'job_account_issue': True, 'age_limit': False, 'salary': False, 'work_experience': False, 'special_needs_at_work': False}, {'job_alerts': False, 'howto_apply': False, 'job_close_date': False, 'multiple_role': False, 'cv_past_experience': False, 'reinstate_application': False, 'application_status': False, 'feedback': False, 'assessment_timebox': False, 'assessment_link_problem': False, 'assessment_campatilibility': False, 'assessment_validity': False, 'disability': False, 'interview_reschedule': False, 'late_for_interview': False, 'interview_response_time': False, 'job_account_issue': False, 'age_limit': True, 'salary': False, 'work_experience': False, 'special_needs_at_work': False}, {'job_alerts': False, 'howto_apply': False, 'job_close_date': False, 'multiple_role': False, 'cv_past_experience': False, 'reinstate_application': False, 'application_status': False, 'feedback': False, 'assessment_timebox': False, 'assessment_link_problem': False, 'assessment_campatilibility': False, 'assessment_validity': False, 'disability': False, 'interview_reschedule': False, 'late_for_interview': False, 'interview_response_time': False, 'job_account_issue': False, 'age_limit': True, 'salary': False, 'work_experience': False, 'special_needs_at_work': False}, {'job_alerts': False, 'howto_apply': False, 'job_close_date': False, 'multiple_role': False, 'cv_past_experience': False, 'reinstate_application': False, 'application_status': False, 'feedback': False, 'assessment_timebox': False, 'assessment_link_problem': False, 'assessment_campatilibility': False, 'assessment_validity': False, 'disability': False, 'interview_reschedule': False, 'late_for_interview': False, 'interview_response_time': False, 'job_account_issue': False, 'age_limit': True, 'salary': False, 'work_experience': False, 'special_needs_at_work': False}, {'job_alerts': False, 'howto_apply': False, 'job_close_date': False, 'multiple_role': False, 'cv_past_experience': False, 'reinstate_application': False, 'application_status': False, 'feedback': False, 'assessment_timebox': False, 'assessment_link_problem': False, 'assessment_campatilibility': False, 'assessment_validity': False, 'disability': False, 'interview_reschedule': False, 'late_for_interview': False, 'interview_response_time': False, 'job_account_issue': False, 'age_limit': True, 'salary': False, 'work_experience': False, 'special_needs_at_work': False}, {'job_alerts': False, 'howto_apply': False, 'job_close_date': False, 'multiple_role': False, 'cv_past_experience': False, 'reinstate_application': False, 'application_status': False, 'feedback': False, 'assessment_timebox': False, 'assessment_link_problem': False, 'assessment_campatilibility': False, 'assessment_validity': False, 'disability': False, 'interview_reschedule': False, 'late_for_interview': False, 'interview_response_time': False, 'job_account_issue': False, 'age_limit': True, 'salary': False, 'work_experience': False, 'special_needs_at_work': False}, {'job_alerts': False, 'howto_apply': False, 'job_close_date': False, 'multiple_role': False, 'cv_past_experience': False, 'reinstate_application': False, 'application_status': False, 'feedback': False, 'assessment_timebox': False, 'assessment_link_problem': False, 'assessment_campatilibility': False, 'assessment_validity': False, 'disability': False, 'interview_reschedule': False, 'late_for_interview': False, 'interview_response_time': False, 'job_account_issue': False, 'age_limit': True, 'salary': False, 'work_experience': False, 'special_needs_at_work': False}, {'job_alerts': False, 'howto_apply': False, 'job_close_date': False, 'multiple_role': False, 'cv_past_experience': False, 'reinstate_application': False, 'application_status': False, 'feedback': False, 'assessment_timebox': False, 'assessment_link_problem': False, 'assessment_campatilibility': False, 'assessment_validity': False, 'disability': False, 'interview_reschedule': False, 'late_for_interview': False, 'interview_response_time': False, 'job_account_issue': False, 'age_limit': True, 'salary': False, 'work_experience': False, 'special_needs_at_work': False}, {'job_alerts': False, 'howto_apply': False, 'job_close_date': False, 'multiple_role': False, 'cv_past_experience': False, 'reinstate_application': False, 'application_status': False, 'feedback': False, 'assessment_timebox': False, 'assessment_link_problem': False, 'assessment_campatilibility': False, 'assessment_validity': False, 'disability': False, 'interview_reschedule': False, 'late_for_interview': False, 'interview_response_time': False, 'job_account_issue': False, 'age_limit': True, 'salary': False, 'work_experience': False, 'special_needs_at_work': False}, {'job_alerts': False, 'howto_apply': False, 'job_close_date': False, 'multiple_role': False, 'cv_past_experience': False, 'reinstate_application': False, 'application_status': False, 'feedback': False, 'assessment_timebox': False, 'assessment_link_problem': False, 'assessment_campatilibility': False, 'assessment_validity': False, 'disability': False, 'interview_reschedule': False, 'late_for_interview': False, 'interview_response_time': False, 'job_account_issue': False, 'age_limit': True, 'salary': False, 'work_experience': False, 'special_needs_at_work': False}, {'job_alerts': False, 'howto_apply': False, 'job_close_date': False, 'multiple_role': False, 'cv_past_experience': False, 'reinstate_application': False, 'application_status': False, 'feedback': False, 'assessment_timebox': False, 'assessment_link_problem': False, 'assessment_campatilibility': False, 'assessment_validity': False, 'disability': False, 'interview_reschedule': False, 'late_for_interview': False, 'interview_response_time': False, 'job_account_issue': False, 'age_limit': True, 'salary': False, 'work_experience': False, 'special_needs_at_work': False}, {'job_alerts': False, 'howto_apply': False, 'job_close_date': False, 'multiple_role': False, 'cv_past_experience': False, 'reinstate_application': False, 'application_status': False, 'feedback': False, 'assessment_timebox': False, 'assessment_link_problem': False, 'assessment_campatilibility': False, 'assessment_validity': False, 'disability': False, 'interview_reschedule': False, 'late_for_interview': False, 'interview_response_time': False, 'job_account_issue': False, 'age_limit': True, 'salary': False, 'work_experience': False, 'special_needs_at_work': False}, {'job_alerts': False, 'howto_apply': False, 'job_close_date': False, 'multiple_role': False, 'cv_past_experience': False, 'reinstate_application': False, 'application_status': False, 'feedback': False, 'assessment_timebox': False, 'assessment_link_problem': False, 'assessment_campatilibility': False, 'assessment_validity': False, 'disability': False, 'interview_reschedule': False, 'late_for_interview': False, 'interview_response_time': False, 'job_account_issue': False, 'age_limit': True, 'salary': False, 'work_experience': False, 'special_needs_at_work': False}, {'job_alerts': False, 'howto_apply': False, 'job_close_date': False, 'multiple_role': False, 'cv_past_experience': False, 'reinstate_application': False, 'application_status': False, 'feedback': False, 'assessment_timebox': False, 'assessment_link_problem': False, 'assessment_campatilibility': False, 'assessment_validity': False, 'disability': False, 'interview_reschedule': False, 'late_for_interview': False, 'interview_response_time': False, 'job_account_issue': False, 'age_limit': True, 'salary': False, 'work_experience': False, 'special_needs_at_work': False}, {'job_alerts': False, 'howto_apply': False, 'job_close_date': False, 'multiple_role': False, 'cv_past_experience': False, 'reinstate_application': False, 'application_status': False, 'feedback': False, 'assessment_timebox': False, 'assessment_link_problem': False, 'assessment_campatilibility': False, 'assessment_validity': False, 'disability': False, 'interview_reschedule': False, 'late_for_interview': False, 'interview_response_time': False, 'job_account_issue': False, 'age_limit': True, 'salary': False, 'work_experience': False, 'special_needs_at_work': False}, {'job_alerts': False, 'howto_apply': False, 'job_close_date': False, 'multiple_role': False, 'cv_past_experience': False, 'reinstate_application': False, 'application_status': False, 'feedback': False, 'assessment_timebox': False, 'assessment_link_problem': False, 'assessment_campatilibility': False, 'assessment_validity': False, 'disability': False, 'interview_reschedule': False, 'late_for_interview': False, 'interview_response_time': False, 'job_account_issue': False, 'age_limit': True, 'salary': False, 'work_experience': False, 'special_needs_at_work': False}, {'job_alerts': False, 'howto_apply': False, 'job_close_date': False, 'multiple_role': False, 'cv_past_experience': False, 'reinstate_application': False, 'application_status': False, 'feedback': False, 'assessment_timebox': False, 'assessment_link_problem': False, 'assessment_campatilibility': False, 'assessment_validity': False, 'disability': False, 'interview_reschedule': False, 'late_for_interview': False, 'interview_response_time': False, 'job_account_issue': False, 'age_limit': True, 'salary': False, 'work_experience': False, 'special_needs_at_work': False}, {'job_alerts': False, 'howto_apply': False, 'job_close_date': False, 'multiple_role': False, 'cv_past_experience': False, 'reinstate_application': False, 'application_status': False, 'feedback': False, 'assessment_timebox': False, 'assessment_link_problem': False, 'assessment_campatilibility': False, 'assessment_validity': False, 'disability': False, 'interview_reschedule': False, 'late_for_interview': False, 'interview_response_time': False, 'job_account_issue': False, 'age_limit': False, 'salary': True, 'work_experience': False, 'special_needs_at_work': False}, {'job_alerts': False, 'howto_apply': False, 'job_close_date': False, 'multiple_role': False, 'cv_past_experience': False, 'reinstate_application': False, 'application_status': False, 'feedback': False, 'assessment_timebox': False, 'assessment_link_problem': False, 'assessment_campatilibility': False, 'assessment_validity': False, 'disability': False, 'interview_reschedule': False, 'late_for_interview': False, 'interview_response_time': False, 'job_account_issue': False, 'age_limit': False, 'salary': True, 'work_experience': False, 'special_needs_at_work': False}, {'job_alerts': False, 'howto_apply': False, 'job_close_date': False, 'multiple_role': False, 'cv_past_experience': False, 'reinstate_application': False, 'application_status': False, 'feedback': False, 'assessment_timebox': False, 'assessment_link_problem': False, 'assessment_campatilibility': False, 'assessment_validity': False, 'disability': False, 'interview_reschedule': False, 'late_for_interview': False, 'interview_response_time': False, 'job_account_issue': False, 'age_limit': False, 'salary': True, 'work_experience': False, 'special_needs_at_work': False}, {'job_alerts': False, 'howto_apply': False, 'job_close_date': False, 'multiple_role': False, 'cv_past_experience': False, 'reinstate_application': False, 'application_status': False, 'feedback': False, 'assessment_timebox': False, 'assessment_link_problem': False, 'assessment_campatilibility': False, 'assessment_validity': False, 'disability': False, 'interview_reschedule': False, 'late_for_interview': False, 'interview_response_time': False, 'job_account_issue': False, 'age_limit': False, 'salary': True, 'work_experience': False, 'special_needs_at_work': False}, {'job_alerts': False, 'howto_apply': False, 'job_close_date': False, 'multiple_role': False, 'cv_past_experience': False, 'reinstate_application': False, 'application_status': False, 'feedback': False, 'assessment_timebox': False, 'assessment_link_problem': False, 'assessment_campatilibility': False, 'assessment_validity': False, 'disability': False, 'interview_reschedule': False, 'late_for_interview': False, 'interview_response_time': False, 'job_account_issue': False, 'age_limit': False, 'salary': True, 'work_experience': False, 'special_needs_at_work': False}, {'job_alerts': False, 'howto_apply': False, 'job_close_date': False, 'multiple_role': False, 'cv_past_experience': False, 'reinstate_application': False, 'application_status': False, 'feedback': False, 'assessment_timebox': False, 'assessment_link_problem': False, 'assessment_campatilibility': False, 'assessment_validity': False, 'disability': False, 'interview_reschedule': False, 'late_for_interview': False, 'interview_response_time': False, 'job_account_issue': False, 'age_limit': False, 'salary': True, 'work_experience': False, 'special_needs_at_work': False}, {'job_alerts': False, 'howto_apply': False, 'job_close_date': False, 'multiple_role': False, 'cv_past_experience': False, 'reinstate_application': False, 'application_status': False, 'feedback': False, 'assessment_timebox': False, 'assessment_link_problem': False, 'assessment_campatilibility': False, 'assessment_validity': False, 'disability': False, 'interview_reschedule': False, 'late_for_interview': False, 'interview_response_time': False, 'job_account_issue': False, 'age_limit': False, 'salary': True, 'work_experience': False, 'special_needs_at_work': False}, {'job_alerts': False, 'howto_apply': False, 'job_close_date': False, 'multiple_role': False, 'cv_past_experience': False, 'reinstate_application': False, 'application_status': False, 'feedback': False, 'assessment_timebox': False, 'assessment_link_problem': False, 'assessment_campatilibility': False, 'assessment_validity': False, 'disability': False, 'interview_reschedule': False, 'late_for_interview': False, 'interview_response_time': False, 'job_account_issue': False, 'age_limit': False, 'salary': True, 'work_experience': False, 'special_needs_at_work': False}, {'job_alerts': False, 'howto_apply': False, 'job_close_date': False, 'multiple_role': False, 'cv_past_experience': False, 'reinstate_application': False, 'application_status': False, 'feedback': False, 'assessment_timebox': False, 'assessment_link_problem': False, 'assessment_campatilibility': False, 'assessment_validity': False, 'disability': False, 'interview_reschedule': False, 'late_for_interview': False, 'interview_response_time': False, 'job_account_issue': False, 'age_limit': False, 'salary': True, 'work_experience': False, 'special_needs_at_work': False}, {'job_alerts': False, 'howto_apply': False, 'job_close_date': False, 'multiple_role': False, 'cv_past_experience': False, 'reinstate_application': False, 'application_status': False, 'feedback': False, 'assessment_timebox': False, 'assessment_link_problem': False, 'assessment_campatilibility': False, 'assessment_validity': False, 'disability': False, 'interview_reschedule': False, 'late_for_interview': False, 'interview_response_time': False, 'job_account_issue': False, 'age_limit': False, 'salary': True, 'work_experience': False, 'special_needs_at_work': False}, {'job_alerts': False, 'howto_apply': False, 'job_close_date': False, 'multiple_role': False, 'cv_past_experience': False, 'reinstate_application': False, 'application_status': False, 'feedback': False, 'assessment_timebox': False, 'assessment_link_problem': False, 'assessment_campatilibility': False, 'assessment_validity': False, 'disability': False, 'interview_reschedule': False, 'late_for_interview': False, 'interview_response_time': False, 'job_account_issue': False, 'age_limit': False, 'salary': True, 'work_experience': False, 'special_needs_at_work': False}, {'job_alerts': False, 'howto_apply': False, 'job_close_date': False, 'multiple_role': False, 'cv_past_experience': False, 'reinstate_application': False, 'application_status': False, 'feedback': False, 'assessment_timebox': False, 'assessment_link_problem': False, 'assessment_campatilibility': False, 'assessment_validity': False, 'disability': False, 'interview_reschedule': False, 'late_for_interview': False, 'interview_response_time': False, 'job_account_issue': False, 'age_limit': False, 'salary': True, 'work_experience': False, 'special_needs_at_work': False}, {'job_alerts': False, 'howto_apply': False, 'job_close_date': False, 'multiple_role': False, 'cv_past_experience': False, 'reinstate_application': False, 'application_status': False, 'feedback': False, 'assessment_timebox': False, 'assessment_link_problem': False, 'assessment_campatilibility': False, 'assessment_validity': False, 'disability': False, 'interview_reschedule': False, 'late_for_interview': False, 'interview_response_time': False, 'job_account_issue': False, 'age_limit': False, 'salary': True, 'work_experience': False, 'special_needs_at_work': False}, {'job_alerts': False, 'howto_apply': False, 'job_close_date': False, 'multiple_role': False, 'cv_past_experience': False, 'reinstate_application': False, 'application_status': False, 'feedback': False, 'assessment_timebox': False, 'assessment_link_problem': False, 'assessment_campatilibility': False, 'assessment_validity': False, 'disability': False, 'interview_reschedule': False, 'late_for_interview': False, 'interview_response_time': False, 'job_account_issue': False, 'age_limit': False, 'salary': True, 'work_experience': False, 'special_needs_at_work': False}, {'job_alerts': False, 'howto_apply': False, 'job_close_date': False, 'multiple_role': False, 'cv_past_experience': False, 'reinstate_application': False, 'application_status': False, 'feedback': False, 'assessment_timebox': False, 'assessment_link_problem': False, 'assessment_campatilibility': False, 'assessment_validity': False, 'disability': False, 'interview_reschedule': False, 'late_for_interview': False, 'interview_response_time': False, 'job_account_issue': False, 'age_limit': False, 'salary': True, 'work_experience': False, 'special_needs_at_work': False}, {'job_alerts': False, 'howto_apply': False, 'job_close_date': False, 'multiple_role': False, 'cv_past_experience': False, 'reinstate_application': False, 'application_status': False, 'feedback': False, 'assessment_timebox': False, 'assessment_link_problem': False, 'assessment_campatilibility': False, 'assessment_validity': False, 'disability': False, 'interview_reschedule': False, 'late_for_interview': False, 'interview_response_time': False, 'job_account_issue': False, 'age_limit': False, 'salary': True, 'work_experience': False, 'special_needs_at_work': False}, {'job_alerts': False, 'howto_apply': False, 'job_close_date': False, 'multiple_role': False, 'cv_past_experience': False, 'reinstate_application': False, 'application_status': False, 'feedback': False, 'assessment_timebox': False, 'assessment_link_problem': False, 'assessment_campatilibility': False, 'assessment_validity': False, 'disability': False, 'interview_reschedule': False, 'late_for_interview': False, 'interview_response_time': False, 'job_account_issue': False, 'age_limit': False, 'salary': True, 'work_experience': False, 'special_needs_at_work': False}, {'job_alerts': False, 'howto_apply': False, 'job_close_date': False, 'multiple_role': False, 'cv_past_experience': False, 'reinstate_application': False, 'application_status': False, 'feedback': False, 'assessment_timebox': False, 'assessment_link_problem': False, 'assessment_campatilibility': False, 'assessment_validity': False, 'disability': False, 'interview_reschedule': False, 'late_for_interview': False, 'interview_response_time': False, 'job_account_issue': False, 'age_limit': False, 'salary': True, 'work_experience': False, 'special_needs_at_work': False}, {'job_alerts': False, 'howto_apply': False, 'job_close_date': False, 'multiple_role': False, 'cv_past_experience': False, 'reinstate_application': False, 'application_status': False, 'feedback': False, 'assessment_timebox': False, 'assessment_link_problem': False, 'assessment_campatilibility': False, 'assessment_validity': False, 'disability': False, 'interview_reschedule': False, 'late_for_interview': False, 'interview_response_time': False, 'job_account_issue': False, 'age_limit': False, 'salary': True, 'work_experience': False, 'special_needs_at_work': False}, {'job_alerts': False, 'howto_apply': False, 'job_close_date': False, 'multiple_role': False, 'cv_past_experience': False, 'reinstate_application': False, 'application_status': False, 'feedback': False, 'assessment_timebox': False, 'assessment_link_problem': False, 'assessment_campatilibility': False, 'assessment_validity': False, 'disability': False, 'interview_reschedule': False, 'late_for_interview': False, 'interview_response_time': False, 'job_account_issue': False, 'age_limit': False, 'salary': True, 'work_experience': False, 'special_needs_at_work': False}, {'job_alerts': False, 'howto_apply': False, 'job_close_date': False, 'multiple_role': False, 'cv_past_experience': False, 'reinstate_application': False, 'application_status': False, 'feedback': False, 'assessment_timebox': False, 'assessment_link_problem': False, 'assessment_campatilibility': False, 'assessment_validity': False, 'disability': False, 'interview_reschedule': False, 'late_for_interview': False, 'interview_response_time': False, 'job_account_issue': False, 'age_limit': False, 'salary': True, 'work_experience': False, 'special_needs_at_work': False}, {'job_alerts': False, 'howto_apply': False, 'job_close_date': False, 'multiple_role': False, 'cv_past_experience': False, 'reinstate_application': False, 'application_status': False, 'feedback': False, 'assessment_timebox': False, 'assessment_link_problem': False, 'assessment_campatilibility': False, 'assessment_validity': False, 'disability': False, 'interview_reschedule': False, 'late_for_interview': False, 'interview_response_time': False, 'job_account_issue': False, 'age_limit': False, 'salary': True, 'work_experience': False, 'special_needs_at_work': False}, {'job_alerts': False, 'howto_apply': False, 'job_close_date': False, 'multiple_role': False, 'cv_past_experience': False, 'reinstate_application': False, 'application_status': False, 'feedback': False, 'assessment_timebox': False, 'assessment_link_problem': False, 'assessment_campatilibility': False, 'assessment_validity': False, 'disability': False, 'interview_reschedule': False, 'late_for_interview': False, 'interview_response_time': False, 'job_account_issue': False, 'age_limit': False, 'salary': True, 'work_experience': False, 'special_needs_at_work': False}, {'job_alerts': False, 'howto_apply': False, 'job_close_date': False, 'multiple_role': False, 'cv_past_experience': False, 'reinstate_application': False, 'application_status': False, 'feedback': False, 'assessment_timebox': False, 'assessment_link_problem': False, 'assessment_campatilibility': False, 'assessment_validity': False, 'disability': False, 'interview_reschedule': False, 'late_for_interview': False, 'interview_response_time': False, 'job_account_issue': False, 'age_limit': False, 'salary': True, 'work_experience': False, 'special_needs_at_work': False}, {'job_alerts': False, 'howto_apply': False, 'job_close_date': False, 'multiple_role': False, 'cv_past_experience': False, 'reinstate_application': False, 'application_status': False, 'feedback': False, 'assessment_timebox': False, 'assessment_link_problem': False, 'assessment_campatilibility': False, 'assessment_validity': False, 'disability': False, 'interview_reschedule': False, 'late_for_interview': False, 'interview_response_time': False, 'job_account_issue': False, 'age_limit': False, 'salary': True, 'work_experience': False, 'special_needs_at_work': False}, {'job_alerts': False, 'howto_apply': False, 'job_close_date': False, 'multiple_role': False, 'cv_past_experience': False, 'reinstate_application': False, 'application_status': False, 'feedback': False, 'assessment_timebox': False, 'assessment_link_problem': False, 'assessment_campatilibility': False, 'assessment_validity': False, 'disability': False, 'interview_reschedule': False, 'late_for_interview': False, 'interview_response_time': False, 'job_account_issue': False, 'age_limit': False, 'salary': True, 'work_experience': False, 'special_needs_at_work': False}, {'job_alerts': False, 'howto_apply': False, 'job_close_date': False, 'multiple_role': False, 'cv_past_experience': False, 'reinstate_application': False, 'application_status': False, 'feedback': False, 'assessment_timebox': False, 'assessment_link_problem': False, 'assessment_campatilibility': False, 'assessment_validity': False, 'disability': False, 'interview_reschedule': False, 'late_for_interview': False, 'interview_response_time': False, 'job_account_issue': False, 'age_limit': False, 'salary': True, 'work_experience': False, 'special_needs_at_work': False}, {'job_alerts': False, 'howto_apply': False, 'job_close_date': False, 'multiple_role': False, 'cv_past_experience': False, 'reinstate_application': False, 'application_status': False, 'feedback': False, 'assessment_timebox': False, 'assessment_link_problem': False, 'assessment_campatilibility': False, 'assessment_validity': False, 'disability': False, 'interview_reschedule': False, 'late_for_interview': False, 'interview_response_time': False, 'job_account_issue': False, 'age_limit': False, 'salary': True, 'work_experience': False, 'special_needs_at_work': False}, {'job_alerts': False, 'howto_apply': False, 'job_close_date': False, 'multiple_role': False, 'cv_past_experience': False, 'reinstate_application': False, 'application_status': False, 'feedback': False, 'assessment_timebox': False, 'assessment_link_problem': False, 'assessment_campatilibility': False, 'assessment_validity': False, 'disability': False, 'interview_reschedule': False, 'late_for_interview': False, 'interview_response_time': False, 'job_account_issue': False, 'age_limit': False, 'salary': True, 'work_experience': False, 'special_needs_at_work': False}, {'job_alerts': False, 'howto_apply': False, 'job_close_date': False, 'multiple_role': False, 'cv_past_experience': False, 'reinstate_application': False, 'application_status': False, 'feedback': False, 'assessment_timebox': False, 'assessment_link_problem': False, 'assessment_campatilibility': False, 'assessment_validity': False, 'disability': False, 'interview_reschedule': False, 'late_for_interview': False, 'interview_response_time': False, 'job_account_issue': False, 'age_limit': False, 'salary': True, 'work_experience': False, 'special_needs_at_work': False}, {'job_alerts': False, 'howto_apply': False, 'job_close_date': False, 'multiple_role': False, 'cv_past_experience': False, 'reinstate_application': False, 'application_status': False, 'feedback': False, 'assessment_timebox': False, 'assessment_link_problem': False, 'assessment_campatilibility': False, 'assessment_validity': False, 'disability': False, 'interview_reschedule': False, 'late_for_interview': False, 'interview_response_time': False, 'job_account_issue': False, 'age_limit': False, 'salary': False, 'work_experience': True, 'special_needs_at_work': False}, {'job_alerts': False, 'howto_apply': False, 'job_close_date': False, 'multiple_role': False, 'cv_past_experience': False, 'reinstate_application': False, 'application_status': False, 'feedback': False, 'assessment_timebox': False, 'assessment_link_problem': False, 'assessment_campatilibility': False, 'assessment_validity': False, 'disability': False, 'interview_reschedule': False, 'late_for_interview': False, 'interview_response_time': False, 'job_account_issue': False, 'age_limit': False, 'salary': False, 'work_experience': True, 'special_needs_at_work': False}, {'job_alerts': False, 'howto_apply': False, 'job_close_date': False, 'multiple_role': False, 'cv_past_experience': False, 'reinstate_application': False, 'application_status': False, 'feedback': False, 'assessment_timebox': False, 'assessment_link_problem': False, 'assessment_campatilibility': False, 'assessment_validity': False, 'disability': False, 'interview_reschedule': False, 'late_for_interview': False, 'interview_response_time': False, 'job_account_issue': False, 'age_limit': False, 'salary': False, 'work_experience': True, 'special_needs_at_work': False}, {'job_alerts': False, 'howto_apply': False, 'job_close_date': False, 'multiple_role': False, 'cv_past_experience': False, 'reinstate_application': False, 'application_status': False, 'feedback': False, 'assessment_timebox': False, 'assessment_link_problem': False, 'assessment_campatilibility': False, 'assessment_validity': False, 'disability': False, 'interview_reschedule': False, 'late_for_interview': False, 'interview_response_time': False, 'job_account_issue': False, 'age_limit': False, 'salary': False, 'work_experience': True, 'special_needs_at_work': False}, {'job_alerts': False, 'howto_apply': False, 'job_close_date': False, 'multiple_role': False, 'cv_past_experience': False, 'reinstate_application': False, 'application_status': False, 'feedback': False, 'assessment_timebox': False, 'assessment_link_problem': False, 'assessment_campatilibility': False, 'assessment_validity': False, 'disability': False, 'interview_reschedule': False, 'late_for_interview': False, 'interview_response_time': False, 'job_account_issue': False, 'age_limit': False, 'salary': False, 'work_experience': True, 'special_needs_at_work': False}, {'job_alerts': False, 'howto_apply': False, 'job_close_date': False, 'multiple_role': False, 'cv_past_experience': False, 'reinstate_application': False, 'application_status': False, 'feedback': False, 'assessment_timebox': False, 'assessment_link_problem': False, 'assessment_campatilibility': False, 'assessment_validity': False, 'disability': False, 'interview_reschedule': False, 'late_for_interview': False, 'interview_response_time': False, 'job_account_issue': False, 'age_limit': False, 'salary': False, 'work_experience': True, 'special_needs_at_work': False}, {'job_alerts': False, 'howto_apply': False, 'job_close_date': False, 'multiple_role': False, 'cv_past_experience': False, 'reinstate_application': False, 'application_status': False, 'feedback': False, 'assessment_timebox': False, 'assessment_link_problem': False, 'assessment_campatilibility': False, 'assessment_validity': False, 'disability': False, 'interview_reschedule': False, 'late_for_interview': False, 'interview_response_time': False, 'job_account_issue': False, 'age_limit': False, 'salary': False, 'work_experience': True, 'special_needs_at_work': False}, {'job_alerts': False, 'howto_apply': False, 'job_close_date': False, 'multiple_role': False, 'cv_past_experience': False, 'reinstate_application': False, 'application_status': False, 'feedback': False, 'assessment_timebox': False, 'assessment_link_problem': False, 'assessment_campatilibility': False, 'assessment_validity': False, 'disability': False, 'interview_reschedule': False, 'late_for_interview': False, 'interview_response_time': False, 'job_account_issue': False, 'age_limit': False, 'salary': False, 'work_experience': True, 'special_needs_at_work': False}, {'job_alerts': False, 'howto_apply': False, 'job_close_date': False, 'multiple_role': False, 'cv_past_experience': False, 'reinstate_application': False, 'application_status': False, 'feedback': False, 'assessment_timebox': False, 'assessment_link_problem': False, 'assessment_campatilibility': False, 'assessment_validity': False, 'disability': False, 'interview_reschedule': False, 'late_for_interview': False, 'interview_response_time': False, 'job_account_issue': False, 'age_limit': False, 'salary': False, 'work_experience': True, 'special_needs_at_work': False}, {'job_alerts': False, 'howto_apply': False, 'job_close_date': False, 'multiple_role': False, 'cv_past_experience': False, 'reinstate_application': False, 'application_status': False, 'feedback': False, 'assessment_timebox': False, 'assessment_link_problem': False, 'assessment_campatilibility': False, 'assessment_validity': False, 'disability': False, 'interview_reschedule': False, 'late_for_interview': False, 'interview_response_time': False, 'job_account_issue': False, 'age_limit': False, 'salary': False, 'work_experience': True, 'special_needs_at_work': False}, {'job_alerts': False, 'howto_apply': False, 'job_close_date': False, 'multiple_role': False, 'cv_past_experience': False, 'reinstate_application': False, 'application_status': False, 'feedback': False, 'assessment_timebox': False, 'assessment_link_problem': False, 'assessment_campatilibility': False, 'assessment_validity': False, 'disability': False, 'interview_reschedule': False, 'late_for_interview': False, 'interview_response_time': False, 'job_account_issue': False, 'age_limit': False, 'salary': False, 'work_experience': True, 'special_needs_at_work': False}, {'job_alerts': False, 'howto_apply': False, 'job_close_date': False, 'multiple_role': False, 'cv_past_experience': False, 'reinstate_application': False, 'application_status': False, 'feedback': False, 'assessment_timebox': False, 'assessment_link_problem': False, 'assessment_campatilibility': False, 'assessment_validity': False, 'disability': False, 'interview_reschedule': False, 'late_for_interview': False, 'interview_response_time': False, 'job_account_issue': False, 'age_limit': False, 'salary': False, 'work_experience': False, 'special_needs_at_work': True}, {'job_alerts': False, 'howto_apply': False, 'job_close_date': False, 'multiple_role': False, 'cv_past_experience': False, 'reinstate_application': False, 'application_status': False, 'feedback': False, 'assessment_timebox': False, 'assessment_link_problem': False, 'assessment_campatilibility': False, 'assessment_validity': False, 'disability': False, 'interview_reschedule': False, 'late_for_interview': False, 'interview_response_time': False, 'job_account_issue': False, 'age_limit': False, 'salary': False, 'work_experience': False, 'special_needs_at_work': True}, {'job_alerts': False, 'howto_apply': False, 'job_close_date': False, 'multiple_role': False, 'cv_past_experience': False, 'reinstate_application': False, 'application_status': False, 'feedback': False, 'assessment_timebox': False, 'assessment_link_problem': False, 'assessment_campatilibility': False, 'assessment_validity': False, 'disability': False, 'interview_reschedule': False, 'late_for_interview': False, 'interview_response_time': False, 'job_account_issue': False, 'age_limit': False, 'salary': False, 'work_experience': False, 'special_needs_at_work': True}, {'job_alerts': False, 'howto_apply': False, 'job_close_date': False, 'multiple_role': False, 'cv_past_experience': False, 'reinstate_application': False, 'application_status': False, 'feedback': False, 'assessment_timebox': False, 'assessment_link_problem': False, 'assessment_campatilibility': False, 'assessment_validity': False, 'disability': False, 'interview_reschedule': False, 'late_for_interview': False, 'interview_response_time': False, 'job_account_issue': False, 'age_limit': False, 'salary': False, 'work_experience': False, 'special_needs_at_work': True}, {'job_alerts': False, 'howto_apply': False, 'job_close_date': False, 'multiple_role': False, 'cv_past_experience': False, 'reinstate_application': False, 'application_status': False, 'feedback': False, 'assessment_timebox': False, 'assessment_link_problem': False, 'assessment_campatilibility': False, 'assessment_validity': False, 'disability': False, 'interview_reschedule': False, 'late_for_interview': False, 'interview_response_time': False, 'job_account_issue': False, 'age_limit': False, 'salary': False, 'work_experience': False, 'special_needs_at_work': True}, {'job_alerts': False, 'howto_apply': False, 'job_close_date': False, 'multiple_role': False, 'cv_past_experience': False, 'reinstate_application': False, 'application_status': False, 'feedback': False, 'assessment_timebox': False, 'assessment_link_problem': False, 'assessment_campatilibility': False, 'assessment_validity': False, 'disability': False, 'interview_reschedule': False, 'late_for_interview': False, 'interview_response_time': False, 'job_account_issue': False, 'age_limit': False, 'salary': False, 'work_experience': False, 'special_needs_at_work': True}, {'job_alerts': False, 'howto_apply': False, 'job_close_date': False, 'multiple_role': False, 'cv_past_experience': False, 'reinstate_application': False, 'application_status': False, 'feedback': False, 'assessment_timebox': False, 'assessment_link_problem': False, 'assessment_campatilibility': False, 'assessment_validity': False, 'disability': False, 'interview_reschedule': False, 'late_for_interview': False, 'interview_response_time': False, 'job_account_issue': False, 'age_limit': False, 'salary': False, 'work_experience': False, 'special_needs_at_work': True}, {'job_alerts': False, 'howto_apply': False, 'job_close_date': False, 'multiple_role': False, 'cv_past_experience': False, 'reinstate_application': False, 'application_status': False, 'feedback': False, 'assessment_timebox': False, 'assessment_link_problem': False, 'assessment_campatilibility': False, 'assessment_validity': False, 'disability': False, 'interview_reschedule': False, 'late_for_interview': False, 'interview_response_time': False, 'job_account_issue': False, 'age_limit': False, 'salary': False, 'work_experience': False, 'special_needs_at_work': True}, {'job_alerts': False, 'howto_apply': False, 'job_close_date': False, 'multiple_role': False, 'cv_past_experience': False, 'reinstate_application': False, 'application_status': False, 'feedback': False, 'assessment_timebox': False, 'assessment_link_problem': False, 'assessment_campatilibility': False, 'assessment_validity': False, 'disability': False, 'interview_reschedule': False, 'late_for_interview': False, 'interview_response_time': False, 'job_account_issue': False, 'age_limit': False, 'salary': False, 'work_experience': False, 'special_needs_at_work': True}]\n"
     ]
    }
   ],
   "source": [
    "# (train_texts, train_cats), (dev_texts, dev_cats) = load_data(tok=True)\n",
    "(texts, cats) = load_data(tok=True)"
   ]
  },
  {
   "cell_type": "code",
   "execution_count": 108,
   "metadata": {
    "code_folding": [],
    "hidden": true,
    "scrolled": true
   },
   "outputs": [
    {
     "name": "stdout",
     "output_type": "stream",
     "text": [
      "\n",
      "[TEST SET RESULTS]\n",
      "    \n",
      "Total Correct: 60    \n",
      "Total Wrong: 31    \n",
      "TEST-SET ACCURACY:  0.6593406593406593    \n",
      "Incorrect Predictions:\n",
      "  defaultdict(<class 'int'>, {'job_alerts': 3, 'howto_apply': 2, 'multiple_role': 1, 'cv_past_experience': 1, 'application_status': 1, 'feedback': 5, 'assessment_link_problem': 2, 'assessment_campatilibility': 1, 'assessment_validity': 2, 'disability': 2, 'interview_reschedule': 3, 'late_for_interview': 2, 'age_limit': 1, 'salary': 2, 'special_needs_at_work': 3})\n",
      "\n",
      "[TRAIN SET RESULTS]\n",
      "    \n",
      "Total Correct: 364    \n",
      "Total Wrong: 0    \n",
      "TRAIN-SET ACCURACY:  1.0    \n",
      "Incorrect Predictions:\n",
      "  defaultdict(<class 'int'>, {})\n",
      "\n",
      "[OVERALL RESULTS]\n",
      "    \n",
      "Total Correct: 424    \n",
      "Total Wrong: 31    \n",
      "OVERALL ACCURACY:  0.9318681318681319\n"
     ]
    }
   ],
   "source": [
    "from __future__ import unicode_literals, print_function\n",
    "import plac\n",
    "import random\n",
    "from pathlib import Path\n",
    "\n",
    "from spacy.util import minibatch, compounding\n",
    "\n",
    "\n",
    "# Parameters\n",
    "n_iter = 40\n",
    "drop = 0.15\n",
    "architecture = \"simple_cnn\"\n",
    "\n",
    "\n",
    "# for i in range(0,5):\n",
    "(train_texts, train_cats), (dev_texts, dev_cats) = load_data_v2()\n",
    "\n",
    "nlp = spacy.blank(\"en\")  \n",
    "textcat = nlp.create_pipe(\n",
    "    \"textcat\", config={\"exclusive_classes\": True, \"architecture\": architecture}\n",
    ")\n",
    "nlp.add_pipe(textcat, last=True)\n",
    "\n",
    "for label in classes:\n",
    "    textcat.add_label(label)\n",
    "\n",
    "train_data = list(zip(train_texts, [{\"cats\": cats} for cats in train_cats]))\n",
    "\n",
    "pipe_exceptions = [\"textcat\", \"trf_wordpiecer\", \"trf_tok2vec\"]\n",
    "other_pipes = [pipe for pipe in nlp.pipe_names if pipe not in pipe_exceptions]\n",
    "with nlp.disable_pipes(*other_pipes):  \n",
    "    optimizer = nlp.begin_training()\n",
    "    print(\"Training the model...\")\n",
    "    batch_sizes = compounding(4.0, 32.0, 1.001)\n",
    "    for i in range(n_iter):\n",
    "        losses = {}\n",
    "        random.shuffle(train_data)\n",
    "        batches = minibatch(train_data, size=batch_sizes)\n",
    "        for batch in batches:\n",
    "            texts, annotations = zip(*batch)\n",
    "            nlp.update(texts, annotations, sgd=optimizer, drop=drop, losses=losses)\n",
    "\n",
    "# Model Results\n",
    "\n",
    "train_total_correct, train_inaccuracies, train_preds = get_preds(train_texts, train_cats)\n",
    "test_total_correct, test_inaccuracies, test_preds = get_preds(dev_texts, dev_cats)\n",
    "\n",
    "total_correct = test_total_correct + train_total_correct\n",
    "total_rows = len(dev_texts) + len(train_texts)\n",
    "\n",
    "print(\"\\n[TEST SET RESULTS]\\n\",\n",
    "      \"   \\nTotal Correct:\", test_total_correct, \n",
    "      \"   \\nTotal Wrong:\", len(dev_texts)-test_total_correct, \n",
    "      \"   \\nTEST-SET ACCURACY: \", test_total_correct/len(dev_texts),\n",
    "      \"   \\nIncorrect Predictions:\\n \", test_inaccuracies\n",
    "     )\n",
    "\n",
    "print(\"\\n[TRAIN SET RESULTS]\\n\",\n",
    "      \"   \\nTotal Correct:\", train_total_correct, \n",
    "      \"   \\nTotal Wrong:\", len(train_texts)-train_total_correct, \n",
    "      \"   \\nTRAIN-SET ACCURACY: \", train_total_correct/len(train_texts),\n",
    "      \"   \\nIncorrect Predictions:\\n \", train_inaccuracies\n",
    "     )\n",
    "\n",
    "print(\"\\n[OVERALL RESULTS]\\n\",\n",
    "      \"   \\nTotal Correct:\", total_correct, \n",
    "      \"   \\nTotal Wrong:\", total_rows-total_correct,\n",
    "      \"   \\nOVERALL ACCURACY: \", total_correct/total_rows)\n"
   ]
  },
  {
   "cell_type": "markdown",
   "metadata": {
    "heading_collapsed": true
   },
   "source": [
    "## Data Augmentation"
   ]
  },
  {
   "cell_type": "code",
   "execution_count": 5,
   "metadata": {
    "hidden": true
   },
   "outputs": [],
   "source": [
    "import nlpaug.augmenter.word as naw\n",
    "import nlpaug.augmenter.sentence as nas\n",
    "import nlpaug.flow as nafc\n",
    "\n",
    "from nlpaug.util import Action"
   ]
  },
  {
   "cell_type": "code",
   "execution_count": null,
   "metadata": {
    "hidden": true
   },
   "outputs": [],
   "source": [
    "fast_aug = naw.WordEmbsAug(\n",
    "    model_type='fasttext', model_path='./models/wiki-news-300d-1M.vec',\n",
    "    action=\"substitute\")\n",
    "\n",
    "w2c_aug = naw.WordEmbsAug(\n",
    "    model_type='word2vec', model_path='./models/GoogleNews-vectors-negative300.bin',\n",
    "    action=\"substitute\")\n",
    "\n",
    "text = \"What is the process of applying for this job?\"\n",
    "print(\"Original:\", text)\n",
    "print(\"Augmented (fasttext):\", fast_aug.augment(text) )\n",
    "print(\"Augmented (w2v):\", w2c_aug.augment(text) )"
   ]
  },
  {
   "cell_type": "code",
   "execution_count": 9,
   "metadata": {
    "hidden": true
   },
   "outputs": [
    {
     "ename": "ImportError",
     "evalue": "Missed torch, transformers libraries. Install it via `pip install torch transformers`",
     "output_type": "error",
     "traceback": [
      "\u001b[1;31m---------------------------------------------------------------------------\u001b[0m",
      "\u001b[1;31mNameError\u001b[0m                                 Traceback (most recent call last)",
      "\u001b[1;32m~\\Miniconda3\\envs\\nlp\\lib\\site-packages\\nlpaug\\model\\lang_models\\language_models.py\u001b[0m in \u001b[0;36m__init__\u001b[1;34m(self, device, temperature, top_k, top_p, optimize)\u001b[0m\n\u001b[0;32m     16\u001b[0m         \u001b[1;32mtry\u001b[0m\u001b[1;33m:\u001b[0m\u001b[1;33m\u001b[0m\u001b[1;33m\u001b[0m\u001b[0m\n\u001b[1;32m---> 17\u001b[1;33m             \u001b[0mself\u001b[0m\u001b[1;33m.\u001b[0m\u001b[0mdevice\u001b[0m \u001b[1;33m=\u001b[0m \u001b[1;34m'cuda'\u001b[0m \u001b[1;32mif\u001b[0m \u001b[0mdevice\u001b[0m \u001b[1;32mis\u001b[0m \u001b[1;32mNone\u001b[0m \u001b[1;32mand\u001b[0m \u001b[0mtorch\u001b[0m\u001b[1;33m.\u001b[0m\u001b[0mcuda\u001b[0m\u001b[1;33m.\u001b[0m\u001b[0mis_available\u001b[0m\u001b[1;33m(\u001b[0m\u001b[1;33m)\u001b[0m \u001b[1;32melse\u001b[0m \u001b[0mdevice\u001b[0m\u001b[1;33m\u001b[0m\u001b[1;33m\u001b[0m\u001b[0m\n\u001b[0m\u001b[0;32m     18\u001b[0m         \u001b[1;32mexcept\u001b[0m \u001b[0mNameError\u001b[0m\u001b[1;33m:\u001b[0m\u001b[1;33m\u001b[0m\u001b[1;33m\u001b[0m\u001b[0m\n",
      "\u001b[1;31mNameError\u001b[0m: name 'torch' is not defined",
      "\nDuring handling of the above exception, another exception occurred:\n",
      "\u001b[1;31mImportError\u001b[0m                               Traceback (most recent call last)",
      "\u001b[1;32m<ipython-input-9-d4a18a7698a7>\u001b[0m in \u001b[0;36m<module>\u001b[1;34m\u001b[0m\n\u001b[0;32m      1\u001b[0m aug = naw.ContextualWordEmbsAug(\n\u001b[1;32m----> 2\u001b[1;33m     model_path='distilbert-base-uncased', action=\"substitute\")\n\u001b[0m\u001b[0;32m      3\u001b[0m \u001b[0maugmented_text\u001b[0m \u001b[1;33m=\u001b[0m \u001b[0maug\u001b[0m\u001b[1;33m.\u001b[0m\u001b[0maugment\u001b[0m\u001b[1;33m(\u001b[0m\u001b[0mtext\u001b[0m\u001b[1;33m)\u001b[0m\u001b[1;33m\u001b[0m\u001b[1;33m\u001b[0m\u001b[0m\n\u001b[0;32m      4\u001b[0m \u001b[0mprint\u001b[0m\u001b[1;33m(\u001b[0m\u001b[1;34m\"Original:\"\u001b[0m\u001b[1;33m)\u001b[0m\u001b[1;33m\u001b[0m\u001b[1;33m\u001b[0m\u001b[0m\n\u001b[0;32m      5\u001b[0m \u001b[0mprint\u001b[0m\u001b[1;33m(\u001b[0m\u001b[0mtext\u001b[0m\u001b[1;33m)\u001b[0m\u001b[1;33m\u001b[0m\u001b[1;33m\u001b[0m\u001b[0m\n",
      "\u001b[1;32m~\\Miniconda3\\envs\\nlp\\lib\\site-packages\\nlpaug\\augmenter\\word\\context_word_embs.py\u001b[0m in \u001b[0;36m__init__\u001b[1;34m(self, model_path, action, temperature, top_k, top_p, name, aug_min, aug_max, aug_p, stopwords, skip_unknown_word, device, force_reload, optimize, stopwords_regex, verbose, include_detail)\u001b[0m\n\u001b[0;32m     94\u001b[0m         self.model = self.get_model(\n\u001b[0;32m     95\u001b[0m             \u001b[0mmodel_path\u001b[0m\u001b[1;33m=\u001b[0m\u001b[0mmodel_path\u001b[0m\u001b[1;33m,\u001b[0m \u001b[0mdevice\u001b[0m\u001b[1;33m=\u001b[0m\u001b[0mdevice\u001b[0m\u001b[1;33m,\u001b[0m \u001b[0mforce_reload\u001b[0m\u001b[1;33m=\u001b[0m\u001b[0mforce_reload\u001b[0m\u001b[1;33m,\u001b[0m \u001b[0mtemperature\u001b[0m\u001b[1;33m=\u001b[0m\u001b[0mtemperature\u001b[0m\u001b[1;33m,\u001b[0m \u001b[0mtop_k\u001b[0m\u001b[1;33m=\u001b[0m\u001b[0mtop_k\u001b[0m\u001b[1;33m,\u001b[0m\u001b[1;33m\u001b[0m\u001b[1;33m\u001b[0m\u001b[0m\n\u001b[1;32m---> 96\u001b[1;33m             top_p=top_p, optimize=optimize)\n\u001b[0m\u001b[0;32m     97\u001b[0m         \u001b[1;31m# Override stopwords\u001b[0m\u001b[1;33m\u001b[0m\u001b[1;33m\u001b[0m\u001b[1;33m\u001b[0m\u001b[0m\n\u001b[0;32m     98\u001b[0m         \u001b[1;32mif\u001b[0m \u001b[0mstopwords\u001b[0m \u001b[1;32mis\u001b[0m \u001b[1;32mnot\u001b[0m \u001b[1;32mNone\u001b[0m \u001b[1;32mand\u001b[0m \u001b[0mself\u001b[0m\u001b[1;33m.\u001b[0m\u001b[0mmodel_type\u001b[0m \u001b[1;32min\u001b[0m \u001b[1;33m[\u001b[0m\u001b[1;34m'xlnet'\u001b[0m\u001b[1;33m,\u001b[0m \u001b[1;34m'roberta'\u001b[0m\u001b[1;33m]\u001b[0m\u001b[1;33m:\u001b[0m\u001b[1;33m\u001b[0m\u001b[1;33m\u001b[0m\u001b[0m\n",
      "\u001b[1;32m~\\Miniconda3\\envs\\nlp\\lib\\site-packages\\nlpaug\\augmenter\\word\\context_word_embs.py\u001b[0m in \u001b[0;36mget_model\u001b[1;34m(cls, model_path, device, force_reload, temperature, top_k, top_p, optimize)\u001b[0m\n\u001b[0;32m    324\u001b[0m     def get_model(cls, model_path, device='cuda', force_reload=False, temperature=1.0, top_k=None, top_p=0.0,\n\u001b[0;32m    325\u001b[0m                   optimize=None):\n\u001b[1;32m--> 326\u001b[1;33m         \u001b[1;32mreturn\u001b[0m \u001b[0minit_context_word_embs_model\u001b[0m\u001b[1;33m(\u001b[0m\u001b[0mmodel_path\u001b[0m\u001b[1;33m,\u001b[0m \u001b[0mdevice\u001b[0m\u001b[1;33m,\u001b[0m \u001b[0mforce_reload\u001b[0m\u001b[1;33m,\u001b[0m \u001b[0mtemperature\u001b[0m\u001b[1;33m,\u001b[0m \u001b[0mtop_k\u001b[0m\u001b[1;33m,\u001b[0m \u001b[0mtop_p\u001b[0m\u001b[1;33m,\u001b[0m \u001b[0moptimize\u001b[0m\u001b[1;33m)\u001b[0m\u001b[1;33m\u001b[0m\u001b[1;33m\u001b[0m\u001b[0m\n\u001b[0m",
      "\u001b[1;32m~\\Miniconda3\\envs\\nlp\\lib\\site-packages\\nlpaug\\augmenter\\word\\context_word_embs.py\u001b[0m in \u001b[0;36minit_context_word_embs_model\u001b[1;34m(model_path, device, force_reload, temperature, top_k, top_p, optimize)\u001b[0m\n\u001b[0;32m     25\u001b[0m \u001b[1;33m\u001b[0m\u001b[0m\n\u001b[0;32m     26\u001b[0m     \u001b[1;32mif\u001b[0m \u001b[1;34m'distilbert'\u001b[0m \u001b[1;32min\u001b[0m \u001b[0mmodel_path\u001b[0m\u001b[1;33m:\u001b[0m\u001b[1;33m\u001b[0m\u001b[1;33m\u001b[0m\u001b[0m\n\u001b[1;32m---> 27\u001b[1;33m         \u001b[0mmodel\u001b[0m \u001b[1;33m=\u001b[0m \u001b[0mnml\u001b[0m\u001b[1;33m.\u001b[0m\u001b[0mDistilBert\u001b[0m\u001b[1;33m(\u001b[0m\u001b[0mmodel_path\u001b[0m\u001b[1;33m,\u001b[0m \u001b[0mdevice\u001b[0m\u001b[1;33m=\u001b[0m\u001b[0mdevice\u001b[0m\u001b[1;33m,\u001b[0m \u001b[0mtemperature\u001b[0m\u001b[1;33m=\u001b[0m\u001b[0mtemperature\u001b[0m\u001b[1;33m,\u001b[0m \u001b[0mtop_k\u001b[0m\u001b[1;33m=\u001b[0m\u001b[0mtop_k\u001b[0m\u001b[1;33m,\u001b[0m \u001b[0mtop_p\u001b[0m\u001b[1;33m=\u001b[0m\u001b[0mtop_p\u001b[0m\u001b[1;33m)\u001b[0m\u001b[1;33m\u001b[0m\u001b[1;33m\u001b[0m\u001b[0m\n\u001b[0m\u001b[0;32m     28\u001b[0m     \u001b[1;32melif\u001b[0m \u001b[1;34m'roberta'\u001b[0m \u001b[1;32min\u001b[0m \u001b[0mmodel_path\u001b[0m\u001b[1;33m:\u001b[0m\u001b[1;33m\u001b[0m\u001b[1;33m\u001b[0m\u001b[0m\n\u001b[0;32m     29\u001b[0m         \u001b[0mmodel\u001b[0m \u001b[1;33m=\u001b[0m \u001b[0mnml\u001b[0m\u001b[1;33m.\u001b[0m\u001b[0mRoberta\u001b[0m\u001b[1;33m(\u001b[0m\u001b[0mmodel_path\u001b[0m\u001b[1;33m,\u001b[0m \u001b[0mdevice\u001b[0m\u001b[1;33m=\u001b[0m\u001b[0mdevice\u001b[0m\u001b[1;33m,\u001b[0m \u001b[0mtemperature\u001b[0m\u001b[1;33m=\u001b[0m\u001b[0mtemperature\u001b[0m\u001b[1;33m,\u001b[0m \u001b[0mtop_k\u001b[0m\u001b[1;33m=\u001b[0m\u001b[0mtop_k\u001b[0m\u001b[1;33m,\u001b[0m \u001b[0mtop_p\u001b[0m\u001b[1;33m=\u001b[0m\u001b[0mtop_p\u001b[0m\u001b[1;33m)\u001b[0m\u001b[1;33m\u001b[0m\u001b[1;33m\u001b[0m\u001b[0m\n",
      "\u001b[1;32m~\\Miniconda3\\envs\\nlp\\lib\\site-packages\\nlpaug\\model\\lang_models\\distilbert.py\u001b[0m in \u001b[0;36m__init__\u001b[1;34m(self, model_path, temperature, top_k, top_p, device)\u001b[0m\n\u001b[0;32m     19\u001b[0m \u001b[1;33m\u001b[0m\u001b[0m\n\u001b[0;32m     20\u001b[0m     \u001b[1;32mdef\u001b[0m \u001b[0m__init__\u001b[0m\u001b[1;33m(\u001b[0m\u001b[0mself\u001b[0m\u001b[1;33m,\u001b[0m \u001b[0mmodel_path\u001b[0m\u001b[1;33m=\u001b[0m\u001b[1;34m'distilbert-base-uncased'\u001b[0m\u001b[1;33m,\u001b[0m \u001b[0mtemperature\u001b[0m\u001b[1;33m=\u001b[0m\u001b[1;36m1.0\u001b[0m\u001b[1;33m,\u001b[0m \u001b[0mtop_k\u001b[0m\u001b[1;33m=\u001b[0m\u001b[1;32mNone\u001b[0m\u001b[1;33m,\u001b[0m \u001b[0mtop_p\u001b[0m\u001b[1;33m=\u001b[0m\u001b[1;32mNone\u001b[0m\u001b[1;33m,\u001b[0m \u001b[0mdevice\u001b[0m\u001b[1;33m=\u001b[0m\u001b[1;34m'cuda'\u001b[0m\u001b[1;33m)\u001b[0m\u001b[1;33m:\u001b[0m\u001b[1;33m\u001b[0m\u001b[1;33m\u001b[0m\u001b[0m\n\u001b[1;32m---> 21\u001b[1;33m         \u001b[0msuper\u001b[0m\u001b[1;33m(\u001b[0m\u001b[1;33m)\u001b[0m\u001b[1;33m.\u001b[0m\u001b[0m__init__\u001b[0m\u001b[1;33m(\u001b[0m\u001b[0mdevice\u001b[0m\u001b[1;33m,\u001b[0m \u001b[0mtemperature\u001b[0m\u001b[1;33m=\u001b[0m\u001b[0mtemperature\u001b[0m\u001b[1;33m,\u001b[0m \u001b[0mtop_k\u001b[0m\u001b[1;33m=\u001b[0m\u001b[0mtop_k\u001b[0m\u001b[1;33m,\u001b[0m \u001b[0mtop_p\u001b[0m\u001b[1;33m=\u001b[0m\u001b[0mtop_p\u001b[0m\u001b[1;33m)\u001b[0m\u001b[1;33m\u001b[0m\u001b[1;33m\u001b[0m\u001b[0m\n\u001b[0m\u001b[0;32m     22\u001b[0m         \u001b[0mself\u001b[0m\u001b[1;33m.\u001b[0m\u001b[0mmodel_path\u001b[0m \u001b[1;33m=\u001b[0m \u001b[0mmodel_path\u001b[0m\u001b[1;33m\u001b[0m\u001b[1;33m\u001b[0m\u001b[0m\n\u001b[0;32m     23\u001b[0m \u001b[1;33m\u001b[0m\u001b[0m\n",
      "\u001b[1;32m~\\Miniconda3\\envs\\nlp\\lib\\site-packages\\nlpaug\\model\\lang_models\\language_models.py\u001b[0m in \u001b[0;36m__init__\u001b[1;34m(self, device, temperature, top_k, top_p, optimize)\u001b[0m\n\u001b[0;32m     17\u001b[0m             \u001b[0mself\u001b[0m\u001b[1;33m.\u001b[0m\u001b[0mdevice\u001b[0m \u001b[1;33m=\u001b[0m \u001b[1;34m'cuda'\u001b[0m \u001b[1;32mif\u001b[0m \u001b[0mdevice\u001b[0m \u001b[1;32mis\u001b[0m \u001b[1;32mNone\u001b[0m \u001b[1;32mand\u001b[0m \u001b[0mtorch\u001b[0m\u001b[1;33m.\u001b[0m\u001b[0mcuda\u001b[0m\u001b[1;33m.\u001b[0m\u001b[0mis_available\u001b[0m\u001b[1;33m(\u001b[0m\u001b[1;33m)\u001b[0m \u001b[1;32melse\u001b[0m \u001b[0mdevice\u001b[0m\u001b[1;33m\u001b[0m\u001b[1;33m\u001b[0m\u001b[0m\n\u001b[0;32m     18\u001b[0m         \u001b[1;32mexcept\u001b[0m \u001b[0mNameError\u001b[0m\u001b[1;33m:\u001b[0m\u001b[1;33m\u001b[0m\u001b[1;33m\u001b[0m\u001b[0m\n\u001b[1;32m---> 19\u001b[1;33m             raise ImportError('Missed torch, transformers libraries. Install it via '\n\u001b[0m\u001b[0;32m     20\u001b[0m                               '`pip install torch transformers`')\n\u001b[0;32m     21\u001b[0m         \u001b[0mself\u001b[0m\u001b[1;33m.\u001b[0m\u001b[0mtemperature\u001b[0m \u001b[1;33m=\u001b[0m \u001b[0mtemperature\u001b[0m\u001b[1;33m\u001b[0m\u001b[1;33m\u001b[0m\u001b[0m\n",
      "\u001b[1;31mImportError\u001b[0m: Missed torch, transformers libraries. Install it via `pip install torch transformers`"
     ]
    }
   ],
   "source": [
    "aug = naw.ContextualWordEmbsAug(\n",
    "    model_path='distilbert-base-uncased', action=\"substitute\")\n",
    "augmented_text = aug.augment(text)\n",
    "print(\"Original:\")\n",
    "print(text)\n",
    "print(\"Augmented Text:\")\n",
    "print(augmented_text)"
   ]
  },
  {
   "cell_type": "markdown",
   "metadata": {
    "heading_collapsed": true
   },
   "source": [
    "## Ludwig"
   ]
  },
  {
   "cell_type": "code",
   "execution_count": 79,
   "metadata": {
    "hidden": true
   },
   "outputs": [
    {
     "name": "stdout",
     "output_type": "stream",
     "text": [
      "WARNING:tensorflow:\n",
      "The TensorFlow contrib module will not be included in TensorFlow 2.0.\n",
      "For more information, please see:\n",
      "  * https://github.com/tensorflow/community/blob/master/rfcs/20180907-contrib-sunset.md\n",
      "  * https://github.com/tensorflow/addons\n",
      "  * https://github.com/tensorflow/io (for I/O related ops)\n",
      "If you depend on functionality not listed there, please file an issue.\n",
      "\n"
     ]
    }
   ],
   "source": [
    "from ludwig.api import LudwigModel\n",
    "import logging"
   ]
  },
  {
   "cell_type": "markdown",
   "metadata": {
    "hidden": true
   },
   "source": [
    "**model_definition = {'input_features': [{'name': 'Text', 'type': 'text'}], \n",
    "                    'output_features': [{'name': 'Label', 'type': 'category'}]}**\n",
    "                    \n",
    " 56%\n",
    " \n",
    " **model_definition = {'input_features': [{'name': 'Text', 'type': 'text', 'encoder': 'rnn'}], \n",
    "                    'output_features': [{'name': 'Label', 'type': 'category'}],\n",
    "                    'training': {'epochs': 25}}**\n",
    "                    \n",
    " 30%\n",
    " \n",
    " **model_definition = {'input_features': [{'name': 'Text', 'type': 'text', \"dropout\": True}], \n",
    "                    'output_features': [{'name': 'Label', 'type': 'category'}],\n",
    "                    'training': {'epochs': 25}}**\n",
    "                    \n",
    "48%\n",
    "\n",
    "**model_definition = {'input_features': [{'name': 'Text', 'type': 'text', \"dropout\": True}], \n",
    "                    'output_features': [{'name': 'Label', 'type': 'category'}]}**\n",
    "                    \n",
    "51%"
   ]
  },
  {
   "cell_type": "code",
   "execution_count": 106,
   "metadata": {
    "hidden": true
   },
   "outputs": [],
   "source": [
    "data = pd.read_csv(\"Train.csv\")\n",
    "data = data.dropna()\n",
    "df['Text'] = df['Text'].apply(tokenizer)\n",
    "\n",
    "data.Label.value_counts()\n",
    "training_dataframe, validation_dataframe = train_test_split(data,\n",
    "                                                      test_size=0.2,  \n",
    "                                                      random_state=42\n",
    "                                                      )\n",
    "validation_dataframe.reset_index(inplace=True)\n",
    "\n",
    "model_definition = {'input_features': [{'name': 'Text', 'type': 'text', \"level\": \"word\", \"dropout\": True}], \n",
    "                    'output_features': [{'name': 'Label', 'type': 'category'}], 'training': {'epochs':50}}\n",
    "\n",
    "model = LudwigModel(model_definition)\n",
    "\n",
    "training_stats = model.train(training_dataframe, logging_level=logging.INFO)"
   ]
  },
  {
   "cell_type": "code",
   "execution_count": 107,
   "metadata": {
    "hidden": true
   },
   "outputs": [
    {
     "name": "stderr",
     "output_type": "stream",
     "text": [
      "C:\\Users\\Amer\\Miniconda3\\envs\\nlp\\lib\\site-packages\\ludwig\\data\\preprocessing.py:186: SettingWithCopyWarning: \n",
      "A value is trying to be set on a copy of a slice from a DataFrame.\n",
      "Try using .loc[row_indexer,col_indexer] = value instead\n",
      "\n",
      "See the caveats in the documentation: https://pandas.pydata.org/pandas-docs/stable/user_guide/indexing.html#returning-a-view-versus-a-copy\n",
      "  preprocessing_parameters['fill_value'],\n"
     ]
    },
    {
     "name": "stdout",
     "output_type": "stream",
     "text": [
      "\n",
      "\n",
      "ACCURACY:  0.5164835164835165\n"
     ]
    }
   ],
   "source": [
    "predictions_dataframe = model.predict(validation_dataframe)\n",
    "total_correct = 0\n",
    "\n",
    "for i in range(0, validation_dataframe.shape[0]):\n",
    "    \n",
    "    if predictions_dataframe.Label_predictions[i] == validation_dataframe.Label[i]:\n",
    "        total_correct += 1\n",
    "#     else:\n",
    "#         print(\"\\n\\nPhrase: \", validation_dataframe.Text[i])\n",
    "#         print(\"Prediction: \", predictions_dataframe.Label_predictions[i])\n",
    "#         print(\"Label: \", validation_dataframe.Label[i])\n",
    "    \n",
    "print(\"\\n\\nACCURACY: \", total_correct/validation_dataframe.shape[0])"
   ]
  },
  {
   "cell_type": "markdown",
   "metadata": {
    "heading_collapsed": true
   },
   "source": [
    "## FastText"
   ]
  },
  {
   "cell_type": "code",
   "execution_count": 178,
   "metadata": {
    "hidden": true
   },
   "outputs": [],
   "source": [
    "import fasttext"
   ]
  },
  {
   "cell_type": "code",
   "execution_count": 214,
   "metadata": {
    "hidden": true
   },
   "outputs": [],
   "source": [
    "data = pd.read_csv(\"Train.csv\")\n",
    "data = data.dropna()\n",
    "training_df, validation_df = train_test_split(data, test_size=0.20, random_state=45)\n",
    "\n",
    "def create_file(df, filename):\n",
    "    file = open(filename +'.txt', \"w\")\n",
    "\n",
    "    for index, row in df.iterrows():\n",
    "        label = row['Label'].replace(\"_\", \"-\")\n",
    "        text = row['Text'].replace('\\r', '').replace('\\n', '')\n",
    "        text = tokenizer(text)\n",
    "\n",
    "        line = '\\n__label__' + label + ' ' + text\n",
    "        file.write(line)\n",
    "\n",
    "    file.close()\n",
    "    \n",
    "create_file(training_df, 'fasttext-train')\n",
    "create_file(validation_df, 'fasttext-val')"
   ]
  },
  {
   "cell_type": "code",
   "execution_count": 174,
   "metadata": {
    "hidden": true
   },
   "outputs": [],
   "source": [
    "model = fasttext.train_supervised(input=\"fasttext-train.txt\", autotuneValidationFile='fasttext-val.txt')                            "
   ]
  },
  {
   "cell_type": "code",
   "execution_count": 217,
   "metadata": {
    "hidden": true
   },
   "outputs": [
    {
     "name": "stdout",
     "output_type": "stream",
     "text": [
      "\n",
      "\n",
      "ACCURACY:  0.9164835164835164\n"
     ]
    }
   ],
   "source": [
    "total_correct = 0\n",
    "preds = []\n",
    "for index, row in data.iterrows():\n",
    "    text = tokenizer(row['Text'].replace('\\r', '').replace('\\n', ''))\n",
    "    text = row['Text'].replace('\\r', '').replace('\\n', '')\n",
    "    label = row['Label'].replace(\"_\", \"-\")\n",
    "    pred = model.predict(text)[0][0][9:]\n",
    " \n",
    "    \n",
    "    if label == pred:\n",
    "        total_correct += 1\n",
    "#         print(\"\\n\\nPhrase: \", text)\n",
    "#         print(\"Prediction: \", pred)\n",
    "#         print(\"Label: \", label)\n",
    "    \n",
    "#     else:\n",
    "#         print(\"\\n\\nPhrase: \", text)\n",
    "#         print(\"Prediction: \", pred)\n",
    "#         print(\"Label: \", label)\n",
    "\n",
    "    pred = pred.replace('-', '_')\n",
    "    preds.append(pred)\n",
    "        \n",
    "print(\"\\n\\nACCURACY: \", total_correct/data.shape[0])"
   ]
  },
  {
   "cell_type": "markdown",
   "metadata": {
    "heading_collapsed": true
   },
   "source": [
    "## Model Parameter Optimization"
   ]
  },
  {
   "cell_type": "code",
   "execution_count": 40,
   "metadata": {
    "hidden": true
   },
   "outputs": [],
   "source": [
    "import numpy as np\n",
    "import pandas as pd\n",
    "import matplotlib.pyplot as plt\n",
    "import re\n",
    "from sklearn.preprocessing import LabelEncoder\n",
    "from sklearn.model_selection import GridSearchCV, RandomizedSearchCV\n",
    "from sklearn.model_selection import train_test_split\n",
    "from sklearn.feature_extraction.text import TfidfVectorizer\n",
    "from gensim.models import Word2Vec\n",
    "from sklearn.pipeline import Pipeline\n",
    "from sklearn.svm import SVC\n",
    "from sklearn.naive_bayes import GaussianNB\n",
    "from sklearn.naive_bayes import MultinomialNB\n",
    "from sklearn.tree import DecisionTreeClassifier\n",
    "from sklearn.neural_network import MLPClassifier\n",
    "from sklearn.ensemble import GradientBoostingClassifier\n",
    "from sklearn.metrics import precision_score, recall_score, f1_score, accuracy_score\n",
    "import warnings\n",
    "warnings.filterwarnings(\"ignore\")"
   ]
  },
  {
   "cell_type": "code",
   "execution_count": 41,
   "metadata": {
    "hidden": true
   },
   "outputs": [],
   "source": [
    "df = pd.read_csv(\"Train.csv\")\n",
    "df = df.dropna()\n",
    "df['Text'] = df['Text'].apply(tokenizer)"
   ]
  },
  {
   "cell_type": "code",
   "execution_count": 60,
   "metadata": {
    "hidden": true
   },
   "outputs": [
    {
     "name": "stdout",
     "output_type": "stream",
     "text": [
      "Vectorization complete.\n",
      "\n",
      "Model : {'n_estimators': 500, 'max_features': 'sqrt', 'max_depth': 8, 'criterion': 'entropy'}\n",
      "Precision: 0.615 \tRecall: 0.568 \t\tF1: 0.543\n",
      "\n"
     ]
    }
   ],
   "source": [
    "def Vectorize(vec, X_train, X_test):    \n",
    "    X_train_vec = vec.fit_transform(X_train)\n",
    "    X_test_vec = vec.transform(X_test)\n",
    "    \n",
    "    print('Vectorization complete.\\n')\n",
    "    return X_train_vec, X_test_vec\n",
    "\n",
    "\n",
    "def ML_modeling(models, params, X_train, X_test, y_train, y_test):    \n",
    "    \n",
    "    if not set(models.keys()).issubset(set(params.keys())):\n",
    "        raise ValueError('Some estimators are missing parameters')\n",
    "\n",
    "    for key in models.keys():\n",
    "    \n",
    "        model = models[key]\n",
    "        param = params[key]\n",
    "        gs = RandomizedSearchCV(model, param, cv=5, error_score=0, refit=True)\n",
    "        gs.fit(X_train, y_train)\n",
    "        y_pred = gs.predict(X_test)\n",
    "        \n",
    "        # Print scores for the classifier\n",
    "        print(key, ':', gs.best_params_)\n",
    "        print(\"Precision: %1.3f \\tRecall: %1.3f \\t\\tF1: %1.3f\\n\" % (precision_score(y_test, y_pred, average='macro'), \n",
    "                                                                    recall_score(y_test, y_pred, average='macro'), \n",
    "                                                                    f1_score(y_test, y_pred, average='macro')))\n",
    "    \n",
    "models = {\n",
    "    'Model': RandomForestClassifier()\n",
    "}\n",
    "\n",
    "params = {\n",
    "    'Model': { \n",
    "           'n_estimators': [200, 300, 400, 500],\n",
    "            'max_features': ['auto', 'sqrt', 'log2'],\n",
    "            'max_depth' : [4,5,6,7,8],\n",
    "            'criterion' :['gini', 'entropy']\n",
    "       },\n",
    "}\n",
    "\n",
    "# Encode label categories to numbers\n",
    "enc = LabelEncoder()\n",
    "df['Label'] = enc.fit_transform(df['Label'])\n",
    "labels = list(enc.classes_)\n",
    "\n",
    "# Train-test split and vectorize\n",
    "X_train, X_test, y_train, y_test = train_test_split(df['Text'], df['Label'], random_state=45, test_size=0.2)\n",
    "X_train_vec, X_test_vec = Vectorize(TfidfVectorizer(ngram_range=(1,3)), X_train, X_test)\n",
    "\n",
    "ML_modeling(models, params, X_train_vec, X_test_vec, y_train, y_test)"
   ]
  },
  {
   "cell_type": "code",
   "execution_count": 172,
   "metadata": {
    "hidden": true
   },
   "outputs": [
    {
     "ename": "ValueError",
     "evalue": "Invalid parameter bow for estimator FeatureUnion(transformer_list=[('tfid', TfidfVectorizer(ngram_range=(1, 3))),\n                               ('embed',\n                                SpacyVectorTransformer(nlp=<spacy.lang.en.English object at 0x0000026866BBFE48>))]). Check the list of available parameters with `estimator.get_params().keys()`.",
     "output_type": "error",
     "traceback": [
      "\u001b[1;31m---------------------------------------------------------------------------\u001b[0m",
      "\u001b[1;31mValueError\u001b[0m                                Traceback (most recent call last)",
      "\u001b[1;32m<ipython-input-172-e85e6a0a2408>\u001b[0m in \u001b[0;36m<module>\u001b[1;34m\u001b[0m\n\u001b[0;32m     10\u001b[0m }\n\u001b[0;32m     11\u001b[0m \u001b[0msearch\u001b[0m \u001b[1;33m=\u001b[0m \u001b[0mRandomizedSearchCV\u001b[0m\u001b[1;33m(\u001b[0m\u001b[0mpipe\u001b[0m\u001b[1;33m,\u001b[0m \u001b[0mparams\u001b[0m\u001b[1;33m)\u001b[0m\u001b[1;33m\u001b[0m\u001b[1;33m\u001b[0m\u001b[0m\n\u001b[1;32m---> 12\u001b[1;33m \u001b[0msearch\u001b[0m\u001b[1;33m.\u001b[0m\u001b[0mfit\u001b[0m\u001b[1;33m(\u001b[0m\u001b[0mx_train\u001b[0m\u001b[1;33m,\u001b[0m \u001b[0my_train\u001b[0m\u001b[1;33m)\u001b[0m\u001b[1;33m\u001b[0m\u001b[1;33m\u001b[0m\u001b[0m\n\u001b[0m\u001b[0;32m     13\u001b[0m \u001b[0my_pred\u001b[0m \u001b[1;33m=\u001b[0m \u001b[0msearch\u001b[0m\u001b[1;33m.\u001b[0m\u001b[0mpredict\u001b[0m\u001b[1;33m(\u001b[0m\u001b[0mx_test\u001b[0m\u001b[1;33m)\u001b[0m\u001b[1;33m\u001b[0m\u001b[1;33m\u001b[0m\u001b[0m\n\u001b[0;32m     14\u001b[0m \u001b[0mclassification_report\u001b[0m\u001b[1;33m(\u001b[0m\u001b[0my_test\u001b[0m\u001b[1;33m,\u001b[0m \u001b[0my_pred\u001b[0m\u001b[1;33m)\u001b[0m\u001b[1;33m\u001b[0m\u001b[1;33m\u001b[0m\u001b[0m\n",
      "\u001b[1;32m~\\Miniconda3\\envs\\nlp\\lib\\site-packages\\sklearn\\utils\\validation.py\u001b[0m in \u001b[0;36minner_f\u001b[1;34m(*args, **kwargs)\u001b[0m\n\u001b[0;32m     71\u001b[0m                           FutureWarning)\n\u001b[0;32m     72\u001b[0m         \u001b[0mkwargs\u001b[0m\u001b[1;33m.\u001b[0m\u001b[0mupdate\u001b[0m\u001b[1;33m(\u001b[0m\u001b[1;33m{\u001b[0m\u001b[0mk\u001b[0m\u001b[1;33m:\u001b[0m \u001b[0marg\u001b[0m \u001b[1;32mfor\u001b[0m \u001b[0mk\u001b[0m\u001b[1;33m,\u001b[0m \u001b[0marg\u001b[0m \u001b[1;32min\u001b[0m \u001b[0mzip\u001b[0m\u001b[1;33m(\u001b[0m\u001b[0msig\u001b[0m\u001b[1;33m.\u001b[0m\u001b[0mparameters\u001b[0m\u001b[1;33m,\u001b[0m \u001b[0margs\u001b[0m\u001b[1;33m)\u001b[0m\u001b[1;33m}\u001b[0m\u001b[1;33m)\u001b[0m\u001b[1;33m\u001b[0m\u001b[1;33m\u001b[0m\u001b[0m\n\u001b[1;32m---> 73\u001b[1;33m         \u001b[1;32mreturn\u001b[0m \u001b[0mf\u001b[0m\u001b[1;33m(\u001b[0m\u001b[1;33m**\u001b[0m\u001b[0mkwargs\u001b[0m\u001b[1;33m)\u001b[0m\u001b[1;33m\u001b[0m\u001b[1;33m\u001b[0m\u001b[0m\n\u001b[0m\u001b[0;32m     74\u001b[0m     \u001b[1;32mreturn\u001b[0m \u001b[0minner_f\u001b[0m\u001b[1;33m\u001b[0m\u001b[1;33m\u001b[0m\u001b[0m\n\u001b[0;32m     75\u001b[0m \u001b[1;33m\u001b[0m\u001b[0m\n",
      "\u001b[1;32m~\\Miniconda3\\envs\\nlp\\lib\\site-packages\\sklearn\\model_selection\\_search.py\u001b[0m in \u001b[0;36mfit\u001b[1;34m(self, X, y, groups, **fit_params)\u001b[0m\n\u001b[0;32m    734\u001b[0m                 \u001b[1;32mreturn\u001b[0m \u001b[0mresults\u001b[0m\u001b[1;33m\u001b[0m\u001b[1;33m\u001b[0m\u001b[0m\n\u001b[0;32m    735\u001b[0m \u001b[1;33m\u001b[0m\u001b[0m\n\u001b[1;32m--> 736\u001b[1;33m             \u001b[0mself\u001b[0m\u001b[1;33m.\u001b[0m\u001b[0m_run_search\u001b[0m\u001b[1;33m(\u001b[0m\u001b[0mevaluate_candidates\u001b[0m\u001b[1;33m)\u001b[0m\u001b[1;33m\u001b[0m\u001b[1;33m\u001b[0m\u001b[0m\n\u001b[0m\u001b[0;32m    737\u001b[0m \u001b[1;33m\u001b[0m\u001b[0m\n\u001b[0;32m    738\u001b[0m         \u001b[1;31m# For multi-metric evaluation, store the best_index_, best_params_ and\u001b[0m\u001b[1;33m\u001b[0m\u001b[1;33m\u001b[0m\u001b[1;33m\u001b[0m\u001b[0m\n",
      "\u001b[1;32m~\\Miniconda3\\envs\\nlp\\lib\\site-packages\\sklearn\\model_selection\\_search.py\u001b[0m in \u001b[0;36m_run_search\u001b[1;34m(self, evaluate_candidates)\u001b[0m\n\u001b[0;32m   1529\u001b[0m         evaluate_candidates(ParameterSampler(\n\u001b[0;32m   1530\u001b[0m             \u001b[0mself\u001b[0m\u001b[1;33m.\u001b[0m\u001b[0mparam_distributions\u001b[0m\u001b[1;33m,\u001b[0m \u001b[0mself\u001b[0m\u001b[1;33m.\u001b[0m\u001b[0mn_iter\u001b[0m\u001b[1;33m,\u001b[0m\u001b[1;33m\u001b[0m\u001b[1;33m\u001b[0m\u001b[0m\n\u001b[1;32m-> 1531\u001b[1;33m             random_state=self.random_state))\n\u001b[0m",
      "\u001b[1;32m~\\Miniconda3\\envs\\nlp\\lib\\site-packages\\sklearn\\model_selection\\_search.py\u001b[0m in \u001b[0;36mevaluate_candidates\u001b[1;34m(candidate_params)\u001b[0m\n\u001b[0;32m    713\u001b[0m                                \u001b[1;32mfor\u001b[0m \u001b[0mparameters\u001b[0m\u001b[1;33m,\u001b[0m \u001b[1;33m(\u001b[0m\u001b[0mtrain\u001b[0m\u001b[1;33m,\u001b[0m \u001b[0mtest\u001b[0m\u001b[1;33m)\u001b[0m\u001b[1;33m\u001b[0m\u001b[1;33m\u001b[0m\u001b[0m\n\u001b[0;32m    714\u001b[0m                                in product(candidate_params,\n\u001b[1;32m--> 715\u001b[1;33m                                           cv.split(X, y, groups)))\n\u001b[0m\u001b[0;32m    716\u001b[0m \u001b[1;33m\u001b[0m\u001b[0m\n\u001b[0;32m    717\u001b[0m                 \u001b[1;32mif\u001b[0m \u001b[0mlen\u001b[0m\u001b[1;33m(\u001b[0m\u001b[0mout\u001b[0m\u001b[1;33m)\u001b[0m \u001b[1;33m<\u001b[0m \u001b[1;36m1\u001b[0m\u001b[1;33m:\u001b[0m\u001b[1;33m\u001b[0m\u001b[1;33m\u001b[0m\u001b[0m\n",
      "\u001b[1;32m~\\Miniconda3\\envs\\nlp\\lib\\site-packages\\joblib\\parallel.py\u001b[0m in \u001b[0;36m__call__\u001b[1;34m(self, iterable)\u001b[0m\n\u001b[0;32m   1027\u001b[0m             \u001b[1;31m# remaining jobs.\u001b[0m\u001b[1;33m\u001b[0m\u001b[1;33m\u001b[0m\u001b[1;33m\u001b[0m\u001b[0m\n\u001b[0;32m   1028\u001b[0m             \u001b[0mself\u001b[0m\u001b[1;33m.\u001b[0m\u001b[0m_iterating\u001b[0m \u001b[1;33m=\u001b[0m \u001b[1;32mFalse\u001b[0m\u001b[1;33m\u001b[0m\u001b[1;33m\u001b[0m\u001b[0m\n\u001b[1;32m-> 1029\u001b[1;33m             \u001b[1;32mif\u001b[0m \u001b[0mself\u001b[0m\u001b[1;33m.\u001b[0m\u001b[0mdispatch_one_batch\u001b[0m\u001b[1;33m(\u001b[0m\u001b[0miterator\u001b[0m\u001b[1;33m)\u001b[0m\u001b[1;33m:\u001b[0m\u001b[1;33m\u001b[0m\u001b[1;33m\u001b[0m\u001b[0m\n\u001b[0m\u001b[0;32m   1030\u001b[0m                 \u001b[0mself\u001b[0m\u001b[1;33m.\u001b[0m\u001b[0m_iterating\u001b[0m \u001b[1;33m=\u001b[0m \u001b[0mself\u001b[0m\u001b[1;33m.\u001b[0m\u001b[0m_original_iterator\u001b[0m \u001b[1;32mis\u001b[0m \u001b[1;32mnot\u001b[0m \u001b[1;32mNone\u001b[0m\u001b[1;33m\u001b[0m\u001b[1;33m\u001b[0m\u001b[0m\n\u001b[0;32m   1031\u001b[0m \u001b[1;33m\u001b[0m\u001b[0m\n",
      "\u001b[1;32m~\\Miniconda3\\envs\\nlp\\lib\\site-packages\\joblib\\parallel.py\u001b[0m in \u001b[0;36mdispatch_one_batch\u001b[1;34m(self, iterator)\u001b[0m\n\u001b[0;32m    845\u001b[0m                 \u001b[1;32mreturn\u001b[0m \u001b[1;32mFalse\u001b[0m\u001b[1;33m\u001b[0m\u001b[1;33m\u001b[0m\u001b[0m\n\u001b[0;32m    846\u001b[0m             \u001b[1;32melse\u001b[0m\u001b[1;33m:\u001b[0m\u001b[1;33m\u001b[0m\u001b[1;33m\u001b[0m\u001b[0m\n\u001b[1;32m--> 847\u001b[1;33m                 \u001b[0mself\u001b[0m\u001b[1;33m.\u001b[0m\u001b[0m_dispatch\u001b[0m\u001b[1;33m(\u001b[0m\u001b[0mtasks\u001b[0m\u001b[1;33m)\u001b[0m\u001b[1;33m\u001b[0m\u001b[1;33m\u001b[0m\u001b[0m\n\u001b[0m\u001b[0;32m    848\u001b[0m                 \u001b[1;32mreturn\u001b[0m \u001b[1;32mTrue\u001b[0m\u001b[1;33m\u001b[0m\u001b[1;33m\u001b[0m\u001b[0m\n\u001b[0;32m    849\u001b[0m \u001b[1;33m\u001b[0m\u001b[0m\n",
      "\u001b[1;32m~\\Miniconda3\\envs\\nlp\\lib\\site-packages\\joblib\\parallel.py\u001b[0m in \u001b[0;36m_dispatch\u001b[1;34m(self, batch)\u001b[0m\n\u001b[0;32m    763\u001b[0m         \u001b[1;32mwith\u001b[0m \u001b[0mself\u001b[0m\u001b[1;33m.\u001b[0m\u001b[0m_lock\u001b[0m\u001b[1;33m:\u001b[0m\u001b[1;33m\u001b[0m\u001b[1;33m\u001b[0m\u001b[0m\n\u001b[0;32m    764\u001b[0m             \u001b[0mjob_idx\u001b[0m \u001b[1;33m=\u001b[0m \u001b[0mlen\u001b[0m\u001b[1;33m(\u001b[0m\u001b[0mself\u001b[0m\u001b[1;33m.\u001b[0m\u001b[0m_jobs\u001b[0m\u001b[1;33m)\u001b[0m\u001b[1;33m\u001b[0m\u001b[1;33m\u001b[0m\u001b[0m\n\u001b[1;32m--> 765\u001b[1;33m             \u001b[0mjob\u001b[0m \u001b[1;33m=\u001b[0m \u001b[0mself\u001b[0m\u001b[1;33m.\u001b[0m\u001b[0m_backend\u001b[0m\u001b[1;33m.\u001b[0m\u001b[0mapply_async\u001b[0m\u001b[1;33m(\u001b[0m\u001b[0mbatch\u001b[0m\u001b[1;33m,\u001b[0m \u001b[0mcallback\u001b[0m\u001b[1;33m=\u001b[0m\u001b[0mcb\u001b[0m\u001b[1;33m)\u001b[0m\u001b[1;33m\u001b[0m\u001b[1;33m\u001b[0m\u001b[0m\n\u001b[0m\u001b[0;32m    766\u001b[0m             \u001b[1;31m# A job can complete so quickly than its callback is\u001b[0m\u001b[1;33m\u001b[0m\u001b[1;33m\u001b[0m\u001b[1;33m\u001b[0m\u001b[0m\n\u001b[0;32m    767\u001b[0m             \u001b[1;31m# called before we get here, causing self._jobs to\u001b[0m\u001b[1;33m\u001b[0m\u001b[1;33m\u001b[0m\u001b[1;33m\u001b[0m\u001b[0m\n",
      "\u001b[1;32m~\\Miniconda3\\envs\\nlp\\lib\\site-packages\\joblib\\_parallel_backends.py\u001b[0m in \u001b[0;36mapply_async\u001b[1;34m(self, func, callback)\u001b[0m\n\u001b[0;32m    204\u001b[0m     \u001b[1;32mdef\u001b[0m \u001b[0mapply_async\u001b[0m\u001b[1;33m(\u001b[0m\u001b[0mself\u001b[0m\u001b[1;33m,\u001b[0m \u001b[0mfunc\u001b[0m\u001b[1;33m,\u001b[0m \u001b[0mcallback\u001b[0m\u001b[1;33m=\u001b[0m\u001b[1;32mNone\u001b[0m\u001b[1;33m)\u001b[0m\u001b[1;33m:\u001b[0m\u001b[1;33m\u001b[0m\u001b[1;33m\u001b[0m\u001b[0m\n\u001b[0;32m    205\u001b[0m         \u001b[1;34m\"\"\"Schedule a func to be run\"\"\"\u001b[0m\u001b[1;33m\u001b[0m\u001b[1;33m\u001b[0m\u001b[0m\n\u001b[1;32m--> 206\u001b[1;33m         \u001b[0mresult\u001b[0m \u001b[1;33m=\u001b[0m \u001b[0mImmediateResult\u001b[0m\u001b[1;33m(\u001b[0m\u001b[0mfunc\u001b[0m\u001b[1;33m)\u001b[0m\u001b[1;33m\u001b[0m\u001b[1;33m\u001b[0m\u001b[0m\n\u001b[0m\u001b[0;32m    207\u001b[0m         \u001b[1;32mif\u001b[0m \u001b[0mcallback\u001b[0m\u001b[1;33m:\u001b[0m\u001b[1;33m\u001b[0m\u001b[1;33m\u001b[0m\u001b[0m\n\u001b[0;32m    208\u001b[0m             \u001b[0mcallback\u001b[0m\u001b[1;33m(\u001b[0m\u001b[0mresult\u001b[0m\u001b[1;33m)\u001b[0m\u001b[1;33m\u001b[0m\u001b[1;33m\u001b[0m\u001b[0m\n",
      "\u001b[1;32m~\\Miniconda3\\envs\\nlp\\lib\\site-packages\\joblib\\_parallel_backends.py\u001b[0m in \u001b[0;36m__init__\u001b[1;34m(self, batch)\u001b[0m\n\u001b[0;32m    568\u001b[0m         \u001b[1;31m# Don't delay the application, to avoid keeping the input\u001b[0m\u001b[1;33m\u001b[0m\u001b[1;33m\u001b[0m\u001b[1;33m\u001b[0m\u001b[0m\n\u001b[0;32m    569\u001b[0m         \u001b[1;31m# arguments in memory\u001b[0m\u001b[1;33m\u001b[0m\u001b[1;33m\u001b[0m\u001b[1;33m\u001b[0m\u001b[0m\n\u001b[1;32m--> 570\u001b[1;33m         \u001b[0mself\u001b[0m\u001b[1;33m.\u001b[0m\u001b[0mresults\u001b[0m \u001b[1;33m=\u001b[0m \u001b[0mbatch\u001b[0m\u001b[1;33m(\u001b[0m\u001b[1;33m)\u001b[0m\u001b[1;33m\u001b[0m\u001b[1;33m\u001b[0m\u001b[0m\n\u001b[0m\u001b[0;32m    571\u001b[0m \u001b[1;33m\u001b[0m\u001b[0m\n\u001b[0;32m    572\u001b[0m     \u001b[1;32mdef\u001b[0m \u001b[0mget\u001b[0m\u001b[1;33m(\u001b[0m\u001b[0mself\u001b[0m\u001b[1;33m)\u001b[0m\u001b[1;33m:\u001b[0m\u001b[1;33m\u001b[0m\u001b[1;33m\u001b[0m\u001b[0m\n",
      "\u001b[1;32m~\\Miniconda3\\envs\\nlp\\lib\\site-packages\\joblib\\parallel.py\u001b[0m in \u001b[0;36m__call__\u001b[1;34m(self)\u001b[0m\n\u001b[0;32m    251\u001b[0m         \u001b[1;32mwith\u001b[0m \u001b[0mparallel_backend\u001b[0m\u001b[1;33m(\u001b[0m\u001b[0mself\u001b[0m\u001b[1;33m.\u001b[0m\u001b[0m_backend\u001b[0m\u001b[1;33m,\u001b[0m \u001b[0mn_jobs\u001b[0m\u001b[1;33m=\u001b[0m\u001b[0mself\u001b[0m\u001b[1;33m.\u001b[0m\u001b[0m_n_jobs\u001b[0m\u001b[1;33m)\u001b[0m\u001b[1;33m:\u001b[0m\u001b[1;33m\u001b[0m\u001b[1;33m\u001b[0m\u001b[0m\n\u001b[0;32m    252\u001b[0m             return [func(*args, **kwargs)\n\u001b[1;32m--> 253\u001b[1;33m                     for func, args, kwargs in self.items]\n\u001b[0m\u001b[0;32m    254\u001b[0m \u001b[1;33m\u001b[0m\u001b[0m\n\u001b[0;32m    255\u001b[0m     \u001b[1;32mdef\u001b[0m \u001b[0m__reduce__\u001b[0m\u001b[1;33m(\u001b[0m\u001b[0mself\u001b[0m\u001b[1;33m)\u001b[0m\u001b[1;33m:\u001b[0m\u001b[1;33m\u001b[0m\u001b[1;33m\u001b[0m\u001b[0m\n",
      "\u001b[1;32m~\\Miniconda3\\envs\\nlp\\lib\\site-packages\\joblib\\parallel.py\u001b[0m in \u001b[0;36m<listcomp>\u001b[1;34m(.0)\u001b[0m\n\u001b[0;32m    251\u001b[0m         \u001b[1;32mwith\u001b[0m \u001b[0mparallel_backend\u001b[0m\u001b[1;33m(\u001b[0m\u001b[0mself\u001b[0m\u001b[1;33m.\u001b[0m\u001b[0m_backend\u001b[0m\u001b[1;33m,\u001b[0m \u001b[0mn_jobs\u001b[0m\u001b[1;33m=\u001b[0m\u001b[0mself\u001b[0m\u001b[1;33m.\u001b[0m\u001b[0m_n_jobs\u001b[0m\u001b[1;33m)\u001b[0m\u001b[1;33m:\u001b[0m\u001b[1;33m\u001b[0m\u001b[1;33m\u001b[0m\u001b[0m\n\u001b[0;32m    252\u001b[0m             return [func(*args, **kwargs)\n\u001b[1;32m--> 253\u001b[1;33m                     for func, args, kwargs in self.items]\n\u001b[0m\u001b[0;32m    254\u001b[0m \u001b[1;33m\u001b[0m\u001b[0m\n\u001b[0;32m    255\u001b[0m     \u001b[1;32mdef\u001b[0m \u001b[0m__reduce__\u001b[0m\u001b[1;33m(\u001b[0m\u001b[0mself\u001b[0m\u001b[1;33m)\u001b[0m\u001b[1;33m:\u001b[0m\u001b[1;33m\u001b[0m\u001b[1;33m\u001b[0m\u001b[0m\n",
      "\u001b[1;32m~\\Miniconda3\\envs\\nlp\\lib\\site-packages\\sklearn\\model_selection\\_validation.py\u001b[0m in \u001b[0;36m_fit_and_score\u001b[1;34m(estimator, X, y, scorer, train, test, verbose, parameters, fit_params, return_train_score, return_parameters, return_n_test_samples, return_times, return_estimator, error_score)\u001b[0m\n\u001b[0;32m    518\u001b[0m             \u001b[0mcloned_parameters\u001b[0m\u001b[1;33m[\u001b[0m\u001b[0mk\u001b[0m\u001b[1;33m]\u001b[0m \u001b[1;33m=\u001b[0m \u001b[0mclone\u001b[0m\u001b[1;33m(\u001b[0m\u001b[0mv\u001b[0m\u001b[1;33m,\u001b[0m \u001b[0msafe\u001b[0m\u001b[1;33m=\u001b[0m\u001b[1;32mFalse\u001b[0m\u001b[1;33m)\u001b[0m\u001b[1;33m\u001b[0m\u001b[1;33m\u001b[0m\u001b[0m\n\u001b[0;32m    519\u001b[0m \u001b[1;33m\u001b[0m\u001b[0m\n\u001b[1;32m--> 520\u001b[1;33m         \u001b[0mestimator\u001b[0m \u001b[1;33m=\u001b[0m \u001b[0mestimator\u001b[0m\u001b[1;33m.\u001b[0m\u001b[0mset_params\u001b[0m\u001b[1;33m(\u001b[0m\u001b[1;33m**\u001b[0m\u001b[0mcloned_parameters\u001b[0m\u001b[1;33m)\u001b[0m\u001b[1;33m\u001b[0m\u001b[1;33m\u001b[0m\u001b[0m\n\u001b[0m\u001b[0;32m    521\u001b[0m \u001b[1;33m\u001b[0m\u001b[0m\n\u001b[0;32m    522\u001b[0m     \u001b[0mstart_time\u001b[0m \u001b[1;33m=\u001b[0m \u001b[0mtime\u001b[0m\u001b[1;33m.\u001b[0m\u001b[0mtime\u001b[0m\u001b[1;33m(\u001b[0m\u001b[1;33m)\u001b[0m\u001b[1;33m\u001b[0m\u001b[1;33m\u001b[0m\u001b[0m\n",
      "\u001b[1;32m~\\Miniconda3\\envs\\nlp\\lib\\site-packages\\sklearn\\pipeline.py\u001b[0m in \u001b[0;36mset_params\u001b[1;34m(self, **kwargs)\u001b[0m\n\u001b[0;32m    139\u001b[0m         \u001b[0mself\u001b[0m\u001b[1;33m\u001b[0m\u001b[1;33m\u001b[0m\u001b[0m\n\u001b[0;32m    140\u001b[0m         \"\"\"\n\u001b[1;32m--> 141\u001b[1;33m         \u001b[0mself\u001b[0m\u001b[1;33m.\u001b[0m\u001b[0m_set_params\u001b[0m\u001b[1;33m(\u001b[0m\u001b[1;34m'steps'\u001b[0m\u001b[1;33m,\u001b[0m \u001b[1;33m**\u001b[0m\u001b[0mkwargs\u001b[0m\u001b[1;33m)\u001b[0m\u001b[1;33m\u001b[0m\u001b[1;33m\u001b[0m\u001b[0m\n\u001b[0m\u001b[0;32m    142\u001b[0m         \u001b[1;32mreturn\u001b[0m \u001b[0mself\u001b[0m\u001b[1;33m\u001b[0m\u001b[1;33m\u001b[0m\u001b[0m\n\u001b[0;32m    143\u001b[0m \u001b[1;33m\u001b[0m\u001b[0m\n",
      "\u001b[1;32m~\\Miniconda3\\envs\\nlp\\lib\\site-packages\\sklearn\\utils\\metaestimators.py\u001b[0m in \u001b[0;36m_set_params\u001b[1;34m(self, attr, **params)\u001b[0m\n\u001b[0;32m     51\u001b[0m                 \u001b[0mself\u001b[0m\u001b[1;33m.\u001b[0m\u001b[0m_replace_estimator\u001b[0m\u001b[1;33m(\u001b[0m\u001b[0mattr\u001b[0m\u001b[1;33m,\u001b[0m \u001b[0mname\u001b[0m\u001b[1;33m,\u001b[0m \u001b[0mparams\u001b[0m\u001b[1;33m.\u001b[0m\u001b[0mpop\u001b[0m\u001b[1;33m(\u001b[0m\u001b[0mname\u001b[0m\u001b[1;33m)\u001b[0m\u001b[1;33m)\u001b[0m\u001b[1;33m\u001b[0m\u001b[1;33m\u001b[0m\u001b[0m\n\u001b[0;32m     52\u001b[0m         \u001b[1;31m# 3. Step parameters and other initialisation arguments\u001b[0m\u001b[1;33m\u001b[0m\u001b[1;33m\u001b[0m\u001b[1;33m\u001b[0m\u001b[0m\n\u001b[1;32m---> 53\u001b[1;33m         \u001b[0msuper\u001b[0m\u001b[1;33m(\u001b[0m\u001b[1;33m)\u001b[0m\u001b[1;33m.\u001b[0m\u001b[0mset_params\u001b[0m\u001b[1;33m(\u001b[0m\u001b[1;33m**\u001b[0m\u001b[0mparams\u001b[0m\u001b[1;33m)\u001b[0m\u001b[1;33m\u001b[0m\u001b[1;33m\u001b[0m\u001b[0m\n\u001b[0m\u001b[0;32m     54\u001b[0m         \u001b[1;32mreturn\u001b[0m \u001b[0mself\u001b[0m\u001b[1;33m\u001b[0m\u001b[1;33m\u001b[0m\u001b[0m\n\u001b[0;32m     55\u001b[0m \u001b[1;33m\u001b[0m\u001b[0m\n",
      "\u001b[1;32m~\\Miniconda3\\envs\\nlp\\lib\\site-packages\\sklearn\\base.py\u001b[0m in \u001b[0;36mset_params\u001b[1;34m(self, **params)\u001b[0m\n\u001b[0;32m    259\u001b[0m \u001b[1;33m\u001b[0m\u001b[0m\n\u001b[0;32m    260\u001b[0m         \u001b[1;32mfor\u001b[0m \u001b[0mkey\u001b[0m\u001b[1;33m,\u001b[0m \u001b[0msub_params\u001b[0m \u001b[1;32min\u001b[0m \u001b[0mnested_params\u001b[0m\u001b[1;33m.\u001b[0m\u001b[0mitems\u001b[0m\u001b[1;33m(\u001b[0m\u001b[1;33m)\u001b[0m\u001b[1;33m:\u001b[0m\u001b[1;33m\u001b[0m\u001b[1;33m\u001b[0m\u001b[0m\n\u001b[1;32m--> 261\u001b[1;33m             \u001b[0mvalid_params\u001b[0m\u001b[1;33m[\u001b[0m\u001b[0mkey\u001b[0m\u001b[1;33m]\u001b[0m\u001b[1;33m.\u001b[0m\u001b[0mset_params\u001b[0m\u001b[1;33m(\u001b[0m\u001b[1;33m**\u001b[0m\u001b[0msub_params\u001b[0m\u001b[1;33m)\u001b[0m\u001b[1;33m\u001b[0m\u001b[1;33m\u001b[0m\u001b[0m\n\u001b[0m\u001b[0;32m    262\u001b[0m \u001b[1;33m\u001b[0m\u001b[0m\n\u001b[0;32m    263\u001b[0m         \u001b[1;32mreturn\u001b[0m \u001b[0mself\u001b[0m\u001b[1;33m\u001b[0m\u001b[1;33m\u001b[0m\u001b[0m\n",
      "\u001b[1;32m~\\Miniconda3\\envs\\nlp\\lib\\site-packages\\sklearn\\pipeline.py\u001b[0m in \u001b[0;36mset_params\u001b[1;34m(self, **kwargs)\u001b[0m\n\u001b[0;32m    855\u001b[0m         \u001b[0mself\u001b[0m\u001b[1;33m\u001b[0m\u001b[1;33m\u001b[0m\u001b[0m\n\u001b[0;32m    856\u001b[0m         \"\"\"\n\u001b[1;32m--> 857\u001b[1;33m         \u001b[0mself\u001b[0m\u001b[1;33m.\u001b[0m\u001b[0m_set_params\u001b[0m\u001b[1;33m(\u001b[0m\u001b[1;34m'transformer_list'\u001b[0m\u001b[1;33m,\u001b[0m \u001b[1;33m**\u001b[0m\u001b[0mkwargs\u001b[0m\u001b[1;33m)\u001b[0m\u001b[1;33m\u001b[0m\u001b[1;33m\u001b[0m\u001b[0m\n\u001b[0m\u001b[0;32m    858\u001b[0m         \u001b[1;32mreturn\u001b[0m \u001b[0mself\u001b[0m\u001b[1;33m\u001b[0m\u001b[1;33m\u001b[0m\u001b[0m\n\u001b[0;32m    859\u001b[0m \u001b[1;33m\u001b[0m\u001b[0m\n",
      "\u001b[1;32m~\\Miniconda3\\envs\\nlp\\lib\\site-packages\\sklearn\\utils\\metaestimators.py\u001b[0m in \u001b[0;36m_set_params\u001b[1;34m(self, attr, **params)\u001b[0m\n\u001b[0;32m     51\u001b[0m                 \u001b[0mself\u001b[0m\u001b[1;33m.\u001b[0m\u001b[0m_replace_estimator\u001b[0m\u001b[1;33m(\u001b[0m\u001b[0mattr\u001b[0m\u001b[1;33m,\u001b[0m \u001b[0mname\u001b[0m\u001b[1;33m,\u001b[0m \u001b[0mparams\u001b[0m\u001b[1;33m.\u001b[0m\u001b[0mpop\u001b[0m\u001b[1;33m(\u001b[0m\u001b[0mname\u001b[0m\u001b[1;33m)\u001b[0m\u001b[1;33m)\u001b[0m\u001b[1;33m\u001b[0m\u001b[1;33m\u001b[0m\u001b[0m\n\u001b[0;32m     52\u001b[0m         \u001b[1;31m# 3. Step parameters and other initialisation arguments\u001b[0m\u001b[1;33m\u001b[0m\u001b[1;33m\u001b[0m\u001b[1;33m\u001b[0m\u001b[0m\n\u001b[1;32m---> 53\u001b[1;33m         \u001b[0msuper\u001b[0m\u001b[1;33m(\u001b[0m\u001b[1;33m)\u001b[0m\u001b[1;33m.\u001b[0m\u001b[0mset_params\u001b[0m\u001b[1;33m(\u001b[0m\u001b[1;33m**\u001b[0m\u001b[0mparams\u001b[0m\u001b[1;33m)\u001b[0m\u001b[1;33m\u001b[0m\u001b[1;33m\u001b[0m\u001b[0m\n\u001b[0m\u001b[0;32m     54\u001b[0m         \u001b[1;32mreturn\u001b[0m \u001b[0mself\u001b[0m\u001b[1;33m\u001b[0m\u001b[1;33m\u001b[0m\u001b[0m\n\u001b[0;32m     55\u001b[0m \u001b[1;33m\u001b[0m\u001b[0m\n",
      "\u001b[1;32m~\\Miniconda3\\envs\\nlp\\lib\\site-packages\\sklearn\\base.py\u001b[0m in \u001b[0;36mset_params\u001b[1;34m(self, **params)\u001b[0m\n\u001b[0;32m    250\u001b[0m                                  \u001b[1;34m'Check the list of available parameters '\u001b[0m\u001b[1;33m\u001b[0m\u001b[1;33m\u001b[0m\u001b[0m\n\u001b[0;32m    251\u001b[0m                                  \u001b[1;34m'with `estimator.get_params().keys()`.'\u001b[0m \u001b[1;33m%\u001b[0m\u001b[1;33m\u001b[0m\u001b[1;33m\u001b[0m\u001b[0m\n\u001b[1;32m--> 252\u001b[1;33m                                  (key, self))\n\u001b[0m\u001b[0;32m    253\u001b[0m \u001b[1;33m\u001b[0m\u001b[0m\n\u001b[0;32m    254\u001b[0m             \u001b[1;32mif\u001b[0m \u001b[0mdelim\u001b[0m\u001b[1;33m:\u001b[0m\u001b[1;33m\u001b[0m\u001b[1;33m\u001b[0m\u001b[0m\n",
      "\u001b[1;31mValueError\u001b[0m: Invalid parameter bow for estimator FeatureUnion(transformer_list=[('tfid', TfidfVectorizer(ngram_range=(1, 3))),\n                               ('embed',\n                                SpacyVectorTransformer(nlp=<spacy.lang.en.English object at 0x0000026866BBFE48>))]). Check the list of available parameters with `estimator.get_params().keys()`."
     ]
    }
   ],
   "source": [
    "params = {\n",
    "    \"combined_features__bow__tfidf__use_idf\": [True, False],\n",
    "    \"combined_features__bow__tfidf__ngram_range\": [(1, 1), (1, 2)],\n",
    "    \"classifier__bootstrap\": [True, False],\n",
    "    \"classifier__class_weight\": [\"balanced\", None],\n",
    "    \"classifier__n_estimators\": [100, 300, 500, 800, 1200],\n",
    "    \"classifier__max_depth\": [5, 8, 15, 25, 30],\n",
    "    \"classifier__min_samples_split\": [2, 5, 10, 15, 100],\n",
    "    \"classifier__min_samples_leaf\": [1, 2, 5, 10]\n",
    "}\n",
    "search = RandomizedSearchCV(pipe, params)\n",
    "search.fit(x_train, y_train)\n",
    "y_pred = search.predict(x_test)\n",
    "classification_report(y_test, y_pred)"
   ]
  },
  {
   "cell_type": "markdown",
   "metadata": {
    "heading_collapsed": true
   },
   "source": [
    "## Keras"
   ]
  },
  {
   "cell_type": "code",
   "execution_count": 22,
   "metadata": {
    "hidden": true
   },
   "outputs": [],
   "source": [
    "import numpy as np\n",
    "np.random.seed(42)\n",
    "import pandas as pd\n",
    "from sklearn.model_selection import train_test_split\n",
    "from sklearn.metrics import f1_score\n",
    "from keras.models import Model\n",
    "from keras.layers import Input, Embedding, Dense, Conv2D, MaxPool2D\n",
    "from keras.layers import Reshape, Flatten, Concatenate, Dropout, SpatialDropout1D\n",
    "from keras.preprocessing import text, sequence\n",
    "from keras.callbacks import Callback\n",
    "import warnings\n",
    "warnings.filterwarnings('ignore')"
   ]
  },
  {
   "cell_type": "code",
   "execution_count": 75,
   "metadata": {
    "hidden": true
   },
   "outputs": [],
   "source": [
    "EMBEDDING_FILE = 'models/glove.6B.300d.txt'"
   ]
  },
  {
   "cell_type": "code",
   "execution_count": 76,
   "metadata": {
    "hidden": true
   },
   "outputs": [],
   "source": [
    "max_features = 700\n",
    "maxlen = 70\n",
    "embed_size = 300\n",
    "threshold = 0.35"
   ]
  },
  {
   "cell_type": "code",
   "execution_count": 77,
   "metadata": {
    "hidden": true
   },
   "outputs": [],
   "source": [
    "keras_tokenizer = text.Tokenizer(num_words=max_features)\n",
    "keras_tokenizer.fit_on_texts(list(x_train) + list(x_test))\n",
    "x_train = keras_tokenizer.texts_to_sequences(x_train)\n",
    "x_test = keras_tokenizer.texts_to_sequences(x_test)\n",
    "x_train = sequence.pad_sequences(x_train, maxlen=maxlen)\n",
    "x_test = sequence.pad_sequences(x_test, maxlen=maxlen)"
   ]
  },
  {
   "cell_type": "code",
   "execution_count": 78,
   "metadata": {
    "hidden": true
   },
   "outputs": [],
   "source": [
    "def get_coefs(word, *arr): \n",
    "    return word, np.asarray(arr, dtype='float32')\n",
    "\n",
    "embeddings_index = dict(get_coefs(*o.rstrip().rsplit(' ')) for o in open(EMBEDDING_FILE, encoding=\"utf8\"))"
   ]
  },
  {
   "cell_type": "code",
   "execution_count": 79,
   "metadata": {
    "hidden": true
   },
   "outputs": [],
   "source": [
    "word_index = keras_tokenizer.word_index\n",
    "nb_words = min(max_features, len(word_index))\n",
    "embedding_matrix = np.zeros((nb_words, embed_size))\n",
    "\n",
    "for word, i in word_index.items():\n",
    "    if i >= max_features: continue\n",
    "    embedding_vector = embeddings_index.get(word)\n",
    "    if embedding_vector is not None: \n",
    "        embedding_matrix[i] = embedding_vector"
   ]
  },
  {
   "cell_type": "code",
   "execution_count": 80,
   "metadata": {
    "hidden": true
   },
   "outputs": [],
   "source": [
    "class F1Evaluation(Callback):\n",
    "    def __init__(self, validation_data=(), interval=1):\n",
    "        super(Callback, self).__init__()\n",
    "\n",
    "        self.interval = interval\n",
    "        self.X_val, self.y_val = validation_data\n",
    "\n",
    "    def on_epoch_end(self, epoch, logs={}):\n",
    "        if epoch % self.interval == 0:\n",
    "            y_pred = self.model.predict(self.X_val, verbose=0)\n",
    "            y_pred = (y_pred > threshold).astype(int)\n",
    "            score = f1_score(self.y_val, y_pred)\n",
    "            print(\"\\n F1 Score - epoch: %d - score: %.6f \\n\" % (epoch+1, score))"
   ]
  },
  {
   "cell_type": "code",
   "execution_count": 81,
   "metadata": {
    "hidden": true
   },
   "outputs": [],
   "source": [
    "filter_sizes = [1,2,3,5]\n",
    "num_filters = 42\n",
    "\n",
    "def get_model():    \n",
    "    inp = Input(shape=(maxlen, ))\n",
    "    x = Embedding(max_features, embed_size, weights=[embedding_matrix])(inp)\n",
    "#    x = SpatialDropout1D(0.4)(x)\n",
    "    x = Reshape((maxlen, embed_size, 1))(x)\n",
    "    \n",
    "    conv_0 = Conv2D(num_filters, kernel_size=(filter_sizes[0], embed_size),\n",
    "                                 kernel_initializer='he_normal', activation='tanh')(x)\n",
    "    conv_1 = Conv2D(num_filters, kernel_size=(filter_sizes[1], embed_size),\n",
    "                                 kernel_initializer='he_normal', activation='tanh')(x)\n",
    "    conv_2 = Conv2D(num_filters, kernel_size=(filter_sizes[2], embed_size), \n",
    "                                 kernel_initializer='he_normal', activation='tanh')(x)\n",
    "    conv_3 = Conv2D(num_filters, kernel_size=(filter_sizes[3], embed_size),\n",
    "                                 kernel_initializer='he_normal', activation='tanh')(x)\n",
    "    \n",
    "    maxpool_0 = MaxPool2D(pool_size=(maxlen - filter_sizes[0] + 1, 1))(conv_0)\n",
    "    maxpool_1 = MaxPool2D(pool_size=(maxlen - filter_sizes[1] + 1, 1))(conv_1)\n",
    "    maxpool_2 = MaxPool2D(pool_size=(maxlen - filter_sizes[2] + 1, 1))(conv_2)\n",
    "    maxpool_3 = MaxPool2D(pool_size=(maxlen - filter_sizes[3] + 1, 1))(conv_3)\n",
    "        \n",
    "    z = Concatenate(axis=1)([maxpool_0, maxpool_1, maxpool_2, maxpool_3])   \n",
    "    z = Flatten()(z)\n",
    "    z = Dropout(0.1)(z)\n",
    "        \n",
    "    outp = Dense(1, activation=\"sigmoid\")(z)\n",
    "    \n",
    "    model = Model(inputs=inp, outputs=outp)\n",
    "    model.compile(loss='binary_crossentropy',\n",
    "                  optimizer='adam',\n",
    "                  metrics=['accuracy'])\n",
    "\n",
    "    return model\n",
    "\n",
    "model = get_model()"
   ]
  },
  {
   "cell_type": "code",
   "execution_count": 82,
   "metadata": {
    "hidden": true
   },
   "outputs": [
    {
     "name": "stdout",
     "output_type": "stream",
     "text": [
      "WARNING:tensorflow:From C:\\Users\\Amer\\Miniconda3\\envs\\nlp\\lib\\site-packages\\keras\\backend\\tensorflow_backend.py:422: The name tf.global_variables is deprecated. Please use tf.compat.v1.global_variables instead.\n",
      "\n",
      "Train on 364 samples, validate on 91 samples\n",
      "Epoch 1/2\n"
     ]
    },
    {
     "ename": "ValueError",
     "evalue": "could not convert string to float: 'assessment_link_problem'",
     "output_type": "error",
     "traceback": [
      "\u001b[1;31m---------------------------------------------------------------------------\u001b[0m",
      "\u001b[1;31mValueError\u001b[0m                                Traceback (most recent call last)",
      "\u001b[1;32m<ipython-input-82-f9598b10c4da>\u001b[0m in \u001b[0;36m<module>\u001b[1;34m\u001b[0m\n\u001b[0;32m      6\u001b[0m hist = model.fit(x_train, y_train, batch_size=batch_size, epochs=epochs,\n\u001b[0;32m      7\u001b[0m                  \u001b[0mvalidation_data\u001b[0m\u001b[1;33m=\u001b[0m\u001b[1;33m(\u001b[0m\u001b[0mx_test\u001b[0m\u001b[1;33m,\u001b[0m \u001b[0my_test\u001b[0m\u001b[1;33m)\u001b[0m\u001b[1;33m,\u001b[0m\u001b[1;33m\u001b[0m\u001b[1;33m\u001b[0m\u001b[0m\n\u001b[1;32m----> 8\u001b[1;33m                  callbacks=[F1_Score], verbose=2)\n\u001b[0m",
      "\u001b[1;32m~\\Miniconda3\\envs\\nlp\\lib\\site-packages\\keras\\engine\\training.py\u001b[0m in \u001b[0;36mfit\u001b[1;34m(self, x, y, batch_size, epochs, verbose, callbacks, validation_split, validation_data, shuffle, class_weight, sample_weight, initial_epoch, steps_per_epoch, validation_steps, validation_freq, max_queue_size, workers, use_multiprocessing, **kwargs)\u001b[0m\n\u001b[0;32m   1237\u001b[0m                                         \u001b[0msteps_per_epoch\u001b[0m\u001b[1;33m=\u001b[0m\u001b[0msteps_per_epoch\u001b[0m\u001b[1;33m,\u001b[0m\u001b[1;33m\u001b[0m\u001b[1;33m\u001b[0m\u001b[0m\n\u001b[0;32m   1238\u001b[0m                                         \u001b[0mvalidation_steps\u001b[0m\u001b[1;33m=\u001b[0m\u001b[0mvalidation_steps\u001b[0m\u001b[1;33m,\u001b[0m\u001b[1;33m\u001b[0m\u001b[1;33m\u001b[0m\u001b[0m\n\u001b[1;32m-> 1239\u001b[1;33m                                         validation_freq=validation_freq)\n\u001b[0m\u001b[0;32m   1240\u001b[0m \u001b[1;33m\u001b[0m\u001b[0m\n\u001b[0;32m   1241\u001b[0m     def evaluate(self,\n",
      "\u001b[1;32m~\\Miniconda3\\envs\\nlp\\lib\\site-packages\\keras\\engine\\training_arrays.py\u001b[0m in \u001b[0;36mfit_loop\u001b[1;34m(model, fit_function, fit_inputs, out_labels, batch_size, epochs, verbose, callbacks, val_function, val_inputs, shuffle, initial_epoch, steps_per_epoch, validation_steps, validation_freq)\u001b[0m\n\u001b[0;32m    194\u001b[0m                     \u001b[0mins_batch\u001b[0m\u001b[1;33m[\u001b[0m\u001b[0mi\u001b[0m\u001b[1;33m]\u001b[0m \u001b[1;33m=\u001b[0m \u001b[0mins_batch\u001b[0m\u001b[1;33m[\u001b[0m\u001b[0mi\u001b[0m\u001b[1;33m]\u001b[0m\u001b[1;33m.\u001b[0m\u001b[0mtoarray\u001b[0m\u001b[1;33m(\u001b[0m\u001b[1;33m)\u001b[0m\u001b[1;33m\u001b[0m\u001b[1;33m\u001b[0m\u001b[0m\n\u001b[0;32m    195\u001b[0m \u001b[1;33m\u001b[0m\u001b[0m\n\u001b[1;32m--> 196\u001b[1;33m                 \u001b[0mouts\u001b[0m \u001b[1;33m=\u001b[0m \u001b[0mfit_function\u001b[0m\u001b[1;33m(\u001b[0m\u001b[0mins_batch\u001b[0m\u001b[1;33m)\u001b[0m\u001b[1;33m\u001b[0m\u001b[1;33m\u001b[0m\u001b[0m\n\u001b[0m\u001b[0;32m    197\u001b[0m                 \u001b[0mouts\u001b[0m \u001b[1;33m=\u001b[0m \u001b[0mto_list\u001b[0m\u001b[1;33m(\u001b[0m\u001b[0mouts\u001b[0m\u001b[1;33m)\u001b[0m\u001b[1;33m\u001b[0m\u001b[1;33m\u001b[0m\u001b[0m\n\u001b[0;32m    198\u001b[0m                 \u001b[1;32mfor\u001b[0m \u001b[0ml\u001b[0m\u001b[1;33m,\u001b[0m \u001b[0mo\u001b[0m \u001b[1;32min\u001b[0m \u001b[0mzip\u001b[0m\u001b[1;33m(\u001b[0m\u001b[0mout_labels\u001b[0m\u001b[1;33m,\u001b[0m \u001b[0mouts\u001b[0m\u001b[1;33m)\u001b[0m\u001b[1;33m:\u001b[0m\u001b[1;33m\u001b[0m\u001b[1;33m\u001b[0m\u001b[0m\n",
      "\u001b[1;32m~\\Miniconda3\\envs\\nlp\\lib\\site-packages\\tensorflow_core\\python\\keras\\backend.py\u001b[0m in \u001b[0;36m__call__\u001b[1;34m(self, inputs)\u001b[0m\n\u001b[0;32m   3459\u001b[0m         \u001b[0mtensor_type\u001b[0m \u001b[1;33m=\u001b[0m \u001b[0mdtypes_module\u001b[0m\u001b[1;33m.\u001b[0m\u001b[0mas_dtype\u001b[0m\u001b[1;33m(\u001b[0m\u001b[0mtensor\u001b[0m\u001b[1;33m.\u001b[0m\u001b[0mdtype\u001b[0m\u001b[1;33m)\u001b[0m\u001b[1;33m\u001b[0m\u001b[1;33m\u001b[0m\u001b[0m\n\u001b[0;32m   3460\u001b[0m         array_vals.append(np.asarray(value,\n\u001b[1;32m-> 3461\u001b[1;33m                                      dtype=tensor_type.as_numpy_dtype))\n\u001b[0m\u001b[0;32m   3462\u001b[0m \u001b[1;33m\u001b[0m\u001b[0m\n\u001b[0;32m   3463\u001b[0m     \u001b[1;32mif\u001b[0m \u001b[0mself\u001b[0m\u001b[1;33m.\u001b[0m\u001b[0mfeed_dict\u001b[0m\u001b[1;33m:\u001b[0m\u001b[1;33m\u001b[0m\u001b[1;33m\u001b[0m\u001b[0m\n",
      "\u001b[1;32m~\\Miniconda3\\envs\\nlp\\lib\\site-packages\\numpy\\core\\_asarray.py\u001b[0m in \u001b[0;36masarray\u001b[1;34m(a, dtype, order)\u001b[0m\n\u001b[0;32m     83\u001b[0m \u001b[1;33m\u001b[0m\u001b[0m\n\u001b[0;32m     84\u001b[0m     \"\"\"\n\u001b[1;32m---> 85\u001b[1;33m     \u001b[1;32mreturn\u001b[0m \u001b[0marray\u001b[0m\u001b[1;33m(\u001b[0m\u001b[0ma\u001b[0m\u001b[1;33m,\u001b[0m \u001b[0mdtype\u001b[0m\u001b[1;33m,\u001b[0m \u001b[0mcopy\u001b[0m\u001b[1;33m=\u001b[0m\u001b[1;32mFalse\u001b[0m\u001b[1;33m,\u001b[0m \u001b[0morder\u001b[0m\u001b[1;33m=\u001b[0m\u001b[0morder\u001b[0m\u001b[1;33m)\u001b[0m\u001b[1;33m\u001b[0m\u001b[1;33m\u001b[0m\u001b[0m\n\u001b[0m\u001b[0;32m     86\u001b[0m \u001b[1;33m\u001b[0m\u001b[0m\n\u001b[0;32m     87\u001b[0m \u001b[1;33m\u001b[0m\u001b[0m\n",
      "\u001b[1;31mValueError\u001b[0m: could not convert string to float: 'assessment_link_problem'"
     ]
    }
   ],
   "source": [
    "batch_size = 256\n",
    "epochs = 2\n",
    "\n",
    "F1_Score = F1Evaluation(validation_data=(x_test, y_test), interval=1)\n",
    "\n",
    "hist = model.fit(x_train, y_train, batch_size=batch_size, epochs=epochs,\n",
    "                 validation_data=(x_test, y_test),\n",
    "                 callbacks=[F1_Score], verbose=2)"
   ]
  },
  {
   "cell_type": "markdown",
   "metadata": {},
   "source": [
    "## KTrain"
   ]
  },
  {
   "cell_type": "markdown",
   "metadata": {
    "heading_collapsed": true
   },
   "source": [
    "### Training Predictor"
   ]
  },
  {
   "cell_type": "code",
   "execution_count": 27,
   "metadata": {
    "hidden": true
   },
   "outputs": [
    {
     "name": "stderr",
     "output_type": "stream",
     "text": [
      "C:\\Users\\Amer\\Miniconda3\\envs\\nlp\\lib\\site-packages\\ktrain\\text\\preprocessor.py:398: UserWarning: The class_names argument is replacing the classes argument. Please update your code.\n",
      "  warnings.warn('The class_names argument is replacing the classes argument. Please update your code.')\n"
     ]
    },
    {
     "name": "stdout",
     "output_type": "stream",
     "text": [
      "preprocessing train...\n",
      "language: en\n",
      "train sequence lengths:\n",
      "\tmean : 7\n",
      "\t95percentile : 21\n",
      "\t99percentile : 41\n"
     ]
    },
    {
     "name": "stderr",
     "output_type": "stream",
     "text": [
      "C:\\Users\\Amer\\Miniconda3\\envs\\nlp\\lib\\site-packages\\ktrain\\text\\preprocessor.py:520: UserWarning: class_names argument was ignored, as they were extracted from string labels in dataset\n",
      "  if self.get_classes(): warnings.warn('class_names argument was ignored, as they were extracted from string labels in dataset')\n"
     ]
    },
    {
     "data": {
      "text/html": [],
      "text/plain": [
       "<IPython.core.display.HTML object>"
      ]
     },
     "metadata": {},
     "output_type": "display_data"
    },
    {
     "name": "stdout",
     "output_type": "stream",
     "text": [
      "Is Multi-Label? False\n",
      "preprocessing test...\n",
      "language: en\n",
      "test sequence lengths:\n",
      "\tmean : 6\n",
      "\t95percentile : 20\n",
      "\t99percentile : 26\n"
     ]
    },
    {
     "data": {
      "text/html": [],
      "text/plain": [
       "<IPython.core.display.HTML object>"
      ]
     },
     "metadata": {},
     "output_type": "display_data"
    },
    {
     "name": "stdout",
     "output_type": "stream",
     "text": [
      "\n",
      "\n",
      "begin training using onecycle policy with max lr of 5e-05...\n",
      "Train for 23 steps, validate for 3 steps\n",
      "Epoch 1/6\n",
      " 1/23 [>.............................] - ETA: 1:02:40"
     ]
    },
    {
     "ename": "KeyboardInterrupt",
     "evalue": "",
     "output_type": "error",
     "traceback": [
      "\u001b[1;31m---------------------------------------------------------------------------\u001b[0m",
      "\u001b[1;31mKeyboardInterrupt\u001b[0m                         Traceback (most recent call last)",
      "\u001b[1;32m<ipython-input-27-1317d80b2e58>\u001b[0m in \u001b[0;36m<module>\u001b[1;34m\u001b[0m\n\u001b[0;32m      8\u001b[0m \u001b[0mmodel\u001b[0m \u001b[1;33m=\u001b[0m \u001b[0mt\u001b[0m\u001b[1;33m.\u001b[0m\u001b[0mget_classifier\u001b[0m\u001b[1;33m(\u001b[0m\u001b[1;33m)\u001b[0m\u001b[1;33m\u001b[0m\u001b[1;33m\u001b[0m\u001b[0m\n\u001b[0;32m      9\u001b[0m \u001b[0mlearner\u001b[0m \u001b[1;33m=\u001b[0m \u001b[0mktrain\u001b[0m\u001b[1;33m.\u001b[0m\u001b[0mget_learner\u001b[0m\u001b[1;33m(\u001b[0m\u001b[0mmodel\u001b[0m\u001b[1;33m,\u001b[0m \u001b[0mtrain_data\u001b[0m\u001b[1;33m=\u001b[0m\u001b[0mtrn\u001b[0m\u001b[1;33m,\u001b[0m \u001b[0mval_data\u001b[0m\u001b[1;33m=\u001b[0m\u001b[0mval\u001b[0m\u001b[1;33m,\u001b[0m \u001b[0mbatch_size\u001b[0m\u001b[1;33m=\u001b[0m\u001b[1;36m16\u001b[0m\u001b[1;33m)\u001b[0m\u001b[1;33m\u001b[0m\u001b[1;33m\u001b[0m\u001b[0m\n\u001b[1;32m---> 10\u001b[1;33m \u001b[0mlearner\u001b[0m\u001b[1;33m.\u001b[0m\u001b[0mfit_onecycle\u001b[0m\u001b[1;33m(\u001b[0m\u001b[1;36m5e-5\u001b[0m\u001b[1;33m,\u001b[0m \u001b[1;36m6\u001b[0m\u001b[1;33m)\u001b[0m\u001b[1;33m\u001b[0m\u001b[1;33m\u001b[0m\u001b[0m\n\u001b[0m",
      "\u001b[1;32m~\\Miniconda3\\envs\\nlp\\lib\\site-packages\\ktrain\\core.py\u001b[0m in \u001b[0;36mfit_onecycle\u001b[1;34m(self, lr, epochs, checkpoint_folder, cycle_momentum, max_momentum, min_momentum, verbose, class_weight, callbacks)\u001b[0m\n\u001b[0;32m    764\u001b[0m         hist = self.fit(lr, epochs, early_stopping=None,\n\u001b[0;32m    765\u001b[0m                         \u001b[0mcheckpoint_folder\u001b[0m\u001b[1;33m=\u001b[0m\u001b[0mcheckpoint_folder\u001b[0m\u001b[1;33m,\u001b[0m\u001b[1;33m\u001b[0m\u001b[1;33m\u001b[0m\u001b[0m\n\u001b[1;32m--> 766\u001b[1;33m                         verbose=verbose, class_weight=class_weight, callbacks=kcallbacks)\n\u001b[0m\u001b[0;32m    767\u001b[0m         \u001b[0mhist\u001b[0m\u001b[1;33m.\u001b[0m\u001b[0mhistory\u001b[0m\u001b[1;33m[\u001b[0m\u001b[1;34m'lr'\u001b[0m\u001b[1;33m]\u001b[0m \u001b[1;33m=\u001b[0m \u001b[0mclr\u001b[0m\u001b[1;33m.\u001b[0m\u001b[0mhistory\u001b[0m\u001b[1;33m[\u001b[0m\u001b[1;34m'lr'\u001b[0m\u001b[1;33m]\u001b[0m\u001b[1;33m\u001b[0m\u001b[1;33m\u001b[0m\u001b[0m\n\u001b[0;32m    768\u001b[0m         \u001b[0mhist\u001b[0m\u001b[1;33m.\u001b[0m\u001b[0mhistory\u001b[0m\u001b[1;33m[\u001b[0m\u001b[1;34m'iterations'\u001b[0m\u001b[1;33m]\u001b[0m \u001b[1;33m=\u001b[0m \u001b[0mclr\u001b[0m\u001b[1;33m.\u001b[0m\u001b[0mhistory\u001b[0m\u001b[1;33m[\u001b[0m\u001b[1;34m'iterations'\u001b[0m\u001b[1;33m]\u001b[0m\u001b[1;33m\u001b[0m\u001b[1;33m\u001b[0m\u001b[0m\n",
      "\u001b[1;32m~\\Miniconda3\\envs\\nlp\\lib\\site-packages\\ktrain\\core.py\u001b[0m in \u001b[0;36mfit\u001b[1;34m(self, lr, n_cycles, cycle_len, cycle_mult, lr_decay, checkpoint_folder, early_stopping, class_weight, callbacks, verbose)\u001b[0m\n\u001b[0;32m   1219\u001b[0m                                         \u001b[0mshuffle\u001b[0m\u001b[1;33m=\u001b[0m\u001b[1;32mTrue\u001b[0m\u001b[1;33m,\u001b[0m\u001b[1;33m\u001b[0m\u001b[1;33m\u001b[0m\u001b[0m\n\u001b[0;32m   1220\u001b[0m                                         \u001b[0mclass_weight\u001b[0m\u001b[1;33m=\u001b[0m\u001b[0mclass_weight\u001b[0m\u001b[1;33m,\u001b[0m\u001b[1;33m\u001b[0m\u001b[1;33m\u001b[0m\u001b[0m\n\u001b[1;32m-> 1221\u001b[1;33m                                         callbacks=kcallbacks)\n\u001b[0m\u001b[0;32m   1222\u001b[0m         \u001b[1;32mif\u001b[0m \u001b[0msgdr\u001b[0m \u001b[1;32mis\u001b[0m \u001b[1;32mnot\u001b[0m \u001b[1;32mNone\u001b[0m\u001b[1;33m:\u001b[0m \u001b[0mhist\u001b[0m\u001b[1;33m.\u001b[0m\u001b[0mhistory\u001b[0m\u001b[1;33m[\u001b[0m\u001b[1;34m'lr'\u001b[0m\u001b[1;33m]\u001b[0m \u001b[1;33m=\u001b[0m \u001b[0msgdr\u001b[0m\u001b[1;33m.\u001b[0m\u001b[0mhistory\u001b[0m\u001b[1;33m[\u001b[0m\u001b[1;34m'lr'\u001b[0m\u001b[1;33m]\u001b[0m\u001b[1;33m\u001b[0m\u001b[1;33m\u001b[0m\u001b[0m\n\u001b[0;32m   1223\u001b[0m         \u001b[0mself\u001b[0m\u001b[1;33m.\u001b[0m\u001b[0mhistory\u001b[0m \u001b[1;33m=\u001b[0m \u001b[0mhist\u001b[0m\u001b[1;33m\u001b[0m\u001b[1;33m\u001b[0m\u001b[0m\n",
      "\u001b[1;32m~\\Miniconda3\\envs\\nlp\\lib\\site-packages\\tensorflow_core\\python\\keras\\engine\\training.py\u001b[0m in \u001b[0;36mfit\u001b[1;34m(self, x, y, batch_size, epochs, verbose, callbacks, validation_split, validation_data, shuffle, class_weight, sample_weight, initial_epoch, steps_per_epoch, validation_steps, validation_freq, max_queue_size, workers, use_multiprocessing, **kwargs)\u001b[0m\n\u001b[0;32m    817\u001b[0m         \u001b[0mmax_queue_size\u001b[0m\u001b[1;33m=\u001b[0m\u001b[0mmax_queue_size\u001b[0m\u001b[1;33m,\u001b[0m\u001b[1;33m\u001b[0m\u001b[1;33m\u001b[0m\u001b[0m\n\u001b[0;32m    818\u001b[0m         \u001b[0mworkers\u001b[0m\u001b[1;33m=\u001b[0m\u001b[0mworkers\u001b[0m\u001b[1;33m,\u001b[0m\u001b[1;33m\u001b[0m\u001b[1;33m\u001b[0m\u001b[0m\n\u001b[1;32m--> 819\u001b[1;33m         use_multiprocessing=use_multiprocessing)\n\u001b[0m\u001b[0;32m    820\u001b[0m \u001b[1;33m\u001b[0m\u001b[0m\n\u001b[0;32m    821\u001b[0m   def evaluate(self,\n",
      "\u001b[1;32m~\\Miniconda3\\envs\\nlp\\lib\\site-packages\\tensorflow_core\\python\\keras\\engine\\training_v2.py\u001b[0m in \u001b[0;36mfit\u001b[1;34m(self, model, x, y, batch_size, epochs, verbose, callbacks, validation_split, validation_data, shuffle, class_weight, sample_weight, initial_epoch, steps_per_epoch, validation_steps, validation_freq, max_queue_size, workers, use_multiprocessing, **kwargs)\u001b[0m\n\u001b[0;32m    340\u001b[0m                 \u001b[0mmode\u001b[0m\u001b[1;33m=\u001b[0m\u001b[0mModeKeys\u001b[0m\u001b[1;33m.\u001b[0m\u001b[0mTRAIN\u001b[0m\u001b[1;33m,\u001b[0m\u001b[1;33m\u001b[0m\u001b[1;33m\u001b[0m\u001b[0m\n\u001b[0;32m    341\u001b[0m                 \u001b[0mtraining_context\u001b[0m\u001b[1;33m=\u001b[0m\u001b[0mtraining_context\u001b[0m\u001b[1;33m,\u001b[0m\u001b[1;33m\u001b[0m\u001b[1;33m\u001b[0m\u001b[0m\n\u001b[1;32m--> 342\u001b[1;33m                 total_epochs=epochs)\n\u001b[0m\u001b[0;32m    343\u001b[0m             \u001b[0mcbks\u001b[0m\u001b[1;33m.\u001b[0m\u001b[0mmake_logs\u001b[0m\u001b[1;33m(\u001b[0m\u001b[0mmodel\u001b[0m\u001b[1;33m,\u001b[0m \u001b[0mepoch_logs\u001b[0m\u001b[1;33m,\u001b[0m \u001b[0mtraining_result\u001b[0m\u001b[1;33m,\u001b[0m \u001b[0mModeKeys\u001b[0m\u001b[1;33m.\u001b[0m\u001b[0mTRAIN\u001b[0m\u001b[1;33m)\u001b[0m\u001b[1;33m\u001b[0m\u001b[1;33m\u001b[0m\u001b[0m\n\u001b[0;32m    344\u001b[0m \u001b[1;33m\u001b[0m\u001b[0m\n",
      "\u001b[1;32m~\\Miniconda3\\envs\\nlp\\lib\\site-packages\\tensorflow_core\\python\\keras\\engine\\training_v2.py\u001b[0m in \u001b[0;36mrun_one_epoch\u001b[1;34m(model, iterator, execution_function, dataset_size, batch_size, strategy, steps_per_epoch, num_samples, mode, training_context, total_epochs)\u001b[0m\n\u001b[0;32m    126\u001b[0m         step=step, mode=mode, size=current_batch_size) as batch_logs:\n\u001b[0;32m    127\u001b[0m       \u001b[1;32mtry\u001b[0m\u001b[1;33m:\u001b[0m\u001b[1;33m\u001b[0m\u001b[1;33m\u001b[0m\u001b[0m\n\u001b[1;32m--> 128\u001b[1;33m         \u001b[0mbatch_outs\u001b[0m \u001b[1;33m=\u001b[0m \u001b[0mexecution_function\u001b[0m\u001b[1;33m(\u001b[0m\u001b[0miterator\u001b[0m\u001b[1;33m)\u001b[0m\u001b[1;33m\u001b[0m\u001b[1;33m\u001b[0m\u001b[0m\n\u001b[0m\u001b[0;32m    129\u001b[0m       \u001b[1;32mexcept\u001b[0m \u001b[1;33m(\u001b[0m\u001b[0mStopIteration\u001b[0m\u001b[1;33m,\u001b[0m \u001b[0merrors\u001b[0m\u001b[1;33m.\u001b[0m\u001b[0mOutOfRangeError\u001b[0m\u001b[1;33m)\u001b[0m\u001b[1;33m:\u001b[0m\u001b[1;33m\u001b[0m\u001b[1;33m\u001b[0m\u001b[0m\n\u001b[0;32m    130\u001b[0m         \u001b[1;31m# TODO(kaftan): File bug about tf function and errors.OutOfRangeError?\u001b[0m\u001b[1;33m\u001b[0m\u001b[1;33m\u001b[0m\u001b[1;33m\u001b[0m\u001b[0m\n",
      "\u001b[1;32m~\\Miniconda3\\envs\\nlp\\lib\\site-packages\\tensorflow_core\\python\\keras\\engine\\training_v2_utils.py\u001b[0m in \u001b[0;36mexecution_function\u001b[1;34m(input_fn)\u001b[0m\n\u001b[0;32m     96\u001b[0m     \u001b[1;31m# `numpy` translates Tensors to values in Eager mode.\u001b[0m\u001b[1;33m\u001b[0m\u001b[1;33m\u001b[0m\u001b[1;33m\u001b[0m\u001b[0m\n\u001b[0;32m     97\u001b[0m     return nest.map_structure(_non_none_constant_value,\n\u001b[1;32m---> 98\u001b[1;33m                               distributed_function(input_fn))\n\u001b[0m\u001b[0;32m     99\u001b[0m \u001b[1;33m\u001b[0m\u001b[0m\n\u001b[0;32m    100\u001b[0m   \u001b[1;32mreturn\u001b[0m \u001b[0mexecution_function\u001b[0m\u001b[1;33m\u001b[0m\u001b[1;33m\u001b[0m\u001b[0m\n",
      "\u001b[1;32m~\\Miniconda3\\envs\\nlp\\lib\\site-packages\\tensorflow_core\\python\\eager\\def_function.py\u001b[0m in \u001b[0;36m__call__\u001b[1;34m(self, *args, **kwds)\u001b[0m\n\u001b[0;32m    566\u001b[0m         \u001b[0mxla_context\u001b[0m\u001b[1;33m.\u001b[0m\u001b[0mExit\u001b[0m\u001b[1;33m(\u001b[0m\u001b[1;33m)\u001b[0m\u001b[1;33m\u001b[0m\u001b[1;33m\u001b[0m\u001b[0m\n\u001b[0;32m    567\u001b[0m     \u001b[1;32melse\u001b[0m\u001b[1;33m:\u001b[0m\u001b[1;33m\u001b[0m\u001b[1;33m\u001b[0m\u001b[0m\n\u001b[1;32m--> 568\u001b[1;33m       \u001b[0mresult\u001b[0m \u001b[1;33m=\u001b[0m \u001b[0mself\u001b[0m\u001b[1;33m.\u001b[0m\u001b[0m_call\u001b[0m\u001b[1;33m(\u001b[0m\u001b[1;33m*\u001b[0m\u001b[0margs\u001b[0m\u001b[1;33m,\u001b[0m \u001b[1;33m**\u001b[0m\u001b[0mkwds\u001b[0m\u001b[1;33m)\u001b[0m\u001b[1;33m\u001b[0m\u001b[1;33m\u001b[0m\u001b[0m\n\u001b[0m\u001b[0;32m    569\u001b[0m \u001b[1;33m\u001b[0m\u001b[0m\n\u001b[0;32m    570\u001b[0m     \u001b[1;32mif\u001b[0m \u001b[0mtracing_count\u001b[0m \u001b[1;33m==\u001b[0m \u001b[0mself\u001b[0m\u001b[1;33m.\u001b[0m\u001b[0m_get_tracing_count\u001b[0m\u001b[1;33m(\u001b[0m\u001b[1;33m)\u001b[0m\u001b[1;33m:\u001b[0m\u001b[1;33m\u001b[0m\u001b[1;33m\u001b[0m\u001b[0m\n",
      "\u001b[1;32m~\\Miniconda3\\envs\\nlp\\lib\\site-packages\\tensorflow_core\\python\\eager\\def_function.py\u001b[0m in \u001b[0;36m_call\u001b[1;34m(self, *args, **kwds)\u001b[0m\n\u001b[0;32m    630\u001b[0m         \u001b[1;31m# Lifting succeeded, so variables are initialized and we can run the\u001b[0m\u001b[1;33m\u001b[0m\u001b[1;33m\u001b[0m\u001b[1;33m\u001b[0m\u001b[0m\n\u001b[0;32m    631\u001b[0m         \u001b[1;31m# stateless function.\u001b[0m\u001b[1;33m\u001b[0m\u001b[1;33m\u001b[0m\u001b[1;33m\u001b[0m\u001b[0m\n\u001b[1;32m--> 632\u001b[1;33m         \u001b[1;32mreturn\u001b[0m \u001b[0mself\u001b[0m\u001b[1;33m.\u001b[0m\u001b[0m_stateless_fn\u001b[0m\u001b[1;33m(\u001b[0m\u001b[1;33m*\u001b[0m\u001b[0margs\u001b[0m\u001b[1;33m,\u001b[0m \u001b[1;33m**\u001b[0m\u001b[0mkwds\u001b[0m\u001b[1;33m)\u001b[0m\u001b[1;33m\u001b[0m\u001b[1;33m\u001b[0m\u001b[0m\n\u001b[0m\u001b[0;32m    633\u001b[0m     \u001b[1;32melse\u001b[0m\u001b[1;33m:\u001b[0m\u001b[1;33m\u001b[0m\u001b[1;33m\u001b[0m\u001b[0m\n\u001b[0;32m    634\u001b[0m       \u001b[0mcanon_args\u001b[0m\u001b[1;33m,\u001b[0m \u001b[0mcanon_kwds\u001b[0m \u001b[1;33m=\u001b[0m\u001b[0;31m \u001b[0m\u001b[0;31m\\\u001b[0m\u001b[1;33m\u001b[0m\u001b[1;33m\u001b[0m\u001b[0m\n",
      "\u001b[1;32m~\\Miniconda3\\envs\\nlp\\lib\\site-packages\\tensorflow_core\\python\\eager\\function.py\u001b[0m in \u001b[0;36m__call__\u001b[1;34m(self, *args, **kwargs)\u001b[0m\n\u001b[0;32m   2361\u001b[0m     \u001b[1;32mwith\u001b[0m \u001b[0mself\u001b[0m\u001b[1;33m.\u001b[0m\u001b[0m_lock\u001b[0m\u001b[1;33m:\u001b[0m\u001b[1;33m\u001b[0m\u001b[1;33m\u001b[0m\u001b[0m\n\u001b[0;32m   2362\u001b[0m       \u001b[0mgraph_function\u001b[0m\u001b[1;33m,\u001b[0m \u001b[0margs\u001b[0m\u001b[1;33m,\u001b[0m \u001b[0mkwargs\u001b[0m \u001b[1;33m=\u001b[0m \u001b[0mself\u001b[0m\u001b[1;33m.\u001b[0m\u001b[0m_maybe_define_function\u001b[0m\u001b[1;33m(\u001b[0m\u001b[0margs\u001b[0m\u001b[1;33m,\u001b[0m \u001b[0mkwargs\u001b[0m\u001b[1;33m)\u001b[0m\u001b[1;33m\u001b[0m\u001b[1;33m\u001b[0m\u001b[0m\n\u001b[1;32m-> 2363\u001b[1;33m     \u001b[1;32mreturn\u001b[0m \u001b[0mgraph_function\u001b[0m\u001b[1;33m.\u001b[0m\u001b[0m_filtered_call\u001b[0m\u001b[1;33m(\u001b[0m\u001b[0margs\u001b[0m\u001b[1;33m,\u001b[0m \u001b[0mkwargs\u001b[0m\u001b[1;33m)\u001b[0m  \u001b[1;31m# pylint: disable=protected-access\u001b[0m\u001b[1;33m\u001b[0m\u001b[1;33m\u001b[0m\u001b[0m\n\u001b[0m\u001b[0;32m   2364\u001b[0m \u001b[1;33m\u001b[0m\u001b[0m\n\u001b[0;32m   2365\u001b[0m   \u001b[1;33m@\u001b[0m\u001b[0mproperty\u001b[0m\u001b[1;33m\u001b[0m\u001b[1;33m\u001b[0m\u001b[0m\n",
      "\u001b[1;32m~\\Miniconda3\\envs\\nlp\\lib\\site-packages\\tensorflow_core\\python\\eager\\function.py\u001b[0m in \u001b[0;36m_filtered_call\u001b[1;34m(self, args, kwargs)\u001b[0m\n\u001b[0;32m   1609\u001b[0m          if isinstance(t, (ops.Tensor,\n\u001b[0;32m   1610\u001b[0m                            resource_variable_ops.BaseResourceVariable))),\n\u001b[1;32m-> 1611\u001b[1;33m         self.captured_inputs)\n\u001b[0m\u001b[0;32m   1612\u001b[0m \u001b[1;33m\u001b[0m\u001b[0m\n\u001b[0;32m   1613\u001b[0m   \u001b[1;32mdef\u001b[0m \u001b[0m_call_flat\u001b[0m\u001b[1;33m(\u001b[0m\u001b[0mself\u001b[0m\u001b[1;33m,\u001b[0m \u001b[0margs\u001b[0m\u001b[1;33m,\u001b[0m \u001b[0mcaptured_inputs\u001b[0m\u001b[1;33m,\u001b[0m \u001b[0mcancellation_manager\u001b[0m\u001b[1;33m=\u001b[0m\u001b[1;32mNone\u001b[0m\u001b[1;33m)\u001b[0m\u001b[1;33m:\u001b[0m\u001b[1;33m\u001b[0m\u001b[1;33m\u001b[0m\u001b[0m\n",
      "\u001b[1;32m~\\Miniconda3\\envs\\nlp\\lib\\site-packages\\tensorflow_core\\python\\eager\\function.py\u001b[0m in \u001b[0;36m_call_flat\u001b[1;34m(self, args, captured_inputs, cancellation_manager)\u001b[0m\n\u001b[0;32m   1690\u001b[0m       \u001b[1;31m# No tape is watching; skip to running the function.\u001b[0m\u001b[1;33m\u001b[0m\u001b[1;33m\u001b[0m\u001b[1;33m\u001b[0m\u001b[0m\n\u001b[0;32m   1691\u001b[0m       return self._build_call_outputs(self._inference_function.call(\n\u001b[1;32m-> 1692\u001b[1;33m           ctx, args, cancellation_manager=cancellation_manager))\n\u001b[0m\u001b[0;32m   1693\u001b[0m     forward_backward = self._select_forward_and_backward_functions(\n\u001b[0;32m   1694\u001b[0m         \u001b[0margs\u001b[0m\u001b[1;33m,\u001b[0m\u001b[1;33m\u001b[0m\u001b[1;33m\u001b[0m\u001b[0m\n",
      "\u001b[1;32m~\\Miniconda3\\envs\\nlp\\lib\\site-packages\\tensorflow_core\\python\\eager\\function.py\u001b[0m in \u001b[0;36mcall\u001b[1;34m(self, ctx, args, cancellation_manager)\u001b[0m\n\u001b[0;32m    543\u001b[0m               \u001b[0minputs\u001b[0m\u001b[1;33m=\u001b[0m\u001b[0margs\u001b[0m\u001b[1;33m,\u001b[0m\u001b[1;33m\u001b[0m\u001b[1;33m\u001b[0m\u001b[0m\n\u001b[0;32m    544\u001b[0m               \u001b[0mattrs\u001b[0m\u001b[1;33m=\u001b[0m\u001b[1;33m(\u001b[0m\u001b[1;34m\"executor_type\"\u001b[0m\u001b[1;33m,\u001b[0m \u001b[0mexecutor_type\u001b[0m\u001b[1;33m,\u001b[0m \u001b[1;34m\"config_proto\"\u001b[0m\u001b[1;33m,\u001b[0m \u001b[0mconfig\u001b[0m\u001b[1;33m)\u001b[0m\u001b[1;33m,\u001b[0m\u001b[1;33m\u001b[0m\u001b[1;33m\u001b[0m\u001b[0m\n\u001b[1;32m--> 545\u001b[1;33m               ctx=ctx)\n\u001b[0m\u001b[0;32m    546\u001b[0m         \u001b[1;32melse\u001b[0m\u001b[1;33m:\u001b[0m\u001b[1;33m\u001b[0m\u001b[1;33m\u001b[0m\u001b[0m\n\u001b[0;32m    547\u001b[0m           outputs = execute.execute_with_cancellation(\n",
      "\u001b[1;32m~\\Miniconda3\\envs\\nlp\\lib\\site-packages\\tensorflow_core\\python\\eager\\execute.py\u001b[0m in \u001b[0;36mquick_execute\u001b[1;34m(op_name, num_outputs, inputs, attrs, ctx, name)\u001b[0m\n\u001b[0;32m     59\u001b[0m     tensors = pywrap_tensorflow.TFE_Py_Execute(ctx._handle, device_name,\n\u001b[0;32m     60\u001b[0m                                                \u001b[0mop_name\u001b[0m\u001b[1;33m,\u001b[0m \u001b[0minputs\u001b[0m\u001b[1;33m,\u001b[0m \u001b[0mattrs\u001b[0m\u001b[1;33m,\u001b[0m\u001b[1;33m\u001b[0m\u001b[1;33m\u001b[0m\u001b[0m\n\u001b[1;32m---> 61\u001b[1;33m                                                num_outputs)\n\u001b[0m\u001b[0;32m     62\u001b[0m   \u001b[1;32mexcept\u001b[0m \u001b[0mcore\u001b[0m\u001b[1;33m.\u001b[0m\u001b[0m_NotOkStatusException\u001b[0m \u001b[1;32mas\u001b[0m \u001b[0me\u001b[0m\u001b[1;33m:\u001b[0m\u001b[1;33m\u001b[0m\u001b[1;33m\u001b[0m\u001b[0m\n\u001b[0;32m     63\u001b[0m     \u001b[1;32mif\u001b[0m \u001b[0mname\u001b[0m \u001b[1;32mis\u001b[0m \u001b[1;32mnot\u001b[0m \u001b[1;32mNone\u001b[0m\u001b[1;33m:\u001b[0m\u001b[1;33m\u001b[0m\u001b[1;33m\u001b[0m\u001b[0m\n",
      "\u001b[1;31mKeyboardInterrupt\u001b[0m: "
     ]
    }
   ],
   "source": [
    "import ktrain\n",
    "from ktrain import text\n",
    "\n",
    "MODEL_NAME = 'roberta-large' \n",
    "t = text.Transformer(MODEL_NAME, classes=classes)\n",
    "trn = t.preprocess_train(x_train.values, y_train.values)\n",
    "val = t.preprocess_test(x_test.values, y_test.values)\n",
    "model = t.get_classifier()\n",
    "learner = ktrain.get_learner(model, train_data=trn, val_data=val, batch_size=16)\n",
    "learner.fit_onecycle(5e-5, 6)"
   ]
  },
  {
   "cell_type": "code",
   "execution_count": null,
   "metadata": {
    "hidden": true
   },
   "outputs": [],
   "source": [
    "learner.validate()"
   ]
  },
  {
   "cell_type": "code",
   "execution_count": null,
   "metadata": {
    "hidden": true
   },
   "outputs": [],
   "source": [
    "predictor = ktrain.get_predictor(learner.model, preproc=t)"
   ]
  },
  {
   "cell_type": "code",
   "execution_count": null,
   "metadata": {
    "hidden": true
   },
   "outputs": [],
   "source": [
    "predictions = predictor.predict(x_test.values)\n",
    "print(\"Accuracy:\", metrics.accuracy_score(y_true=y_test.values, y_pred=predictions, normalize=False))\n",
    "print(metrics.classification_report(y_true=y_test.values, y_pred=predictions))"
   ]
  },
  {
   "cell_type": "code",
   "execution_count": null,
   "metadata": {
    "hidden": true
   },
   "outputs": [],
   "source": [
    "email_preds = predictor.predict(test_emails_df['Email'].values)\n",
    "print(\"Accuracy:\", metrics.accuracy_score(y_true=test_emails_df['Label'].values, y_pred=email_preds, normalize=False))\n",
    "print(metrics.classification_report(y_true=test_emails_df['Label'].values, y_pred=email_preds))"
   ]
  },
  {
   "cell_type": "code",
   "execution_count": null,
   "metadata": {
    "hidden": true
   },
   "outputs": [],
   "source": [
    "predictions = predictor.predict(df['Text'].values)\n",
    "print(\"Accuracy:\", metrics.accuracy_score(y_true=df['Label'].values, y_pred=predictions ,normalize=False))\n",
    "print(metrics.classification_report(y_true=df['Label'].values, y_pred=predictions))"
   ]
  },
  {
   "cell_type": "code",
   "execution_count": null,
   "metadata": {
    "hidden": true
   },
   "outputs": [],
   "source": [
    "predictor.save('/content/gdrive/My Drive/roberta-v4')"
   ]
  },
  {
   "cell_type": "markdown",
   "metadata": {},
   "source": [
    "### Loading Predictor"
   ]
  },
  {
   "cell_type": "code",
   "execution_count": 8,
   "metadata": {},
   "outputs": [],
   "source": [
    "predictor = ktrain.load_predictor('roberta-v4')"
   ]
  },
  {
   "cell_type": "code",
   "execution_count": 9,
   "metadata": {},
   "outputs": [
    {
     "data": {
      "text/html": [],
      "text/plain": [
       "<IPython.core.display.HTML object>"
      ]
     },
     "metadata": {},
     "output_type": "display_data"
    },
    {
     "data": {
      "text/html": [],
      "text/plain": [
       "<IPython.core.display.HTML object>"
      ]
     },
     "metadata": {},
     "output_type": "display_data"
    }
   ],
   "source": [
    "roberta_predictions = predictor.predict_proba(x_test.values)\n",
    "robert_predictions_labels = predictor.predict(x_test.values)"
   ]
  },
  {
   "cell_type": "code",
   "execution_count": 10,
   "metadata": {},
   "outputs": [
    {
     "name": "stdout",
     "output_type": "stream",
     "text": [
      "Accuracy: 86\n",
      "                            precision    recall  f1-score   support\n",
      "\n",
      "                 age_limit       1.00      1.00      1.00         3\n",
      "        application_status       1.00      1.00      1.00         6\n",
      "assessment_campatilibility       0.75      0.75      0.75         4\n",
      "   assessment_link_problem       0.50      0.50      0.50         2\n",
      "        assessment_timebox       0.67      1.00      0.80         2\n",
      "       assessment_validity       1.00      1.00      1.00         3\n",
      "        cv_past_experience       1.00      0.50      0.67         2\n",
      "                disability       0.86      1.00      0.92         6\n",
      "                  feedback       1.00      0.86      0.92         7\n",
      "               howto_apply       0.89      1.00      0.94         8\n",
      "      interview_reschedule       1.00      1.00      1.00        11\n",
      "   interview_response_time       1.00      1.00      1.00         2\n",
      "         job_account_issue       1.00      1.00      1.00         1\n",
      "                job_alerts       1.00      1.00      1.00         9\n",
      "            job_close_date       1.00      1.00      1.00         5\n",
      "        late_for_interview       1.00      1.00      1.00         3\n",
      "             multiple_role       1.00      1.00      1.00         6\n",
      "                    salary       1.00      1.00      1.00         6\n",
      "     special_needs_at_work       1.00      0.67      0.80         3\n",
      "           work_experience       1.00      1.00      1.00         2\n",
      "\n",
      "                  accuracy                           0.95        91\n",
      "                 macro avg       0.93      0.91      0.92        91\n",
      "              weighted avg       0.95      0.95      0.94        91\n",
      "\n"
     ]
    }
   ],
   "source": [
    "get_accuracy(robert_predictions_labels, y_test.values)"
   ]
  },
  {
   "cell_type": "code",
   "execution_count": 20,
   "metadata": {},
   "outputs": [
    {
     "data": {
      "text/plain": [
       "LabelEncoder()"
      ]
     },
     "execution_count": 20,
     "metadata": {},
     "output_type": "execute_result"
    }
   ],
   "source": [
    "le = preprocessing.LabelEncoder()\n",
    "le.fit(classes)"
   ]
  },
  {
   "cell_type": "markdown",
   "metadata": {
    "heading_collapsed": true
   },
   "source": [
    "### Creating Ensemble "
   ]
  },
  {
   "cell_type": "code",
   "execution_count": 25,
   "metadata": {
    "hidden": true
   },
   "outputs": [
    {
     "data": {
      "text/html": [],
      "text/plain": [
       "<IPython.core.display.HTML object>"
      ]
     },
     "metadata": {},
     "output_type": "display_data"
    }
   ],
   "source": [
    "from mlxtend.classifier import EnsembleVoteClassifier\n",
    "ensemble = EnsembleVoteClassifier(clfs=[pipe, predictor], weights=[1, 1], voting='soft', refit=False)\n",
    "ensemble.fit(x_train, y_train)\n",
    "ensmbl_preds = ensemble.predict(x_test.values)"
   ]
  },
  {
   "cell_type": "code",
   "execution_count": 26,
   "metadata": {
    "hidden": true
   },
   "outputs": [
    {
     "name": "stdout",
     "output_type": "stream",
     "text": [
      "Accuracy: 83\n",
      "                            precision    recall  f1-score   support\n",
      "\n",
      "                 age_limit       1.00      1.00      1.00         3\n",
      "        application_status       1.00      1.00      1.00         6\n",
      "assessment_campatilibility       0.75      0.75      0.75         4\n",
      "   assessment_link_problem       0.50      0.50      0.50         2\n",
      "        assessment_timebox       0.67      1.00      0.80         2\n",
      "       assessment_validity       1.00      0.67      0.80         3\n",
      "        cv_past_experience       1.00      0.50      0.67         2\n",
      "                disability       0.86      1.00      0.92         6\n",
      "                  feedback       1.00      0.86      0.92         7\n",
      "               howto_apply       0.89      1.00      0.94         8\n",
      "      interview_reschedule       1.00      0.91      0.95        11\n",
      "   interview_response_time       1.00      1.00      1.00         2\n",
      "         job_account_issue       1.00      1.00      1.00         1\n",
      "                job_alerts       0.82      1.00      0.90         9\n",
      "            job_close_date       1.00      1.00      1.00         5\n",
      "        late_for_interview       1.00      1.00      1.00         3\n",
      "             multiple_role       0.86      1.00      0.92         6\n",
      "                    salary       1.00      1.00      1.00         6\n",
      "     special_needs_at_work       1.00      0.33      0.50         3\n",
      "           work_experience       1.00      1.00      1.00         2\n",
      "\n",
      "                  accuracy                           0.91        91\n",
      "                 macro avg       0.92      0.88      0.88        91\n",
      "              weighted avg       0.92      0.91      0.91        91\n",
      "\n"
     ]
    }
   ],
   "source": [
    "get_accuracy(ensmbl_preds, y_test.values)"
   ]
  },
  {
   "cell_type": "code",
   "execution_count": 132,
   "metadata": {
    "hidden": true
   },
   "outputs": [
    {
     "name": "stdout",
     "output_type": "stream",
     "text": [
      "Text:  alert late marketing job\n",
      "\n",
      "Roberta prediction: age_limit \n",
      "Probability: 0.793149\n",
      "\n",
      "SVM prediction: age_limit \n",
      "Probability: 0.8518229933856651\n"
     ]
    }
   ],
   "source": [
    "index = 9\n",
    "actual_index = index - 3\n",
    "text = x_test.iloc[actual_index]\n",
    "print(\"Text: \", text)\n",
    "\n",
    "roberta_pred_prob = max(roberta_predictions[actual_index])\n",
    "roberta_pred = le.inverse_transform([np.argmax(roberta_pred_prob)])[0]\n",
    "\n",
    "print(\"\\nRoberta prediction:\", roberta_pred, \"\\nProbability:\", roberta_pred_prob)\n",
    "\n",
    "\n",
    "svm_pred_prob = max(predicted[actual_index])\n",
    "svm_pred = le.inverse_transform([np.argmax(svm_pred_prob)])[0]\n",
    "\n",
    "print(\"\\nSVM prediction:\", svm_pred, \"\\nProbability:\", svm_pred_prob)"
   ]
  },
  {
   "cell_type": "markdown",
   "metadata": {
    "heading_collapsed": true
   },
   "source": [
    "### Comparing SVM and RoBERTa"
   ]
  },
  {
   "cell_type": "code",
   "execution_count": 21,
   "metadata": {
    "hidden": true,
    "scrolled": true
   },
   "outputs": [
    {
     "data": {
      "text/html": [],
      "text/plain": [
       "<IPython.core.display.HTML object>"
      ]
     },
     "metadata": {},
     "output_type": "display_data"
    },
    {
     "data": {
      "text/html": [],
      "text/plain": [
       "<IPython.core.display.HTML object>"
      ]
     },
     "metadata": {},
     "output_type": "display_data"
    },
    {
     "data": {
      "text/html": [],
      "text/plain": [
       "<IPython.core.display.HTML object>"
      ]
     },
     "metadata": {},
     "output_type": "display_data"
    },
    {
     "name": "stdout",
     "output_type": "stream",
     "text": [
      "Text:  mention experience application update\n",
      "\n",
      "SVM prediction: cv_past_experience \n",
      "Probability: 0.6049715173961667\n",
      "\n",
      "Roberta prediction: howto_apply \n",
      "Probability: 0.29405546\n",
      "\u001b[1m\u001b[31m\n",
      "Mismatch\u001b[0m\n",
      "\u001b[32mLabel: cv_past_experience\u001b[0m\n",
      "----------------------------------------\n"
     ]
    },
    {
     "data": {
      "text/html": [],
      "text/plain": [
       "<IPython.core.display.HTML object>"
      ]
     },
     "metadata": {},
     "output_type": "display_data"
    },
    {
     "data": {
      "text/html": [],
      "text/plain": [
       "<IPython.core.display.HTML object>"
      ]
     },
     "metadata": {},
     "output_type": "display_data"
    },
    {
     "data": {
      "text/html": [],
      "text/plain": [
       "<IPython.core.display.HTML object>"
      ]
     },
     "metadata": {},
     "output_type": "display_data"
    },
    {
     "data": {
      "text/html": [],
      "text/plain": [
       "<IPython.core.display.HTML object>"
      ]
     },
     "metadata": {},
     "output_type": "display_data"
    },
    {
     "data": {
      "text/html": [],
      "text/plain": [
       "<IPython.core.display.HTML object>"
      ]
     },
     "metadata": {},
     "output_type": "display_data"
    },
    {
     "data": {
      "text/html": [],
      "text/plain": [
       "<IPython.core.display.HTML object>"
      ]
     },
     "metadata": {},
     "output_type": "display_data"
    },
    {
     "data": {
      "text/html": [],
      "text/plain": [
       "<IPython.core.display.HTML object>"
      ]
     },
     "metadata": {},
     "output_type": "display_data"
    },
    {
     "data": {
      "text/html": [],
      "text/plain": [
       "<IPython.core.display.HTML object>"
      ]
     },
     "metadata": {},
     "output_type": "display_data"
    },
    {
     "name": "stdout",
     "output_type": "stream",
     "text": [
      "Text:  apply\n",
      "\n",
      "SVM prediction: howto_apply \n",
      "Probability: 0.784910511198526\n",
      "\n",
      "Roberta prediction: assessment_campatilibility \n",
      "Probability: 0.18758306\n",
      "\u001b[1m\u001b[31m\n",
      "Mismatch\u001b[0m\n",
      "\u001b[32mLabel: howto_apply\u001b[0m\n",
      "----------------------------------------\n"
     ]
    },
    {
     "data": {
      "text/html": [],
      "text/plain": [
       "<IPython.core.display.HTML object>"
      ]
     },
     "metadata": {},
     "output_type": "display_data"
    },
    {
     "data": {
      "text/html": [],
      "text/plain": [
       "<IPython.core.display.HTML object>"
      ]
     },
     "metadata": {},
     "output_type": "display_data"
    },
    {
     "data": {
      "text/html": [],
      "text/plain": [
       "<IPython.core.display.HTML object>"
      ]
     },
     "metadata": {},
     "output_type": "display_data"
    },
    {
     "data": {
      "text/html": [],
      "text/plain": [
       "<IPython.core.display.HTML object>"
      ]
     },
     "metadata": {},
     "output_type": "display_data"
    },
    {
     "data": {
      "text/html": [],
      "text/plain": [
       "<IPython.core.display.HTML object>"
      ]
     },
     "metadata": {},
     "output_type": "display_data"
    },
    {
     "data": {
      "text/html": [],
      "text/plain": [
       "<IPython.core.display.HTML object>"
      ]
     },
     "metadata": {},
     "output_type": "display_data"
    },
    {
     "data": {
      "text/html": [],
      "text/plain": [
       "<IPython.core.display.HTML object>"
      ]
     },
     "metadata": {},
     "output_type": "display_data"
    },
    {
     "data": {
      "text/html": [],
      "text/plain": [
       "<IPython.core.display.HTML object>"
      ]
     },
     "metadata": {},
     "output_type": "display_data"
    },
    {
     "data": {
      "text/html": [],
      "text/plain": [
       "<IPython.core.display.HTML object>"
      ]
     },
     "metadata": {},
     "output_type": "display_data"
    },
    {
     "data": {
      "text/html": [],
      "text/plain": [
       "<IPython.core.display.HTML object>"
      ]
     },
     "metadata": {},
     "output_type": "display_data"
    },
    {
     "name": "stdout",
     "output_type": "stream",
     "text": [
      "Text:  know job application submit successfully\n",
      "\n",
      "SVM prediction: application_status \n",
      "Probability: 0.6888856918773756\n",
      "\n",
      "Roberta prediction: howto_apply \n",
      "Probability: 0.91993284\n",
      "\u001b[1m\u001b[31m\n",
      "Mismatch\u001b[0m\n",
      "\u001b[32mLabel: application_status\u001b[0m\n",
      "----------------------------------------\n"
     ]
    },
    {
     "data": {
      "text/html": [],
      "text/plain": [
       "<IPython.core.display.HTML object>"
      ]
     },
     "metadata": {},
     "output_type": "display_data"
    },
    {
     "name": "stdout",
     "output_type": "stream",
     "text": [
      "Text:  assessment valid want apply job reuse complete earlier\n",
      "\n",
      "SVM prediction: assessment_validity \n",
      "Probability: 0.4953576396038414\n",
      "\n",
      "Roberta prediction: howto_apply \n",
      "Probability: 0.53755\n",
      "\u001b[1m\u001b[31m\n",
      "Mismatch\u001b[0m\n",
      "\u001b[32mLabel: assessment_validity\u001b[0m\n",
      "----------------------------------------\n"
     ]
    },
    {
     "data": {
      "text/html": [],
      "text/plain": [
       "<IPython.core.display.HTML object>"
      ]
     },
     "metadata": {},
     "output_type": "display_data"
    },
    {
     "data": {
      "text/html": [],
      "text/plain": [
       "<IPython.core.display.HTML object>"
      ]
     },
     "metadata": {},
     "output_type": "display_data"
    },
    {
     "data": {
      "text/html": [],
      "text/plain": [
       "<IPython.core.display.HTML object>"
      ]
     },
     "metadata": {},
     "output_type": "display_data"
    },
    {
     "data": {
      "text/html": [],
      "text/plain": [
       "<IPython.core.display.HTML object>"
      ]
     },
     "metadata": {},
     "output_type": "display_data"
    },
    {
     "data": {
      "text/html": [],
      "text/plain": [
       "<IPython.core.display.HTML object>"
      ]
     },
     "metadata": {},
     "output_type": "display_data"
    },
    {
     "data": {
      "text/html": [],
      "text/plain": [
       "<IPython.core.display.HTML object>"
      ]
     },
     "metadata": {},
     "output_type": "display_data"
    },
    {
     "name": "stdout",
     "output_type": "stream",
     "text": [
      "Text:  date submission require document\n",
      "\n",
      "SVM prediction: job_close_date \n",
      "Probability: 0.7070563089989045\n",
      "\n",
      "Roberta prediction: howto_apply \n",
      "Probability: 0.84486455\n",
      "\u001b[1m\u001b[31m\n",
      "Mismatch\u001b[0m\n",
      "\u001b[32mLabel: job_close_date\u001b[0m\n",
      "----------------------------------------\n"
     ]
    },
    {
     "data": {
      "text/html": [],
      "text/plain": [
       "<IPython.core.display.HTML object>"
      ]
     },
     "metadata": {},
     "output_type": "display_data"
    },
    {
     "data": {
      "text/html": [],
      "text/plain": [
       "<IPython.core.display.HTML object>"
      ]
     },
     "metadata": {},
     "output_type": "display_data"
    },
    {
     "data": {
      "text/html": [],
      "text/plain": [
       "<IPython.core.display.HTML object>"
      ]
     },
     "metadata": {},
     "output_type": "display_data"
    },
    {
     "data": {
      "text/html": [],
      "text/plain": [
       "<IPython.core.display.HTML object>"
      ]
     },
     "metadata": {},
     "output_type": "display_data"
    },
    {
     "data": {
      "text/html": [],
      "text/plain": [
       "<IPython.core.display.HTML object>"
      ]
     },
     "metadata": {},
     "output_type": "display_data"
    },
    {
     "data": {
      "text/html": [],
      "text/plain": [
       "<IPython.core.display.HTML object>"
      ]
     },
     "metadata": {},
     "output_type": "display_data"
    },
    {
     "data": {
      "text/html": [],
      "text/plain": [
       "<IPython.core.display.HTML object>"
      ]
     },
     "metadata": {},
     "output_type": "display_data"
    },
    {
     "data": {
      "text/html": [],
      "text/plain": [
       "<IPython.core.display.HTML object>"
      ]
     },
     "metadata": {},
     "output_type": "display_data"
    },
    {
     "data": {
      "text/html": [],
      "text/plain": [
       "<IPython.core.display.HTML object>"
      ]
     },
     "metadata": {},
     "output_type": "display_data"
    },
    {
     "data": {
      "text/html": [],
      "text/plain": [
       "<IPython.core.display.HTML object>"
      ]
     },
     "metadata": {},
     "output_type": "display_data"
    },
    {
     "name": "stdout",
     "output_type": "stream",
     "text": [
      "Text:  status application\n",
      "\n",
      "SVM prediction: application_status \n",
      "Probability: 0.7912697144818865\n",
      "\n",
      "Roberta prediction: howto_apply \n",
      "Probability: 0.91328233\n",
      "\u001b[1m\u001b[31m\n",
      "Mismatch\u001b[0m\n",
      "\u001b[32mLabel: application_status\u001b[0m\n",
      "----------------------------------------\n"
     ]
    },
    {
     "data": {
      "text/html": [],
      "text/plain": [
       "<IPython.core.display.HTML object>"
      ]
     },
     "metadata": {},
     "output_type": "display_data"
    },
    {
     "data": {
      "text/html": [],
      "text/plain": [
       "<IPython.core.display.HTML object>"
      ]
     },
     "metadata": {},
     "output_type": "display_data"
    },
    {
     "data": {
      "text/html": [],
      "text/plain": [
       "<IPython.core.display.HTML object>"
      ]
     },
     "metadata": {},
     "output_type": "display_data"
    },
    {
     "name": "stdout",
     "output_type": "stream",
     "text": [
      "Text:  able time interview\n",
      "\n",
      "SVM prediction: late_for_interview \n",
      "Probability: 0.6240291681604133\n",
      "\n",
      "Roberta prediction: interview_reschedule \n",
      "Probability: 0.8472291\n",
      "\u001b[1m\u001b[31m\n",
      "Mismatch\u001b[0m\n",
      "\u001b[32mLabel: late_for_interview\u001b[0m\n",
      "----------------------------------------\n"
     ]
    },
    {
     "data": {
      "text/html": [],
      "text/plain": [
       "<IPython.core.display.HTML object>"
      ]
     },
     "metadata": {},
     "output_type": "display_data"
    },
    {
     "name": "stdout",
     "output_type": "stream",
     "text": [
      "Text:  experience match need role\n",
      "\n",
      "SVM prediction: work_experience \n",
      "Probability: 0.4925508924280532\n",
      "\n",
      "Roberta prediction: multiple_role \n",
      "Probability: 0.23997861\n",
      "\u001b[1m\u001b[31m\n",
      "Mismatch\u001b[0m\n",
      "\u001b[32mLabel: work_experience\u001b[0m\n",
      "----------------------------------------\n"
     ]
    },
    {
     "data": {
      "text/html": [],
      "text/plain": [
       "<IPython.core.display.HTML object>"
      ]
     },
     "metadata": {},
     "output_type": "display_data"
    },
    {
     "name": "stdout",
     "output_type": "stream",
     "text": [
      "Text:  reinstate application withdraw earlier\n",
      "\n",
      "SVM prediction: reinstate_application \n",
      "Probability: 0.6930584053869224\n",
      "\n",
      "Roberta prediction: howto_apply \n",
      "Probability: 0.36473137\n",
      "\u001b[1m\u001b[31m\n",
      "Mismatch\u001b[0m\n",
      "\u001b[32mLabel: reinstate_application\u001b[0m\n",
      "----------------------------------------\n"
     ]
    },
    {
     "data": {
      "text/html": [],
      "text/plain": [
       "<IPython.core.display.HTML object>"
      ]
     },
     "metadata": {},
     "output_type": "display_data"
    },
    {
     "data": {
      "text/html": [],
      "text/plain": [
       "<IPython.core.display.HTML object>"
      ]
     },
     "metadata": {},
     "output_type": "display_data"
    },
    {
     "data": {
      "text/html": [],
      "text/plain": [
       "<IPython.core.display.HTML object>"
      ]
     },
     "metadata": {},
     "output_type": "display_data"
    },
    {
     "data": {
      "text/html": [],
      "text/plain": [
       "<IPython.core.display.HTML object>"
      ]
     },
     "metadata": {},
     "output_type": "display_data"
    },
    {
     "name": "stdout",
     "output_type": "stream",
     "text": [
      "Text:  long assessment valid need assessment time\n",
      "\n",
      "SVM prediction: assessment_validity \n",
      "Probability: 0.5396625970257306\n",
      "\n",
      "Roberta prediction: assessment_timebox \n",
      "Probability: 0.6883633\n",
      "\u001b[1m\u001b[31m\n",
      "Mismatch\u001b[0m\n",
      "\u001b[32mLabel: assessment_validity\u001b[0m\n",
      "----------------------------------------\n"
     ]
    },
    {
     "data": {
      "text/html": [],
      "text/plain": [
       "<IPython.core.display.HTML object>"
      ]
     },
     "metadata": {},
     "output_type": "display_data"
    },
    {
     "data": {
      "text/html": [],
      "text/plain": [
       "<IPython.core.display.HTML object>"
      ]
     },
     "metadata": {},
     "output_type": "display_data"
    },
    {
     "name": "stdout",
     "output_type": "stream",
     "text": [
      "Text:  provide detail interview\n",
      "\n",
      "SVM prediction: feedback \n",
      "Probability: 0.6735533260406231\n",
      "\n",
      "Roberta prediction: interview_reschedule \n",
      "Probability: 0.33298102\n",
      "\u001b[1m\u001b[31m\n",
      "Mismatch\u001b[0m\n",
      "\u001b[32mLabel: feedback\u001b[0m\n",
      "----------------------------------------\n"
     ]
    },
    {
     "data": {
      "text/html": [],
      "text/plain": [
       "<IPython.core.display.HTML object>"
      ]
     },
     "metadata": {},
     "output_type": "display_data"
    },
    {
     "data": {
      "text/html": [],
      "text/plain": [
       "<IPython.core.display.HTML object>"
      ]
     },
     "metadata": {},
     "output_type": "display_data"
    },
    {
     "data": {
      "text/html": [],
      "text/plain": [
       "<IPython.core.display.HTML object>"
      ]
     },
     "metadata": {},
     "output_type": "display_data"
    },
    {
     "name": "stdout",
     "output_type": "stream",
     "text": [
      "Text:  good afternoon candidate recently apply job boot trainee pharmacy advisor wonder position fill complete assessment hear kind regard\n",
      "\n",
      "SVM prediction: application_status \n",
      "Probability: 0.6270943887428426\n",
      "\n",
      "Roberta prediction: assessment_link_problem \n",
      "Probability: 0.45864245\n",
      "\u001b[1m\u001b[31m\n",
      "Mismatch\u001b[0m\n",
      "\u001b[32mLabel: application_status\u001b[0m\n",
      "----------------------------------------\n"
     ]
    },
    {
     "data": {
      "text/html": [],
      "text/plain": [
       "<IPython.core.display.HTML object>"
      ]
     },
     "metadata": {},
     "output_type": "display_data"
    },
    {
     "data": {
      "text/html": [],
      "text/plain": [
       "<IPython.core.display.HTML object>"
      ]
     },
     "metadata": {},
     "output_type": "display_data"
    },
    {
     "data": {
      "text/html": [],
      "text/plain": [
       "<IPython.core.display.HTML object>"
      ]
     },
     "metadata": {},
     "output_type": "display_data"
    },
    {
     "data": {
      "text/html": [],
      "text/plain": [
       "<IPython.core.display.HTML object>"
      ]
     },
     "metadata": {},
     "output_type": "display_data"
    },
    {
     "name": "stdout",
     "output_type": "stream",
     "text": [
      "Text:  old need work boot\n",
      "\n",
      "SVM prediction: age_limit \n",
      "Probability: 0.6165578898178463\n",
      "\n",
      "Roberta prediction: special_needs_at_work \n",
      "Probability: 0.3153813\n",
      "\u001b[1m\u001b[31m\n",
      "Mismatch\u001b[0m\n",
      "\u001b[32mLabel: age_limit\u001b[0m\n",
      "----------------------------------------\n"
     ]
    },
    {
     "data": {
      "text/html": [],
      "text/plain": [
       "<IPython.core.display.HTML object>"
      ]
     },
     "metadata": {},
     "output_type": "display_data"
    },
    {
     "data": {
      "text/html": [],
      "text/plain": [
       "<IPython.core.display.HTML object>"
      ]
     },
     "metadata": {},
     "output_type": "display_data"
    },
    {
     "data": {
      "text/html": [],
      "text/plain": [
       "<IPython.core.display.HTML object>"
      ]
     },
     "metadata": {},
     "output_type": "display_data"
    },
    {
     "name": "stdout",
     "output_type": "stream",
     "text": [
      "Text:  resume application\n",
      "\n",
      "SVM prediction: reinstate_application \n",
      "Probability: 0.8405603287212952\n",
      "\n",
      "Roberta prediction: howto_apply \n",
      "Probability: 0.9384005\n",
      "\u001b[1m\u001b[31m\n",
      "Mismatch\u001b[0m\n",
      "\u001b[32mLabel: reinstate_application\u001b[0m\n",
      "----------------------------------------\n"
     ]
    },
    {
     "data": {
      "text/html": [],
      "text/plain": [
       "<IPython.core.display.HTML object>"
      ]
     },
     "metadata": {},
     "output_type": "display_data"
    },
    {
     "name": "stdout",
     "output_type": "stream",
     "text": [
      "Text:  basis disqualify interview\n",
      "\n",
      "SVM prediction: feedback \n",
      "Probability: 0.6851728388763988\n",
      "\n",
      "Roberta prediction: interview_reschedule \n",
      "Probability: 0.64610916\n",
      "\u001b[1m\u001b[31m\n",
      "Mismatch\u001b[0m\n",
      "\u001b[32mLabel: feedback\u001b[0m\n",
      "----------------------------------------\n"
     ]
    },
    {
     "data": {
      "text/html": [],
      "text/plain": [
       "<IPython.core.display.HTML object>"
      ]
     },
     "metadata": {},
     "output_type": "display_data"
    },
    {
     "name": "stdout",
     "output_type": "stream",
     "text": [
      "Text:  link assessment work help\n",
      "\n",
      "SVM prediction: assessment_link_problem \n",
      "Probability: 0.6187246039945402\n",
      "\n",
      "Roberta prediction: assessment_campatilibility \n",
      "Probability: 0.5094612\n",
      "\u001b[1m\u001b[31m\n",
      "Mismatch\u001b[0m\n",
      "\u001b[32mLabel: assessment_link_problem\u001b[0m\n",
      "----------------------------------------\n"
     ]
    },
    {
     "data": {
      "text/html": [],
      "text/plain": [
       "<IPython.core.display.HTML object>"
      ]
     },
     "metadata": {},
     "output_type": "display_data"
    },
    {
     "data": {
      "text/html": [],
      "text/plain": [
       "<IPython.core.display.HTML object>"
      ]
     },
     "metadata": {},
     "output_type": "display_data"
    },
    {
     "name": "stdout",
     "output_type": "stream",
     "text": [
      "Text:  long review process\n",
      "\n",
      "SVM prediction: application_status \n",
      "Probability: 0.6069816947624332\n",
      "\n",
      "Roberta prediction: assessment_link_problem \n",
      "Probability: 0.52605486\n",
      "\u001b[1m\u001b[31m\n",
      "Mismatch\u001b[0m\n",
      "\u001b[32mLabel: application_status\u001b[0m\n",
      "----------------------------------------\n"
     ]
    },
    {
     "data": {
      "text/html": [],
      "text/plain": [
       "<IPython.core.display.HTML object>"
      ]
     },
     "metadata": {},
     "output_type": "display_data"
    },
    {
     "data": {
      "text/html": [],
      "text/plain": [
       "<IPython.core.display.HTML object>"
      ]
     },
     "metadata": {},
     "output_type": "display_data"
    },
    {
     "data": {
      "text/html": [],
      "text/plain": [
       "<IPython.core.display.HTML object>"
      ]
     },
     "metadata": {},
     "output_type": "display_data"
    },
    {
     "name": "stdout",
     "output_type": "stream",
     "text": [
      "Text:  application check\n",
      "\n",
      "SVM prediction: application_status \n",
      "Probability: 0.7148273209636792\n",
      "\n",
      "Roberta prediction: assessment_link_problem \n",
      "Probability: 0.30416974\n",
      "\u001b[1m\u001b[31m\n",
      "Mismatch\u001b[0m\n",
      "\u001b[32mLabel: application_status\u001b[0m\n",
      "----------------------------------------\n"
     ]
    },
    {
     "data": {
      "text/html": [],
      "text/plain": [
       "<IPython.core.display.HTML object>"
      ]
     },
     "metadata": {},
     "output_type": "display_data"
    },
    {
     "data": {
      "text/html": [],
      "text/plain": [
       "<IPython.core.display.HTML object>"
      ]
     },
     "metadata": {},
     "output_type": "display_data"
    },
    {
     "data": {
      "text/html": [],
      "text/plain": [
       "<IPython.core.display.HTML object>"
      ]
     },
     "metadata": {},
     "output_type": "display_data"
    },
    {
     "data": {
      "text/html": [],
      "text/plain": [
       "<IPython.core.display.HTML object>"
      ]
     },
     "metadata": {},
     "output_type": "display_data"
    },
    {
     "data": {
      "text/html": [],
      "text/plain": [
       "<IPython.core.display.HTML object>"
      ]
     },
     "metadata": {},
     "output_type": "display_data"
    },
    {
     "data": {
      "text/html": [],
      "text/plain": [
       "<IPython.core.display.HTML object>"
      ]
     },
     "metadata": {},
     "output_type": "display_data"
    },
    {
     "data": {
      "text/html": [],
      "text/plain": [
       "<IPython.core.display.HTML object>"
      ]
     },
     "metadata": {},
     "output_type": "display_data"
    },
    {
     "data": {
      "text/html": [],
      "text/plain": [
       "<IPython.core.display.HTML object>"
      ]
     },
     "metadata": {},
     "output_type": "display_data"
    },
    {
     "data": {
      "text/html": [],
      "text/plain": [
       "<IPython.core.display.HTML object>"
      ]
     },
     "metadata": {},
     "output_type": "display_data"
    },
    {
     "name": "stdout",
     "output_type": "stream",
     "text": [
      "Text:  apply time instead application go reserve list boot different career opportunity apply opportunity learn job love apply role boot interview candidate apply role mean need information get reject interview apply role boot immediately wait know online assessment wait 12 month reapply kindly let know\n",
      "\n",
      "SVM prediction: multiple_role \n",
      "Probability: 0.48294894252243614\n",
      "\n",
      "Roberta prediction: assessment_link_problem \n",
      "Probability: 0.40093058\n",
      "\u001b[1m\u001b[31m\n",
      "Mismatch\u001b[0m\n",
      "\u001b[32mLabel: multiple_role\u001b[0m\n",
      "----------------------------------------\n"
     ]
    },
    {
     "data": {
      "text/html": [],
      "text/plain": [
       "<IPython.core.display.HTML object>"
      ]
     },
     "metadata": {},
     "output_type": "display_data"
    },
    {
     "name": "stdout",
     "output_type": "stream",
     "text": [
      "Text:  apply position time\n",
      "\n",
      "SVM prediction: multiple_role \n",
      "Probability: 0.6758533447062952\n",
      "\n",
      "Roberta prediction: assessment_timebox \n",
      "Probability: 0.73154753\n",
      "\u001b[1m\u001b[31m\n",
      "Mismatch\u001b[0m\n",
      "\u001b[32mLabel: multiple_role\u001b[0m\n",
      "----------------------------------------\n"
     ]
    },
    {
     "data": {
      "text/html": [],
      "text/plain": [
       "<IPython.core.display.HTML object>"
      ]
     },
     "metadata": {},
     "output_type": "display_data"
    },
    {
     "data": {
      "text/html": [],
      "text/plain": [
       "<IPython.core.display.HTML object>"
      ]
     },
     "metadata": {},
     "output_type": "display_data"
    },
    {
     "data": {
      "text/html": [],
      "text/plain": [
       "<IPython.core.display.HTML object>"
      ]
     },
     "metadata": {},
     "output_type": "display_data"
    },
    {
     "data": {
      "text/html": [],
      "text/plain": [
       "<IPython.core.display.HTML object>"
      ]
     },
     "metadata": {},
     "output_type": "display_data"
    },
    {
     "data": {
      "text/html": [],
      "text/plain": [
       "<IPython.core.display.HTML object>"
      ]
     },
     "metadata": {},
     "output_type": "display_data"
    },
    {
     "name": "stdout",
     "output_type": "stream",
     "text": [
      "Text:  time invest question assessment\n",
      "\n",
      "SVM prediction: assessment_timebox \n",
      "Probability: 0.5550852483177483\n",
      "\n",
      "Roberta prediction: assessment_link_problem \n",
      "Probability: 0.5561627\n",
      "\u001b[1m\u001b[31m\n",
      "Mismatch\u001b[0m\n",
      "\u001b[32mLabel: assessment_timebox\u001b[0m\n",
      "----------------------------------------\n"
     ]
    },
    {
     "data": {
      "text/html": [],
      "text/plain": [
       "<IPython.core.display.HTML object>"
      ]
     },
     "metadata": {},
     "output_type": "display_data"
    },
    {
     "data": {
      "text/html": [],
      "text/plain": [
       "<IPython.core.display.HTML object>"
      ]
     },
     "metadata": {},
     "output_type": "display_data"
    },
    {
     "data": {
      "text/html": [],
      "text/plain": [
       "<IPython.core.display.HTML object>"
      ]
     },
     "metadata": {},
     "output_type": "display_data"
    },
    {
     "data": {
      "text/html": [],
      "text/plain": [
       "<IPython.core.display.HTML object>"
      ]
     },
     "metadata": {},
     "output_type": "display_data"
    },
    {
     "data": {
      "text/html": [],
      "text/plain": [
       "<IPython.core.display.HTML object>"
      ]
     },
     "metadata": {},
     "output_type": "display_data"
    },
    {
     "name": "stdout",
     "output_type": "stream",
     "text": [
      "Text:  know application receive\n",
      "\n",
      "SVM prediction: application_status \n",
      "Probability: 0.7481522922024632\n",
      "\n",
      "Roberta prediction: howto_apply \n",
      "Probability: 0.91951174\n",
      "\u001b[1m\u001b[31m\n",
      "Mismatch\u001b[0m\n",
      "\u001b[32mLabel: application_status\u001b[0m\n",
      "----------------------------------------\n"
     ]
    },
    {
     "data": {
      "text/html": [],
      "text/plain": [
       "<IPython.core.display.HTML object>"
      ]
     },
     "metadata": {},
     "output_type": "display_data"
    },
    {
     "data": {
      "text/html": [],
      "text/plain": [
       "<IPython.core.display.HTML object>"
      ]
     },
     "metadata": {},
     "output_type": "display_data"
    },
    {
     "data": {
      "text/html": [],
      "text/plain": [
       "<IPython.core.display.HTML object>"
      ]
     },
     "metadata": {},
     "output_type": "display_data"
    },
    {
     "data": {
      "text/html": [],
      "text/plain": [
       "<IPython.core.display.HTML object>"
      ]
     },
     "metadata": {},
     "output_type": "display_data"
    },
    {
     "name": "stdout",
     "output_type": "stream",
     "text": [
      "Text:  hello hope email find submit online assessment evening wonder hear sorry know probably busy interested position 10 year retail experience company think fit job look forward hear kind regard\n",
      "\n",
      "SVM prediction: application_status \n",
      "Probability: 0.6411416856517765\n",
      "\n",
      "Roberta prediction: assessment_campatilibility \n",
      "Probability: 0.5888129\n",
      "\u001b[1m\u001b[31m\n",
      "Mismatch\u001b[0m\n",
      "\u001b[32mLabel: application_status\u001b[0m\n",
      "----------------------------------------\n"
     ]
    },
    {
     "data": {
      "text/html": [],
      "text/plain": [
       "<IPython.core.display.HTML object>"
      ]
     },
     "metadata": {},
     "output_type": "display_data"
    },
    {
     "name": "stdout",
     "output_type": "stream",
     "text": [
      "Text:  hear\n",
      "\n",
      "SVM prediction: interview_response_time \n",
      "Probability: 0.7086920627289571\n",
      "\n",
      "Roberta prediction: assessment_campatilibility \n",
      "Probability: 0.15683314\n",
      "\u001b[1m\u001b[31m\n",
      "Mismatch\u001b[0m\n",
      "\u001b[32mLabel: interview_response_time\u001b[0m\n",
      "----------------------------------------\n"
     ]
    },
    {
     "data": {
      "text/html": [],
      "text/plain": [
       "<IPython.core.display.HTML object>"
      ]
     },
     "metadata": {},
     "output_type": "display_data"
    },
    {
     "data": {
      "text/html": [],
      "text/plain": [
       "<IPython.core.display.HTML object>"
      ]
     },
     "metadata": {},
     "output_type": "display_data"
    },
    {
     "data": {
      "text/html": [],
      "text/plain": [
       "<IPython.core.display.HTML object>"
      ]
     },
     "metadata": {},
     "output_type": "display_data"
    },
    {
     "data": {
      "text/html": [],
      "text/plain": [
       "<IPython.core.display.HTML object>"
      ]
     },
     "metadata": {},
     "output_type": "display_data"
    },
    {
     "data": {
      "text/html": [],
      "text/plain": [
       "<IPython.core.display.HTML object>"
      ]
     },
     "metadata": {},
     "output_type": "display_data"
    },
    {
     "data": {
      "text/html": [],
      "text/plain": [
       "<IPython.core.display.HTML object>"
      ]
     },
     "metadata": {},
     "output_type": "display_data"
    },
    {
     "data": {
      "text/html": [],
      "text/plain": [
       "<IPython.core.display.HTML object>"
      ]
     },
     "metadata": {},
     "output_type": "display_data"
    },
    {
     "data": {
      "text/html": [],
      "text/plain": [
       "<IPython.core.display.HTML object>"
      ]
     },
     "metadata": {},
     "output_type": "display_data"
    },
    {
     "data": {
      "text/html": [],
      "text/plain": [
       "<IPython.core.display.HTML object>"
      ]
     },
     "metadata": {},
     "output_type": "display_data"
    },
    {
     "name": "stdout",
     "output_type": "stream",
     "text": [
      "Text:  reinstate application assessment exam prior 1 2019\n",
      "\n",
      "SVM prediction: reinstate_application \n",
      "Probability: 0.5607086858671477\n",
      "\n",
      "Roberta prediction: assessment_validity \n",
      "Probability: 0.2995733\n",
      "\u001b[1m\u001b[31m\n",
      "Mismatch\u001b[0m\n",
      "\u001b[32mLabel: reinstate_application\u001b[0m\n",
      "----------------------------------------\n"
     ]
    },
    {
     "data": {
      "text/html": [],
      "text/plain": [
       "<IPython.core.display.HTML object>"
      ]
     },
     "metadata": {},
     "output_type": "display_data"
    },
    {
     "data": {
      "text/html": [],
      "text/plain": [
       "<IPython.core.display.HTML object>"
      ]
     },
     "metadata": {},
     "output_type": "display_data"
    },
    {
     "data": {
      "text/html": [],
      "text/plain": [
       "<IPython.core.display.HTML object>"
      ]
     },
     "metadata": {},
     "output_type": "display_data"
    },
    {
     "data": {
      "text/html": [],
      "text/plain": [
       "<IPython.core.display.HTML object>"
      ]
     },
     "metadata": {},
     "output_type": "display_data"
    },
    {
     "data": {
      "text/html": [],
      "text/plain": [
       "<IPython.core.display.HTML object>"
      ]
     },
     "metadata": {},
     "output_type": "display_data"
    },
    {
     "data": {
      "text/html": [],
      "text/plain": [
       "<IPython.core.display.HTML object>"
      ]
     },
     "metadata": {},
     "output_type": "display_data"
    },
    {
     "name": "stdout",
     "output_type": "stream",
     "text": [
      "Text:  need complete assessment new job interested\n",
      "\n",
      "SVM prediction: assessment_validity \n",
      "Probability: 0.48907291558215243\n",
      "\n",
      "Roberta prediction: assessment_campatilibility \n",
      "Probability: 0.3244759\n",
      "\u001b[1m\u001b[31m\n",
      "Mismatch\u001b[0m\n",
      "\u001b[32mLabel: assessment_validity\u001b[0m\n",
      "----------------------------------------\n"
     ]
    },
    {
     "data": {
      "text/html": [],
      "text/plain": [
       "<IPython.core.display.HTML object>"
      ]
     },
     "metadata": {},
     "output_type": "display_data"
    },
    {
     "data": {
      "text/html": [],
      "text/plain": [
       "<IPython.core.display.HTML object>"
      ]
     },
     "metadata": {},
     "output_type": "display_data"
    },
    {
     "data": {
      "text/html": [],
      "text/plain": [
       "<IPython.core.display.HTML object>"
      ]
     },
     "metadata": {},
     "output_type": "display_data"
    },
    {
     "data": {
      "text/html": [],
      "text/plain": [
       "<IPython.core.display.HTML object>"
      ]
     },
     "metadata": {},
     "output_type": "display_data"
    },
    {
     "name": "stdout",
     "output_type": "stream",
     "text": [
      "Text:  interview week hear hear\n",
      "\n",
      "SVM prediction: interview_response_time \n",
      "Probability: 0.8153798260697669\n",
      "\n",
      "Roberta prediction: interview_reschedule \n",
      "Probability: 0.5765831\n",
      "\u001b[1m\u001b[31m\n",
      "Mismatch\u001b[0m\n",
      "\u001b[32mLabel: interview_response_time\u001b[0m\n",
      "----------------------------------------\n"
     ]
    },
    {
     "data": {
      "text/html": [],
      "text/plain": [
       "<IPython.core.display.HTML object>"
      ]
     },
     "metadata": {},
     "output_type": "display_data"
    },
    {
     "data": {
      "text/html": [],
      "text/plain": [
       "<IPython.core.display.HTML object>"
      ]
     },
     "metadata": {},
     "output_type": "display_data"
    },
    {
     "data": {
      "text/html": [],
      "text/plain": [
       "<IPython.core.display.HTML object>"
      ]
     },
     "metadata": {},
     "output_type": "display_data"
    },
    {
     "data": {
      "text/html": [],
      "text/plain": [
       "<IPython.core.display.HTML object>"
      ]
     },
     "metadata": {},
     "output_type": "display_data"
    },
    {
     "data": {
      "text/html": [],
      "text/plain": [
       "<IPython.core.display.HTML object>"
      ]
     },
     "metadata": {},
     "output_type": "display_data"
    },
    {
     "data": {
      "text/html": [],
      "text/plain": [
       "<IPython.core.display.HTML object>"
      ]
     },
     "metadata": {},
     "output_type": "display_data"
    },
    {
     "data": {
      "text/html": [],
      "text/plain": [
       "<IPython.core.display.HTML object>"
      ]
     },
     "metadata": {},
     "output_type": "display_data"
    },
    {
     "name": "stdout",
     "output_type": "stream",
     "text": [
      "Text:  account accessible email find\n",
      "\n",
      "SVM prediction: job_account_issue \n",
      "Probability: 0.6873225917491218\n",
      "\n",
      "Roberta prediction: assessment_campatilibility \n",
      "Probability: 0.3484167\n",
      "\u001b[1m\u001b[31m\n",
      "Mismatch\u001b[0m\n",
      "\u001b[32mLabel: job_account_issue\u001b[0m\n",
      "----------------------------------------\n"
     ]
    },
    {
     "data": {
      "text/html": [],
      "text/plain": [
       "<IPython.core.display.HTML object>"
      ]
     },
     "metadata": {},
     "output_type": "display_data"
    },
    {
     "data": {
      "text/html": [],
      "text/plain": [
       "<IPython.core.display.HTML object>"
      ]
     },
     "metadata": {},
     "output_type": "display_data"
    },
    {
     "data": {
      "text/html": [],
      "text/plain": [
       "<IPython.core.display.HTML object>"
      ]
     },
     "metadata": {},
     "output_type": "display_data"
    },
    {
     "data": {
      "text/html": [],
      "text/plain": [
       "<IPython.core.display.HTML object>"
      ]
     },
     "metadata": {},
     "output_type": "display_data"
    },
    {
     "data": {
      "text/html": [],
      "text/plain": [
       "<IPython.core.display.HTML object>"
      ]
     },
     "metadata": {},
     "output_type": "display_data"
    },
    {
     "data": {
      "text/html": [],
      "text/plain": [
       "<IPython.core.display.HTML object>"
      ]
     },
     "metadata": {},
     "output_type": "display_data"
    },
    {
     "data": {
      "text/html": [],
      "text/plain": [
       "<IPython.core.display.HTML object>"
      ]
     },
     "metadata": {},
     "output_type": "display_data"
    },
    {
     "data": {
      "text/html": [],
      "text/plain": [
       "<IPython.core.display.HTML object>"
      ]
     },
     "metadata": {},
     "output_type": "display_data"
    },
    {
     "name": "stdout",
     "output_type": "stream",
     "text": [
      "Text:  interview day ago hear shall suppose job\n",
      "\n",
      "SVM prediction: interview_response_time \n",
      "Probability: 0.6152484307661084\n",
      "\n",
      "Roberta prediction: job_close_date \n",
      "Probability: 0.9339866\n",
      "\u001b[1m\u001b[31m\n",
      "Mismatch\u001b[0m\n",
      "\u001b[32mLabel: interview_response_time\u001b[0m\n",
      "----------------------------------------\n"
     ]
    },
    {
     "data": {
      "text/html": [],
      "text/plain": [
       "<IPython.core.display.HTML object>"
      ]
     },
     "metadata": {},
     "output_type": "display_data"
    },
    {
     "data": {
      "text/html": [],
      "text/plain": [
       "<IPython.core.display.HTML object>"
      ]
     },
     "metadata": {},
     "output_type": "display_data"
    },
    {
     "data": {
      "text/html": [],
      "text/plain": [
       "<IPython.core.display.HTML object>"
      ]
     },
     "metadata": {},
     "output_type": "display_data"
    },
    {
     "name": "stdout",
     "output_type": "stream",
     "text": [
      "Text:  salary job\n",
      "\n",
      "SVM prediction: salary \n",
      "Probability: 0.9751129306740156\n",
      "\n",
      "Roberta prediction: howto_apply \n",
      "Probability: 0.32896122\n",
      "\u001b[1m\u001b[31m\n",
      "Mismatch\u001b[0m\n",
      "\u001b[32mLabel: salary\u001b[0m\n",
      "----------------------------------------\n"
     ]
    },
    {
     "data": {
      "text/html": [],
      "text/plain": [
       "<IPython.core.display.HTML object>"
      ]
     },
     "metadata": {},
     "output_type": "display_data"
    },
    {
     "data": {
      "text/html": [],
      "text/plain": [
       "<IPython.core.display.HTML object>"
      ]
     },
     "metadata": {},
     "output_type": "display_data"
    },
    {
     "name": "stdout",
     "output_type": "stream",
     "text": [
      "Text:  job apply\n",
      "\n",
      "SVM prediction: multiple_role \n",
      "Probability: 0.7305316446898749\n",
      "\n",
      "Roberta prediction: howto_apply \n",
      "Probability: 0.9764717\n",
      "\u001b[1m\u001b[31m\n",
      "Mismatch\u001b[0m\n",
      "\u001b[32mLabel: multiple_role\u001b[0m\n",
      "----------------------------------------\n"
     ]
    },
    {
     "data": {
      "text/html": [],
      "text/plain": [
       "<IPython.core.display.HTML object>"
      ]
     },
     "metadata": {},
     "output_type": "display_data"
    },
    {
     "name": "stdout",
     "output_type": "stream",
     "text": [
      "Text:  job alert particular salary range\n",
      "\n",
      "SVM prediction: job_alerts \n",
      "Probability: 0.7710699014699001\n",
      "\n",
      "Roberta prediction: salary \n",
      "Probability: 0.9458366\n",
      "\u001b[1m\u001b[31m\n",
      "Mismatch\u001b[0m\n",
      "\u001b[32mLabel: job_alerts\u001b[0m\n",
      "----------------------------------------\n"
     ]
    },
    {
     "data": {
      "text/html": [],
      "text/plain": [
       "<IPython.core.display.HTML object>"
      ]
     },
     "metadata": {},
     "output_type": "display_data"
    },
    {
     "name": "stdout",
     "output_type": "stream",
     "text": [
      "Text:  salary post\n",
      "\n",
      "SVM prediction: salary \n",
      "Probability: 0.9448952518078079\n",
      "\n",
      "Roberta prediction: assessment_link_problem \n",
      "Probability: 0.6390025\n",
      "\u001b[1m\u001b[31m\n",
      "Mismatch\u001b[0m\n",
      "\u001b[32mLabel: salary\u001b[0m\n",
      "----------------------------------------\n"
     ]
    },
    {
     "data": {
      "text/html": [],
      "text/plain": [
       "<IPython.core.display.HTML object>"
      ]
     },
     "metadata": {},
     "output_type": "display_data"
    },
    {
     "name": "stdout",
     "output_type": "stream",
     "text": [
      "Text:  complete online assessment time negative affect chance get job\n",
      "\n",
      "SVM prediction: assessment_timebox \n",
      "Probability: 0.5581277413132045\n",
      "\n",
      "Roberta prediction: assessment_campatilibility \n",
      "Probability: 0.8354414\n",
      "\u001b[1m\u001b[31m\n",
      "Mismatch\u001b[0m\n",
      "\u001b[32mLabel: assessment_timebox\u001b[0m\n",
      "----------------------------------------\n"
     ]
    },
    {
     "data": {
      "text/html": [],
      "text/plain": [
       "<IPython.core.display.HTML object>"
      ]
     },
     "metadata": {},
     "output_type": "display_data"
    },
    {
     "data": {
      "text/html": [],
      "text/plain": [
       "<IPython.core.display.HTML object>"
      ]
     },
     "metadata": {},
     "output_type": "display_data"
    },
    {
     "data": {
      "text/html": [],
      "text/plain": [
       "<IPython.core.display.HTML object>"
      ]
     },
     "metadata": {},
     "output_type": "display_data"
    },
    {
     "data": {
      "text/html": [],
      "text/plain": [
       "<IPython.core.display.HTML object>"
      ]
     },
     "metadata": {},
     "output_type": "display_data"
    },
    {
     "name": "stdout",
     "output_type": "stream",
     "text": [
      "Text:  interested job apply\n",
      "\n",
      "SVM prediction: multiple_role \n",
      "Probability: 0.6606680228475814\n",
      "\n",
      "Roberta prediction: howto_apply \n",
      "Probability: 0.9745814\n",
      "\u001b[1m\u001b[31m\n",
      "Mismatch\u001b[0m\n",
      "\u001b[32mLabel: multiple_role\u001b[0m\n",
      "----------------------------------------\n"
     ]
    },
    {
     "data": {
      "text/html": [],
      "text/plain": [
       "<IPython.core.display.HTML object>"
      ]
     },
     "metadata": {},
     "output_type": "display_data"
    },
    {
     "name": "stdout",
     "output_type": "stream",
     "text": [
      "Text:  deadline submit application\n",
      "\n",
      "SVM prediction: job_close_date \n",
      "Probability: 0.7823459489357344\n",
      "\n",
      "Roberta prediction: howto_apply \n",
      "Probability: 0.9717918\n",
      "\u001b[1m\u001b[31m\n",
      "Mismatch\u001b[0m\n",
      "\u001b[32mLabel: job_close_date\u001b[0m\n",
      "----------------------------------------\n"
     ]
    },
    {
     "data": {
      "text/html": [],
      "text/plain": [
       "<IPython.core.display.HTML object>"
      ]
     },
     "metadata": {},
     "output_type": "display_data"
    },
    {
     "data": {
      "text/html": [],
      "text/plain": [
       "<IPython.core.display.HTML object>"
      ]
     },
     "metadata": {},
     "output_type": "display_data"
    },
    {
     "data": {
      "text/html": [],
      "text/plain": [
       "<IPython.core.display.HTML object>"
      ]
     },
     "metadata": {},
     "output_type": "display_data"
    },
    {
     "data": {
      "text/html": [],
      "text/plain": [
       "<IPython.core.display.HTML object>"
      ]
     },
     "metadata": {},
     "output_type": "display_data"
    },
    {
     "data": {
      "text/html": [],
      "text/plain": [
       "<IPython.core.display.HTML object>"
      ]
     },
     "metadata": {},
     "output_type": "display_data"
    },
    {
     "data": {
      "text/html": [],
      "text/plain": [
       "<IPython.core.display.HTML object>"
      ]
     },
     "metadata": {},
     "output_type": "display_data"
    },
    {
     "data": {
      "text/html": [],
      "text/plain": [
       "<IPython.core.display.HTML object>"
      ]
     },
     "metadata": {},
     "output_type": "display_data"
    },
    {
     "data": {
      "text/html": [],
      "text/plain": [
       "<IPython.core.display.HTML object>"
      ]
     },
     "metadata": {},
     "output_type": "display_data"
    },
    {
     "data": {
      "text/html": [],
      "text/plain": [
       "<IPython.core.display.HTML object>"
      ]
     },
     "metadata": {},
     "output_type": "display_data"
    },
    {
     "data": {
      "text/html": [],
      "text/plain": [
       "<IPython.core.display.HTML object>"
      ]
     },
     "metadata": {},
     "output_type": "display_data"
    },
    {
     "data": {
      "text/html": [],
      "text/plain": [
       "<IPython.core.display.HTML object>"
      ]
     },
     "metadata": {},
     "output_type": "display_data"
    },
    {
     "name": "stdout",
     "output_type": "stream",
     "text": [
      "Text:  concern application\n",
      "\n",
      "SVM prediction: feedback \n",
      "Probability: 0.7503199454154815\n",
      "\n",
      "Roberta prediction: howto_apply \n",
      "Probability: 0.8765269\n",
      "\u001b[1m\u001b[31m\n",
      "Mismatch\u001b[0m\n",
      "\u001b[32mLabel: feedback\u001b[0m\n",
      "----------------------------------------\n"
     ]
    },
    {
     "data": {
      "text/html": [],
      "text/plain": [
       "<IPython.core.display.HTML object>"
      ]
     },
     "metadata": {},
     "output_type": "display_data"
    },
    {
     "name": "stdout",
     "output_type": "stream",
     "text": [
      "Text:  hello wonder specific person talk employment giltbrook store thank\n",
      "\n",
      "SVM prediction: howto_apply \n",
      "Probability: 0.615559848433848\n",
      "\n",
      "Roberta prediction: job_alerts \n",
      "Probability: 0.46268225\n",
      "\u001b[1m\u001b[31m\n",
      "Mismatch\u001b[0m\n",
      "\u001b[32mLabel: howto_apply\u001b[0m\n",
      "----------------------------------------\n"
     ]
    },
    {
     "data": {
      "text/html": [],
      "text/plain": [
       "<IPython.core.display.HTML object>"
      ]
     },
     "metadata": {},
     "output_type": "display_data"
    },
    {
     "data": {
      "text/html": [],
      "text/plain": [
       "<IPython.core.display.HTML object>"
      ]
     },
     "metadata": {},
     "output_type": "display_data"
    },
    {
     "data": {
      "text/html": [],
      "text/plain": [
       "<IPython.core.display.HTML object>"
      ]
     },
     "metadata": {},
     "output_type": "display_data"
    },
    {
     "data": {
      "text/html": [],
      "text/plain": [
       "<IPython.core.display.HTML object>"
      ]
     },
     "metadata": {},
     "output_type": "display_data"
    },
    {
     "data": {
      "text/html": [],
      "text/plain": [
       "<IPython.core.display.HTML object>"
      ]
     },
     "metadata": {},
     "output_type": "display_data"
    },
    {
     "data": {
      "text/html": [],
      "text/plain": [
       "<IPython.core.display.HTML object>"
      ]
     },
     "metadata": {},
     "output_type": "display_data"
    },
    {
     "name": "stdout",
     "output_type": "stream",
     "text": [
      "Text:  contact company apply multiple job\n",
      "\n",
      "SVM prediction: application_status \n",
      "Probability: 0.6945170316340534\n",
      "\n",
      "Roberta prediction: multiple_role \n",
      "Probability: 0.9294735\n",
      "\u001b[1m\u001b[31m\n",
      "Mismatch\u001b[0m\n",
      "\u001b[32mLabel: application_status\u001b[0m\n",
      "----------------------------------------\n"
     ]
    },
    {
     "data": {
      "text/html": [],
      "text/plain": [
       "<IPython.core.display.HTML object>"
      ]
     },
     "metadata": {},
     "output_type": "display_data"
    },
    {
     "data": {
      "text/html": [],
      "text/plain": [
       "<IPython.core.display.HTML object>"
      ]
     },
     "metadata": {},
     "output_type": "display_data"
    },
    {
     "data": {
      "text/html": [],
      "text/plain": [
       "<IPython.core.display.HTML object>"
      ]
     },
     "metadata": {},
     "output_type": "display_data"
    },
    {
     "data": {
      "text/html": [],
      "text/plain": [
       "<IPython.core.display.HTML object>"
      ]
     },
     "metadata": {},
     "output_type": "display_data"
    },
    {
     "name": "stdout",
     "output_type": "stream",
     "text": [
      "Text:  reinstate application\n",
      "\n",
      "SVM prediction: reinstate_application \n",
      "Probability: 0.8847411666096305\n",
      "\n",
      "Roberta prediction: howto_apply \n",
      "Probability: 0.28227317\n",
      "\u001b[1m\u001b[31m\n",
      "Mismatch\u001b[0m\n",
      "\u001b[32mLabel: reinstate_application\u001b[0m\n",
      "----------------------------------------\n"
     ]
    },
    {
     "data": {
      "text/html": [],
      "text/plain": [
       "<IPython.core.display.HTML object>"
      ]
     },
     "metadata": {},
     "output_type": "display_data"
    },
    {
     "data": {
      "text/html": [],
      "text/plain": [
       "<IPython.core.display.HTML object>"
      ]
     },
     "metadata": {},
     "output_type": "display_data"
    },
    {
     "name": "stdout",
     "output_type": "stream",
     "text": [
      "Text:  complete online assessment week ago need apply job\n",
      "\n",
      "SVM prediction: assessment_validity \n",
      "Probability: 0.48207706640605547\n",
      "\n",
      "Roberta prediction: job_close_date \n",
      "Probability: 0.538608\n",
      "\u001b[1m\u001b[31m\n",
      "Mismatch\u001b[0m\n",
      "\u001b[32mLabel: assessment_validity\u001b[0m\n",
      "----------------------------------------\n"
     ]
    },
    {
     "data": {
      "text/html": [],
      "text/plain": [
       "<IPython.core.display.HTML object>"
      ]
     },
     "metadata": {},
     "output_type": "display_data"
    },
    {
     "name": "stdout",
     "output_type": "stream",
     "text": [
      "Text:  complete job application ask cv like share work experience history\n",
      "\n",
      "SVM prediction: cv_past_experience \n",
      "Probability: 0.5855944658366136\n",
      "\n",
      "Roberta prediction: howto_apply \n",
      "Probability: 0.55210924\n",
      "\u001b[1m\u001b[31m\n",
      "Mismatch\u001b[0m\n",
      "\u001b[32mLabel: cv_past_experience\u001b[0m\n",
      "----------------------------------------\n"
     ]
    },
    {
     "data": {
      "text/html": [],
      "text/plain": [
       "<IPython.core.display.HTML object>"
      ]
     },
     "metadata": {},
     "output_type": "display_data"
    },
    {
     "data": {
      "text/html": [],
      "text/plain": [
       "<IPython.core.display.HTML object>"
      ]
     },
     "metadata": {},
     "output_type": "display_data"
    },
    {
     "name": "stdout",
     "output_type": "stream",
     "text": [
      "Text:  job application accept reject\n",
      "\n",
      "SVM prediction: application_status \n",
      "Probability: 0.7014084264721427\n",
      "\n",
      "Roberta prediction: assessment_link_problem \n",
      "Probability: 0.40189755\n",
      "\u001b[1m\u001b[31m\n",
      "Mismatch\u001b[0m\n",
      "\u001b[32mLabel: application_status\u001b[0m\n",
      "----------------------------------------\n"
     ]
    },
    {
     "data": {
      "text/html": [],
      "text/plain": [
       "<IPython.core.display.HTML object>"
      ]
     },
     "metadata": {},
     "output_type": "display_data"
    },
    {
     "data": {
      "text/html": [],
      "text/plain": [
       "<IPython.core.display.HTML object>"
      ]
     },
     "metadata": {},
     "output_type": "display_data"
    },
    {
     "data": {
      "text/html": [],
      "text/plain": [
       "<IPython.core.display.HTML object>"
      ]
     },
     "metadata": {},
     "output_type": "display_data"
    },
    {
     "data": {
      "text/html": [],
      "text/plain": [
       "<IPython.core.display.HTML object>"
      ]
     },
     "metadata": {},
     "output_type": "display_data"
    },
    {
     "name": "stdout",
     "output_type": "stream",
     "text": [
      "Text:  long complete assessment\n",
      "\n",
      "SVM prediction: assessment_timebox \n",
      "Probability: 0.6399378530577048\n",
      "\n",
      "Roberta prediction: assessment_campatilibility \n",
      "Probability: 0.46111405\n",
      "\u001b[1m\u001b[31m\n",
      "Mismatch\u001b[0m\n",
      "\u001b[32mLabel: assessment_timebox\u001b[0m\n",
      "----------------------------------------\n"
     ]
    },
    {
     "data": {
      "text/html": [],
      "text/plain": [
       "<IPython.core.display.HTML object>"
      ]
     },
     "metadata": {},
     "output_type": "display_data"
    },
    {
     "data": {
      "text/html": [],
      "text/plain": [
       "<IPython.core.display.HTML object>"
      ]
     },
     "metadata": {},
     "output_type": "display_data"
    },
    {
     "data": {
      "text/html": [],
      "text/plain": [
       "<IPython.core.display.HTML object>"
      ]
     },
     "metadata": {},
     "output_type": "display_data"
    },
    {
     "data": {
      "text/html": [],
      "text/plain": [
       "<IPython.core.display.HTML object>"
      ]
     },
     "metadata": {},
     "output_type": "display_data"
    },
    {
     "data": {
      "text/html": [],
      "text/plain": [
       "<IPython.core.display.HTML object>"
      ]
     },
     "metadata": {},
     "output_type": "display_data"
    },
    {
     "data": {
      "text/html": [],
      "text/plain": [
       "<IPython.core.display.HTML object>"
      ]
     },
     "metadata": {},
     "output_type": "display_data"
    },
    {
     "name": "stdout",
     "output_type": "stream",
     "text": [
      "Text:  open assessment link\n",
      "\n",
      "SVM prediction: assessment_campatilibility \n",
      "Probability: 0.7138229027244801\n",
      "\n",
      "Roberta prediction: assessment_link_problem \n",
      "Probability: 0.8782721\n",
      "\u001b[1m\u001b[31m\n",
      "Mismatch\u001b[0m\n",
      "\u001b[32mLabel: assessment_campatilibility\u001b[0m\n",
      "----------------------------------------\n"
     ]
    },
    {
     "data": {
      "text/html": [],
      "text/plain": [
       "<IPython.core.display.HTML object>"
      ]
     },
     "metadata": {},
     "output_type": "display_data"
    },
    {
     "data": {
      "text/html": [],
      "text/plain": [
       "<IPython.core.display.HTML object>"
      ]
     },
     "metadata": {},
     "output_type": "display_data"
    },
    {
     "data": {
      "text/html": [],
      "text/plain": [
       "<IPython.core.display.HTML object>"
      ]
     },
     "metadata": {},
     "output_type": "display_data"
    },
    {
     "data": {
      "text/html": [],
      "text/plain": [
       "<IPython.core.display.HTML object>"
      ]
     },
     "metadata": {},
     "output_type": "display_data"
    },
    {
     "data": {
      "text/html": [],
      "text/plain": [
       "<IPython.core.display.HTML object>"
      ]
     },
     "metadata": {},
     "output_type": "display_data"
    },
    {
     "data": {
      "text/html": [],
      "text/plain": [
       "<IPython.core.display.HTML object>"
      ]
     },
     "metadata": {},
     "output_type": "display_data"
    },
    {
     "name": "stdout",
     "output_type": "stream",
     "text": [
      "Text:  link unavailable area send update assessment link\n",
      "\n",
      "SVM prediction: assessment_link_problem \n",
      "Probability: 0.631007867109967\n",
      "\n",
      "Roberta prediction: assessment_campatilibility \n",
      "Probability: 0.56584626\n",
      "\u001b[1m\u001b[31m\n",
      "Mismatch\u001b[0m\n",
      "\u001b[32mLabel: assessment_link_problem\u001b[0m\n",
      "----------------------------------------\n"
     ]
    },
    {
     "data": {
      "text/html": [],
      "text/plain": [
       "<IPython.core.display.HTML object>"
      ]
     },
     "metadata": {},
     "output_type": "display_data"
    },
    {
     "data": {
      "text/html": [],
      "text/plain": [
       "<IPython.core.display.HTML object>"
      ]
     },
     "metadata": {},
     "output_type": "display_data"
    },
    {
     "data": {
      "text/html": [],
      "text/plain": [
       "<IPython.core.display.HTML object>"
      ]
     },
     "metadata": {},
     "output_type": "display_data"
    },
    {
     "name": "stdout",
     "output_type": "stream",
     "text": [
      "Text:  accident late interview kindly set interview later day\n",
      "\n",
      "SVM prediction: late_for_interview \n",
      "Probability: 0.6989870731290331\n",
      "\n",
      "Roberta prediction: interview_reschedule \n",
      "Probability: 0.79965353\n",
      "\u001b[1m\u001b[31m\n",
      "Mismatch\u001b[0m\n",
      "\u001b[32mLabel: late_for_interview\u001b[0m\n",
      "----------------------------------------\n"
     ]
    },
    {
     "data": {
      "text/html": [],
      "text/plain": [
       "<IPython.core.display.HTML object>"
      ]
     },
     "metadata": {},
     "output_type": "display_data"
    },
    {
     "data": {
      "text/html": [],
      "text/plain": [
       "<IPython.core.display.HTML object>"
      ]
     },
     "metadata": {},
     "output_type": "display_data"
    },
    {
     "data": {
      "text/html": [],
      "text/plain": [
       "<IPython.core.display.HTML object>"
      ]
     },
     "metadata": {},
     "output_type": "display_data"
    },
    {
     "data": {
      "text/html": [],
      "text/plain": [
       "<IPython.core.display.HTML object>"
      ]
     },
     "metadata": {},
     "output_type": "display_data"
    },
    {
     "data": {
      "text/html": [],
      "text/plain": [
       "<IPython.core.display.HTML object>"
      ]
     },
     "metadata": {},
     "output_type": "display_data"
    },
    {
     "name": "stdout",
     "output_type": "stream",
     "text": [
      "Text:  deadline job application\n",
      "\n",
      "SVM prediction: job_close_date \n",
      "Probability: 0.7886464673725897\n",
      "\n",
      "Roberta prediction: howto_apply \n",
      "Probability: 0.9720177\n",
      "\u001b[1m\u001b[31m\n",
      "Mismatch\u001b[0m\n",
      "\u001b[32mLabel: job_close_date\u001b[0m\n",
      "----------------------------------------\n"
     ]
    },
    {
     "data": {
      "text/html": [],
      "text/plain": [
       "<IPython.core.display.HTML object>"
      ]
     },
     "metadata": {},
     "output_type": "display_data"
    },
    {
     "data": {
      "text/html": [],
      "text/plain": [
       "<IPython.core.display.HTML object>"
      ]
     },
     "metadata": {},
     "output_type": "display_data"
    },
    {
     "data": {
      "text/html": [],
      "text/plain": [
       "<IPython.core.display.HTML object>"
      ]
     },
     "metadata": {},
     "output_type": "display_data"
    },
    {
     "data": {
      "text/html": [],
      "text/plain": [
       "<IPython.core.display.HTML object>"
      ]
     },
     "metadata": {},
     "output_type": "display_data"
    },
    {
     "data": {
      "text/html": [],
      "text/plain": [
       "<IPython.core.display.HTML object>"
      ]
     },
     "metadata": {},
     "output_type": "display_data"
    },
    {
     "data": {
      "text/html": [],
      "text/plain": [
       "<IPython.core.display.HTML object>"
      ]
     },
     "metadata": {},
     "output_type": "display_data"
    },
    {
     "data": {
      "text/html": [],
      "text/plain": [
       "<IPython.core.display.HTML object>"
      ]
     },
     "metadata": {},
     "output_type": "display_data"
    },
    {
     "data": {
      "text/html": [],
      "text/plain": [
       "<IPython.core.display.HTML object>"
      ]
     },
     "metadata": {},
     "output_type": "display_data"
    },
    {
     "data": {
      "text/html": [],
      "text/plain": [
       "<IPython.core.display.HTML object>"
      ]
     },
     "metadata": {},
     "output_type": "display_data"
    },
    {
     "data": {
      "text/html": [],
      "text/plain": [
       "<IPython.core.display.HTML object>"
      ]
     },
     "metadata": {},
     "output_type": "display_data"
    },
    {
     "name": "stdout",
     "output_type": "stream",
     "text": [
      "Text:  time complete assessment\n",
      "\n",
      "SVM prediction: assessment_timebox \n",
      "Probability: 0.7300781509053723\n",
      "\n",
      "Roberta prediction: assessment_campatilibility \n",
      "Probability: 0.4562309\n",
      "\u001b[1m\u001b[31m\n",
      "Mismatch\u001b[0m\n",
      "\u001b[32mLabel: assessment_timebox\u001b[0m\n",
      "----------------------------------------\n"
     ]
    },
    {
     "data": {
      "text/html": [],
      "text/plain": [
       "<IPython.core.display.HTML object>"
      ]
     },
     "metadata": {},
     "output_type": "display_data"
    },
    {
     "data": {
      "text/html": [],
      "text/plain": [
       "<IPython.core.display.HTML object>"
      ]
     },
     "metadata": {},
     "output_type": "display_data"
    },
    {
     "name": "stdout",
     "output_type": "stream",
     "text": [
      "Text:  wonder help apply job day ago come job interested ok apply job\n",
      "\n",
      "SVM prediction: multiple_role \n",
      "Probability: 0.5372470052638881\n",
      "\n",
      "Roberta prediction: job_close_date \n",
      "Probability: 0.97036135\n",
      "\u001b[1m\u001b[31m\n",
      "Mismatch\u001b[0m\n",
      "\u001b[32mLabel: multiple_role\u001b[0m\n",
      "----------------------------------------\n"
     ]
    },
    {
     "data": {
      "text/html": [],
      "text/plain": [
       "<IPython.core.display.HTML object>"
      ]
     },
     "metadata": {},
     "output_type": "display_data"
    },
    {
     "data": {
      "text/html": [],
      "text/plain": [
       "<IPython.core.display.HTML object>"
      ]
     },
     "metadata": {},
     "output_type": "display_data"
    },
    {
     "name": "stdout",
     "output_type": "stream",
     "text": [
      "Text:  good afternoon apply time position gillingham store enquire store encourage apply complete online assessment status boot account say email notification send yesterday receive confirm notification kind regard\n",
      "\n",
      "SVM prediction: feedback \n",
      "Probability: 0.6799701606213364\n",
      "\n",
      "Roberta prediction: job_account_issue \n",
      "Probability: 0.69759595\n",
      "\u001b[1m\u001b[31m\n",
      "Mismatch\u001b[0m\n",
      "\u001b[32mLabel: feedback\u001b[0m\n",
      "----------------------------------------\n"
     ]
    },
    {
     "data": {
      "text/html": [],
      "text/plain": [
       "<IPython.core.display.HTML object>"
      ]
     },
     "metadata": {},
     "output_type": "display_data"
    },
    {
     "data": {
      "text/html": [],
      "text/plain": [
       "<IPython.core.display.HTML object>"
      ]
     },
     "metadata": {},
     "output_type": "display_data"
    },
    {
     "data": {
      "text/html": [],
      "text/plain": [
       "<IPython.core.display.HTML object>"
      ]
     },
     "metadata": {},
     "output_type": "display_data"
    },
    {
     "data": {
      "text/html": [],
      "text/plain": [
       "<IPython.core.display.HTML object>"
      ]
     },
     "metadata": {},
     "output_type": "display_data"
    },
    {
     "name": "stdout",
     "output_type": "stream",
     "text": [
      "Text:  interested job apply\n",
      "\n",
      "SVM prediction: multiple_role \n",
      "Probability: 0.6606680228475814\n",
      "\n",
      "Roberta prediction: howto_apply \n",
      "Probability: 0.9745814\n",
      "\u001b[1m\u001b[31m\n",
      "Mismatch\u001b[0m\n",
      "\u001b[32mLabel: multiple_role\u001b[0m\n",
      "----------------------------------------\n"
     ]
    },
    {
     "data": {
      "text/html": [],
      "text/plain": [
       "<IPython.core.display.HTML object>"
      ]
     },
     "metadata": {},
     "output_type": "display_data"
    },
    {
     "name": "stdout",
     "output_type": "stream",
     "text": [
      "Text:  application consider long\n",
      "\n",
      "SVM prediction: application_status \n",
      "Probability: 0.6530168661312958\n",
      "\n",
      "Roberta prediction: age_limit \n",
      "Probability: 0.31565624\n",
      "\u001b[1m\u001b[31m\n",
      "Mismatch\u001b[0m\n",
      "\u001b[32mLabel: application_status\u001b[0m\n",
      "----------------------------------------\n"
     ]
    },
    {
     "data": {
      "text/html": [],
      "text/plain": [
       "<IPython.core.display.HTML object>"
      ]
     },
     "metadata": {},
     "output_type": "display_data"
    },
    {
     "data": {
      "text/html": [],
      "text/plain": [
       "<IPython.core.display.HTML object>"
      ]
     },
     "metadata": {},
     "output_type": "display_data"
    },
    {
     "data": {
      "text/html": [],
      "text/plain": [
       "<IPython.core.display.HTML object>"
      ]
     },
     "metadata": {},
     "output_type": "display_data"
    },
    {
     "data": {
      "text/html": [],
      "text/plain": [
       "<IPython.core.display.HTML object>"
      ]
     },
     "metadata": {},
     "output_type": "display_data"
    },
    {
     "data": {
      "text/html": [],
      "text/plain": [
       "<IPython.core.display.HTML object>"
      ]
     },
     "metadata": {},
     "output_type": "display_data"
    },
    {
     "data": {
      "text/html": [],
      "text/plain": [
       "<IPython.core.display.HTML object>"
      ]
     },
     "metadata": {},
     "output_type": "display_data"
    },
    {
     "data": {
      "text/html": [],
      "text/plain": [
       "<IPython.core.display.HTML object>"
      ]
     },
     "metadata": {},
     "output_type": "display_data"
    },
    {
     "name": "stdout",
     "output_type": "stream",
     "text": [
      "Text:  good evening hope help girlfriend french national plan relocate live permanent basis currently work beauty seller look submit cv boot potential job opening apply appreciate help able provide regard\n",
      "\n",
      "SVM prediction: job_alerts \n",
      "Probability: 0.6287428996620156\n",
      "\n",
      "Roberta prediction: howto_apply \n",
      "Probability: 0.61537755\n",
      "\u001b[1m\u001b[31m\n",
      "Mismatch\u001b[0m\n",
      "\u001b[32mLabel: job_alerts\u001b[0m\n",
      "----------------------------------------\n"
     ]
    },
    {
     "data": {
      "text/html": [],
      "text/plain": [
       "<IPython.core.display.HTML object>"
      ]
     },
     "metadata": {},
     "output_type": "display_data"
    },
    {
     "name": "stdout",
     "output_type": "stream",
     "text": [
      "Text:  job close let know\n",
      "\n",
      "SVM prediction: job_close_date \n",
      "Probability: 0.7043372729481429\n",
      "\n",
      "Roberta prediction: application_status \n",
      "Probability: 0.3052488\n",
      "\u001b[1m\u001b[31m\n",
      "Mismatch\u001b[0m\n",
      "\u001b[32mLabel: job_close_date\u001b[0m\n",
      "----------------------------------------\n"
     ]
    },
    {
     "data": {
      "text/html": [],
      "text/plain": [
       "<IPython.core.display.HTML object>"
      ]
     },
     "metadata": {},
     "output_type": "display_data"
    },
    {
     "data": {
      "text/html": [],
      "text/plain": [
       "<IPython.core.display.HTML object>"
      ]
     },
     "metadata": {},
     "output_type": "display_data"
    },
    {
     "data": {
      "text/html": [],
      "text/plain": [
       "<IPython.core.display.HTML object>"
      ]
     },
     "metadata": {},
     "output_type": "display_data"
    },
    {
     "name": "stdout",
     "output_type": "stream",
     "text": [
      "Text:  weakness interview\n",
      "\n",
      "SVM prediction: feedback \n",
      "Probability: 0.7693077123872756\n",
      "\n",
      "Roberta prediction: interview_reschedule \n",
      "Probability: 0.64348644\n",
      "\u001b[1m\u001b[31m\n",
      "Mismatch\u001b[0m\n",
      "\u001b[32mLabel: feedback\u001b[0m\n",
      "----------------------------------------\n"
     ]
    },
    {
     "data": {
      "text/html": [],
      "text/plain": [
       "<IPython.core.display.HTML object>"
      ]
     },
     "metadata": {},
     "output_type": "display_data"
    },
    {
     "name": "stdout",
     "output_type": "stream",
     "text": [
      "Text:  offer job\n",
      "\n",
      "SVM prediction: salary \n",
      "Probability: 0.7515781838350752\n",
      "\n",
      "Roberta prediction: howto_apply \n",
      "Probability: 0.3773832\n",
      "\u001b[1m\u001b[31m\n",
      "Mismatch\u001b[0m\n",
      "\u001b[32mLabel: salary\u001b[0m\n",
      "----------------------------------------\n"
     ]
    },
    {
     "data": {
      "text/html": [],
      "text/plain": [
       "<IPython.core.display.HTML object>"
      ]
     },
     "metadata": {},
     "output_type": "display_data"
    },
    {
     "data": {
      "text/html": [],
      "text/plain": [
       "<IPython.core.display.HTML object>"
      ]
     },
     "metadata": {},
     "output_type": "display_data"
    },
    {
     "data": {
      "text/html": [],
      "text/plain": [
       "<IPython.core.display.HTML object>"
      ]
     },
     "metadata": {},
     "output_type": "display_data"
    },
    {
     "data": {
      "text/html": [],
      "text/plain": [
       "<IPython.core.display.HTML object>"
      ]
     },
     "metadata": {},
     "output_type": "display_data"
    },
    {
     "name": "stdout",
     "output_type": "stream",
     "text": [
      "Text:  hour complete online assessment\n",
      "\n",
      "SVM prediction: assessment_timebox \n",
      "Probability: 0.6674807537306618\n",
      "\n",
      "Roberta prediction: assessment_campatilibility \n",
      "Probability: 0.84588134\n",
      "\u001b[1m\u001b[31m\n",
      "Mismatch\u001b[0m\n",
      "\u001b[32mLabel: assessment_timebox\u001b[0m\n",
      "----------------------------------------\n"
     ]
    },
    {
     "data": {
      "text/html": [],
      "text/plain": [
       "<IPython.core.display.HTML object>"
      ]
     },
     "metadata": {},
     "output_type": "display_data"
    },
    {
     "data": {
      "text/html": [],
      "text/plain": [
       "<IPython.core.display.HTML object>"
      ]
     },
     "metadata": {},
     "output_type": "display_data"
    },
    {
     "name": "stdout",
     "output_type": "stream",
     "text": [
      "Text:  eligible role apply\n",
      "\n",
      "SVM prediction: multiple_role \n",
      "Probability: 0.6967185909316128\n",
      "\n",
      "Roberta prediction: howto_apply \n",
      "Probability: 0.97335285\n",
      "\u001b[1m\u001b[31m\n",
      "Mismatch\u001b[0m\n",
      "\u001b[32mLabel: multiple_role\u001b[0m\n",
      "----------------------------------------\n"
     ]
    },
    {
     "data": {
      "text/html": [],
      "text/plain": [
       "<IPython.core.display.HTML object>"
      ]
     },
     "metadata": {},
     "output_type": "display_data"
    },
    {
     "name": "stdout",
     "output_type": "stream",
     "text": [
      "Text:  online link apply\n",
      "\n",
      "SVM prediction: howto_apply \n",
      "Probability: 0.7157502458830443\n",
      "\n",
      "Roberta prediction: assessment_link_problem \n",
      "Probability: 0.61055124\n",
      "\u001b[1m\u001b[31m\n",
      "Mismatch\u001b[0m\n",
      "\u001b[32mLabel: howto_apply\u001b[0m\n",
      "----------------------------------------\n"
     ]
    },
    {
     "data": {
      "text/html": [],
      "text/plain": [
       "<IPython.core.display.HTML object>"
      ]
     },
     "metadata": {},
     "output_type": "display_data"
    },
    {
     "name": "stdout",
     "output_type": "stream",
     "text": [
      "Text:  salary range accord qualification\n",
      "\n",
      "SVM prediction: salary \n",
      "Probability: 0.7642168655923622\n",
      "\n",
      "Roberta prediction: age_limit \n",
      "Probability: 0.85307384\n",
      "\u001b[1m\u001b[31m\n",
      "Mismatch\u001b[0m\n",
      "\u001b[32mLabel: salary\u001b[0m\n",
      "----------------------------------------\n"
     ]
    },
    {
     "data": {
      "text/html": [],
      "text/plain": [
       "<IPython.core.display.HTML object>"
      ]
     },
     "metadata": {},
     "output_type": "display_data"
    },
    {
     "data": {
      "text/html": [],
      "text/plain": [
       "<IPython.core.display.HTML object>"
      ]
     },
     "metadata": {},
     "output_type": "display_data"
    },
    {
     "name": "stdout",
     "output_type": "stream",
     "text": [
      "Text:  dear hope complete decision make exercise let know mind let know inthis process look forward hear thank\n",
      "\n",
      "SVM prediction: application_status \n",
      "Probability: 0.6385214695279017\n",
      "\n",
      "Roberta prediction: assessment_campatilibility \n",
      "Probability: 0.25149488\n",
      "\u001b[1m\u001b[31m\n",
      "Mismatch\u001b[0m\n",
      "\u001b[32mLabel: application_status\u001b[0m\n",
      "----------------------------------------\n"
     ]
    },
    {
     "data": {
      "text/html": [],
      "text/plain": [
       "<IPython.core.display.HTML object>"
      ]
     },
     "metadata": {},
     "output_type": "display_data"
    },
    {
     "data": {
      "text/html": [],
      "text/plain": [
       "<IPython.core.display.HTML object>"
      ]
     },
     "metadata": {},
     "output_type": "display_data"
    },
    {
     "name": "stdout",
     "output_type": "stream",
     "text": [
      "Text:  qualified role apply\n",
      "\n",
      "SVM prediction: multiple_role \n",
      "Probability: 0.6665004547434867\n",
      "\n",
      "Roberta prediction: howto_apply \n",
      "Probability: 0.9726605\n",
      "\u001b[1m\u001b[31m\n",
      "Mismatch\u001b[0m\n",
      "\u001b[32mLabel: multiple_role\u001b[0m\n",
      "----------------------------------------\n"
     ]
    },
    {
     "data": {
      "text/html": [],
      "text/plain": [
       "<IPython.core.display.HTML object>"
      ]
     },
     "metadata": {},
     "output_type": "display_data"
    },
    {
     "data": {
      "text/html": [],
      "text/plain": [
       "<IPython.core.display.HTML object>"
      ]
     },
     "metadata": {},
     "output_type": "display_data"
    },
    {
     "data": {
      "text/html": [],
      "text/plain": [
       "<IPython.core.display.HTML object>"
      ]
     },
     "metadata": {},
     "output_type": "display_data"
    },
    {
     "name": "stdout",
     "output_type": "stream",
     "text": [
      "Text:  deadline job application\n",
      "\n",
      "SVM prediction: job_close_date \n",
      "Probability: 0.7886464673725897\n",
      "\n",
      "Roberta prediction: howto_apply \n",
      "Probability: 0.9720177\n",
      "\u001b[1m\u001b[31m\n",
      "Mismatch\u001b[0m\n",
      "\u001b[32mLabel: job_close_date\u001b[0m\n",
      "----------------------------------------\n"
     ]
    },
    {
     "data": {
      "text/html": [],
      "text/plain": [
       "<IPython.core.display.HTML object>"
      ]
     },
     "metadata": {},
     "output_type": "display_data"
    },
    {
     "name": "stdout",
     "output_type": "stream",
     "text": [
      "Text:  submission time application vacancy\n",
      "\n",
      "SVM prediction: job_close_date \n",
      "Probability: 0.7347961344006465\n",
      "\n",
      "Roberta prediction: job_alerts \n",
      "Probability: 0.8544048\n",
      "\u001b[1m\u001b[31m\n",
      "Mismatch\u001b[0m\n",
      "\u001b[32mLabel: job_close_date\u001b[0m\n",
      "----------------------------------------\n"
     ]
    },
    {
     "data": {
      "text/html": [],
      "text/plain": [
       "<IPython.core.display.HTML object>"
      ]
     },
     "metadata": {},
     "output_type": "display_data"
    },
    {
     "data": {
      "text/html": [],
      "text/plain": [
       "<IPython.core.display.HTML object>"
      ]
     },
     "metadata": {},
     "output_type": "display_data"
    },
    {
     "name": "stdout",
     "output_type": "stream",
     "text": [
      "Text:  salary benefit get job\n",
      "\n",
      "SVM prediction: salary \n",
      "Probability: 0.8457244898554193\n",
      "\n",
      "Roberta prediction: disability \n",
      "Probability: 0.7967384\n",
      "\u001b[1m\u001b[31m\n",
      "Mismatch\u001b[0m\n",
      "\u001b[32mLabel: salary\u001b[0m\n",
      "----------------------------------------\n"
     ]
    },
    {
     "data": {
      "text/html": [],
      "text/plain": [
       "<IPython.core.display.HTML object>"
      ]
     },
     "metadata": {},
     "output_type": "display_data"
    },
    {
     "name": "stdout",
     "output_type": "stream",
     "text": [
      "Text:  know job\n",
      "\n",
      "SVM prediction: application_status \n",
      "Probability: 0.6876267737209713\n",
      "\n",
      "Roberta prediction: howto_apply \n",
      "Probability: 0.28601113\n",
      "\u001b[1m\u001b[31m\n",
      "Mismatch\u001b[0m\n",
      "\u001b[32mLabel: application_status\u001b[0m\n",
      "----------------------------------------\n"
     ]
    },
    {
     "data": {
      "text/html": [],
      "text/plain": [
       "<IPython.core.display.HTML object>"
      ]
     },
     "metadata": {},
     "output_type": "display_data"
    },
    {
     "data": {
      "text/html": [],
      "text/plain": [
       "<IPython.core.display.HTML object>"
      ]
     },
     "metadata": {},
     "output_type": "display_data"
    },
    {
     "name": "stdout",
     "output_type": "stream",
     "text": [
      "Text:  find link attach cv\n",
      "\n",
      "SVM prediction: cv_past_experience \n",
      "Probability: 0.6703543153584414\n",
      "\n",
      "Roberta prediction: howto_apply \n",
      "Probability: 0.45843682\n",
      "\u001b[1m\u001b[31m\n",
      "Mismatch\u001b[0m\n",
      "\u001b[32mLabel: cv_past_experience\u001b[0m\n",
      "----------------------------------------\n"
     ]
    },
    {
     "data": {
      "text/html": [],
      "text/plain": [
       "<IPython.core.display.HTML object>"
      ]
     },
     "metadata": {},
     "output_type": "display_data"
    },
    {
     "data": {
      "text/html": [],
      "text/plain": [
       "<IPython.core.display.HTML object>"
      ]
     },
     "metadata": {},
     "output_type": "display_data"
    },
    {
     "data": {
      "text/html": [],
      "text/plain": [
       "<IPython.core.display.HTML object>"
      ]
     },
     "metadata": {},
     "output_type": "display_data"
    },
    {
     "data": {
      "text/html": [],
      "text/plain": [
       "<IPython.core.display.HTML object>"
      ]
     },
     "metadata": {},
     "output_type": "display_data"
    },
    {
     "data": {
      "text/html": [],
      "text/plain": [
       "<IPython.core.display.HTML object>"
      ]
     },
     "metadata": {},
     "output_type": "display_data"
    },
    {
     "data": {
      "text/html": [],
      "text/plain": [
       "<IPython.core.display.HTML object>"
      ]
     },
     "metadata": {},
     "output_type": "display_data"
    },
    {
     "data": {
      "text/html": [],
      "text/plain": [
       "<IPython.core.display.HTML object>"
      ]
     },
     "metadata": {},
     "output_type": "display_data"
    },
    {
     "data": {
      "text/html": [],
      "text/plain": [
       "<IPython.core.display.HTML object>"
      ]
     },
     "metadata": {},
     "output_type": "display_data"
    },
    {
     "data": {
      "text/html": [],
      "text/plain": [
       "<IPython.core.display.HTML object>"
      ]
     },
     "metadata": {},
     "output_type": "display_data"
    },
    {
     "name": "stdout",
     "output_type": "stream",
     "text": [
      "Text:  day apply job find job description\n",
      "\n",
      "SVM prediction: job_close_date \n",
      "Probability: 0.7319576572325199\n",
      "\n",
      "Roberta prediction: howto_apply \n",
      "Probability: 0.9016556\n",
      "\u001b[1m\u001b[31m\n",
      "Mismatch\u001b[0m\n",
      "\u001b[32mLabel: job_close_date\u001b[0m\n",
      "----------------------------------------\n"
     ]
    },
    {
     "data": {
      "text/html": [],
      "text/plain": [
       "<IPython.core.display.HTML object>"
      ]
     },
     "metadata": {},
     "output_type": "display_data"
    },
    {
     "name": "stdout",
     "output_type": "stream",
     "text": [
      "Text:  concern request chance continue application retail assistant boot retail able complete online assessment phone smash access email know complete online assessment give cv boot store feel like perfect candidate job work boot know role regulation\n",
      "\n",
      "SVM prediction: reinstate_application \n",
      "Probability: 0.5590896671725857\n",
      "\n",
      "Roberta prediction: assessment_campatilibility \n",
      "Probability: 0.72951853\n",
      "\u001b[1m\u001b[31m\n",
      "Mismatch\u001b[0m\n",
      "\u001b[32mLabel: reinstate_application\u001b[0m\n",
      "----------------------------------------\n"
     ]
    },
    {
     "data": {
      "text/html": [],
      "text/plain": [
       "<IPython.core.display.HTML object>"
      ]
     },
     "metadata": {},
     "output_type": "display_data"
    },
    {
     "data": {
      "text/html": [],
      "text/plain": [
       "<IPython.core.display.HTML object>"
      ]
     },
     "metadata": {},
     "output_type": "display_data"
    },
    {
     "data": {
      "text/html": [],
      "text/plain": [
       "<IPython.core.display.HTML object>"
      ]
     },
     "metadata": {},
     "output_type": "display_data"
    },
    {
     "data": {
      "text/html": [],
      "text/plain": [
       "<IPython.core.display.HTML object>"
      ]
     },
     "metadata": {},
     "output_type": "display_data"
    },
    {
     "data": {
      "text/html": [],
      "text/plain": [
       "<IPython.core.display.HTML object>"
      ]
     },
     "metadata": {},
     "output_type": "display_data"
    },
    {
     "data": {
      "text/html": [],
      "text/plain": [
       "<IPython.core.display.HTML object>"
      ]
     },
     "metadata": {},
     "output_type": "display_data"
    },
    {
     "data": {
      "text/html": [],
      "text/plain": [
       "<IPython.core.display.HTML object>"
      ]
     },
     "metadata": {},
     "output_type": "display_data"
    },
    {
     "name": "stdout",
     "output_type": "stream",
     "text": [
      "Text:  reapply job\n",
      "\n",
      "SVM prediction: howto_apply \n",
      "Probability: 0.677433273722143\n",
      "\n",
      "Roberta prediction: job_alerts \n",
      "Probability: 0.64380044\n",
      "\u001b[1m\u001b[31m\n",
      "Mismatch\u001b[0m\n",
      "\u001b[32mLabel: howto_apply\u001b[0m\n",
      "----------------------------------------\n"
     ]
    },
    {
     "data": {
      "text/html": [],
      "text/plain": [
       "<IPython.core.display.HTML object>"
      ]
     },
     "metadata": {},
     "output_type": "display_data"
    },
    {
     "data": {
      "text/html": [],
      "text/plain": [
       "<IPython.core.display.HTML object>"
      ]
     },
     "metadata": {},
     "output_type": "display_data"
    },
    {
     "name": "stdout",
     "output_type": "stream",
     "text": [
      "Text:  write tip improve application\n",
      "\n",
      "SVM prediction: feedback \n",
      "Probability: 0.6929111959445508\n",
      "\n",
      "Roberta prediction: assessment_link_problem \n",
      "Probability: 0.5219992\n",
      "\u001b[1m\u001b[31m\n",
      "Mismatch\u001b[0m\n",
      "\u001b[32mLabel: feedback\u001b[0m\n",
      "----------------------------------------\n"
     ]
    },
    {
     "data": {
      "text/html": [],
      "text/plain": [
       "<IPython.core.display.HTML object>"
      ]
     },
     "metadata": {},
     "output_type": "display_data"
    },
    {
     "data": {
      "text/html": [],
      "text/plain": [
       "<IPython.core.display.HTML object>"
      ]
     },
     "metadata": {},
     "output_type": "display_data"
    },
    {
     "name": "stdout",
     "output_type": "stream",
     "text": [
      "Text:  good afternoon like apply trainee pharmacy adviser good customer experience work cabin crew 3 year learn fast work time cruise terminal check people cruise cruise different system learn fast look cv attachment look forward hear\n",
      "\n",
      "SVM prediction: howto_apply \n",
      "Probability: 0.5821106939268345\n",
      "\n",
      "Roberta prediction: assessment_campatilibility \n",
      "Probability: 0.5167222\n",
      "\u001b[1m\u001b[31m\n",
      "Mismatch\u001b[0m\n",
      "\u001b[32mLabel: howto_apply\u001b[0m\n",
      "----------------------------------------\n"
     ]
    },
    {
     "data": {
      "text/html": [],
      "text/plain": [
       "<IPython.core.display.HTML object>"
      ]
     },
     "metadata": {},
     "output_type": "display_data"
    },
    {
     "data": {
      "text/html": [],
      "text/plain": [
       "<IPython.core.display.HTML object>"
      ]
     },
     "metadata": {},
     "output_type": "display_data"
    },
    {
     "data": {
      "text/html": [],
      "text/plain": [
       "<IPython.core.display.HTML object>"
      ]
     },
     "metadata": {},
     "output_type": "display_data"
    },
    {
     "data": {
      "text/html": [],
      "text/plain": [
       "<IPython.core.display.HTML object>"
      ]
     },
     "metadata": {},
     "output_type": "display_data"
    },
    {
     "data": {
      "text/html": [],
      "text/plain": [
       "<IPython.core.display.HTML object>"
      ]
     },
     "metadata": {},
     "output_type": "display_data"
    },
    {
     "name": "stdout",
     "output_type": "stream",
     "text": [
      "Text:  long complete online assessment\n",
      "\n",
      "SVM prediction: assessment_timebox \n",
      "Probability: 0.6563373123039963\n",
      "\n",
      "Roberta prediction: assessment_campatilibility \n",
      "Probability: 0.859022\n",
      "\u001b[1m\u001b[31m\n",
      "Mismatch\u001b[0m\n",
      "\u001b[32mLabel: assessment_timebox\u001b[0m\n",
      "----------------------------------------\n"
     ]
    },
    {
     "data": {
      "text/html": [],
      "text/plain": [
       "<IPython.core.display.HTML object>"
      ]
     },
     "metadata": {},
     "output_type": "display_data"
    },
    {
     "name": "stdout",
     "output_type": "stream",
     "text": [
      "Text:  long wait follow\n",
      "\n",
      "SVM prediction: interview_response_time \n",
      "Probability: 0.6003794023590443\n",
      "\n",
      "Roberta prediction: application_status \n",
      "Probability: 0.79355186\n",
      "\u001b[1m\u001b[31m\n",
      "Mismatch\u001b[0m\n",
      "\u001b[32mLabel: interview_response_time\u001b[0m\n",
      "----------------------------------------\n"
     ]
    },
    {
     "data": {
      "text/html": [],
      "text/plain": [
       "<IPython.core.display.HTML object>"
      ]
     },
     "metadata": {},
     "output_type": "display_data"
    },
    {
     "data": {
      "text/html": [],
      "text/plain": [
       "<IPython.core.display.HTML object>"
      ]
     },
     "metadata": {},
     "output_type": "display_data"
    },
    {
     "data": {
      "text/html": [],
      "text/plain": [
       "<IPython.core.display.HTML object>"
      ]
     },
     "metadata": {},
     "output_type": "display_data"
    },
    {
     "data": {
      "text/html": [],
      "text/plain": [
       "<IPython.core.display.HTML object>"
      ]
     },
     "metadata": {},
     "output_type": "display_data"
    },
    {
     "data": {
      "text/html": [],
      "text/plain": [
       "<IPython.core.display.HTML object>"
      ]
     },
     "metadata": {},
     "output_type": "display_data"
    },
    {
     "name": "stdout",
     "output_type": "stream",
     "text": [
      "Text:  browser compatible assessment link\n",
      "\n",
      "SVM prediction: assessment_campatilibility \n",
      "Probability: 0.787570836186555\n",
      "\n",
      "Roberta prediction: assessment_link_problem \n",
      "Probability: 0.79011273\n",
      "\u001b[1m\u001b[31m\n",
      "Mismatch\u001b[0m\n",
      "\u001b[32mLabel: assessment_campatilibility\u001b[0m\n",
      "----------------------------------------\n"
     ]
    },
    {
     "data": {
      "text/html": [],
      "text/plain": [
       "<IPython.core.display.HTML object>"
      ]
     },
     "metadata": {},
     "output_type": "display_data"
    },
    {
     "data": {
      "text/html": [],
      "text/plain": [
       "<IPython.core.display.HTML object>"
      ]
     },
     "metadata": {},
     "output_type": "display_data"
    },
    {
     "data": {
      "text/html": [],
      "text/plain": [
       "<IPython.core.display.HTML object>"
      ]
     },
     "metadata": {},
     "output_type": "display_data"
    },
    {
     "data": {
      "text/html": [],
      "text/plain": [
       "<IPython.core.display.HTML object>"
      ]
     },
     "metadata": {},
     "output_type": "display_data"
    },
    {
     "data": {
      "text/html": [],
      "text/plain": [
       "<IPython.core.display.HTML object>"
      ]
     },
     "metadata": {},
     "output_type": "display_data"
    },
    {
     "data": {
      "text/html": [],
      "text/plain": [
       "<IPython.core.display.HTML object>"
      ]
     },
     "metadata": {},
     "output_type": "display_data"
    },
    {
     "name": "stdout",
     "output_type": "stream",
     "text": [
      "Text:  apply\n",
      "\n",
      "SVM prediction: howto_apply \n",
      "Probability: 0.784910511198526\n",
      "\n",
      "Roberta prediction: assessment_campatilibility \n",
      "Probability: 0.18758306\n",
      "\u001b[1m\u001b[31m\n",
      "Mismatch\u001b[0m\n",
      "\u001b[32mLabel: howto_apply\u001b[0m\n",
      "----------------------------------------\n"
     ]
    },
    {
     "data": {
      "text/html": [],
      "text/plain": [
       "<IPython.core.display.HTML object>"
      ]
     },
     "metadata": {},
     "output_type": "display_data"
    },
    {
     "data": {
      "text/html": [],
      "text/plain": [
       "<IPython.core.display.HTML object>"
      ]
     },
     "metadata": {},
     "output_type": "display_data"
    },
    {
     "data": {
      "text/html": [],
      "text/plain": [
       "<IPython.core.display.HTML object>"
      ]
     },
     "metadata": {},
     "output_type": "display_data"
    },
    {
     "data": {
      "text/html": [],
      "text/plain": [
       "<IPython.core.display.HTML object>"
      ]
     },
     "metadata": {},
     "output_type": "display_data"
    },
    {
     "name": "stdout",
     "output_type": "stream",
     "text": [
      "Text:  want know late job\n",
      "\n",
      "SVM prediction: job_alerts \n",
      "Probability: 0.6692872164739685\n",
      "\n",
      "Roberta prediction: howto_apply \n",
      "Probability: 0.31041947\n",
      "\u001b[1m\u001b[31m\n",
      "Mismatch\u001b[0m\n",
      "\u001b[32mLabel: job_alerts\u001b[0m\n",
      "----------------------------------------\n"
     ]
    },
    {
     "data": {
      "text/html": [],
      "text/plain": [
       "<IPython.core.display.HTML object>"
      ]
     },
     "metadata": {},
     "output_type": "display_data"
    },
    {
     "name": "stdout",
     "output_type": "stream",
     "text": [
      "Text:  long apply job\n",
      "\n",
      "SVM prediction: job_close_date \n",
      "Probability: 0.755178571553313\n",
      "\n",
      "Roberta prediction: howto_apply \n",
      "Probability: 0.97300106\n",
      "\u001b[1m\u001b[31m\n",
      "Mismatch\u001b[0m\n",
      "\u001b[32mLabel: job_close_date\u001b[0m\n",
      "----------------------------------------\n"
     ]
    },
    {
     "data": {
      "text/html": [],
      "text/plain": [
       "<IPython.core.display.HTML object>"
      ]
     },
     "metadata": {},
     "output_type": "display_data"
    },
    {
     "data": {
      "text/html": [],
      "text/plain": [
       "<IPython.core.display.HTML object>"
      ]
     },
     "metadata": {},
     "output_type": "display_data"
    },
    {
     "name": "stdout",
     "output_type": "stream",
     "text": [
      "Text:  date apply job let know\n",
      "\n",
      "SVM prediction: job_close_date \n",
      "Probability: 0.8026282153282528\n",
      "\n",
      "Roberta prediction: howto_apply \n",
      "Probability: 0.9527164\n",
      "\u001b[1m\u001b[31m\n",
      "Mismatch\u001b[0m\n",
      "\u001b[32mLabel: job_close_date\u001b[0m\n",
      "----------------------------------------\n"
     ]
    },
    {
     "data": {
      "text/html": [],
      "text/plain": [
       "<IPython.core.display.HTML object>"
      ]
     },
     "metadata": {},
     "output_type": "display_data"
    },
    {
     "data": {
      "text/html": [],
      "text/plain": [
       "<IPython.core.display.HTML object>"
      ]
     },
     "metadata": {},
     "output_type": "display_data"
    },
    {
     "data": {
      "text/html": [],
      "text/plain": [
       "<IPython.core.display.HTML object>"
      ]
     },
     "metadata": {},
     "output_type": "display_data"
    },
    {
     "name": "stdout",
     "output_type": "stream",
     "text": [
      "Text:  hi get assessment tonight have work flash work office regard\n",
      "\n",
      "SVM prediction: assessment_timebox \n",
      "Probability: 0.5516342977698473\n",
      "\n",
      "Roberta prediction: assessment_campatilibility \n",
      "Probability: 0.7338142\n",
      "\u001b[1m\u001b[31m\n",
      "Mismatch\u001b[0m\n",
      "\u001b[32mLabel: assessment_timebox\u001b[0m\n",
      "----------------------------------------\n"
     ]
    },
    {
     "data": {
      "text/html": [],
      "text/plain": [
       "<IPython.core.display.HTML object>"
      ]
     },
     "metadata": {},
     "output_type": "display_data"
    },
    {
     "name": "stdout",
     "output_type": "stream",
     "text": [
      "Text:  cancel job application want apply\n",
      "\n",
      "SVM prediction: reinstate_application \n",
      "Probability: 0.6266356670051147\n",
      "\n",
      "Roberta prediction: howto_apply \n",
      "Probability: 0.97414964\n",
      "\u001b[1m\u001b[31m\n",
      "Mismatch\u001b[0m\n",
      "\u001b[32mLabel: reinstate_application\u001b[0m\n",
      "----------------------------------------\n"
     ]
    },
    {
     "data": {
      "text/html": [],
      "text/plain": [
       "<IPython.core.display.HTML object>"
      ]
     },
     "metadata": {},
     "output_type": "display_data"
    },
    {
     "name": "stdout",
     "output_type": "stream",
     "text": [
      "Text:  long entire application process\n",
      "\n",
      "SVM prediction: application_status \n",
      "Probability: 0.6631265389371446\n",
      "\n",
      "Roberta prediction: howto_apply \n",
      "Probability: 0.67744225\n",
      "\u001b[1m\u001b[31m\n",
      "Mismatch\u001b[0m\n",
      "\u001b[32mLabel: application_status\u001b[0m\n",
      "----------------------------------------\n"
     ]
    },
    {
     "data": {
      "text/html": [],
      "text/plain": [
       "<IPython.core.display.HTML object>"
      ]
     },
     "metadata": {},
     "output_type": "display_data"
    },
    {
     "data": {
      "text/html": [],
      "text/plain": [
       "<IPython.core.display.HTML object>"
      ]
     },
     "metadata": {},
     "output_type": "display_data"
    },
    {
     "data": {
      "text/html": [],
      "text/plain": [
       "<IPython.core.display.HTML object>"
      ]
     },
     "metadata": {},
     "output_type": "display_data"
    },
    {
     "data": {
      "text/html": [],
      "text/plain": [
       "<IPython.core.display.HTML object>"
      ]
     },
     "metadata": {},
     "output_type": "display_data"
    },
    {
     "name": "stdout",
     "output_type": "stream",
     "text": [
      "Text:  disability prevent get position\n",
      "\n",
      "SVM prediction: disability \n",
      "Probability: 0.7494822510238971\n",
      "\n",
      "Roberta prediction: assessment_campatilibility \n",
      "Probability: 0.31112584\n",
      "\u001b[1m\u001b[31m\n",
      "Mismatch\u001b[0m\n",
      "\u001b[32mLabel: disability\u001b[0m\n",
      "----------------------------------------\n"
     ]
    },
    {
     "data": {
      "text/html": [],
      "text/plain": [
       "<IPython.core.display.HTML object>"
      ]
     },
     "metadata": {},
     "output_type": "display_data"
    },
    {
     "data": {
      "text/html": [],
      "text/plain": [
       "<IPython.core.display.HTML object>"
      ]
     },
     "metadata": {},
     "output_type": "display_data"
    },
    {
     "name": "stdout",
     "output_type": "stream",
     "text": [
      "Text:  soon get response application\n",
      "\n",
      "SVM prediction: application_status \n",
      "Probability: 0.6351399099591648\n",
      "\n",
      "Roberta prediction: howto_apply \n",
      "Probability: 0.5798864\n",
      "\u001b[1m\u001b[31m\n",
      "Mismatch\u001b[0m\n",
      "\u001b[32mLabel: application_status\u001b[0m\n",
      "----------------------------------------\n"
     ]
    },
    {
     "data": {
      "text/html": [],
      "text/plain": [
       "<IPython.core.display.HTML object>"
      ]
     },
     "metadata": {},
     "output_type": "display_data"
    },
    {
     "data": {
      "text/html": [],
      "text/plain": [
       "<IPython.core.display.HTML object>"
      ]
     },
     "metadata": {},
     "output_type": "display_data"
    },
    {
     "data": {
      "text/html": [],
      "text/plain": [
       "<IPython.core.display.HTML object>"
      ]
     },
     "metadata": {},
     "output_type": "display_data"
    },
    {
     "data": {
      "text/html": [],
      "text/plain": [
       "<IPython.core.display.HTML object>"
      ]
     },
     "metadata": {},
     "output_type": "display_data"
    },
    {
     "data": {
      "text/html": [],
      "text/plain": [
       "<IPython.core.display.HTML object>"
      ]
     },
     "metadata": {},
     "output_type": "display_data"
    },
    {
     "data": {
      "text/html": [],
      "text/plain": [
       "<IPython.core.display.HTML object>"
      ]
     },
     "metadata": {},
     "output_type": "display_data"
    },
    {
     "name": "stdout",
     "output_type": "stream",
     "text": [
      "Text:  day apply\n",
      "\n",
      "SVM prediction: job_close_date \n",
      "Probability: 0.8266635610221511\n",
      "\n",
      "Roberta prediction: howto_apply \n",
      "Probability: 0.9761263\n",
      "\u001b[1m\u001b[31m\n",
      "Mismatch\u001b[0m\n",
      "\u001b[32mLabel: job_close_date\u001b[0m\n",
      "----------------------------------------\n"
     ]
    },
    {
     "data": {
      "text/html": [],
      "text/plain": [
       "<IPython.core.display.HTML object>"
      ]
     },
     "metadata": {},
     "output_type": "display_data"
    },
    {
     "data": {
      "text/html": [],
      "text/plain": [
       "<IPython.core.display.HTML object>"
      ]
     },
     "metadata": {},
     "output_type": "display_data"
    },
    {
     "data": {
      "text/html": [],
      "text/plain": [
       "<IPython.core.display.HTML object>"
      ]
     },
     "metadata": {},
     "output_type": "display_data"
    },
    {
     "data": {
      "text/html": [],
      "text/plain": [
       "<IPython.core.display.HTML object>"
      ]
     },
     "metadata": {},
     "output_type": "display_data"
    },
    {
     "name": "stdout",
     "output_type": "stream",
     "text": [
      "Text:  long result interview\n",
      "\n",
      "SVM prediction: interview_response_time \n",
      "Probability: 0.6298606576019224\n",
      "\n",
      "Roberta prediction: interview_reschedule \n",
      "Probability: 0.4326209\n",
      "\u001b[1m\u001b[31m\n",
      "Mismatch\u001b[0m\n",
      "\u001b[32mLabel: interview_response_time\u001b[0m\n",
      "----------------------------------------\n"
     ]
    },
    {
     "data": {
      "text/html": [],
      "text/plain": [
       "<IPython.core.display.HTML object>"
      ]
     },
     "metadata": {},
     "output_type": "display_data"
    },
    {
     "data": {
      "text/html": [],
      "text/plain": [
       "<IPython.core.display.HTML object>"
      ]
     },
     "metadata": {},
     "output_type": "display_data"
    },
    {
     "name": "stdout",
     "output_type": "stream",
     "text": [
      "Text:  run time whilst complete online assessment adverse affect job prospect\n",
      "\n",
      "SVM prediction: assessment_timebox \n",
      "Probability: 0.5619450991490369\n",
      "\n",
      "Roberta prediction: assessment_campatilibility \n",
      "Probability: 0.58845323\n",
      "\u001b[1m\u001b[31m\n",
      "Mismatch\u001b[0m\n",
      "\u001b[32mLabel: assessment_timebox\u001b[0m\n",
      "----------------------------------------\n"
     ]
    },
    {
     "data": {
      "text/html": [],
      "text/plain": [
       "<IPython.core.display.HTML object>"
      ]
     },
     "metadata": {},
     "output_type": "display_data"
    },
    {
     "data": {
      "text/html": [],
      "text/plain": [
       "<IPython.core.display.HTML object>"
      ]
     },
     "metadata": {},
     "output_type": "display_data"
    },
    {
     "data": {
      "text/html": [],
      "text/plain": [
       "<IPython.core.display.HTML object>"
      ]
     },
     "metadata": {},
     "output_type": "display_data"
    },
    {
     "data": {
      "text/html": [],
      "text/plain": [
       "<IPython.core.display.HTML object>"
      ]
     },
     "metadata": {},
     "output_type": "display_data"
    },
    {
     "data": {
      "text/html": [],
      "text/plain": [
       "<IPython.core.display.HTML object>"
      ]
     },
     "metadata": {},
     "output_type": "display_data"
    },
    {
     "data": {
      "text/html": [],
      "text/plain": [
       "<IPython.core.display.HTML object>"
      ]
     },
     "metadata": {},
     "output_type": "display_data"
    },
    {
     "name": "stdout",
     "output_type": "stream",
     "text": [
      "Text:  confirm receive complete online assessment\n",
      "\n",
      "SVM prediction: application_status \n",
      "Probability: 0.6697595290716657\n",
      "\n",
      "Roberta prediction: assessment_campatilibility \n",
      "Probability: 0.90856916\n",
      "\u001b[1m\u001b[31m\n",
      "Mismatch\u001b[0m\n",
      "\u001b[32mLabel: application_status\u001b[0m\n",
      "----------------------------------------\n"
     ]
    },
    {
     "data": {
      "text/html": [],
      "text/plain": [
       "<IPython.core.display.HTML object>"
      ]
     },
     "metadata": {},
     "output_type": "display_data"
    },
    {
     "data": {
      "text/html": [],
      "text/plain": [
       "<IPython.core.display.HTML object>"
      ]
     },
     "metadata": {},
     "output_type": "display_data"
    },
    {
     "data": {
      "text/html": [],
      "text/plain": [
       "<IPython.core.display.HTML object>"
      ]
     },
     "metadata": {},
     "output_type": "display_data"
    },
    {
     "data": {
      "text/html": [],
      "text/plain": [
       "<IPython.core.display.HTML object>"
      ]
     },
     "metadata": {},
     "output_type": "display_data"
    },
    {
     "data": {
      "text/html": [],
      "text/plain": [
       "<IPython.core.display.HTML object>"
      ]
     },
     "metadata": {},
     "output_type": "display_data"
    },
    {
     "data": {
      "text/html": [],
      "text/plain": [
       "<IPython.core.display.HTML object>"
      ]
     },
     "metadata": {},
     "output_type": "display_data"
    },
    {
     "data": {
      "text/html": [],
      "text/plain": [
       "<IPython.core.display.HTML object>"
      ]
     },
     "metadata": {},
     "output_type": "display_data"
    },
    {
     "data": {
      "text/html": [],
      "text/plain": [
       "<IPython.core.display.HTML object>"
      ]
     },
     "metadata": {},
     "output_type": "display_data"
    },
    {
     "name": "stdout",
     "output_type": "stream",
     "text": [
      "Text:  interview month job receive update interview update\n",
      "\n",
      "SVM prediction: interview_response_time \n",
      "Probability: 0.6213521509410079\n",
      "\n",
      "Roberta prediction: job_close_date \n",
      "Probability: 0.32866722\n",
      "\u001b[1m\u001b[31m\n",
      "Mismatch\u001b[0m\n",
      "\u001b[32mLabel: interview_response_time\u001b[0m\n",
      "----------------------------------------\n"
     ]
    },
    {
     "data": {
      "text/html": [],
      "text/plain": [
       "<IPython.core.display.HTML object>"
      ]
     },
     "metadata": {},
     "output_type": "display_data"
    },
    {
     "data": {
      "text/html": [],
      "text/plain": [
       "<IPython.core.display.HTML object>"
      ]
     },
     "metadata": {},
     "output_type": "display_data"
    },
    {
     "data": {
      "text/html": [],
      "text/plain": [
       "<IPython.core.display.HTML object>"
      ]
     },
     "metadata": {},
     "output_type": "display_data"
    },
    {
     "data": {
      "text/html": [],
      "text/plain": [
       "<IPython.core.display.HTML object>"
      ]
     },
     "metadata": {},
     "output_type": "display_data"
    },
    {
     "name": "stdout",
     "output_type": "stream",
     "text": [
      "Text:  consideration job\n",
      "\n",
      "SVM prediction: application_status \n",
      "Probability: 0.6716441786921552\n",
      "\n",
      "Roberta prediction: howto_apply \n",
      "Probability: 0.333216\n",
      "\u001b[1m\u001b[31m\n",
      "Mismatch\u001b[0m\n",
      "\u001b[32mLabel: application_status\u001b[0m\n",
      "----------------------------------------\n"
     ]
    },
    {
     "data": {
      "text/html": [],
      "text/plain": [
       "<IPython.core.display.HTML object>"
      ]
     },
     "metadata": {},
     "output_type": "display_data"
    },
    {
     "data": {
      "text/html": [],
      "text/plain": [
       "<IPython.core.display.HTML object>"
      ]
     },
     "metadata": {},
     "output_type": "display_data"
    },
    {
     "data": {
      "text/html": [],
      "text/plain": [
       "<IPython.core.display.HTML object>"
      ]
     },
     "metadata": {},
     "output_type": "display_data"
    },
    {
     "data": {
      "text/html": [],
      "text/plain": [
       "<IPython.core.display.HTML object>"
      ]
     },
     "metadata": {},
     "output_type": "display_data"
    },
    {
     "data": {
      "text/html": [],
      "text/plain": [
       "<IPython.core.display.HTML object>"
      ]
     },
     "metadata": {},
     "output_type": "display_data"
    },
    {
     "data": {
      "text/html": [],
      "text/plain": [
       "<IPython.core.display.HTML object>"
      ]
     },
     "metadata": {},
     "output_type": "display_data"
    },
    {
     "data": {
      "text/html": [],
      "text/plain": [
       "<IPython.core.display.HTML object>"
      ]
     },
     "metadata": {},
     "output_type": "display_data"
    },
    {
     "name": "stdout",
     "output_type": "stream",
     "text": [
      "Text:  apply ago withdraw application want apply\n",
      "\n",
      "SVM prediction: reinstate_application \n",
      "Probability: 0.6194698246510042\n",
      "\n",
      "Roberta prediction: howto_apply \n",
      "Probability: 0.3658606\n",
      "\u001b[1m\u001b[31m\n",
      "Mismatch\u001b[0m\n",
      "\u001b[32mLabel: reinstate_application\u001b[0m\n",
      "----------------------------------------\n"
     ]
    },
    {
     "data": {
      "text/html": [],
      "text/plain": [
       "<IPython.core.display.HTML object>"
      ]
     },
     "metadata": {},
     "output_type": "display_data"
    },
    {
     "name": "stdout",
     "output_type": "stream",
     "text": [
      "Text:  link apply position\n",
      "\n",
      "SVM prediction: multiple_role \n",
      "Probability: 0.5984584753223207\n",
      "\n",
      "Roberta prediction: howto_apply \n",
      "Probability: 0.9309056\n",
      "\u001b[1m\u001b[31m\n",
      "Mismatch\u001b[0m\n",
      "\u001b[32mLabel: multiple_role\u001b[0m\n",
      "----------------------------------------\n"
     ]
    },
    {
     "data": {
      "text/html": [],
      "text/plain": [
       "<IPython.core.display.HTML object>"
      ]
     },
     "metadata": {},
     "output_type": "display_data"
    },
    {
     "data": {
      "text/html": [],
      "text/plain": [
       "<IPython.core.display.HTML object>"
      ]
     },
     "metadata": {},
     "output_type": "display_data"
    },
    {
     "data": {
      "text/html": [],
      "text/plain": [
       "<IPython.core.display.HTML object>"
      ]
     },
     "metadata": {},
     "output_type": "display_data"
    },
    {
     "data": {
      "text/html": [],
      "text/plain": [
       "<IPython.core.display.HTML object>"
      ]
     },
     "metadata": {},
     "output_type": "display_data"
    },
    {
     "data": {
      "text/html": [],
      "text/plain": [
       "<IPython.core.display.HTML object>"
      ]
     },
     "metadata": {},
     "output_type": "display_data"
    },
    {
     "data": {
      "text/html": [],
      "text/plain": [
       "<IPython.core.display.HTML object>"
      ]
     },
     "metadata": {},
     "output_type": "display_data"
    },
    {
     "data": {
      "text/html": [],
      "text/plain": [
       "<IPython.core.display.HTML object>"
      ]
     },
     "metadata": {},
     "output_type": "display_data"
    },
    {
     "name": "stdout",
     "output_type": "stream",
     "text": [
      "Text:  salary range accord experience\n",
      "\n",
      "SVM prediction: salary \n",
      "Probability: 0.7349026839193571\n",
      "\n",
      "Roberta prediction: work_experience \n",
      "Probability: 0.88252187\n",
      "\u001b[1m\u001b[31m\n",
      "Mismatch\u001b[0m\n",
      "\u001b[32mLabel: salary\u001b[0m\n",
      "----------------------------------------\n"
     ]
    },
    {
     "data": {
      "text/html": [],
      "text/plain": [
       "<IPython.core.display.HTML object>"
      ]
     },
     "metadata": {},
     "output_type": "display_data"
    },
    {
     "name": "stdout",
     "output_type": "stream",
     "text": [
      "Text:  age relaxation role\n",
      "\n",
      "SVM prediction: age_limit \n",
      "Probability: 0.6674030536333339\n",
      "\n",
      "Roberta prediction: special_needs_at_work \n",
      "Probability: 0.29544523\n",
      "\u001b[1m\u001b[31m\n",
      "Mismatch\u001b[0m\n",
      "\u001b[32mLabel: age_limit\u001b[0m\n",
      "----------------------------------------\n"
     ]
    },
    {
     "data": {
      "text/html": [],
      "text/plain": [
       "<IPython.core.display.HTML object>"
      ]
     },
     "metadata": {},
     "output_type": "display_data"
    },
    {
     "data": {
      "text/html": [],
      "text/plain": [
       "<IPython.core.display.HTML object>"
      ]
     },
     "metadata": {},
     "output_type": "display_data"
    },
    {
     "name": "stdout",
     "output_type": "stream",
     "text": [
      "Text:  try submit confirm assessment unable proceed system keep take assessment step\n",
      "\n",
      "SVM prediction: assessment_link_problem \n",
      "Probability: 0.5608769853022652\n",
      "\n",
      "Roberta prediction: assessment_campatilibility \n",
      "Probability: 0.6108378\n",
      "\u001b[1m\u001b[31m\n",
      "Mismatch\u001b[0m\n",
      "\u001b[32mLabel: assessment_link_problem\u001b[0m\n",
      "----------------------------------------\n"
     ]
    },
    {
     "data": {
      "text/html": [],
      "text/plain": [
       "<IPython.core.display.HTML object>"
      ]
     },
     "metadata": {},
     "output_type": "display_data"
    },
    {
     "data": {
      "text/html": [],
      "text/plain": [
       "<IPython.core.display.HTML object>"
      ]
     },
     "metadata": {},
     "output_type": "display_data"
    },
    {
     "name": "stdout",
     "output_type": "stream",
     "text": [
      "Text:  want know weak area cause rejection\n",
      "\n",
      "SVM prediction: feedback \n",
      "Probability: 0.6608945686456471\n",
      "\n",
      "Roberta prediction: assessment_link_problem \n",
      "Probability: 0.4401402\n",
      "\u001b[1m\u001b[31m\n",
      "Mismatch\u001b[0m\n",
      "\u001b[32mLabel: feedback\u001b[0m\n",
      "----------------------------------------\n"
     ]
    },
    {
     "data": {
      "text/html": [],
      "text/plain": [
       "<IPython.core.display.HTML object>"
      ]
     },
     "metadata": {},
     "output_type": "display_data"
    },
    {
     "data": {
      "text/html": [],
      "text/plain": [
       "<IPython.core.display.HTML object>"
      ]
     },
     "metadata": {},
     "output_type": "display_data"
    },
    {
     "data": {
      "text/html": [],
      "text/plain": [
       "<IPython.core.display.HTML object>"
      ]
     },
     "metadata": {},
     "output_type": "display_data"
    },
    {
     "data": {
      "text/html": [],
      "text/plain": [
       "<IPython.core.display.HTML object>"
      ]
     },
     "metadata": {},
     "output_type": "display_data"
    },
    {
     "data": {
      "text/html": [],
      "text/plain": [
       "<IPython.core.display.HTML object>"
      ]
     },
     "metadata": {},
     "output_type": "display_data"
    },
    {
     "data": {
      "text/html": [],
      "text/plain": [
       "<IPython.core.display.HTML object>"
      ]
     },
     "metadata": {},
     "output_type": "display_data"
    },
    {
     "data": {
      "text/html": [],
      "text/plain": [
       "<IPython.core.display.HTML object>"
      ]
     },
     "metadata": {},
     "output_type": "display_data"
    },
    {
     "name": "stdout",
     "output_type": "stream",
     "text": [
      "Text:  apply job\n",
      "\n",
      "SVM prediction: multiple_role \n",
      "Probability: 0.7196532865481501\n",
      "\n",
      "Roberta prediction: howto_apply \n",
      "Probability: 0.37039506\n",
      "\u001b[1m\u001b[31m\n",
      "Mismatch\u001b[0m\n",
      "\u001b[32mLabel: multiple_role\u001b[0m\n",
      "----------------------------------------\n"
     ]
    },
    {
     "data": {
      "text/html": [],
      "text/plain": [
       "<IPython.core.display.HTML object>"
      ]
     },
     "metadata": {},
     "output_type": "display_data"
    },
    {
     "data": {
      "text/html": [],
      "text/plain": [
       "<IPython.core.display.HTML object>"
      ]
     },
     "metadata": {},
     "output_type": "display_data"
    },
    {
     "data": {
      "text/html": [],
      "text/plain": [
       "<IPython.core.display.HTML object>"
      ]
     },
     "metadata": {},
     "output_type": "display_data"
    },
    {
     "name": "stdout",
     "output_type": "stream",
     "text": [
      "Text:  resume cv process\n",
      "\n",
      "SVM prediction: reinstate_application \n",
      "Probability: 0.7414931033900429\n",
      "\n",
      "Roberta prediction: howto_apply \n",
      "Probability: 0.7541433\n",
      "\u001b[1m\u001b[31m\n",
      "Mismatch\u001b[0m\n",
      "\u001b[32mLabel: reinstate_application\u001b[0m\n",
      "----------------------------------------\n"
     ]
    },
    {
     "data": {
      "text/html": [],
      "text/plain": [
       "<IPython.core.display.HTML object>"
      ]
     },
     "metadata": {},
     "output_type": "display_data"
    },
    {
     "data": {
      "text/html": [],
      "text/plain": [
       "<IPython.core.display.HTML object>"
      ]
     },
     "metadata": {},
     "output_type": "display_data"
    },
    {
     "data": {
      "text/html": [],
      "text/plain": [
       "<IPython.core.display.HTML object>"
      ]
     },
     "metadata": {},
     "output_type": "display_data"
    },
    {
     "name": "stdout",
     "output_type": "stream",
     "text": [
      "Text:  day apply role interested\n",
      "\n",
      "SVM prediction: job_close_date \n",
      "Probability: 0.7126134223779059\n",
      "\n",
      "Roberta prediction: howto_apply \n",
      "Probability: 0.84272057\n",
      "\u001b[1m\u001b[31m\n",
      "Mismatch\u001b[0m\n",
      "\u001b[32mLabel: job_close_date\u001b[0m\n",
      "----------------------------------------\n"
     ]
    },
    {
     "data": {
      "text/html": [],
      "text/plain": [
       "<IPython.core.display.HTML object>"
      ]
     },
     "metadata": {},
     "output_type": "display_data"
    },
    {
     "name": "stdout",
     "output_type": "stream",
     "text": [
      "Text:  write email inquire likely job opportunity boot interested work company hardworke enthusiastic come achieve goal work customer eye tiny detail prepare commit training require experience work boot refer cv moment resume attach document sincerely\n",
      "\n",
      "SVM prediction: job_alerts \n",
      "Probability: 0.6439875157157023\n",
      "\n",
      "Roberta prediction: howto_apply \n",
      "Probability: 0.78623664\n",
      "\u001b[1m\u001b[31m\n",
      "Mismatch\u001b[0m\n",
      "\u001b[32mLabel: job_alerts\u001b[0m\n",
      "----------------------------------------\n"
     ]
    },
    {
     "data": {
      "text/html": [],
      "text/plain": [
       "<IPython.core.display.HTML object>"
      ]
     },
     "metadata": {},
     "output_type": "display_data"
    },
    {
     "data": {
      "text/html": [],
      "text/plain": [
       "<IPython.core.display.HTML object>"
      ]
     },
     "metadata": {},
     "output_type": "display_data"
    },
    {
     "data": {
      "text/html": [],
      "text/plain": [
       "<IPython.core.display.HTML object>"
      ]
     },
     "metadata": {},
     "output_type": "display_data"
    },
    {
     "name": "stdout",
     "output_type": "stream",
     "text": [
      "Text:  pay probation period\n",
      "\n",
      "SVM prediction: salary \n",
      "Probability: 0.6756080681683514\n",
      "\n",
      "Roberta prediction: assessment_timebox \n",
      "Probability: 0.3425847\n",
      "\u001b[1m\u001b[31m\n",
      "Mismatch\u001b[0m\n",
      "\u001b[32mLabel: salary\u001b[0m\n",
      "----------------------------------------\n",
      "\u001b[1m\u001b[32m\n",
      "Average prediction accuracy (SVM): 0.6862536307163604\u001b[0m\n",
      "\u001b[1m\u001b[32mAverage prediction accuracy (Roberta): 0.8010863111569331\u001b[0m\n",
      "\u001b[1m\u001b[34mTotal Instances: 102\u001b[0m\n"
     ]
    }
   ],
   "source": [
    "avg_svm = 0\n",
    "avg_roberta = 0\n",
    "instances = 0\n",
    "\n",
    "dataset = x_train\n",
    "labels = y_train\n",
    "\n",
    "for i in range(0, dataset.shape[0]):\n",
    "    text = dataset.iloc[i]\n",
    "#     print(\"Text: \", text)\n",
    "\n",
    "    roberta_pred_prob_arr = predictor.predict_proba([text])[0] #roberta_predictions[i]\n",
    "    robera_pred_prob = max(roberta_pred_prob_arr)\n",
    "    roberta_pred = le.inverse_transform([np.argmax(roberta_pred_prob_arr)])[0]\n",
    "    avg_roberta += robera_pred_prob\n",
    "    \n",
    "#     print(\"\\nRoberta prediction:\", roberta_pred, \"\\nProbability:\", robera_pred_prob)\n",
    "\n",
    "    svm_pred_prob_arr = pipe.predict_proba([text])[0] # predicted[i]\n",
    "    svm_pred_prob = max(svm_pred_prob_arr)\n",
    "    svm_pred = le.inverse_transform([np.argmax(svm_pred_prob_arr)])[0]\n",
    "    avg_svm += svm_pred_prob\n",
    "\n",
    "#     print(\"\\nSVM prediction:\", svm_pred, \"\\nProbability:\", svm_pred_prob)\n",
    "\n",
    "#     SVM correct, Roberta wrong\n",
    "    if (svm_pred != roberta_pred and labels.iloc[i] == svm_pred):\n",
    "        \n",
    "#     Roberta correct, SVM wrong\n",
    "#     if (svm_pred != roberta_pred and labels.iloc[i] == roberta_pred):\n",
    "\n",
    "#     Both models wrong\n",
    "#     if (svm_pred != labels.iloc[i] and roberta_pred != labels.iloc[i]):\n",
    "        print(\"Text: \", text)\n",
    "        print(\"\\nSVM prediction:\", svm_pred, \"\\nProbability:\", svm_pred_prob)\n",
    "        print(\"\\nRoberta prediction:\", roberta_pred, \"\\nProbability:\", robera_pred_prob)\n",
    "\n",
    "        print(colored('\\nMismatch', 'red', attrs=['bold']))\n",
    "        print(colored('Label: ' + str(labels.iloc[i]), 'green'))\n",
    "#         print(colored('Ensemble: ' + str(ensmbl_preds[i]), 'blue'))\n",
    "        instances += 1\n",
    "        \n",
    "        print(\"--\" * 20)\n",
    "    \n",
    "print(colored(\"\\nAverage prediction accuracy (SVM): \" + str(avg_svm/dataset.shape[0]), 'green', attrs=['bold']))\n",
    "print(colored(\"Average prediction accuracy (Roberta): \" + str(avg_roberta/dataset.shape[0]), 'green', attrs=['bold']))\n",
    "print(colored(\"Total Instances: \" + str(instances), 'blue', attrs=['bold']))"
   ]
  },
  {
   "cell_type": "markdown",
   "metadata": {
    "heading_collapsed": true
   },
   "source": [
    "### Manually Scaling Probabilities"
   ]
  },
  {
   "cell_type": "code",
   "execution_count": 86,
   "metadata": {
    "hidden": true,
    "scrolled": true
   },
   "outputs": [
    {
     "name": "stdout",
     "output_type": "stream",
     "text": [
      "----------------------------------------\n"
     ]
    },
    {
     "data": {
      "text/html": [],
      "text/plain": [
       "<IPython.core.display.HTML object>"
      ]
     },
     "metadata": {},
     "output_type": "display_data"
    },
    {
     "name": "stdout",
     "output_type": "stream",
     "text": [
      "----------------------------------------\n"
     ]
    },
    {
     "name": "stderr",
     "output_type": "stream",
     "text": [
      "C:\\Users\\Amer\\Miniconda3\\envs\\nlp\\lib\\site-packages\\sklearn\\preprocessing\\label.py:273: DataConversionWarning: A column-vector y was passed when a 1d array was expected. Please change the shape of y to (n_samples, ), for example using ravel().\n",
      "  y = column_or_1d(y, warn=True)\n"
     ]
    },
    {
     "data": {
      "text/html": [],
      "text/plain": [
       "<IPython.core.display.HTML object>"
      ]
     },
     "metadata": {},
     "output_type": "display_data"
    },
    {
     "name": "stdout",
     "output_type": "stream",
     "text": [
      "----------------------------------------\n"
     ]
    },
    {
     "name": "stderr",
     "output_type": "stream",
     "text": [
      "C:\\Users\\Amer\\Miniconda3\\envs\\nlp\\lib\\site-packages\\sklearn\\preprocessing\\label.py:273: DataConversionWarning: A column-vector y was passed when a 1d array was expected. Please change the shape of y to (n_samples, ), for example using ravel().\n",
      "  y = column_or_1d(y, warn=True)\n"
     ]
    },
    {
     "data": {
      "text/html": [],
      "text/plain": [
       "<IPython.core.display.HTML object>"
      ]
     },
     "metadata": {},
     "output_type": "display_data"
    },
    {
     "name": "stdout",
     "output_type": "stream",
     "text": [
      "----------------------------------------\n"
     ]
    },
    {
     "name": "stderr",
     "output_type": "stream",
     "text": [
      "C:\\Users\\Amer\\Miniconda3\\envs\\nlp\\lib\\site-packages\\sklearn\\preprocessing\\label.py:273: DataConversionWarning: A column-vector y was passed when a 1d array was expected. Please change the shape of y to (n_samples, ), for example using ravel().\n",
      "  y = column_or_1d(y, warn=True)\n"
     ]
    },
    {
     "data": {
      "text/html": [],
      "text/plain": [
       "<IPython.core.display.HTML object>"
      ]
     },
     "metadata": {},
     "output_type": "display_data"
    },
    {
     "name": "stdout",
     "output_type": "stream",
     "text": [
      "----------------------------------------\n"
     ]
    },
    {
     "name": "stderr",
     "output_type": "stream",
     "text": [
      "C:\\Users\\Amer\\Miniconda3\\envs\\nlp\\lib\\site-packages\\sklearn\\preprocessing\\label.py:273: DataConversionWarning: A column-vector y was passed when a 1d array was expected. Please change the shape of y to (n_samples, ), for example using ravel().\n",
      "  y = column_or_1d(y, warn=True)\n"
     ]
    },
    {
     "data": {
      "text/html": [],
      "text/plain": [
       "<IPython.core.display.HTML object>"
      ]
     },
     "metadata": {},
     "output_type": "display_data"
    },
    {
     "name": "stdout",
     "output_type": "stream",
     "text": [
      "----------------------------------------\n"
     ]
    },
    {
     "name": "stderr",
     "output_type": "stream",
     "text": [
      "C:\\Users\\Amer\\Miniconda3\\envs\\nlp\\lib\\site-packages\\sklearn\\preprocessing\\label.py:273: DataConversionWarning: A column-vector y was passed when a 1d array was expected. Please change the shape of y to (n_samples, ), for example using ravel().\n",
      "  y = column_or_1d(y, warn=True)\n"
     ]
    },
    {
     "data": {
      "text/html": [],
      "text/plain": [
       "<IPython.core.display.HTML object>"
      ]
     },
     "metadata": {},
     "output_type": "display_data"
    },
    {
     "name": "stdout",
     "output_type": "stream",
     "text": [
      "----------------------------------------\n"
     ]
    },
    {
     "name": "stderr",
     "output_type": "stream",
     "text": [
      "C:\\Users\\Amer\\Miniconda3\\envs\\nlp\\lib\\site-packages\\sklearn\\preprocessing\\label.py:273: DataConversionWarning: A column-vector y was passed when a 1d array was expected. Please change the shape of y to (n_samples, ), for example using ravel().\n",
      "  y = column_or_1d(y, warn=True)\n"
     ]
    },
    {
     "data": {
      "text/html": [],
      "text/plain": [
       "<IPython.core.display.HTML object>"
      ]
     },
     "metadata": {},
     "output_type": "display_data"
    },
    {
     "name": "stdout",
     "output_type": "stream",
     "text": [
      "----------------------------------------\n"
     ]
    },
    {
     "name": "stderr",
     "output_type": "stream",
     "text": [
      "C:\\Users\\Amer\\Miniconda3\\envs\\nlp\\lib\\site-packages\\sklearn\\preprocessing\\label.py:273: DataConversionWarning: A column-vector y was passed when a 1d array was expected. Please change the shape of y to (n_samples, ), for example using ravel().\n",
      "  y = column_or_1d(y, warn=True)\n"
     ]
    },
    {
     "data": {
      "text/html": [],
      "text/plain": [
       "<IPython.core.display.HTML object>"
      ]
     },
     "metadata": {},
     "output_type": "display_data"
    },
    {
     "name": "stdout",
     "output_type": "stream",
     "text": [
      "----------------------------------------\n"
     ]
    },
    {
     "name": "stderr",
     "output_type": "stream",
     "text": [
      "C:\\Users\\Amer\\Miniconda3\\envs\\nlp\\lib\\site-packages\\sklearn\\preprocessing\\label.py:273: DataConversionWarning: A column-vector y was passed when a 1d array was expected. Please change the shape of y to (n_samples, ), for example using ravel().\n",
      "  y = column_or_1d(y, warn=True)\n"
     ]
    },
    {
     "data": {
      "text/html": [],
      "text/plain": [
       "<IPython.core.display.HTML object>"
      ]
     },
     "metadata": {},
     "output_type": "display_data"
    },
    {
     "name": "stdout",
     "output_type": "stream",
     "text": [
      "----------------------------------------\n"
     ]
    },
    {
     "name": "stderr",
     "output_type": "stream",
     "text": [
      "C:\\Users\\Amer\\Miniconda3\\envs\\nlp\\lib\\site-packages\\sklearn\\preprocessing\\label.py:273: DataConversionWarning: A column-vector y was passed when a 1d array was expected. Please change the shape of y to (n_samples, ), for example using ravel().\n",
      "  y = column_or_1d(y, warn=True)\n"
     ]
    },
    {
     "data": {
      "text/html": [],
      "text/plain": [
       "<IPython.core.display.HTML object>"
      ]
     },
     "metadata": {},
     "output_type": "display_data"
    },
    {
     "name": "stdout",
     "output_type": "stream",
     "text": [
      "----------------------------------------\n"
     ]
    },
    {
     "name": "stderr",
     "output_type": "stream",
     "text": [
      "C:\\Users\\Amer\\Miniconda3\\envs\\nlp\\lib\\site-packages\\sklearn\\preprocessing\\label.py:273: DataConversionWarning: A column-vector y was passed when a 1d array was expected. Please change the shape of y to (n_samples, ), for example using ravel().\n",
      "  y = column_or_1d(y, warn=True)\n"
     ]
    },
    {
     "data": {
      "text/html": [],
      "text/plain": [
       "<IPython.core.display.HTML object>"
      ]
     },
     "metadata": {},
     "output_type": "display_data"
    },
    {
     "name": "stdout",
     "output_type": "stream",
     "text": [
      "----------------------------------------\n"
     ]
    },
    {
     "name": "stderr",
     "output_type": "stream",
     "text": [
      "C:\\Users\\Amer\\Miniconda3\\envs\\nlp\\lib\\site-packages\\sklearn\\preprocessing\\label.py:273: DataConversionWarning: A column-vector y was passed when a 1d array was expected. Please change the shape of y to (n_samples, ), for example using ravel().\n",
      "  y = column_or_1d(y, warn=True)\n"
     ]
    },
    {
     "data": {
      "text/html": [],
      "text/plain": [
       "<IPython.core.display.HTML object>"
      ]
     },
     "metadata": {},
     "output_type": "display_data"
    },
    {
     "name": "stdout",
     "output_type": "stream",
     "text": [
      "----------------------------------------\n"
     ]
    },
    {
     "name": "stderr",
     "output_type": "stream",
     "text": [
      "C:\\Users\\Amer\\Miniconda3\\envs\\nlp\\lib\\site-packages\\sklearn\\preprocessing\\label.py:273: DataConversionWarning: A column-vector y was passed when a 1d array was expected. Please change the shape of y to (n_samples, ), for example using ravel().\n",
      "  y = column_or_1d(y, warn=True)\n"
     ]
    },
    {
     "data": {
      "text/html": [],
      "text/plain": [
       "<IPython.core.display.HTML object>"
      ]
     },
     "metadata": {},
     "output_type": "display_data"
    },
    {
     "name": "stdout",
     "output_type": "stream",
     "text": [
      "----------------------------------------\n"
     ]
    },
    {
     "name": "stderr",
     "output_type": "stream",
     "text": [
      "C:\\Users\\Amer\\Miniconda3\\envs\\nlp\\lib\\site-packages\\sklearn\\preprocessing\\label.py:273: DataConversionWarning: A column-vector y was passed when a 1d array was expected. Please change the shape of y to (n_samples, ), for example using ravel().\n",
      "  y = column_or_1d(y, warn=True)\n"
     ]
    },
    {
     "data": {
      "text/html": [],
      "text/plain": [
       "<IPython.core.display.HTML object>"
      ]
     },
     "metadata": {},
     "output_type": "display_data"
    },
    {
     "name": "stdout",
     "output_type": "stream",
     "text": [
      "----------------------------------------\n"
     ]
    },
    {
     "name": "stderr",
     "output_type": "stream",
     "text": [
      "C:\\Users\\Amer\\Miniconda3\\envs\\nlp\\lib\\site-packages\\sklearn\\preprocessing\\label.py:273: DataConversionWarning: A column-vector y was passed when a 1d array was expected. Please change the shape of y to (n_samples, ), for example using ravel().\n",
      "  y = column_or_1d(y, warn=True)\n"
     ]
    },
    {
     "data": {
      "text/html": [],
      "text/plain": [
       "<IPython.core.display.HTML object>"
      ]
     },
     "metadata": {},
     "output_type": "display_data"
    },
    {
     "name": "stdout",
     "output_type": "stream",
     "text": [
      "----------------------------------------\n"
     ]
    },
    {
     "name": "stderr",
     "output_type": "stream",
     "text": [
      "C:\\Users\\Amer\\Miniconda3\\envs\\nlp\\lib\\site-packages\\sklearn\\preprocessing\\label.py:273: DataConversionWarning: A column-vector y was passed when a 1d array was expected. Please change the shape of y to (n_samples, ), for example using ravel().\n",
      "  y = column_or_1d(y, warn=True)\n"
     ]
    },
    {
     "data": {
      "text/html": [],
      "text/plain": [
       "<IPython.core.display.HTML object>"
      ]
     },
     "metadata": {},
     "output_type": "display_data"
    },
    {
     "name": "stdout",
     "output_type": "stream",
     "text": [
      "----------------------------------------\n"
     ]
    },
    {
     "name": "stderr",
     "output_type": "stream",
     "text": [
      "C:\\Users\\Amer\\Miniconda3\\envs\\nlp\\lib\\site-packages\\sklearn\\preprocessing\\label.py:273: DataConversionWarning: A column-vector y was passed when a 1d array was expected. Please change the shape of y to (n_samples, ), for example using ravel().\n",
      "  y = column_or_1d(y, warn=True)\n"
     ]
    },
    {
     "data": {
      "text/html": [],
      "text/plain": [
       "<IPython.core.display.HTML object>"
      ]
     },
     "metadata": {},
     "output_type": "display_data"
    },
    {
     "name": "stdout",
     "output_type": "stream",
     "text": [
      "----------------------------------------\n"
     ]
    },
    {
     "name": "stderr",
     "output_type": "stream",
     "text": [
      "C:\\Users\\Amer\\Miniconda3\\envs\\nlp\\lib\\site-packages\\sklearn\\preprocessing\\label.py:273: DataConversionWarning: A column-vector y was passed when a 1d array was expected. Please change the shape of y to (n_samples, ), for example using ravel().\n",
      "  y = column_or_1d(y, warn=True)\n"
     ]
    },
    {
     "data": {
      "text/html": [],
      "text/plain": [
       "<IPython.core.display.HTML object>"
      ]
     },
     "metadata": {},
     "output_type": "display_data"
    },
    {
     "name": "stdout",
     "output_type": "stream",
     "text": [
      "----------------------------------------\n"
     ]
    },
    {
     "name": "stderr",
     "output_type": "stream",
     "text": [
      "C:\\Users\\Amer\\Miniconda3\\envs\\nlp\\lib\\site-packages\\sklearn\\preprocessing\\label.py:273: DataConversionWarning: A column-vector y was passed when a 1d array was expected. Please change the shape of y to (n_samples, ), for example using ravel().\n",
      "  y = column_or_1d(y, warn=True)\n"
     ]
    },
    {
     "data": {
      "text/html": [],
      "text/plain": [
       "<IPython.core.display.HTML object>"
      ]
     },
     "metadata": {},
     "output_type": "display_data"
    },
    {
     "name": "stdout",
     "output_type": "stream",
     "text": [
      "----------------------------------------\n"
     ]
    },
    {
     "name": "stderr",
     "output_type": "stream",
     "text": [
      "C:\\Users\\Amer\\Miniconda3\\envs\\nlp\\lib\\site-packages\\sklearn\\preprocessing\\label.py:273: DataConversionWarning: A column-vector y was passed when a 1d array was expected. Please change the shape of y to (n_samples, ), for example using ravel().\n",
      "  y = column_or_1d(y, warn=True)\n"
     ]
    },
    {
     "data": {
      "text/html": [],
      "text/plain": [
       "<IPython.core.display.HTML object>"
      ]
     },
     "metadata": {},
     "output_type": "display_data"
    },
    {
     "name": "stdout",
     "output_type": "stream",
     "text": [
      "----------------------------------------\n"
     ]
    },
    {
     "name": "stderr",
     "output_type": "stream",
     "text": [
      "C:\\Users\\Amer\\Miniconda3\\envs\\nlp\\lib\\site-packages\\sklearn\\preprocessing\\label.py:273: DataConversionWarning: A column-vector y was passed when a 1d array was expected. Please change the shape of y to (n_samples, ), for example using ravel().\n",
      "  y = column_or_1d(y, warn=True)\n"
     ]
    },
    {
     "data": {
      "text/html": [],
      "text/plain": [
       "<IPython.core.display.HTML object>"
      ]
     },
     "metadata": {},
     "output_type": "display_data"
    },
    {
     "name": "stdout",
     "output_type": "stream",
     "text": [
      "----------------------------------------\n"
     ]
    },
    {
     "name": "stderr",
     "output_type": "stream",
     "text": [
      "C:\\Users\\Amer\\Miniconda3\\envs\\nlp\\lib\\site-packages\\sklearn\\preprocessing\\label.py:273: DataConversionWarning: A column-vector y was passed when a 1d array was expected. Please change the shape of y to (n_samples, ), for example using ravel().\n",
      "  y = column_or_1d(y, warn=True)\n"
     ]
    },
    {
     "data": {
      "text/html": [],
      "text/plain": [
       "<IPython.core.display.HTML object>"
      ]
     },
     "metadata": {},
     "output_type": "display_data"
    },
    {
     "name": "stdout",
     "output_type": "stream",
     "text": [
      "----------------------------------------\n"
     ]
    },
    {
     "name": "stderr",
     "output_type": "stream",
     "text": [
      "C:\\Users\\Amer\\Miniconda3\\envs\\nlp\\lib\\site-packages\\sklearn\\preprocessing\\label.py:273: DataConversionWarning: A column-vector y was passed when a 1d array was expected. Please change the shape of y to (n_samples, ), for example using ravel().\n",
      "  y = column_or_1d(y, warn=True)\n"
     ]
    },
    {
     "data": {
      "text/html": [],
      "text/plain": [
       "<IPython.core.display.HTML object>"
      ]
     },
     "metadata": {},
     "output_type": "display_data"
    },
    {
     "name": "stdout",
     "output_type": "stream",
     "text": [
      "\u001b[1m\u001b[31mMismatch\u001b[0m\n",
      "\u001b[35m\n",
      "Text: send application role time\u001b[0m\n",
      "\u001b[34mLabel: multiple_role\u001b[0m\n",
      "\n",
      "SVM prediction: application_status \n",
      "Probability: 0.2998763538744035\n",
      "\n",
      "Roberta prediction: multiple_role \n",
      "Probability: 0.91299707\n",
      "\n",
      "Ensemble prediction: multiple_role\n",
      "LR prediction: disability\n",
      "----------------------------------------\n"
     ]
    },
    {
     "name": "stderr",
     "output_type": "stream",
     "text": [
      "C:\\Users\\Amer\\Miniconda3\\envs\\nlp\\lib\\site-packages\\sklearn\\preprocessing\\label.py:273: DataConversionWarning: A column-vector y was passed when a 1d array was expected. Please change the shape of y to (n_samples, ), for example using ravel().\n",
      "  y = column_or_1d(y, warn=True)\n"
     ]
    },
    {
     "data": {
      "text/html": [],
      "text/plain": [
       "<IPython.core.display.HTML object>"
      ]
     },
     "metadata": {},
     "output_type": "display_data"
    },
    {
     "name": "stdout",
     "output_type": "stream",
     "text": [
      "----------------------------------------\n"
     ]
    },
    {
     "name": "stderr",
     "output_type": "stream",
     "text": [
      "C:\\Users\\Amer\\Miniconda3\\envs\\nlp\\lib\\site-packages\\sklearn\\preprocessing\\label.py:273: DataConversionWarning: A column-vector y was passed when a 1d array was expected. Please change the shape of y to (n_samples, ), for example using ravel().\n",
      "  y = column_or_1d(y, warn=True)\n"
     ]
    },
    {
     "data": {
      "text/html": [],
      "text/plain": [
       "<IPython.core.display.HTML object>"
      ]
     },
     "metadata": {},
     "output_type": "display_data"
    },
    {
     "name": "stdout",
     "output_type": "stream",
     "text": [
      "----------------------------------------\n"
     ]
    },
    {
     "name": "stderr",
     "output_type": "stream",
     "text": [
      "C:\\Users\\Amer\\Miniconda3\\envs\\nlp\\lib\\site-packages\\sklearn\\preprocessing\\label.py:273: DataConversionWarning: A column-vector y was passed when a 1d array was expected. Please change the shape of y to (n_samples, ), for example using ravel().\n",
      "  y = column_or_1d(y, warn=True)\n"
     ]
    },
    {
     "data": {
      "text/html": [],
      "text/plain": [
       "<IPython.core.display.HTML object>"
      ]
     },
     "metadata": {},
     "output_type": "display_data"
    },
    {
     "name": "stdout",
     "output_type": "stream",
     "text": [
      "----------------------------------------\n"
     ]
    },
    {
     "name": "stderr",
     "output_type": "stream",
     "text": [
      "C:\\Users\\Amer\\Miniconda3\\envs\\nlp\\lib\\site-packages\\sklearn\\preprocessing\\label.py:273: DataConversionWarning: A column-vector y was passed when a 1d array was expected. Please change the shape of y to (n_samples, ), for example using ravel().\n",
      "  y = column_or_1d(y, warn=True)\n"
     ]
    },
    {
     "data": {
      "text/html": [],
      "text/plain": [
       "<IPython.core.display.HTML object>"
      ]
     },
     "metadata": {},
     "output_type": "display_data"
    },
    {
     "name": "stdout",
     "output_type": "stream",
     "text": [
      "----------------------------------------\n"
     ]
    },
    {
     "name": "stderr",
     "output_type": "stream",
     "text": [
      "C:\\Users\\Amer\\Miniconda3\\envs\\nlp\\lib\\site-packages\\sklearn\\preprocessing\\label.py:273: DataConversionWarning: A column-vector y was passed when a 1d array was expected. Please change the shape of y to (n_samples, ), for example using ravel().\n",
      "  y = column_or_1d(y, warn=True)\n"
     ]
    },
    {
     "data": {
      "text/html": [],
      "text/plain": [
       "<IPython.core.display.HTML object>"
      ]
     },
     "metadata": {},
     "output_type": "display_data"
    },
    {
     "name": "stdout",
     "output_type": "stream",
     "text": [
      "----------------------------------------\n"
     ]
    },
    {
     "name": "stderr",
     "output_type": "stream",
     "text": [
      "C:\\Users\\Amer\\Miniconda3\\envs\\nlp\\lib\\site-packages\\sklearn\\preprocessing\\label.py:273: DataConversionWarning: A column-vector y was passed when a 1d array was expected. Please change the shape of y to (n_samples, ), for example using ravel().\n",
      "  y = column_or_1d(y, warn=True)\n"
     ]
    },
    {
     "data": {
      "text/html": [],
      "text/plain": [
       "<IPython.core.display.HTML object>"
      ]
     },
     "metadata": {},
     "output_type": "display_data"
    },
    {
     "name": "stdout",
     "output_type": "stream",
     "text": [
      "----------------------------------------\n"
     ]
    },
    {
     "name": "stderr",
     "output_type": "stream",
     "text": [
      "C:\\Users\\Amer\\Miniconda3\\envs\\nlp\\lib\\site-packages\\sklearn\\preprocessing\\label.py:273: DataConversionWarning: A column-vector y was passed when a 1d array was expected. Please change the shape of y to (n_samples, ), for example using ravel().\n",
      "  y = column_or_1d(y, warn=True)\n"
     ]
    },
    {
     "data": {
      "text/html": [],
      "text/plain": [
       "<IPython.core.display.HTML object>"
      ]
     },
     "metadata": {},
     "output_type": "display_data"
    },
    {
     "name": "stdout",
     "output_type": "stream",
     "text": [
      "\u001b[1m\u001b[31mMismatch\u001b[0m\n",
      "\u001b[35m\n",
      "Text: good evening recently apply job faced counter chelmsford boot branch attach resume wander able help interested job help appreciate thank\u001b[0m\n",
      "\u001b[34mLabel: cv_past_experience\u001b[0m\n",
      "\n",
      "SVM prediction: job_alerts \n",
      "Probability: 0.3894585203840947\n",
      "\n",
      "Roberta prediction: reinstate_application \n",
      "Probability: 0.69205695\n",
      "\n",
      "Ensemble prediction: reinstate_application\n",
      "LR prediction: job_alerts\n",
      "----------------------------------------\n"
     ]
    },
    {
     "name": "stderr",
     "output_type": "stream",
     "text": [
      "C:\\Users\\Amer\\Miniconda3\\envs\\nlp\\lib\\site-packages\\sklearn\\preprocessing\\label.py:273: DataConversionWarning: A column-vector y was passed when a 1d array was expected. Please change the shape of y to (n_samples, ), for example using ravel().\n",
      "  y = column_or_1d(y, warn=True)\n"
     ]
    },
    {
     "data": {
      "text/html": [],
      "text/plain": [
       "<IPython.core.display.HTML object>"
      ]
     },
     "metadata": {},
     "output_type": "display_data"
    },
    {
     "name": "stdout",
     "output_type": "stream",
     "text": [
      "----------------------------------------\n"
     ]
    },
    {
     "name": "stderr",
     "output_type": "stream",
     "text": [
      "C:\\Users\\Amer\\Miniconda3\\envs\\nlp\\lib\\site-packages\\sklearn\\preprocessing\\label.py:273: DataConversionWarning: A column-vector y was passed when a 1d array was expected. Please change the shape of y to (n_samples, ), for example using ravel().\n",
      "  y = column_or_1d(y, warn=True)\n"
     ]
    },
    {
     "data": {
      "text/html": [],
      "text/plain": [
       "<IPython.core.display.HTML object>"
      ]
     },
     "metadata": {},
     "output_type": "display_data"
    },
    {
     "name": "stdout",
     "output_type": "stream",
     "text": [
      "----------------------------------------\n"
     ]
    },
    {
     "name": "stderr",
     "output_type": "stream",
     "text": [
      "C:\\Users\\Amer\\Miniconda3\\envs\\nlp\\lib\\site-packages\\sklearn\\preprocessing\\label.py:273: DataConversionWarning: A column-vector y was passed when a 1d array was expected. Please change the shape of y to (n_samples, ), for example using ravel().\n",
      "  y = column_or_1d(y, warn=True)\n"
     ]
    },
    {
     "data": {
      "text/html": [],
      "text/plain": [
       "<IPython.core.display.HTML object>"
      ]
     },
     "metadata": {},
     "output_type": "display_data"
    },
    {
     "name": "stdout",
     "output_type": "stream",
     "text": [
      "----------------------------------------\n"
     ]
    },
    {
     "name": "stderr",
     "output_type": "stream",
     "text": [
      "C:\\Users\\Amer\\Miniconda3\\envs\\nlp\\lib\\site-packages\\sklearn\\preprocessing\\label.py:273: DataConversionWarning: A column-vector y was passed when a 1d array was expected. Please change the shape of y to (n_samples, ), for example using ravel().\n",
      "  y = column_or_1d(y, warn=True)\n"
     ]
    },
    {
     "data": {
      "text/html": [],
      "text/plain": [
       "<IPython.core.display.HTML object>"
      ]
     },
     "metadata": {},
     "output_type": "display_data"
    },
    {
     "name": "stdout",
     "output_type": "stream",
     "text": [
      "\u001b[1m\u001b[31mMismatch\u001b[0m\n",
      "\u001b[35m\n",
      "Text: expect hear boot apply position\u001b[0m\n",
      "\u001b[34mLabel: application_status\u001b[0m\n",
      "\n",
      "SVM prediction: multiple_role \n",
      "Probability: 0.21776427691809935\n",
      "\n",
      "Roberta prediction: application_status \n",
      "Probability: 0.9741682\n",
      "\n",
      "Ensemble prediction: application_status\n",
      "LR prediction: reinstate_application\n",
      "----------------------------------------\n"
     ]
    },
    {
     "name": "stderr",
     "output_type": "stream",
     "text": [
      "C:\\Users\\Amer\\Miniconda3\\envs\\nlp\\lib\\site-packages\\sklearn\\preprocessing\\label.py:273: DataConversionWarning: A column-vector y was passed when a 1d array was expected. Please change the shape of y to (n_samples, ), for example using ravel().\n",
      "  y = column_or_1d(y, warn=True)\n"
     ]
    },
    {
     "data": {
      "text/html": [],
      "text/plain": [
       "<IPython.core.display.HTML object>"
      ]
     },
     "metadata": {},
     "output_type": "display_data"
    },
    {
     "name": "stdout",
     "output_type": "stream",
     "text": [
      "----------------------------------------\n"
     ]
    },
    {
     "name": "stderr",
     "output_type": "stream",
     "text": [
      "C:\\Users\\Amer\\Miniconda3\\envs\\nlp\\lib\\site-packages\\sklearn\\preprocessing\\label.py:273: DataConversionWarning: A column-vector y was passed when a 1d array was expected. Please change the shape of y to (n_samples, ), for example using ravel().\n",
      "  y = column_or_1d(y, warn=True)\n"
     ]
    },
    {
     "data": {
      "text/html": [],
      "text/plain": [
       "<IPython.core.display.HTML object>"
      ]
     },
     "metadata": {},
     "output_type": "display_data"
    },
    {
     "name": "stdout",
     "output_type": "stream",
     "text": [
      "----------------------------------------\n"
     ]
    },
    {
     "name": "stderr",
     "output_type": "stream",
     "text": [
      "C:\\Users\\Amer\\Miniconda3\\envs\\nlp\\lib\\site-packages\\sklearn\\preprocessing\\label.py:273: DataConversionWarning: A column-vector y was passed when a 1d array was expected. Please change the shape of y to (n_samples, ), for example using ravel().\n",
      "  y = column_or_1d(y, warn=True)\n"
     ]
    },
    {
     "data": {
      "text/html": [],
      "text/plain": [
       "<IPython.core.display.HTML object>"
      ]
     },
     "metadata": {},
     "output_type": "display_data"
    },
    {
     "name": "stdout",
     "output_type": "stream",
     "text": [
      "----------------------------------------\n"
     ]
    },
    {
     "name": "stderr",
     "output_type": "stream",
     "text": [
      "C:\\Users\\Amer\\Miniconda3\\envs\\nlp\\lib\\site-packages\\sklearn\\preprocessing\\label.py:273: DataConversionWarning: A column-vector y was passed when a 1d array was expected. Please change the shape of y to (n_samples, ), for example using ravel().\n",
      "  y = column_or_1d(y, warn=True)\n"
     ]
    },
    {
     "data": {
      "text/html": [],
      "text/plain": [
       "<IPython.core.display.HTML object>"
      ]
     },
     "metadata": {},
     "output_type": "display_data"
    },
    {
     "name": "stdout",
     "output_type": "stream",
     "text": [
      "----------------------------------------\n"
     ]
    },
    {
     "name": "stderr",
     "output_type": "stream",
     "text": [
      "C:\\Users\\Amer\\Miniconda3\\envs\\nlp\\lib\\site-packages\\sklearn\\preprocessing\\label.py:273: DataConversionWarning: A column-vector y was passed when a 1d array was expected. Please change the shape of y to (n_samples, ), for example using ravel().\n",
      "  y = column_or_1d(y, warn=True)\n"
     ]
    },
    {
     "data": {
      "text/html": [],
      "text/plain": [
       "<IPython.core.display.HTML object>"
      ]
     },
     "metadata": {},
     "output_type": "display_data"
    },
    {
     "name": "stdout",
     "output_type": "stream",
     "text": [
      "----------------------------------------\n"
     ]
    },
    {
     "name": "stderr",
     "output_type": "stream",
     "text": [
      "C:\\Users\\Amer\\Miniconda3\\envs\\nlp\\lib\\site-packages\\sklearn\\preprocessing\\label.py:273: DataConversionWarning: A column-vector y was passed when a 1d array was expected. Please change the shape of y to (n_samples, ), for example using ravel().\n",
      "  y = column_or_1d(y, warn=True)\n"
     ]
    },
    {
     "data": {
      "text/html": [],
      "text/plain": [
       "<IPython.core.display.HTML object>"
      ]
     },
     "metadata": {},
     "output_type": "display_data"
    },
    {
     "name": "stdout",
     "output_type": "stream",
     "text": [
      "----------------------------------------\n"
     ]
    },
    {
     "name": "stderr",
     "output_type": "stream",
     "text": [
      "C:\\Users\\Amer\\Miniconda3\\envs\\nlp\\lib\\site-packages\\sklearn\\preprocessing\\label.py:273: DataConversionWarning: A column-vector y was passed when a 1d array was expected. Please change the shape of y to (n_samples, ), for example using ravel().\n",
      "  y = column_or_1d(y, warn=True)\n"
     ]
    },
    {
     "data": {
      "text/html": [],
      "text/plain": [
       "<IPython.core.display.HTML object>"
      ]
     },
     "metadata": {},
     "output_type": "display_data"
    },
    {
     "name": "stdout",
     "output_type": "stream",
     "text": [
      "----------------------------------------\n"
     ]
    },
    {
     "name": "stderr",
     "output_type": "stream",
     "text": [
      "C:\\Users\\Amer\\Miniconda3\\envs\\nlp\\lib\\site-packages\\sklearn\\preprocessing\\label.py:273: DataConversionWarning: A column-vector y was passed when a 1d array was expected. Please change the shape of y to (n_samples, ), for example using ravel().\n",
      "  y = column_or_1d(y, warn=True)\n"
     ]
    },
    {
     "data": {
      "text/html": [],
      "text/plain": [
       "<IPython.core.display.HTML object>"
      ]
     },
     "metadata": {},
     "output_type": "display_data"
    },
    {
     "name": "stdout",
     "output_type": "stream",
     "text": [
      "\u001b[1m\u001b[31mMismatch\u001b[0m\n",
      "\u001b[35m\n",
      "Text: response reject\u001b[0m\n",
      "\u001b[34mLabel: feedback\u001b[0m\n",
      "\n",
      "SVM prediction: feedback \n",
      "Probability: 0.5691805852081928\n",
      "\n",
      "Roberta prediction: application_status \n",
      "Probability: 0.85831714\n",
      "\n",
      "Ensemble prediction: application_status\n",
      "LR prediction: feedback\n",
      "----------------------------------------\n"
     ]
    },
    {
     "name": "stderr",
     "output_type": "stream",
     "text": [
      "C:\\Users\\Amer\\Miniconda3\\envs\\nlp\\lib\\site-packages\\sklearn\\preprocessing\\label.py:273: DataConversionWarning: A column-vector y was passed when a 1d array was expected. Please change the shape of y to (n_samples, ), for example using ravel().\n",
      "  y = column_or_1d(y, warn=True)\n"
     ]
    },
    {
     "data": {
      "text/html": [],
      "text/plain": [
       "<IPython.core.display.HTML object>"
      ]
     },
     "metadata": {},
     "output_type": "display_data"
    },
    {
     "name": "stdout",
     "output_type": "stream",
     "text": [
      "----------------------------------------\n"
     ]
    },
    {
     "name": "stderr",
     "output_type": "stream",
     "text": [
      "C:\\Users\\Amer\\Miniconda3\\envs\\nlp\\lib\\site-packages\\sklearn\\preprocessing\\label.py:273: DataConversionWarning: A column-vector y was passed when a 1d array was expected. Please change the shape of y to (n_samples, ), for example using ravel().\n",
      "  y = column_or_1d(y, warn=True)\n"
     ]
    },
    {
     "data": {
      "text/html": [],
      "text/plain": [
       "<IPython.core.display.HTML object>"
      ]
     },
     "metadata": {},
     "output_type": "display_data"
    },
    {
     "name": "stdout",
     "output_type": "stream",
     "text": [
      "----------------------------------------\n"
     ]
    },
    {
     "name": "stderr",
     "output_type": "stream",
     "text": [
      "C:\\Users\\Amer\\Miniconda3\\envs\\nlp\\lib\\site-packages\\sklearn\\preprocessing\\label.py:273: DataConversionWarning: A column-vector y was passed when a 1d array was expected. Please change the shape of y to (n_samples, ), for example using ravel().\n",
      "  y = column_or_1d(y, warn=True)\n"
     ]
    },
    {
     "data": {
      "text/html": [],
      "text/plain": [
       "<IPython.core.display.HTML object>"
      ]
     },
     "metadata": {},
     "output_type": "display_data"
    },
    {
     "name": "stdout",
     "output_type": "stream",
     "text": [
      "----------------------------------------\n"
     ]
    },
    {
     "name": "stderr",
     "output_type": "stream",
     "text": [
      "C:\\Users\\Amer\\Miniconda3\\envs\\nlp\\lib\\site-packages\\sklearn\\preprocessing\\label.py:273: DataConversionWarning: A column-vector y was passed when a 1d array was expected. Please change the shape of y to (n_samples, ), for example using ravel().\n",
      "  y = column_or_1d(y, warn=True)\n"
     ]
    },
    {
     "data": {
      "text/html": [],
      "text/plain": [
       "<IPython.core.display.HTML object>"
      ]
     },
     "metadata": {},
     "output_type": "display_data"
    },
    {
     "name": "stdout",
     "output_type": "stream",
     "text": [
      "----------------------------------------\n"
     ]
    },
    {
     "name": "stderr",
     "output_type": "stream",
     "text": [
      "C:\\Users\\Amer\\Miniconda3\\envs\\nlp\\lib\\site-packages\\sklearn\\preprocessing\\label.py:273: DataConversionWarning: A column-vector y was passed when a 1d array was expected. Please change the shape of y to (n_samples, ), for example using ravel().\n",
      "  y = column_or_1d(y, warn=True)\n"
     ]
    },
    {
     "data": {
      "text/html": [],
      "text/plain": [
       "<IPython.core.display.HTML object>"
      ]
     },
     "metadata": {},
     "output_type": "display_data"
    },
    {
     "name": "stdout",
     "output_type": "stream",
     "text": [
      "----------------------------------------\n"
     ]
    },
    {
     "name": "stderr",
     "output_type": "stream",
     "text": [
      "C:\\Users\\Amer\\Miniconda3\\envs\\nlp\\lib\\site-packages\\sklearn\\preprocessing\\label.py:273: DataConversionWarning: A column-vector y was passed when a 1d array was expected. Please change the shape of y to (n_samples, ), for example using ravel().\n",
      "  y = column_or_1d(y, warn=True)\n"
     ]
    },
    {
     "data": {
      "text/html": [],
      "text/plain": [
       "<IPython.core.display.HTML object>"
      ]
     },
     "metadata": {},
     "output_type": "display_data"
    },
    {
     "name": "stdout",
     "output_type": "stream",
     "text": [
      "----------------------------------------\n"
     ]
    },
    {
     "name": "stderr",
     "output_type": "stream",
     "text": [
      "C:\\Users\\Amer\\Miniconda3\\envs\\nlp\\lib\\site-packages\\sklearn\\preprocessing\\label.py:273: DataConversionWarning: A column-vector y was passed when a 1d array was expected. Please change the shape of y to (n_samples, ), for example using ravel().\n",
      "  y = column_or_1d(y, warn=True)\n"
     ]
    },
    {
     "data": {
      "text/html": [],
      "text/plain": [
       "<IPython.core.display.HTML object>"
      ]
     },
     "metadata": {},
     "output_type": "display_data"
    },
    {
     "name": "stdout",
     "output_type": "stream",
     "text": [
      "----------------------------------------\n"
     ]
    },
    {
     "name": "stderr",
     "output_type": "stream",
     "text": [
      "C:\\Users\\Amer\\Miniconda3\\envs\\nlp\\lib\\site-packages\\sklearn\\preprocessing\\label.py:273: DataConversionWarning: A column-vector y was passed when a 1d array was expected. Please change the shape of y to (n_samples, ), for example using ravel().\n",
      "  y = column_or_1d(y, warn=True)\n"
     ]
    },
    {
     "data": {
      "text/html": [],
      "text/plain": [
       "<IPython.core.display.HTML object>"
      ]
     },
     "metadata": {},
     "output_type": "display_data"
    },
    {
     "name": "stdout",
     "output_type": "stream",
     "text": [
      "----------------------------------------\n"
     ]
    },
    {
     "name": "stderr",
     "output_type": "stream",
     "text": [
      "C:\\Users\\Amer\\Miniconda3\\envs\\nlp\\lib\\site-packages\\sklearn\\preprocessing\\label.py:273: DataConversionWarning: A column-vector y was passed when a 1d array was expected. Please change the shape of y to (n_samples, ), for example using ravel().\n",
      "  y = column_or_1d(y, warn=True)\n"
     ]
    },
    {
     "data": {
      "text/html": [],
      "text/plain": [
       "<IPython.core.display.HTML object>"
      ]
     },
     "metadata": {},
     "output_type": "display_data"
    },
    {
     "name": "stdout",
     "output_type": "stream",
     "text": [
      "\u001b[1m\u001b[31mMismatch\u001b[0m\n",
      "\u001b[35m\n",
      "Text: hello complete online questionnaire trouble fill second personality screen question tick 3 box suppose appreciate kindly enlighten issue thank\u001b[0m\n",
      "\u001b[34mLabel: assessment_campatilibility\u001b[0m\n",
      "\n",
      "SVM prediction: feedback \n",
      "Probability: 0.18342552765309525\n",
      "\n",
      "Roberta prediction: assessment_campatilibility \n",
      "Probability: 0.6048872\n",
      "\n",
      "Ensemble prediction: assessment_campatilibility\n",
      "LR prediction: reinstate_application\n",
      "----------------------------------------\n"
     ]
    },
    {
     "name": "stderr",
     "output_type": "stream",
     "text": [
      "C:\\Users\\Amer\\Miniconda3\\envs\\nlp\\lib\\site-packages\\sklearn\\preprocessing\\label.py:273: DataConversionWarning: A column-vector y was passed when a 1d array was expected. Please change the shape of y to (n_samples, ), for example using ravel().\n",
      "  y = column_or_1d(y, warn=True)\n"
     ]
    },
    {
     "data": {
      "text/html": [],
      "text/plain": [
       "<IPython.core.display.HTML object>"
      ]
     },
     "metadata": {},
     "output_type": "display_data"
    },
    {
     "name": "stdout",
     "output_type": "stream",
     "text": [
      "----------------------------------------\n"
     ]
    },
    {
     "name": "stderr",
     "output_type": "stream",
     "text": [
      "C:\\Users\\Amer\\Miniconda3\\envs\\nlp\\lib\\site-packages\\sklearn\\preprocessing\\label.py:273: DataConversionWarning: A column-vector y was passed when a 1d array was expected. Please change the shape of y to (n_samples, ), for example using ravel().\n",
      "  y = column_or_1d(y, warn=True)\n"
     ]
    },
    {
     "data": {
      "text/html": [],
      "text/plain": [
       "<IPython.core.display.HTML object>"
      ]
     },
     "metadata": {},
     "output_type": "display_data"
    },
    {
     "name": "stdout",
     "output_type": "stream",
     "text": [
      "\u001b[1m\u001b[31mMismatch\u001b[0m\n",
      "\u001b[35m\n",
      "Text: 1 assessment position\u001b[0m\n",
      "\u001b[34mLabel: assessment_validity\u001b[0m\n",
      "\n",
      "SVM prediction: assessment_validity \n",
      "Probability: 0.1422304853638511\n",
      "\n",
      "Roberta prediction: multiple_role \n",
      "Probability: 0.8625334\n",
      "\n",
      "Ensemble prediction: multiple_role\n",
      "LR prediction: disability\n",
      "----------------------------------------\n"
     ]
    },
    {
     "name": "stderr",
     "output_type": "stream",
     "text": [
      "C:\\Users\\Amer\\Miniconda3\\envs\\nlp\\lib\\site-packages\\sklearn\\preprocessing\\label.py:273: DataConversionWarning: A column-vector y was passed when a 1d array was expected. Please change the shape of y to (n_samples, ), for example using ravel().\n",
      "  y = column_or_1d(y, warn=True)\n"
     ]
    },
    {
     "data": {
      "text/html": [],
      "text/plain": [
       "<IPython.core.display.HTML object>"
      ]
     },
     "metadata": {},
     "output_type": "display_data"
    },
    {
     "name": "stdout",
     "output_type": "stream",
     "text": [
      "----------------------------------------\n"
     ]
    },
    {
     "name": "stderr",
     "output_type": "stream",
     "text": [
      "C:\\Users\\Amer\\Miniconda3\\envs\\nlp\\lib\\site-packages\\sklearn\\preprocessing\\label.py:273: DataConversionWarning: A column-vector y was passed when a 1d array was expected. Please change the shape of y to (n_samples, ), for example using ravel().\n",
      "  y = column_or_1d(y, warn=True)\n"
     ]
    },
    {
     "data": {
      "text/html": [],
      "text/plain": [
       "<IPython.core.display.HTML object>"
      ]
     },
     "metadata": {},
     "output_type": "display_data"
    },
    {
     "name": "stdout",
     "output_type": "stream",
     "text": [
      "----------------------------------------\n"
     ]
    },
    {
     "name": "stderr",
     "output_type": "stream",
     "text": [
      "C:\\Users\\Amer\\Miniconda3\\envs\\nlp\\lib\\site-packages\\sklearn\\preprocessing\\label.py:273: DataConversionWarning: A column-vector y was passed when a 1d array was expected. Please change the shape of y to (n_samples, ), for example using ravel().\n",
      "  y = column_or_1d(y, warn=True)\n"
     ]
    },
    {
     "data": {
      "text/html": [],
      "text/plain": [
       "<IPython.core.display.HTML object>"
      ]
     },
     "metadata": {},
     "output_type": "display_data"
    },
    {
     "name": "stdout",
     "output_type": "stream",
     "text": [
      "----------------------------------------\n"
     ]
    },
    {
     "name": "stderr",
     "output_type": "stream",
     "text": [
      "C:\\Users\\Amer\\Miniconda3\\envs\\nlp\\lib\\site-packages\\sklearn\\preprocessing\\label.py:273: DataConversionWarning: A column-vector y was passed when a 1d array was expected. Please change the shape of y to (n_samples, ), for example using ravel().\n",
      "  y = column_or_1d(y, warn=True)\n"
     ]
    },
    {
     "data": {
      "text/html": [],
      "text/plain": [
       "<IPython.core.display.HTML object>"
      ]
     },
     "metadata": {},
     "output_type": "display_data"
    },
    {
     "name": "stdout",
     "output_type": "stream",
     "text": [
      "----------------------------------------\n"
     ]
    },
    {
     "name": "stderr",
     "output_type": "stream",
     "text": [
      "C:\\Users\\Amer\\Miniconda3\\envs\\nlp\\lib\\site-packages\\sklearn\\preprocessing\\label.py:273: DataConversionWarning: A column-vector y was passed when a 1d array was expected. Please change the shape of y to (n_samples, ), for example using ravel().\n",
      "  y = column_or_1d(y, warn=True)\n"
     ]
    },
    {
     "data": {
      "text/html": [],
      "text/plain": [
       "<IPython.core.display.HTML object>"
      ]
     },
     "metadata": {},
     "output_type": "display_data"
    },
    {
     "name": "stdout",
     "output_type": "stream",
     "text": [
      "----------------------------------------\n"
     ]
    },
    {
     "name": "stderr",
     "output_type": "stream",
     "text": [
      "C:\\Users\\Amer\\Miniconda3\\envs\\nlp\\lib\\site-packages\\sklearn\\preprocessing\\label.py:273: DataConversionWarning: A column-vector y was passed when a 1d array was expected. Please change the shape of y to (n_samples, ), for example using ravel().\n",
      "  y = column_or_1d(y, warn=True)\n"
     ]
    },
    {
     "data": {
      "text/html": [],
      "text/plain": [
       "<IPython.core.display.HTML object>"
      ]
     },
     "metadata": {},
     "output_type": "display_data"
    },
    {
     "name": "stdout",
     "output_type": "stream",
     "text": [
      "----------------------------------------\n"
     ]
    },
    {
     "name": "stderr",
     "output_type": "stream",
     "text": [
      "C:\\Users\\Amer\\Miniconda3\\envs\\nlp\\lib\\site-packages\\sklearn\\preprocessing\\label.py:273: DataConversionWarning: A column-vector y was passed when a 1d array was expected. Please change the shape of y to (n_samples, ), for example using ravel().\n",
      "  y = column_or_1d(y, warn=True)\n"
     ]
    },
    {
     "data": {
      "text/html": [],
      "text/plain": [
       "<IPython.core.display.HTML object>"
      ]
     },
     "metadata": {},
     "output_type": "display_data"
    },
    {
     "name": "stdout",
     "output_type": "stream",
     "text": [
      "----------------------------------------\n"
     ]
    },
    {
     "name": "stderr",
     "output_type": "stream",
     "text": [
      "C:\\Users\\Amer\\Miniconda3\\envs\\nlp\\lib\\site-packages\\sklearn\\preprocessing\\label.py:273: DataConversionWarning: A column-vector y was passed when a 1d array was expected. Please change the shape of y to (n_samples, ), for example using ravel().\n",
      "  y = column_or_1d(y, warn=True)\n"
     ]
    },
    {
     "data": {
      "text/html": [],
      "text/plain": [
       "<IPython.core.display.HTML object>"
      ]
     },
     "metadata": {},
     "output_type": "display_data"
    },
    {
     "name": "stdout",
     "output_type": "stream",
     "text": [
      "----------------------------------------\n"
     ]
    },
    {
     "name": "stderr",
     "output_type": "stream",
     "text": [
      "C:\\Users\\Amer\\Miniconda3\\envs\\nlp\\lib\\site-packages\\sklearn\\preprocessing\\label.py:273: DataConversionWarning: A column-vector y was passed when a 1d array was expected. Please change the shape of y to (n_samples, ), for example using ravel().\n",
      "  y = column_or_1d(y, warn=True)\n"
     ]
    },
    {
     "data": {
      "text/html": [],
      "text/plain": [
       "<IPython.core.display.HTML object>"
      ]
     },
     "metadata": {},
     "output_type": "display_data"
    },
    {
     "name": "stdout",
     "output_type": "stream",
     "text": [
      "----------------------------------------\n"
     ]
    },
    {
     "name": "stderr",
     "output_type": "stream",
     "text": [
      "C:\\Users\\Amer\\Miniconda3\\envs\\nlp\\lib\\site-packages\\sklearn\\preprocessing\\label.py:273: DataConversionWarning: A column-vector y was passed when a 1d array was expected. Please change the shape of y to (n_samples, ), for example using ravel().\n",
      "  y = column_or_1d(y, warn=True)\n"
     ]
    },
    {
     "data": {
      "text/html": [],
      "text/plain": [
       "<IPython.core.display.HTML object>"
      ]
     },
     "metadata": {},
     "output_type": "display_data"
    },
    {
     "name": "stdout",
     "output_type": "stream",
     "text": [
      "----------------------------------------\n"
     ]
    },
    {
     "name": "stderr",
     "output_type": "stream",
     "text": [
      "C:\\Users\\Amer\\Miniconda3\\envs\\nlp\\lib\\site-packages\\sklearn\\preprocessing\\label.py:273: DataConversionWarning: A column-vector y was passed when a 1d array was expected. Please change the shape of y to (n_samples, ), for example using ravel().\n",
      "  y = column_or_1d(y, warn=True)\n"
     ]
    },
    {
     "data": {
      "text/html": [],
      "text/plain": [
       "<IPython.core.display.HTML object>"
      ]
     },
     "metadata": {},
     "output_type": "display_data"
    },
    {
     "name": "stdout",
     "output_type": "stream",
     "text": [
      "----------------------------------------\n"
     ]
    },
    {
     "name": "stderr",
     "output_type": "stream",
     "text": [
      "C:\\Users\\Amer\\Miniconda3\\envs\\nlp\\lib\\site-packages\\sklearn\\preprocessing\\label.py:273: DataConversionWarning: A column-vector y was passed when a 1d array was expected. Please change the shape of y to (n_samples, ), for example using ravel().\n",
      "  y = column_or_1d(y, warn=True)\n"
     ]
    },
    {
     "data": {
      "text/html": [],
      "text/plain": [
       "<IPython.core.display.HTML object>"
      ]
     },
     "metadata": {},
     "output_type": "display_data"
    },
    {
     "name": "stdout",
     "output_type": "stream",
     "text": [
      "----------------------------------------\n"
     ]
    },
    {
     "name": "stderr",
     "output_type": "stream",
     "text": [
      "C:\\Users\\Amer\\Miniconda3\\envs\\nlp\\lib\\site-packages\\sklearn\\preprocessing\\label.py:273: DataConversionWarning: A column-vector y was passed when a 1d array was expected. Please change the shape of y to (n_samples, ), for example using ravel().\n",
      "  y = column_or_1d(y, warn=True)\n"
     ]
    },
    {
     "data": {
      "text/html": [],
      "text/plain": [
       "<IPython.core.display.HTML object>"
      ]
     },
     "metadata": {},
     "output_type": "display_data"
    },
    {
     "name": "stdout",
     "output_type": "stream",
     "text": [
      "----------------------------------------\n"
     ]
    },
    {
     "name": "stderr",
     "output_type": "stream",
     "text": [
      "C:\\Users\\Amer\\Miniconda3\\envs\\nlp\\lib\\site-packages\\sklearn\\preprocessing\\label.py:273: DataConversionWarning: A column-vector y was passed when a 1d array was expected. Please change the shape of y to (n_samples, ), for example using ravel().\n",
      "  y = column_or_1d(y, warn=True)\n"
     ]
    },
    {
     "data": {
      "text/html": [],
      "text/plain": [
       "<IPython.core.display.HTML object>"
      ]
     },
     "metadata": {},
     "output_type": "display_data"
    },
    {
     "name": "stdout",
     "output_type": "stream",
     "text": [
      "----------------------------------------\n"
     ]
    },
    {
     "name": "stderr",
     "output_type": "stream",
     "text": [
      "C:\\Users\\Amer\\Miniconda3\\envs\\nlp\\lib\\site-packages\\sklearn\\preprocessing\\label.py:273: DataConversionWarning: A column-vector y was passed when a 1d array was expected. Please change the shape of y to (n_samples, ), for example using ravel().\n",
      "  y = column_or_1d(y, warn=True)\n"
     ]
    },
    {
     "data": {
      "text/html": [],
      "text/plain": [
       "<IPython.core.display.HTML object>"
      ]
     },
     "metadata": {},
     "output_type": "display_data"
    },
    {
     "name": "stdout",
     "output_type": "stream",
     "text": [
      "----------------------------------------\n"
     ]
    },
    {
     "name": "stderr",
     "output_type": "stream",
     "text": [
      "C:\\Users\\Amer\\Miniconda3\\envs\\nlp\\lib\\site-packages\\sklearn\\preprocessing\\label.py:273: DataConversionWarning: A column-vector y was passed when a 1d array was expected. Please change the shape of y to (n_samples, ), for example using ravel().\n",
      "  y = column_or_1d(y, warn=True)\n"
     ]
    },
    {
     "data": {
      "text/html": [],
      "text/plain": [
       "<IPython.core.display.HTML object>"
      ]
     },
     "metadata": {},
     "output_type": "display_data"
    },
    {
     "name": "stdout",
     "output_type": "stream",
     "text": [
      "----------------------------------------\n"
     ]
    },
    {
     "name": "stderr",
     "output_type": "stream",
     "text": [
      "C:\\Users\\Amer\\Miniconda3\\envs\\nlp\\lib\\site-packages\\sklearn\\preprocessing\\label.py:273: DataConversionWarning: A column-vector y was passed when a 1d array was expected. Please change the shape of y to (n_samples, ), for example using ravel().\n",
      "  y = column_or_1d(y, warn=True)\n"
     ]
    },
    {
     "data": {
      "text/html": [],
      "text/plain": [
       "<IPython.core.display.HTML object>"
      ]
     },
     "metadata": {},
     "output_type": "display_data"
    },
    {
     "name": "stdout",
     "output_type": "stream",
     "text": [
      "----------------------------------------\n"
     ]
    },
    {
     "name": "stderr",
     "output_type": "stream",
     "text": [
      "C:\\Users\\Amer\\Miniconda3\\envs\\nlp\\lib\\site-packages\\sklearn\\preprocessing\\label.py:273: DataConversionWarning: A column-vector y was passed when a 1d array was expected. Please change the shape of y to (n_samples, ), for example using ravel().\n",
      "  y = column_or_1d(y, warn=True)\n"
     ]
    },
    {
     "data": {
      "text/html": [],
      "text/plain": [
       "<IPython.core.display.HTML object>"
      ]
     },
     "metadata": {},
     "output_type": "display_data"
    },
    {
     "name": "stdout",
     "output_type": "stream",
     "text": [
      "----------------------------------------\n"
     ]
    },
    {
     "name": "stderr",
     "output_type": "stream",
     "text": [
      "C:\\Users\\Amer\\Miniconda3\\envs\\nlp\\lib\\site-packages\\sklearn\\preprocessing\\label.py:273: DataConversionWarning: A column-vector y was passed when a 1d array was expected. Please change the shape of y to (n_samples, ), for example using ravel().\n",
      "  y = column_or_1d(y, warn=True)\n"
     ]
    },
    {
     "data": {
      "text/html": [],
      "text/plain": [
       "<IPython.core.display.HTML object>"
      ]
     },
     "metadata": {},
     "output_type": "display_data"
    },
    {
     "name": "stdout",
     "output_type": "stream",
     "text": [
      "----------------------------------------\n"
     ]
    },
    {
     "name": "stderr",
     "output_type": "stream",
     "text": [
      "C:\\Users\\Amer\\Miniconda3\\envs\\nlp\\lib\\site-packages\\sklearn\\preprocessing\\label.py:273: DataConversionWarning: A column-vector y was passed when a 1d array was expected. Please change the shape of y to (n_samples, ), for example using ravel().\n",
      "  y = column_or_1d(y, warn=True)\n"
     ]
    },
    {
     "data": {
      "text/html": [],
      "text/plain": [
       "<IPython.core.display.HTML object>"
      ]
     },
     "metadata": {},
     "output_type": "display_data"
    },
    {
     "name": "stdout",
     "output_type": "stream",
     "text": [
      "----------------------------------------\n"
     ]
    },
    {
     "name": "stderr",
     "output_type": "stream",
     "text": [
      "C:\\Users\\Amer\\Miniconda3\\envs\\nlp\\lib\\site-packages\\sklearn\\preprocessing\\label.py:273: DataConversionWarning: A column-vector y was passed when a 1d array was expected. Please change the shape of y to (n_samples, ), for example using ravel().\n",
      "  y = column_or_1d(y, warn=True)\n"
     ]
    },
    {
     "data": {
      "text/html": [],
      "text/plain": [
       "<IPython.core.display.HTML object>"
      ]
     },
     "metadata": {},
     "output_type": "display_data"
    },
    {
     "name": "stdout",
     "output_type": "stream",
     "text": [
      "----------------------------------------\n"
     ]
    },
    {
     "name": "stderr",
     "output_type": "stream",
     "text": [
      "C:\\Users\\Amer\\Miniconda3\\envs\\nlp\\lib\\site-packages\\sklearn\\preprocessing\\label.py:273: DataConversionWarning: A column-vector y was passed when a 1d array was expected. Please change the shape of y to (n_samples, ), for example using ravel().\n",
      "  y = column_or_1d(y, warn=True)\n"
     ]
    },
    {
     "data": {
      "text/html": [],
      "text/plain": [
       "<IPython.core.display.HTML object>"
      ]
     },
     "metadata": {},
     "output_type": "display_data"
    },
    {
     "name": "stdout",
     "output_type": "stream",
     "text": [
      "----------------------------------------\n"
     ]
    },
    {
     "name": "stderr",
     "output_type": "stream",
     "text": [
      "C:\\Users\\Amer\\Miniconda3\\envs\\nlp\\lib\\site-packages\\sklearn\\preprocessing\\label.py:273: DataConversionWarning: A column-vector y was passed when a 1d array was expected. Please change the shape of y to (n_samples, ), for example using ravel().\n",
      "  y = column_or_1d(y, warn=True)\n"
     ]
    },
    {
     "data": {
      "text/html": [],
      "text/plain": [
       "<IPython.core.display.HTML object>"
      ]
     },
     "metadata": {},
     "output_type": "display_data"
    },
    {
     "name": "stdout",
     "output_type": "stream",
     "text": [
      "----------------------------------------\n"
     ]
    },
    {
     "name": "stderr",
     "output_type": "stream",
     "text": [
      "C:\\Users\\Amer\\Miniconda3\\envs\\nlp\\lib\\site-packages\\sklearn\\preprocessing\\label.py:273: DataConversionWarning: A column-vector y was passed when a 1d array was expected. Please change the shape of y to (n_samples, ), for example using ravel().\n",
      "  y = column_or_1d(y, warn=True)\n"
     ]
    },
    {
     "data": {
      "text/html": [],
      "text/plain": [
       "<IPython.core.display.HTML object>"
      ]
     },
     "metadata": {},
     "output_type": "display_data"
    },
    {
     "name": "stdout",
     "output_type": "stream",
     "text": [
      "----------------------------------------\n"
     ]
    },
    {
     "name": "stderr",
     "output_type": "stream",
     "text": [
      "C:\\Users\\Amer\\Miniconda3\\envs\\nlp\\lib\\site-packages\\sklearn\\preprocessing\\label.py:273: DataConversionWarning: A column-vector y was passed when a 1d array was expected. Please change the shape of y to (n_samples, ), for example using ravel().\n",
      "  y = column_or_1d(y, warn=True)\n"
     ]
    },
    {
     "data": {
      "text/html": [],
      "text/plain": [
       "<IPython.core.display.HTML object>"
      ]
     },
     "metadata": {},
     "output_type": "display_data"
    },
    {
     "name": "stdout",
     "output_type": "stream",
     "text": [
      "----------------------------------------\n"
     ]
    },
    {
     "name": "stderr",
     "output_type": "stream",
     "text": [
      "C:\\Users\\Amer\\Miniconda3\\envs\\nlp\\lib\\site-packages\\sklearn\\preprocessing\\label.py:273: DataConversionWarning: A column-vector y was passed when a 1d array was expected. Please change the shape of y to (n_samples, ), for example using ravel().\n",
      "  y = column_or_1d(y, warn=True)\n"
     ]
    },
    {
     "data": {
      "text/html": [],
      "text/plain": [
       "<IPython.core.display.HTML object>"
      ]
     },
     "metadata": {},
     "output_type": "display_data"
    },
    {
     "name": "stdout",
     "output_type": "stream",
     "text": [
      "----------------------------------------\n"
     ]
    },
    {
     "name": "stderr",
     "output_type": "stream",
     "text": [
      "C:\\Users\\Amer\\Miniconda3\\envs\\nlp\\lib\\site-packages\\sklearn\\preprocessing\\label.py:273: DataConversionWarning: A column-vector y was passed when a 1d array was expected. Please change the shape of y to (n_samples, ), for example using ravel().\n",
      "  y = column_or_1d(y, warn=True)\n"
     ]
    },
    {
     "data": {
      "text/html": [],
      "text/plain": [
       "<IPython.core.display.HTML object>"
      ]
     },
     "metadata": {},
     "output_type": "display_data"
    },
    {
     "name": "stdout",
     "output_type": "stream",
     "text": [
      "----------------------------------------\n"
     ]
    },
    {
     "name": "stderr",
     "output_type": "stream",
     "text": [
      "C:\\Users\\Amer\\Miniconda3\\envs\\nlp\\lib\\site-packages\\sklearn\\preprocessing\\label.py:273: DataConversionWarning: A column-vector y was passed when a 1d array was expected. Please change the shape of y to (n_samples, ), for example using ravel().\n",
      "  y = column_or_1d(y, warn=True)\n"
     ]
    },
    {
     "data": {
      "text/html": [],
      "text/plain": [
       "<IPython.core.display.HTML object>"
      ]
     },
     "metadata": {},
     "output_type": "display_data"
    },
    {
     "name": "stdout",
     "output_type": "stream",
     "text": [
      "----------------------------------------\n"
     ]
    },
    {
     "name": "stderr",
     "output_type": "stream",
     "text": [
      "C:\\Users\\Amer\\Miniconda3\\envs\\nlp\\lib\\site-packages\\sklearn\\preprocessing\\label.py:273: DataConversionWarning: A column-vector y was passed when a 1d array was expected. Please change the shape of y to (n_samples, ), for example using ravel().\n",
      "  y = column_or_1d(y, warn=True)\n"
     ]
    },
    {
     "data": {
      "text/html": [],
      "text/plain": [
       "<IPython.core.display.HTML object>"
      ]
     },
     "metadata": {},
     "output_type": "display_data"
    },
    {
     "name": "stdout",
     "output_type": "stream",
     "text": [
      "----------------------------------------\n"
     ]
    },
    {
     "name": "stderr",
     "output_type": "stream",
     "text": [
      "C:\\Users\\Amer\\Miniconda3\\envs\\nlp\\lib\\site-packages\\sklearn\\preprocessing\\label.py:273: DataConversionWarning: A column-vector y was passed when a 1d array was expected. Please change the shape of y to (n_samples, ), for example using ravel().\n",
      "  y = column_or_1d(y, warn=True)\n"
     ]
    },
    {
     "data": {
      "text/html": [],
      "text/plain": [
       "<IPython.core.display.HTML object>"
      ]
     },
     "metadata": {},
     "output_type": "display_data"
    },
    {
     "name": "stdout",
     "output_type": "stream",
     "text": [
      "----------------------------------------\n"
     ]
    },
    {
     "name": "stderr",
     "output_type": "stream",
     "text": [
      "C:\\Users\\Amer\\Miniconda3\\envs\\nlp\\lib\\site-packages\\sklearn\\preprocessing\\label.py:273: DataConversionWarning: A column-vector y was passed when a 1d array was expected. Please change the shape of y to (n_samples, ), for example using ravel().\n",
      "  y = column_or_1d(y, warn=True)\n"
     ]
    },
    {
     "data": {
      "text/html": [],
      "text/plain": [
       "<IPython.core.display.HTML object>"
      ]
     },
     "metadata": {},
     "output_type": "display_data"
    },
    {
     "name": "stdout",
     "output_type": "stream",
     "text": [
      "----------------------------------------\n"
     ]
    },
    {
     "name": "stderr",
     "output_type": "stream",
     "text": [
      "C:\\Users\\Amer\\Miniconda3\\envs\\nlp\\lib\\site-packages\\sklearn\\preprocessing\\label.py:273: DataConversionWarning: A column-vector y was passed when a 1d array was expected. Please change the shape of y to (n_samples, ), for example using ravel().\n",
      "  y = column_or_1d(y, warn=True)\n"
     ]
    },
    {
     "data": {
      "text/html": [],
      "text/plain": [
       "<IPython.core.display.HTML object>"
      ]
     },
     "metadata": {},
     "output_type": "display_data"
    },
    {
     "name": "stdout",
     "output_type": "stream",
     "text": [
      "----------------------------------------\n"
     ]
    },
    {
     "name": "stderr",
     "output_type": "stream",
     "text": [
      "C:\\Users\\Amer\\Miniconda3\\envs\\nlp\\lib\\site-packages\\sklearn\\preprocessing\\label.py:273: DataConversionWarning: A column-vector y was passed when a 1d array was expected. Please change the shape of y to (n_samples, ), for example using ravel().\n",
      "  y = column_or_1d(y, warn=True)\n"
     ]
    },
    {
     "data": {
      "text/html": [],
      "text/plain": [
       "<IPython.core.display.HTML object>"
      ]
     },
     "metadata": {},
     "output_type": "display_data"
    },
    {
     "name": "stdout",
     "output_type": "stream",
     "text": [
      "----------------------------------------\n"
     ]
    },
    {
     "name": "stderr",
     "output_type": "stream",
     "text": [
      "C:\\Users\\Amer\\Miniconda3\\envs\\nlp\\lib\\site-packages\\sklearn\\preprocessing\\label.py:273: DataConversionWarning: A column-vector y was passed when a 1d array was expected. Please change the shape of y to (n_samples, ), for example using ravel().\n",
      "  y = column_or_1d(y, warn=True)\n"
     ]
    },
    {
     "data": {
      "text/html": [],
      "text/plain": [
       "<IPython.core.display.HTML object>"
      ]
     },
     "metadata": {},
     "output_type": "display_data"
    },
    {
     "name": "stdout",
     "output_type": "stream",
     "text": [
      "----------------------------------------\n"
     ]
    },
    {
     "name": "stderr",
     "output_type": "stream",
     "text": [
      "C:\\Users\\Amer\\Miniconda3\\envs\\nlp\\lib\\site-packages\\sklearn\\preprocessing\\label.py:273: DataConversionWarning: A column-vector y was passed when a 1d array was expected. Please change the shape of y to (n_samples, ), for example using ravel().\n",
      "  y = column_or_1d(y, warn=True)\n"
     ]
    },
    {
     "data": {
      "text/html": [],
      "text/plain": [
       "<IPython.core.display.HTML object>"
      ]
     },
     "metadata": {},
     "output_type": "display_data"
    },
    {
     "name": "stdout",
     "output_type": "stream",
     "text": [
      "----------------------------------------\n"
     ]
    },
    {
     "name": "stderr",
     "output_type": "stream",
     "text": [
      "C:\\Users\\Amer\\Miniconda3\\envs\\nlp\\lib\\site-packages\\sklearn\\preprocessing\\label.py:273: DataConversionWarning: A column-vector y was passed when a 1d array was expected. Please change the shape of y to (n_samples, ), for example using ravel().\n",
      "  y = column_or_1d(y, warn=True)\n"
     ]
    },
    {
     "data": {
      "text/html": [],
      "text/plain": [
       "<IPython.core.display.HTML object>"
      ]
     },
     "metadata": {},
     "output_type": "display_data"
    },
    {
     "name": "stdout",
     "output_type": "stream",
     "text": [
      "----------------------------------------\n"
     ]
    },
    {
     "name": "stderr",
     "output_type": "stream",
     "text": [
      "C:\\Users\\Amer\\Miniconda3\\envs\\nlp\\lib\\site-packages\\sklearn\\preprocessing\\label.py:273: DataConversionWarning: A column-vector y was passed when a 1d array was expected. Please change the shape of y to (n_samples, ), for example using ravel().\n",
      "  y = column_or_1d(y, warn=True)\n"
     ]
    },
    {
     "data": {
      "text/html": [],
      "text/plain": [
       "<IPython.core.display.HTML object>"
      ]
     },
     "metadata": {},
     "output_type": "display_data"
    },
    {
     "name": "stdout",
     "output_type": "stream",
     "text": [
      "----------------------------------------\n"
     ]
    },
    {
     "name": "stderr",
     "output_type": "stream",
     "text": [
      "C:\\Users\\Amer\\Miniconda3\\envs\\nlp\\lib\\site-packages\\sklearn\\preprocessing\\label.py:273: DataConversionWarning: A column-vector y was passed when a 1d array was expected. Please change the shape of y to (n_samples, ), for example using ravel().\n",
      "  y = column_or_1d(y, warn=True)\n"
     ]
    },
    {
     "data": {
      "text/html": [],
      "text/plain": [
       "<IPython.core.display.HTML object>"
      ]
     },
     "metadata": {},
     "output_type": "display_data"
    },
    {
     "name": "stdout",
     "output_type": "stream",
     "text": [
      "\u001b[1m\u001b[31m\n",
      "Total Wrong: 6\u001b[0m\n",
      "\u001b[1m\u001b[32mTotal Correct: 0\u001b[0m\n"
     ]
    },
    {
     "name": "stderr",
     "output_type": "stream",
     "text": [
      "C:\\Users\\Amer\\Miniconda3\\envs\\nlp\\lib\\site-packages\\sklearn\\preprocessing\\label.py:273: DataConversionWarning: A column-vector y was passed when a 1d array was expected. Please change the shape of y to (n_samples, ), for example using ravel().\n",
      "  y = column_or_1d(y, warn=True)\n"
     ]
    }
   ],
   "source": [
    "wrong = 0\n",
    "correct = 0\n",
    "\n",
    "dataset = x_test\n",
    "labels = y_test\n",
    "\n",
    "for i in range(0, dataset.shape[0]):\n",
    "    print(\"--\" * 20)\n",
    "    \n",
    "    label = labels.iloc[i]\n",
    "    text = dataset.iloc[i]\n",
    "    \n",
    "    roberta_pred_prob_arr = predictor.predict_proba([text])[0] \n",
    "    robera_pred_prob = max(roberta_pred_prob_arr)\n",
    "    roberta_pred = le.inverse_transform([np.argmax(roberta_pred_prob_arr)])[0]\n",
    "    roberta_vals = list(roberta_pred_prob_arr)\n",
    "    roberta_vals.append(np.argmax(roberta_pred_prob_arr))\n",
    "    \n",
    "    svm_pred_prob_arr = pipe.predict_proba([text])[0] \n",
    "    svm_pred_prob = max(svm_pred_prob_arr)\n",
    "    svm_pred = le.inverse_transform([np.argmax(svm_pred_prob_arr)])[0]\n",
    "    svm_vals = list(svm_pred_prob_arr)\n",
    "    svm_vals.append(np.argmax(svm_pred_prob_arr))\n",
    "    \n",
    "    pred_row = roberta_vals + svm_vals\n",
    "    lr_pred = lr_out.predict([pred_row])\n",
    "    lr_pred_label = le.inverse_transform([lr_pred])\n",
    "        \n",
    "    if (lr_pred_label != ensmbl_preds[i]):\n",
    "#         print(colored(\"Correct\", \"green\", attrs=['bold']))\n",
    "#         correct += 1\n",
    "#     else:\n",
    "        print(colored('Mismatch', 'red', attrs=['bold']))\n",
    "        wrong += 1\n",
    "        \n",
    "        print(colored('\\nText: ' + text, 'magenta'))\n",
    "        print(colored('Label: ' + label, 'blue'))\n",
    "        print(\"\\nSVM prediction:\", svm_pred, \"\\nProbability:\", svm_pred_prob)\n",
    "        print(\"\\nRoberta prediction:\", roberta_pred, \"\\nProbability:\", robera_pred_prob)\n",
    "        print(\"\\nEnsemble prediction:\", ensmbl_preds[i])\n",
    "        print(\"LR prediction:\", lr_pred_label[0])\n",
    "\n",
    "\n",
    "print(colored(\"\\nTotal Wrong: \" + str(wrong), 'red', attrs=['bold']))\n",
    "print(colored(\"Total Correct: \" + str(correct), 'green', attrs=['bold']))"
   ]
  },
  {
   "cell_type": "markdown",
   "metadata": {
    "heading_collapsed": true
   },
   "source": [
    "### Preparing dataset for LRegression"
   ]
  },
  {
   "cell_type": "code",
   "execution_count": 59,
   "metadata": {
    "hidden": true
   },
   "outputs": [
    {
     "data": {
      "text/html": [],
      "text/plain": [
       "<IPython.core.display.HTML object>"
      ]
     },
     "metadata": {},
     "output_type": "display_data"
    },
    {
     "data": {
      "text/html": [],
      "text/plain": [
       "<IPython.core.display.HTML object>"
      ]
     },
     "metadata": {},
     "output_type": "display_data"
    },
    {
     "data": {
      "text/html": [],
      "text/plain": [
       "<IPython.core.display.HTML object>"
      ]
     },
     "metadata": {},
     "output_type": "display_data"
    },
    {
     "data": {
      "text/html": [],
      "text/plain": [
       "<IPython.core.display.HTML object>"
      ]
     },
     "metadata": {},
     "output_type": "display_data"
    },
    {
     "data": {
      "text/html": [],
      "text/plain": [
       "<IPython.core.display.HTML object>"
      ]
     },
     "metadata": {},
     "output_type": "display_data"
    },
    {
     "data": {
      "text/html": [],
      "text/plain": [
       "<IPython.core.display.HTML object>"
      ]
     },
     "metadata": {},
     "output_type": "display_data"
    },
    {
     "data": {
      "text/html": [],
      "text/plain": [
       "<IPython.core.display.HTML object>"
      ]
     },
     "metadata": {},
     "output_type": "display_data"
    },
    {
     "data": {
      "text/html": [],
      "text/plain": [
       "<IPython.core.display.HTML object>"
      ]
     },
     "metadata": {},
     "output_type": "display_data"
    },
    {
     "data": {
      "text/html": [],
      "text/plain": [
       "<IPython.core.display.HTML object>"
      ]
     },
     "metadata": {},
     "output_type": "display_data"
    },
    {
     "data": {
      "text/html": [],
      "text/plain": [
       "<IPython.core.display.HTML object>"
      ]
     },
     "metadata": {},
     "output_type": "display_data"
    },
    {
     "data": {
      "text/html": [],
      "text/plain": [
       "<IPython.core.display.HTML object>"
      ]
     },
     "metadata": {},
     "output_type": "display_data"
    },
    {
     "data": {
      "text/html": [],
      "text/plain": [
       "<IPython.core.display.HTML object>"
      ]
     },
     "metadata": {},
     "output_type": "display_data"
    },
    {
     "data": {
      "text/html": [],
      "text/plain": [
       "<IPython.core.display.HTML object>"
      ]
     },
     "metadata": {},
     "output_type": "display_data"
    },
    {
     "data": {
      "text/html": [],
      "text/plain": [
       "<IPython.core.display.HTML object>"
      ]
     },
     "metadata": {},
     "output_type": "display_data"
    },
    {
     "data": {
      "text/html": [],
      "text/plain": [
       "<IPython.core.display.HTML object>"
      ]
     },
     "metadata": {},
     "output_type": "display_data"
    },
    {
     "data": {
      "text/html": [],
      "text/plain": [
       "<IPython.core.display.HTML object>"
      ]
     },
     "metadata": {},
     "output_type": "display_data"
    },
    {
     "data": {
      "text/html": [],
      "text/plain": [
       "<IPython.core.display.HTML object>"
      ]
     },
     "metadata": {},
     "output_type": "display_data"
    },
    {
     "data": {
      "text/html": [],
      "text/plain": [
       "<IPython.core.display.HTML object>"
      ]
     },
     "metadata": {},
     "output_type": "display_data"
    },
    {
     "data": {
      "text/html": [],
      "text/plain": [
       "<IPython.core.display.HTML object>"
      ]
     },
     "metadata": {},
     "output_type": "display_data"
    },
    {
     "data": {
      "text/html": [],
      "text/plain": [
       "<IPython.core.display.HTML object>"
      ]
     },
     "metadata": {},
     "output_type": "display_data"
    },
    {
     "data": {
      "text/html": [],
      "text/plain": [
       "<IPython.core.display.HTML object>"
      ]
     },
     "metadata": {},
     "output_type": "display_data"
    },
    {
     "data": {
      "text/html": [],
      "text/plain": [
       "<IPython.core.display.HTML object>"
      ]
     },
     "metadata": {},
     "output_type": "display_data"
    },
    {
     "data": {
      "text/html": [],
      "text/plain": [
       "<IPython.core.display.HTML object>"
      ]
     },
     "metadata": {},
     "output_type": "display_data"
    },
    {
     "data": {
      "text/html": [],
      "text/plain": [
       "<IPython.core.display.HTML object>"
      ]
     },
     "metadata": {},
     "output_type": "display_data"
    },
    {
     "data": {
      "text/html": [],
      "text/plain": [
       "<IPython.core.display.HTML object>"
      ]
     },
     "metadata": {},
     "output_type": "display_data"
    },
    {
     "data": {
      "text/html": [],
      "text/plain": [
       "<IPython.core.display.HTML object>"
      ]
     },
     "metadata": {},
     "output_type": "display_data"
    },
    {
     "data": {
      "text/html": [],
      "text/plain": [
       "<IPython.core.display.HTML object>"
      ]
     },
     "metadata": {},
     "output_type": "display_data"
    },
    {
     "data": {
      "text/html": [],
      "text/plain": [
       "<IPython.core.display.HTML object>"
      ]
     },
     "metadata": {},
     "output_type": "display_data"
    },
    {
     "data": {
      "text/html": [],
      "text/plain": [
       "<IPython.core.display.HTML object>"
      ]
     },
     "metadata": {},
     "output_type": "display_data"
    },
    {
     "data": {
      "text/html": [],
      "text/plain": [
       "<IPython.core.display.HTML object>"
      ]
     },
     "metadata": {},
     "output_type": "display_data"
    },
    {
     "data": {
      "text/html": [],
      "text/plain": [
       "<IPython.core.display.HTML object>"
      ]
     },
     "metadata": {},
     "output_type": "display_data"
    },
    {
     "data": {
      "text/html": [],
      "text/plain": [
       "<IPython.core.display.HTML object>"
      ]
     },
     "metadata": {},
     "output_type": "display_data"
    },
    {
     "data": {
      "text/html": [],
      "text/plain": [
       "<IPython.core.display.HTML object>"
      ]
     },
     "metadata": {},
     "output_type": "display_data"
    },
    {
     "data": {
      "text/html": [],
      "text/plain": [
       "<IPython.core.display.HTML object>"
      ]
     },
     "metadata": {},
     "output_type": "display_data"
    },
    {
     "data": {
      "text/html": [],
      "text/plain": [
       "<IPython.core.display.HTML object>"
      ]
     },
     "metadata": {},
     "output_type": "display_data"
    },
    {
     "data": {
      "text/html": [],
      "text/plain": [
       "<IPython.core.display.HTML object>"
      ]
     },
     "metadata": {},
     "output_type": "display_data"
    },
    {
     "data": {
      "text/html": [],
      "text/plain": [
       "<IPython.core.display.HTML object>"
      ]
     },
     "metadata": {},
     "output_type": "display_data"
    },
    {
     "data": {
      "text/html": [],
      "text/plain": [
       "<IPython.core.display.HTML object>"
      ]
     },
     "metadata": {},
     "output_type": "display_data"
    },
    {
     "data": {
      "text/html": [],
      "text/plain": [
       "<IPython.core.display.HTML object>"
      ]
     },
     "metadata": {},
     "output_type": "display_data"
    },
    {
     "data": {
      "text/html": [],
      "text/plain": [
       "<IPython.core.display.HTML object>"
      ]
     },
     "metadata": {},
     "output_type": "display_data"
    },
    {
     "data": {
      "text/html": [],
      "text/plain": [
       "<IPython.core.display.HTML object>"
      ]
     },
     "metadata": {},
     "output_type": "display_data"
    },
    {
     "data": {
      "text/html": [],
      "text/plain": [
       "<IPython.core.display.HTML object>"
      ]
     },
     "metadata": {},
     "output_type": "display_data"
    },
    {
     "data": {
      "text/html": [],
      "text/plain": [
       "<IPython.core.display.HTML object>"
      ]
     },
     "metadata": {},
     "output_type": "display_data"
    },
    {
     "data": {
      "text/html": [],
      "text/plain": [
       "<IPython.core.display.HTML object>"
      ]
     },
     "metadata": {},
     "output_type": "display_data"
    },
    {
     "data": {
      "text/html": [],
      "text/plain": [
       "<IPython.core.display.HTML object>"
      ]
     },
     "metadata": {},
     "output_type": "display_data"
    },
    {
     "data": {
      "text/html": [],
      "text/plain": [
       "<IPython.core.display.HTML object>"
      ]
     },
     "metadata": {},
     "output_type": "display_data"
    },
    {
     "data": {
      "text/html": [],
      "text/plain": [
       "<IPython.core.display.HTML object>"
      ]
     },
     "metadata": {},
     "output_type": "display_data"
    },
    {
     "data": {
      "text/html": [],
      "text/plain": [
       "<IPython.core.display.HTML object>"
      ]
     },
     "metadata": {},
     "output_type": "display_data"
    },
    {
     "data": {
      "text/html": [],
      "text/plain": [
       "<IPython.core.display.HTML object>"
      ]
     },
     "metadata": {},
     "output_type": "display_data"
    },
    {
     "data": {
      "text/html": [],
      "text/plain": [
       "<IPython.core.display.HTML object>"
      ]
     },
     "metadata": {},
     "output_type": "display_data"
    },
    {
     "data": {
      "text/html": [],
      "text/plain": [
       "<IPython.core.display.HTML object>"
      ]
     },
     "metadata": {},
     "output_type": "display_data"
    },
    {
     "data": {
      "text/html": [],
      "text/plain": [
       "<IPython.core.display.HTML object>"
      ]
     },
     "metadata": {},
     "output_type": "display_data"
    },
    {
     "data": {
      "text/html": [],
      "text/plain": [
       "<IPython.core.display.HTML object>"
      ]
     },
     "metadata": {},
     "output_type": "display_data"
    },
    {
     "data": {
      "text/html": [],
      "text/plain": [
       "<IPython.core.display.HTML object>"
      ]
     },
     "metadata": {},
     "output_type": "display_data"
    },
    {
     "data": {
      "text/html": [],
      "text/plain": [
       "<IPython.core.display.HTML object>"
      ]
     },
     "metadata": {},
     "output_type": "display_data"
    },
    {
     "data": {
      "text/html": [],
      "text/plain": [
       "<IPython.core.display.HTML object>"
      ]
     },
     "metadata": {},
     "output_type": "display_data"
    },
    {
     "data": {
      "text/html": [],
      "text/plain": [
       "<IPython.core.display.HTML object>"
      ]
     },
     "metadata": {},
     "output_type": "display_data"
    },
    {
     "data": {
      "text/html": [],
      "text/plain": [
       "<IPython.core.display.HTML object>"
      ]
     },
     "metadata": {},
     "output_type": "display_data"
    },
    {
     "data": {
      "text/html": [],
      "text/plain": [
       "<IPython.core.display.HTML object>"
      ]
     },
     "metadata": {},
     "output_type": "display_data"
    },
    {
     "data": {
      "text/html": [],
      "text/plain": [
       "<IPython.core.display.HTML object>"
      ]
     },
     "metadata": {},
     "output_type": "display_data"
    },
    {
     "data": {
      "text/html": [],
      "text/plain": [
       "<IPython.core.display.HTML object>"
      ]
     },
     "metadata": {},
     "output_type": "display_data"
    },
    {
     "data": {
      "text/html": [],
      "text/plain": [
       "<IPython.core.display.HTML object>"
      ]
     },
     "metadata": {},
     "output_type": "display_data"
    },
    {
     "data": {
      "text/html": [],
      "text/plain": [
       "<IPython.core.display.HTML object>"
      ]
     },
     "metadata": {},
     "output_type": "display_data"
    },
    {
     "data": {
      "text/html": [],
      "text/plain": [
       "<IPython.core.display.HTML object>"
      ]
     },
     "metadata": {},
     "output_type": "display_data"
    },
    {
     "data": {
      "text/html": [],
      "text/plain": [
       "<IPython.core.display.HTML object>"
      ]
     },
     "metadata": {},
     "output_type": "display_data"
    },
    {
     "data": {
      "text/html": [],
      "text/plain": [
       "<IPython.core.display.HTML object>"
      ]
     },
     "metadata": {},
     "output_type": "display_data"
    },
    {
     "data": {
      "text/html": [],
      "text/plain": [
       "<IPython.core.display.HTML object>"
      ]
     },
     "metadata": {},
     "output_type": "display_data"
    },
    {
     "data": {
      "text/html": [],
      "text/plain": [
       "<IPython.core.display.HTML object>"
      ]
     },
     "metadata": {},
     "output_type": "display_data"
    },
    {
     "data": {
      "text/html": [],
      "text/plain": [
       "<IPython.core.display.HTML object>"
      ]
     },
     "metadata": {},
     "output_type": "display_data"
    },
    {
     "data": {
      "text/html": [],
      "text/plain": [
       "<IPython.core.display.HTML object>"
      ]
     },
     "metadata": {},
     "output_type": "display_data"
    },
    {
     "data": {
      "text/html": [],
      "text/plain": [
       "<IPython.core.display.HTML object>"
      ]
     },
     "metadata": {},
     "output_type": "display_data"
    },
    {
     "data": {
      "text/html": [],
      "text/plain": [
       "<IPython.core.display.HTML object>"
      ]
     },
     "metadata": {},
     "output_type": "display_data"
    },
    {
     "data": {
      "text/html": [],
      "text/plain": [
       "<IPython.core.display.HTML object>"
      ]
     },
     "metadata": {},
     "output_type": "display_data"
    },
    {
     "data": {
      "text/html": [],
      "text/plain": [
       "<IPython.core.display.HTML object>"
      ]
     },
     "metadata": {},
     "output_type": "display_data"
    },
    {
     "data": {
      "text/html": [],
      "text/plain": [
       "<IPython.core.display.HTML object>"
      ]
     },
     "metadata": {},
     "output_type": "display_data"
    },
    {
     "data": {
      "text/html": [],
      "text/plain": [
       "<IPython.core.display.HTML object>"
      ]
     },
     "metadata": {},
     "output_type": "display_data"
    },
    {
     "data": {
      "text/html": [],
      "text/plain": [
       "<IPython.core.display.HTML object>"
      ]
     },
     "metadata": {},
     "output_type": "display_data"
    },
    {
     "data": {
      "text/html": [],
      "text/plain": [
       "<IPython.core.display.HTML object>"
      ]
     },
     "metadata": {},
     "output_type": "display_data"
    },
    {
     "data": {
      "text/html": [],
      "text/plain": [
       "<IPython.core.display.HTML object>"
      ]
     },
     "metadata": {},
     "output_type": "display_data"
    },
    {
     "data": {
      "text/html": [],
      "text/plain": [
       "<IPython.core.display.HTML object>"
      ]
     },
     "metadata": {},
     "output_type": "display_data"
    },
    {
     "data": {
      "text/html": [],
      "text/plain": [
       "<IPython.core.display.HTML object>"
      ]
     },
     "metadata": {},
     "output_type": "display_data"
    },
    {
     "data": {
      "text/html": [],
      "text/plain": [
       "<IPython.core.display.HTML object>"
      ]
     },
     "metadata": {},
     "output_type": "display_data"
    },
    {
     "data": {
      "text/html": [],
      "text/plain": [
       "<IPython.core.display.HTML object>"
      ]
     },
     "metadata": {},
     "output_type": "display_data"
    },
    {
     "data": {
      "text/html": [],
      "text/plain": [
       "<IPython.core.display.HTML object>"
      ]
     },
     "metadata": {},
     "output_type": "display_data"
    },
    {
     "data": {
      "text/html": [],
      "text/plain": [
       "<IPython.core.display.HTML object>"
      ]
     },
     "metadata": {},
     "output_type": "display_data"
    },
    {
     "data": {
      "text/html": [],
      "text/plain": [
       "<IPython.core.display.HTML object>"
      ]
     },
     "metadata": {},
     "output_type": "display_data"
    },
    {
     "data": {
      "text/html": [],
      "text/plain": [
       "<IPython.core.display.HTML object>"
      ]
     },
     "metadata": {},
     "output_type": "display_data"
    },
    {
     "data": {
      "text/html": [],
      "text/plain": [
       "<IPython.core.display.HTML object>"
      ]
     },
     "metadata": {},
     "output_type": "display_data"
    },
    {
     "data": {
      "text/html": [],
      "text/plain": [
       "<IPython.core.display.HTML object>"
      ]
     },
     "metadata": {},
     "output_type": "display_data"
    },
    {
     "data": {
      "text/html": [],
      "text/plain": [
       "<IPython.core.display.HTML object>"
      ]
     },
     "metadata": {},
     "output_type": "display_data"
    },
    {
     "data": {
      "text/html": [],
      "text/plain": [
       "<IPython.core.display.HTML object>"
      ]
     },
     "metadata": {},
     "output_type": "display_data"
    },
    {
     "data": {
      "text/html": [],
      "text/plain": [
       "<IPython.core.display.HTML object>"
      ]
     },
     "metadata": {},
     "output_type": "display_data"
    },
    {
     "data": {
      "text/html": [],
      "text/plain": [
       "<IPython.core.display.HTML object>"
      ]
     },
     "metadata": {},
     "output_type": "display_data"
    },
    {
     "data": {
      "text/html": [],
      "text/plain": [
       "<IPython.core.display.HTML object>"
      ]
     },
     "metadata": {},
     "output_type": "display_data"
    },
    {
     "data": {
      "text/html": [],
      "text/plain": [
       "<IPython.core.display.HTML object>"
      ]
     },
     "metadata": {},
     "output_type": "display_data"
    },
    {
     "data": {
      "text/html": [],
      "text/plain": [
       "<IPython.core.display.HTML object>"
      ]
     },
     "metadata": {},
     "output_type": "display_data"
    },
    {
     "data": {
      "text/html": [],
      "text/plain": [
       "<IPython.core.display.HTML object>"
      ]
     },
     "metadata": {},
     "output_type": "display_data"
    },
    {
     "data": {
      "text/html": [],
      "text/plain": [
       "<IPython.core.display.HTML object>"
      ]
     },
     "metadata": {},
     "output_type": "display_data"
    },
    {
     "data": {
      "text/html": [],
      "text/plain": [
       "<IPython.core.display.HTML object>"
      ]
     },
     "metadata": {},
     "output_type": "display_data"
    },
    {
     "data": {
      "text/html": [],
      "text/plain": [
       "<IPython.core.display.HTML object>"
      ]
     },
     "metadata": {},
     "output_type": "display_data"
    },
    {
     "data": {
      "text/html": [],
      "text/plain": [
       "<IPython.core.display.HTML object>"
      ]
     },
     "metadata": {},
     "output_type": "display_data"
    },
    {
     "data": {
      "text/html": [],
      "text/plain": [
       "<IPython.core.display.HTML object>"
      ]
     },
     "metadata": {},
     "output_type": "display_data"
    },
    {
     "data": {
      "text/html": [],
      "text/plain": [
       "<IPython.core.display.HTML object>"
      ]
     },
     "metadata": {},
     "output_type": "display_data"
    },
    {
     "data": {
      "text/html": [],
      "text/plain": [
       "<IPython.core.display.HTML object>"
      ]
     },
     "metadata": {},
     "output_type": "display_data"
    },
    {
     "data": {
      "text/html": [],
      "text/plain": [
       "<IPython.core.display.HTML object>"
      ]
     },
     "metadata": {},
     "output_type": "display_data"
    },
    {
     "data": {
      "text/html": [],
      "text/plain": [
       "<IPython.core.display.HTML object>"
      ]
     },
     "metadata": {},
     "output_type": "display_data"
    },
    {
     "data": {
      "text/html": [],
      "text/plain": [
       "<IPython.core.display.HTML object>"
      ]
     },
     "metadata": {},
     "output_type": "display_data"
    },
    {
     "data": {
      "text/html": [],
      "text/plain": [
       "<IPython.core.display.HTML object>"
      ]
     },
     "metadata": {},
     "output_type": "display_data"
    },
    {
     "data": {
      "text/html": [],
      "text/plain": [
       "<IPython.core.display.HTML object>"
      ]
     },
     "metadata": {},
     "output_type": "display_data"
    },
    {
     "data": {
      "text/html": [],
      "text/plain": [
       "<IPython.core.display.HTML object>"
      ]
     },
     "metadata": {},
     "output_type": "display_data"
    },
    {
     "data": {
      "text/html": [],
      "text/plain": [
       "<IPython.core.display.HTML object>"
      ]
     },
     "metadata": {},
     "output_type": "display_data"
    },
    {
     "data": {
      "text/html": [],
      "text/plain": [
       "<IPython.core.display.HTML object>"
      ]
     },
     "metadata": {},
     "output_type": "display_data"
    },
    {
     "data": {
      "text/html": [],
      "text/plain": [
       "<IPython.core.display.HTML object>"
      ]
     },
     "metadata": {},
     "output_type": "display_data"
    },
    {
     "data": {
      "text/html": [],
      "text/plain": [
       "<IPython.core.display.HTML object>"
      ]
     },
     "metadata": {},
     "output_type": "display_data"
    },
    {
     "data": {
      "text/html": [],
      "text/plain": [
       "<IPython.core.display.HTML object>"
      ]
     },
     "metadata": {},
     "output_type": "display_data"
    },
    {
     "data": {
      "text/html": [],
      "text/plain": [
       "<IPython.core.display.HTML object>"
      ]
     },
     "metadata": {},
     "output_type": "display_data"
    },
    {
     "data": {
      "text/html": [],
      "text/plain": [
       "<IPython.core.display.HTML object>"
      ]
     },
     "metadata": {},
     "output_type": "display_data"
    },
    {
     "data": {
      "text/html": [],
      "text/plain": [
       "<IPython.core.display.HTML object>"
      ]
     },
     "metadata": {},
     "output_type": "display_data"
    },
    {
     "data": {
      "text/html": [],
      "text/plain": [
       "<IPython.core.display.HTML object>"
      ]
     },
     "metadata": {},
     "output_type": "display_data"
    },
    {
     "data": {
      "text/html": [],
      "text/plain": [
       "<IPython.core.display.HTML object>"
      ]
     },
     "metadata": {},
     "output_type": "display_data"
    },
    {
     "data": {
      "text/html": [],
      "text/plain": [
       "<IPython.core.display.HTML object>"
      ]
     },
     "metadata": {},
     "output_type": "display_data"
    },
    {
     "data": {
      "text/html": [],
      "text/plain": [
       "<IPython.core.display.HTML object>"
      ]
     },
     "metadata": {},
     "output_type": "display_data"
    },
    {
     "data": {
      "text/html": [],
      "text/plain": [
       "<IPython.core.display.HTML object>"
      ]
     },
     "metadata": {},
     "output_type": "display_data"
    },
    {
     "data": {
      "text/html": [],
      "text/plain": [
       "<IPython.core.display.HTML object>"
      ]
     },
     "metadata": {},
     "output_type": "display_data"
    },
    {
     "data": {
      "text/html": [],
      "text/plain": [
       "<IPython.core.display.HTML object>"
      ]
     },
     "metadata": {},
     "output_type": "display_data"
    },
    {
     "data": {
      "text/html": [],
      "text/plain": [
       "<IPython.core.display.HTML object>"
      ]
     },
     "metadata": {},
     "output_type": "display_data"
    },
    {
     "data": {
      "text/html": [],
      "text/plain": [
       "<IPython.core.display.HTML object>"
      ]
     },
     "metadata": {},
     "output_type": "display_data"
    },
    {
     "data": {
      "text/html": [],
      "text/plain": [
       "<IPython.core.display.HTML object>"
      ]
     },
     "metadata": {},
     "output_type": "display_data"
    },
    {
     "data": {
      "text/html": [],
      "text/plain": [
       "<IPython.core.display.HTML object>"
      ]
     },
     "metadata": {},
     "output_type": "display_data"
    },
    {
     "data": {
      "text/html": [],
      "text/plain": [
       "<IPython.core.display.HTML object>"
      ]
     },
     "metadata": {},
     "output_type": "display_data"
    },
    {
     "data": {
      "text/html": [],
      "text/plain": [
       "<IPython.core.display.HTML object>"
      ]
     },
     "metadata": {},
     "output_type": "display_data"
    },
    {
     "data": {
      "text/html": [],
      "text/plain": [
       "<IPython.core.display.HTML object>"
      ]
     },
     "metadata": {},
     "output_type": "display_data"
    },
    {
     "data": {
      "text/html": [],
      "text/plain": [
       "<IPython.core.display.HTML object>"
      ]
     },
     "metadata": {},
     "output_type": "display_data"
    },
    {
     "data": {
      "text/html": [],
      "text/plain": [
       "<IPython.core.display.HTML object>"
      ]
     },
     "metadata": {},
     "output_type": "display_data"
    },
    {
     "data": {
      "text/html": [],
      "text/plain": [
       "<IPython.core.display.HTML object>"
      ]
     },
     "metadata": {},
     "output_type": "display_data"
    },
    {
     "data": {
      "text/html": [],
      "text/plain": [
       "<IPython.core.display.HTML object>"
      ]
     },
     "metadata": {},
     "output_type": "display_data"
    },
    {
     "data": {
      "text/html": [],
      "text/plain": [
       "<IPython.core.display.HTML object>"
      ]
     },
     "metadata": {},
     "output_type": "display_data"
    },
    {
     "data": {
      "text/html": [],
      "text/plain": [
       "<IPython.core.display.HTML object>"
      ]
     },
     "metadata": {},
     "output_type": "display_data"
    },
    {
     "data": {
      "text/html": [],
      "text/plain": [
       "<IPython.core.display.HTML object>"
      ]
     },
     "metadata": {},
     "output_type": "display_data"
    },
    {
     "data": {
      "text/html": [],
      "text/plain": [
       "<IPython.core.display.HTML object>"
      ]
     },
     "metadata": {},
     "output_type": "display_data"
    },
    {
     "data": {
      "text/html": [],
      "text/plain": [
       "<IPython.core.display.HTML object>"
      ]
     },
     "metadata": {},
     "output_type": "display_data"
    },
    {
     "data": {
      "text/html": [],
      "text/plain": [
       "<IPython.core.display.HTML object>"
      ]
     },
     "metadata": {},
     "output_type": "display_data"
    },
    {
     "data": {
      "text/html": [],
      "text/plain": [
       "<IPython.core.display.HTML object>"
      ]
     },
     "metadata": {},
     "output_type": "display_data"
    },
    {
     "data": {
      "text/html": [],
      "text/plain": [
       "<IPython.core.display.HTML object>"
      ]
     },
     "metadata": {},
     "output_type": "display_data"
    },
    {
     "data": {
      "text/html": [],
      "text/plain": [
       "<IPython.core.display.HTML object>"
      ]
     },
     "metadata": {},
     "output_type": "display_data"
    },
    {
     "data": {
      "text/html": [],
      "text/plain": [
       "<IPython.core.display.HTML object>"
      ]
     },
     "metadata": {},
     "output_type": "display_data"
    },
    {
     "data": {
      "text/html": [],
      "text/plain": [
       "<IPython.core.display.HTML object>"
      ]
     },
     "metadata": {},
     "output_type": "display_data"
    },
    {
     "data": {
      "text/html": [],
      "text/plain": [
       "<IPython.core.display.HTML object>"
      ]
     },
     "metadata": {},
     "output_type": "display_data"
    },
    {
     "data": {
      "text/html": [],
      "text/plain": [
       "<IPython.core.display.HTML object>"
      ]
     },
     "metadata": {},
     "output_type": "display_data"
    },
    {
     "data": {
      "text/html": [],
      "text/plain": [
       "<IPython.core.display.HTML object>"
      ]
     },
     "metadata": {},
     "output_type": "display_data"
    },
    {
     "data": {
      "text/html": [],
      "text/plain": [
       "<IPython.core.display.HTML object>"
      ]
     },
     "metadata": {},
     "output_type": "display_data"
    },
    {
     "data": {
      "text/html": [],
      "text/plain": [
       "<IPython.core.display.HTML object>"
      ]
     },
     "metadata": {},
     "output_type": "display_data"
    },
    {
     "data": {
      "text/html": [],
      "text/plain": [
       "<IPython.core.display.HTML object>"
      ]
     },
     "metadata": {},
     "output_type": "display_data"
    },
    {
     "data": {
      "text/html": [],
      "text/plain": [
       "<IPython.core.display.HTML object>"
      ]
     },
     "metadata": {},
     "output_type": "display_data"
    },
    {
     "data": {
      "text/html": [],
      "text/plain": [
       "<IPython.core.display.HTML object>"
      ]
     },
     "metadata": {},
     "output_type": "display_data"
    },
    {
     "data": {
      "text/html": [],
      "text/plain": [
       "<IPython.core.display.HTML object>"
      ]
     },
     "metadata": {},
     "output_type": "display_data"
    },
    {
     "data": {
      "text/html": [],
      "text/plain": [
       "<IPython.core.display.HTML object>"
      ]
     },
     "metadata": {},
     "output_type": "display_data"
    },
    {
     "data": {
      "text/html": [],
      "text/plain": [
       "<IPython.core.display.HTML object>"
      ]
     },
     "metadata": {},
     "output_type": "display_data"
    },
    {
     "data": {
      "text/html": [],
      "text/plain": [
       "<IPython.core.display.HTML object>"
      ]
     },
     "metadata": {},
     "output_type": "display_data"
    },
    {
     "data": {
      "text/html": [],
      "text/plain": [
       "<IPython.core.display.HTML object>"
      ]
     },
     "metadata": {},
     "output_type": "display_data"
    },
    {
     "data": {
      "text/html": [],
      "text/plain": [
       "<IPython.core.display.HTML object>"
      ]
     },
     "metadata": {},
     "output_type": "display_data"
    },
    {
     "data": {
      "text/html": [],
      "text/plain": [
       "<IPython.core.display.HTML object>"
      ]
     },
     "metadata": {},
     "output_type": "display_data"
    },
    {
     "data": {
      "text/html": [],
      "text/plain": [
       "<IPython.core.display.HTML object>"
      ]
     },
     "metadata": {},
     "output_type": "display_data"
    },
    {
     "data": {
      "text/html": [],
      "text/plain": [
       "<IPython.core.display.HTML object>"
      ]
     },
     "metadata": {},
     "output_type": "display_data"
    },
    {
     "data": {
      "text/html": [],
      "text/plain": [
       "<IPython.core.display.HTML object>"
      ]
     },
     "metadata": {},
     "output_type": "display_data"
    },
    {
     "data": {
      "text/html": [],
      "text/plain": [
       "<IPython.core.display.HTML object>"
      ]
     },
     "metadata": {},
     "output_type": "display_data"
    },
    {
     "data": {
      "text/html": [],
      "text/plain": [
       "<IPython.core.display.HTML object>"
      ]
     },
     "metadata": {},
     "output_type": "display_data"
    },
    {
     "data": {
      "text/html": [],
      "text/plain": [
       "<IPython.core.display.HTML object>"
      ]
     },
     "metadata": {},
     "output_type": "display_data"
    },
    {
     "data": {
      "text/html": [],
      "text/plain": [
       "<IPython.core.display.HTML object>"
      ]
     },
     "metadata": {},
     "output_type": "display_data"
    },
    {
     "data": {
      "text/html": [],
      "text/plain": [
       "<IPython.core.display.HTML object>"
      ]
     },
     "metadata": {},
     "output_type": "display_data"
    },
    {
     "data": {
      "text/html": [],
      "text/plain": [
       "<IPython.core.display.HTML object>"
      ]
     },
     "metadata": {},
     "output_type": "display_data"
    },
    {
     "data": {
      "text/html": [],
      "text/plain": [
       "<IPython.core.display.HTML object>"
      ]
     },
     "metadata": {},
     "output_type": "display_data"
    },
    {
     "data": {
      "text/html": [],
      "text/plain": [
       "<IPython.core.display.HTML object>"
      ]
     },
     "metadata": {},
     "output_type": "display_data"
    },
    {
     "data": {
      "text/html": [],
      "text/plain": [
       "<IPython.core.display.HTML object>"
      ]
     },
     "metadata": {},
     "output_type": "display_data"
    },
    {
     "data": {
      "text/html": [],
      "text/plain": [
       "<IPython.core.display.HTML object>"
      ]
     },
     "metadata": {},
     "output_type": "display_data"
    },
    {
     "data": {
      "text/html": [],
      "text/plain": [
       "<IPython.core.display.HTML object>"
      ]
     },
     "metadata": {},
     "output_type": "display_data"
    },
    {
     "data": {
      "text/html": [],
      "text/plain": [
       "<IPython.core.display.HTML object>"
      ]
     },
     "metadata": {},
     "output_type": "display_data"
    },
    {
     "data": {
      "text/html": [],
      "text/plain": [
       "<IPython.core.display.HTML object>"
      ]
     },
     "metadata": {},
     "output_type": "display_data"
    },
    {
     "data": {
      "text/html": [],
      "text/plain": [
       "<IPython.core.display.HTML object>"
      ]
     },
     "metadata": {},
     "output_type": "display_data"
    },
    {
     "data": {
      "text/html": [],
      "text/plain": [
       "<IPython.core.display.HTML object>"
      ]
     },
     "metadata": {},
     "output_type": "display_data"
    },
    {
     "data": {
      "text/html": [],
      "text/plain": [
       "<IPython.core.display.HTML object>"
      ]
     },
     "metadata": {},
     "output_type": "display_data"
    },
    {
     "data": {
      "text/html": [],
      "text/plain": [
       "<IPython.core.display.HTML object>"
      ]
     },
     "metadata": {},
     "output_type": "display_data"
    },
    {
     "data": {
      "text/html": [],
      "text/plain": [
       "<IPython.core.display.HTML object>"
      ]
     },
     "metadata": {},
     "output_type": "display_data"
    },
    {
     "data": {
      "text/html": [],
      "text/plain": [
       "<IPython.core.display.HTML object>"
      ]
     },
     "metadata": {},
     "output_type": "display_data"
    },
    {
     "data": {
      "text/html": [],
      "text/plain": [
       "<IPython.core.display.HTML object>"
      ]
     },
     "metadata": {},
     "output_type": "display_data"
    },
    {
     "data": {
      "text/html": [],
      "text/plain": [
       "<IPython.core.display.HTML object>"
      ]
     },
     "metadata": {},
     "output_type": "display_data"
    },
    {
     "data": {
      "text/html": [],
      "text/plain": [
       "<IPython.core.display.HTML object>"
      ]
     },
     "metadata": {},
     "output_type": "display_data"
    },
    {
     "data": {
      "text/html": [],
      "text/plain": [
       "<IPython.core.display.HTML object>"
      ]
     },
     "metadata": {},
     "output_type": "display_data"
    },
    {
     "data": {
      "text/html": [],
      "text/plain": [
       "<IPython.core.display.HTML object>"
      ]
     },
     "metadata": {},
     "output_type": "display_data"
    },
    {
     "data": {
      "text/html": [],
      "text/plain": [
       "<IPython.core.display.HTML object>"
      ]
     },
     "metadata": {},
     "output_type": "display_data"
    },
    {
     "data": {
      "text/html": [],
      "text/plain": [
       "<IPython.core.display.HTML object>"
      ]
     },
     "metadata": {},
     "output_type": "display_data"
    },
    {
     "data": {
      "text/html": [],
      "text/plain": [
       "<IPython.core.display.HTML object>"
      ]
     },
     "metadata": {},
     "output_type": "display_data"
    },
    {
     "data": {
      "text/html": [],
      "text/plain": [
       "<IPython.core.display.HTML object>"
      ]
     },
     "metadata": {},
     "output_type": "display_data"
    },
    {
     "data": {
      "text/html": [],
      "text/plain": [
       "<IPython.core.display.HTML object>"
      ]
     },
     "metadata": {},
     "output_type": "display_data"
    },
    {
     "data": {
      "text/html": [],
      "text/plain": [
       "<IPython.core.display.HTML object>"
      ]
     },
     "metadata": {},
     "output_type": "display_data"
    },
    {
     "data": {
      "text/html": [],
      "text/plain": [
       "<IPython.core.display.HTML object>"
      ]
     },
     "metadata": {},
     "output_type": "display_data"
    },
    {
     "data": {
      "text/html": [],
      "text/plain": [
       "<IPython.core.display.HTML object>"
      ]
     },
     "metadata": {},
     "output_type": "display_data"
    },
    {
     "data": {
      "text/html": [],
      "text/plain": [
       "<IPython.core.display.HTML object>"
      ]
     },
     "metadata": {},
     "output_type": "display_data"
    },
    {
     "data": {
      "text/html": [],
      "text/plain": [
       "<IPython.core.display.HTML object>"
      ]
     },
     "metadata": {},
     "output_type": "display_data"
    },
    {
     "data": {
      "text/html": [],
      "text/plain": [
       "<IPython.core.display.HTML object>"
      ]
     },
     "metadata": {},
     "output_type": "display_data"
    },
    {
     "data": {
      "text/html": [],
      "text/plain": [
       "<IPython.core.display.HTML object>"
      ]
     },
     "metadata": {},
     "output_type": "display_data"
    },
    {
     "data": {
      "text/html": [],
      "text/plain": [
       "<IPython.core.display.HTML object>"
      ]
     },
     "metadata": {},
     "output_type": "display_data"
    },
    {
     "data": {
      "text/html": [],
      "text/plain": [
       "<IPython.core.display.HTML object>"
      ]
     },
     "metadata": {},
     "output_type": "display_data"
    },
    {
     "data": {
      "text/html": [],
      "text/plain": [
       "<IPython.core.display.HTML object>"
      ]
     },
     "metadata": {},
     "output_type": "display_data"
    },
    {
     "data": {
      "text/html": [],
      "text/plain": [
       "<IPython.core.display.HTML object>"
      ]
     },
     "metadata": {},
     "output_type": "display_data"
    },
    {
     "data": {
      "text/html": [],
      "text/plain": [
       "<IPython.core.display.HTML object>"
      ]
     },
     "metadata": {},
     "output_type": "display_data"
    },
    {
     "data": {
      "text/html": [],
      "text/plain": [
       "<IPython.core.display.HTML object>"
      ]
     },
     "metadata": {},
     "output_type": "display_data"
    },
    {
     "data": {
      "text/html": [],
      "text/plain": [
       "<IPython.core.display.HTML object>"
      ]
     },
     "metadata": {},
     "output_type": "display_data"
    },
    {
     "data": {
      "text/html": [],
      "text/plain": [
       "<IPython.core.display.HTML object>"
      ]
     },
     "metadata": {},
     "output_type": "display_data"
    },
    {
     "data": {
      "text/html": [],
      "text/plain": [
       "<IPython.core.display.HTML object>"
      ]
     },
     "metadata": {},
     "output_type": "display_data"
    },
    {
     "data": {
      "text/html": [],
      "text/plain": [
       "<IPython.core.display.HTML object>"
      ]
     },
     "metadata": {},
     "output_type": "display_data"
    },
    {
     "data": {
      "text/html": [],
      "text/plain": [
       "<IPython.core.display.HTML object>"
      ]
     },
     "metadata": {},
     "output_type": "display_data"
    },
    {
     "data": {
      "text/html": [],
      "text/plain": [
       "<IPython.core.display.HTML object>"
      ]
     },
     "metadata": {},
     "output_type": "display_data"
    },
    {
     "data": {
      "text/html": [],
      "text/plain": [
       "<IPython.core.display.HTML object>"
      ]
     },
     "metadata": {},
     "output_type": "display_data"
    },
    {
     "data": {
      "text/html": [],
      "text/plain": [
       "<IPython.core.display.HTML object>"
      ]
     },
     "metadata": {},
     "output_type": "display_data"
    },
    {
     "data": {
      "text/html": [],
      "text/plain": [
       "<IPython.core.display.HTML object>"
      ]
     },
     "metadata": {},
     "output_type": "display_data"
    },
    {
     "data": {
      "text/html": [],
      "text/plain": [
       "<IPython.core.display.HTML object>"
      ]
     },
     "metadata": {},
     "output_type": "display_data"
    },
    {
     "data": {
      "text/html": [],
      "text/plain": [
       "<IPython.core.display.HTML object>"
      ]
     },
     "metadata": {},
     "output_type": "display_data"
    },
    {
     "data": {
      "text/html": [],
      "text/plain": [
       "<IPython.core.display.HTML object>"
      ]
     },
     "metadata": {},
     "output_type": "display_data"
    },
    {
     "data": {
      "text/html": [],
      "text/plain": [
       "<IPython.core.display.HTML object>"
      ]
     },
     "metadata": {},
     "output_type": "display_data"
    },
    {
     "data": {
      "text/html": [],
      "text/plain": [
       "<IPython.core.display.HTML object>"
      ]
     },
     "metadata": {},
     "output_type": "display_data"
    },
    {
     "data": {
      "text/html": [],
      "text/plain": [
       "<IPython.core.display.HTML object>"
      ]
     },
     "metadata": {},
     "output_type": "display_data"
    },
    {
     "data": {
      "text/html": [],
      "text/plain": [
       "<IPython.core.display.HTML object>"
      ]
     },
     "metadata": {},
     "output_type": "display_data"
    },
    {
     "data": {
      "text/html": [],
      "text/plain": [
       "<IPython.core.display.HTML object>"
      ]
     },
     "metadata": {},
     "output_type": "display_data"
    },
    {
     "data": {
      "text/html": [],
      "text/plain": [
       "<IPython.core.display.HTML object>"
      ]
     },
     "metadata": {},
     "output_type": "display_data"
    },
    {
     "data": {
      "text/html": [],
      "text/plain": [
       "<IPython.core.display.HTML object>"
      ]
     },
     "metadata": {},
     "output_type": "display_data"
    },
    {
     "data": {
      "text/html": [],
      "text/plain": [
       "<IPython.core.display.HTML object>"
      ]
     },
     "metadata": {},
     "output_type": "display_data"
    },
    {
     "data": {
      "text/html": [],
      "text/plain": [
       "<IPython.core.display.HTML object>"
      ]
     },
     "metadata": {},
     "output_type": "display_data"
    },
    {
     "data": {
      "text/html": [],
      "text/plain": [
       "<IPython.core.display.HTML object>"
      ]
     },
     "metadata": {},
     "output_type": "display_data"
    },
    {
     "data": {
      "text/html": [],
      "text/plain": [
       "<IPython.core.display.HTML object>"
      ]
     },
     "metadata": {},
     "output_type": "display_data"
    },
    {
     "data": {
      "text/html": [],
      "text/plain": [
       "<IPython.core.display.HTML object>"
      ]
     },
     "metadata": {},
     "output_type": "display_data"
    },
    {
     "data": {
      "text/html": [],
      "text/plain": [
       "<IPython.core.display.HTML object>"
      ]
     },
     "metadata": {},
     "output_type": "display_data"
    },
    {
     "data": {
      "text/html": [],
      "text/plain": [
       "<IPython.core.display.HTML object>"
      ]
     },
     "metadata": {},
     "output_type": "display_data"
    },
    {
     "data": {
      "text/html": [],
      "text/plain": [
       "<IPython.core.display.HTML object>"
      ]
     },
     "metadata": {},
     "output_type": "display_data"
    },
    {
     "data": {
      "text/html": [],
      "text/plain": [
       "<IPython.core.display.HTML object>"
      ]
     },
     "metadata": {},
     "output_type": "display_data"
    },
    {
     "data": {
      "text/html": [],
      "text/plain": [
       "<IPython.core.display.HTML object>"
      ]
     },
     "metadata": {},
     "output_type": "display_data"
    },
    {
     "data": {
      "text/html": [],
      "text/plain": [
       "<IPython.core.display.HTML object>"
      ]
     },
     "metadata": {},
     "output_type": "display_data"
    },
    {
     "data": {
      "text/html": [],
      "text/plain": [
       "<IPython.core.display.HTML object>"
      ]
     },
     "metadata": {},
     "output_type": "display_data"
    },
    {
     "data": {
      "text/html": [],
      "text/plain": [
       "<IPython.core.display.HTML object>"
      ]
     },
     "metadata": {},
     "output_type": "display_data"
    },
    {
     "data": {
      "text/html": [],
      "text/plain": [
       "<IPython.core.display.HTML object>"
      ]
     },
     "metadata": {},
     "output_type": "display_data"
    },
    {
     "data": {
      "text/html": [],
      "text/plain": [
       "<IPython.core.display.HTML object>"
      ]
     },
     "metadata": {},
     "output_type": "display_data"
    },
    {
     "data": {
      "text/html": [],
      "text/plain": [
       "<IPython.core.display.HTML object>"
      ]
     },
     "metadata": {},
     "output_type": "display_data"
    },
    {
     "data": {
      "text/html": [],
      "text/plain": [
       "<IPython.core.display.HTML object>"
      ]
     },
     "metadata": {},
     "output_type": "display_data"
    },
    {
     "data": {
      "text/html": [],
      "text/plain": [
       "<IPython.core.display.HTML object>"
      ]
     },
     "metadata": {},
     "output_type": "display_data"
    },
    {
     "data": {
      "text/html": [],
      "text/plain": [
       "<IPython.core.display.HTML object>"
      ]
     },
     "metadata": {},
     "output_type": "display_data"
    },
    {
     "data": {
      "text/html": [],
      "text/plain": [
       "<IPython.core.display.HTML object>"
      ]
     },
     "metadata": {},
     "output_type": "display_data"
    },
    {
     "data": {
      "text/html": [],
      "text/plain": [
       "<IPython.core.display.HTML object>"
      ]
     },
     "metadata": {},
     "output_type": "display_data"
    },
    {
     "data": {
      "text/html": [],
      "text/plain": [
       "<IPython.core.display.HTML object>"
      ]
     },
     "metadata": {},
     "output_type": "display_data"
    },
    {
     "data": {
      "text/html": [],
      "text/plain": [
       "<IPython.core.display.HTML object>"
      ]
     },
     "metadata": {},
     "output_type": "display_data"
    },
    {
     "data": {
      "text/html": [],
      "text/plain": [
       "<IPython.core.display.HTML object>"
      ]
     },
     "metadata": {},
     "output_type": "display_data"
    },
    {
     "data": {
      "text/html": [],
      "text/plain": [
       "<IPython.core.display.HTML object>"
      ]
     },
     "metadata": {},
     "output_type": "display_data"
    },
    {
     "data": {
      "text/html": [],
      "text/plain": [
       "<IPython.core.display.HTML object>"
      ]
     },
     "metadata": {},
     "output_type": "display_data"
    },
    {
     "data": {
      "text/html": [],
      "text/plain": [
       "<IPython.core.display.HTML object>"
      ]
     },
     "metadata": {},
     "output_type": "display_data"
    },
    {
     "data": {
      "text/html": [],
      "text/plain": [
       "<IPython.core.display.HTML object>"
      ]
     },
     "metadata": {},
     "output_type": "display_data"
    },
    {
     "data": {
      "text/html": [],
      "text/plain": [
       "<IPython.core.display.HTML object>"
      ]
     },
     "metadata": {},
     "output_type": "display_data"
    },
    {
     "data": {
      "text/html": [],
      "text/plain": [
       "<IPython.core.display.HTML object>"
      ]
     },
     "metadata": {},
     "output_type": "display_data"
    },
    {
     "data": {
      "text/html": [],
      "text/plain": [
       "<IPython.core.display.HTML object>"
      ]
     },
     "metadata": {},
     "output_type": "display_data"
    },
    {
     "data": {
      "text/html": [],
      "text/plain": [
       "<IPython.core.display.HTML object>"
      ]
     },
     "metadata": {},
     "output_type": "display_data"
    },
    {
     "data": {
      "text/html": [],
      "text/plain": [
       "<IPython.core.display.HTML object>"
      ]
     },
     "metadata": {},
     "output_type": "display_data"
    },
    {
     "data": {
      "text/html": [],
      "text/plain": [
       "<IPython.core.display.HTML object>"
      ]
     },
     "metadata": {},
     "output_type": "display_data"
    },
    {
     "data": {
      "text/html": [],
      "text/plain": [
       "<IPython.core.display.HTML object>"
      ]
     },
     "metadata": {},
     "output_type": "display_data"
    },
    {
     "data": {
      "text/html": [],
      "text/plain": [
       "<IPython.core.display.HTML object>"
      ]
     },
     "metadata": {},
     "output_type": "display_data"
    },
    {
     "data": {
      "text/html": [],
      "text/plain": [
       "<IPython.core.display.HTML object>"
      ]
     },
     "metadata": {},
     "output_type": "display_data"
    },
    {
     "data": {
      "text/html": [],
      "text/plain": [
       "<IPython.core.display.HTML object>"
      ]
     },
     "metadata": {},
     "output_type": "display_data"
    },
    {
     "data": {
      "text/html": [],
      "text/plain": [
       "<IPython.core.display.HTML object>"
      ]
     },
     "metadata": {},
     "output_type": "display_data"
    },
    {
     "data": {
      "text/html": [],
      "text/plain": [
       "<IPython.core.display.HTML object>"
      ]
     },
     "metadata": {},
     "output_type": "display_data"
    },
    {
     "data": {
      "text/html": [],
      "text/plain": [
       "<IPython.core.display.HTML object>"
      ]
     },
     "metadata": {},
     "output_type": "display_data"
    },
    {
     "data": {
      "text/html": [],
      "text/plain": [
       "<IPython.core.display.HTML object>"
      ]
     },
     "metadata": {},
     "output_type": "display_data"
    },
    {
     "data": {
      "text/html": [],
      "text/plain": [
       "<IPython.core.display.HTML object>"
      ]
     },
     "metadata": {},
     "output_type": "display_data"
    },
    {
     "data": {
      "text/html": [],
      "text/plain": [
       "<IPython.core.display.HTML object>"
      ]
     },
     "metadata": {},
     "output_type": "display_data"
    },
    {
     "data": {
      "text/html": [],
      "text/plain": [
       "<IPython.core.display.HTML object>"
      ]
     },
     "metadata": {},
     "output_type": "display_data"
    },
    {
     "data": {
      "text/html": [],
      "text/plain": [
       "<IPython.core.display.HTML object>"
      ]
     },
     "metadata": {},
     "output_type": "display_data"
    },
    {
     "data": {
      "text/html": [],
      "text/plain": [
       "<IPython.core.display.HTML object>"
      ]
     },
     "metadata": {},
     "output_type": "display_data"
    },
    {
     "data": {
      "text/html": [],
      "text/plain": [
       "<IPython.core.display.HTML object>"
      ]
     },
     "metadata": {},
     "output_type": "display_data"
    },
    {
     "data": {
      "text/html": [],
      "text/plain": [
       "<IPython.core.display.HTML object>"
      ]
     },
     "metadata": {},
     "output_type": "display_data"
    },
    {
     "data": {
      "text/html": [],
      "text/plain": [
       "<IPython.core.display.HTML object>"
      ]
     },
     "metadata": {},
     "output_type": "display_data"
    },
    {
     "data": {
      "text/html": [],
      "text/plain": [
       "<IPython.core.display.HTML object>"
      ]
     },
     "metadata": {},
     "output_type": "display_data"
    },
    {
     "data": {
      "text/html": [],
      "text/plain": [
       "<IPython.core.display.HTML object>"
      ]
     },
     "metadata": {},
     "output_type": "display_data"
    },
    {
     "data": {
      "text/html": [],
      "text/plain": [
       "<IPython.core.display.HTML object>"
      ]
     },
     "metadata": {},
     "output_type": "display_data"
    },
    {
     "data": {
      "text/html": [],
      "text/plain": [
       "<IPython.core.display.HTML object>"
      ]
     },
     "metadata": {},
     "output_type": "display_data"
    },
    {
     "data": {
      "text/html": [],
      "text/plain": [
       "<IPython.core.display.HTML object>"
      ]
     },
     "metadata": {},
     "output_type": "display_data"
    },
    {
     "data": {
      "text/html": [],
      "text/plain": [
       "<IPython.core.display.HTML object>"
      ]
     },
     "metadata": {},
     "output_type": "display_data"
    },
    {
     "data": {
      "text/html": [],
      "text/plain": [
       "<IPython.core.display.HTML object>"
      ]
     },
     "metadata": {},
     "output_type": "display_data"
    },
    {
     "data": {
      "text/html": [],
      "text/plain": [
       "<IPython.core.display.HTML object>"
      ]
     },
     "metadata": {},
     "output_type": "display_data"
    },
    {
     "data": {
      "text/html": [],
      "text/plain": [
       "<IPython.core.display.HTML object>"
      ]
     },
     "metadata": {},
     "output_type": "display_data"
    },
    {
     "data": {
      "text/html": [],
      "text/plain": [
       "<IPython.core.display.HTML object>"
      ]
     },
     "metadata": {},
     "output_type": "display_data"
    },
    {
     "data": {
      "text/html": [],
      "text/plain": [
       "<IPython.core.display.HTML object>"
      ]
     },
     "metadata": {},
     "output_type": "display_data"
    },
    {
     "data": {
      "text/html": [],
      "text/plain": [
       "<IPython.core.display.HTML object>"
      ]
     },
     "metadata": {},
     "output_type": "display_data"
    },
    {
     "data": {
      "text/html": [],
      "text/plain": [
       "<IPython.core.display.HTML object>"
      ]
     },
     "metadata": {},
     "output_type": "display_data"
    },
    {
     "data": {
      "text/html": [],
      "text/plain": [
       "<IPython.core.display.HTML object>"
      ]
     },
     "metadata": {},
     "output_type": "display_data"
    },
    {
     "data": {
      "text/html": [],
      "text/plain": [
       "<IPython.core.display.HTML object>"
      ]
     },
     "metadata": {},
     "output_type": "display_data"
    },
    {
     "data": {
      "text/html": [],
      "text/plain": [
       "<IPython.core.display.HTML object>"
      ]
     },
     "metadata": {},
     "output_type": "display_data"
    },
    {
     "data": {
      "text/html": [],
      "text/plain": [
       "<IPython.core.display.HTML object>"
      ]
     },
     "metadata": {},
     "output_type": "display_data"
    },
    {
     "data": {
      "text/html": [],
      "text/plain": [
       "<IPython.core.display.HTML object>"
      ]
     },
     "metadata": {},
     "output_type": "display_data"
    },
    {
     "data": {
      "text/html": [],
      "text/plain": [
       "<IPython.core.display.HTML object>"
      ]
     },
     "metadata": {},
     "output_type": "display_data"
    },
    {
     "data": {
      "text/html": [],
      "text/plain": [
       "<IPython.core.display.HTML object>"
      ]
     },
     "metadata": {},
     "output_type": "display_data"
    },
    {
     "data": {
      "text/html": [],
      "text/plain": [
       "<IPython.core.display.HTML object>"
      ]
     },
     "metadata": {},
     "output_type": "display_data"
    },
    {
     "data": {
      "text/html": [],
      "text/plain": [
       "<IPython.core.display.HTML object>"
      ]
     },
     "metadata": {},
     "output_type": "display_data"
    },
    {
     "data": {
      "text/html": [],
      "text/plain": [
       "<IPython.core.display.HTML object>"
      ]
     },
     "metadata": {},
     "output_type": "display_data"
    },
    {
     "data": {
      "text/html": [],
      "text/plain": [
       "<IPython.core.display.HTML object>"
      ]
     },
     "metadata": {},
     "output_type": "display_data"
    },
    {
     "data": {
      "text/html": [],
      "text/plain": [
       "<IPython.core.display.HTML object>"
      ]
     },
     "metadata": {},
     "output_type": "display_data"
    },
    {
     "data": {
      "text/html": [],
      "text/plain": [
       "<IPython.core.display.HTML object>"
      ]
     },
     "metadata": {},
     "output_type": "display_data"
    },
    {
     "data": {
      "text/html": [],
      "text/plain": [
       "<IPython.core.display.HTML object>"
      ]
     },
     "metadata": {},
     "output_type": "display_data"
    },
    {
     "data": {
      "text/html": [],
      "text/plain": [
       "<IPython.core.display.HTML object>"
      ]
     },
     "metadata": {},
     "output_type": "display_data"
    },
    {
     "data": {
      "text/html": [],
      "text/plain": [
       "<IPython.core.display.HTML object>"
      ]
     },
     "metadata": {},
     "output_type": "display_data"
    },
    {
     "data": {
      "text/html": [],
      "text/plain": [
       "<IPython.core.display.HTML object>"
      ]
     },
     "metadata": {},
     "output_type": "display_data"
    },
    {
     "data": {
      "text/html": [],
      "text/plain": [
       "<IPython.core.display.HTML object>"
      ]
     },
     "metadata": {},
     "output_type": "display_data"
    },
    {
     "data": {
      "text/html": [],
      "text/plain": [
       "<IPython.core.display.HTML object>"
      ]
     },
     "metadata": {},
     "output_type": "display_data"
    },
    {
     "data": {
      "text/html": [],
      "text/plain": [
       "<IPython.core.display.HTML object>"
      ]
     },
     "metadata": {},
     "output_type": "display_data"
    },
    {
     "data": {
      "text/html": [],
      "text/plain": [
       "<IPython.core.display.HTML object>"
      ]
     },
     "metadata": {},
     "output_type": "display_data"
    },
    {
     "data": {
      "text/html": [],
      "text/plain": [
       "<IPython.core.display.HTML object>"
      ]
     },
     "metadata": {},
     "output_type": "display_data"
    },
    {
     "data": {
      "text/html": [],
      "text/plain": [
       "<IPython.core.display.HTML object>"
      ]
     },
     "metadata": {},
     "output_type": "display_data"
    },
    {
     "data": {
      "text/html": [],
      "text/plain": [
       "<IPython.core.display.HTML object>"
      ]
     },
     "metadata": {},
     "output_type": "display_data"
    },
    {
     "data": {
      "text/html": [],
      "text/plain": [
       "<IPython.core.display.HTML object>"
      ]
     },
     "metadata": {},
     "output_type": "display_data"
    },
    {
     "data": {
      "text/html": [],
      "text/plain": [
       "<IPython.core.display.HTML object>"
      ]
     },
     "metadata": {},
     "output_type": "display_data"
    },
    {
     "data": {
      "text/html": [],
      "text/plain": [
       "<IPython.core.display.HTML object>"
      ]
     },
     "metadata": {},
     "output_type": "display_data"
    },
    {
     "data": {
      "text/html": [],
      "text/plain": [
       "<IPython.core.display.HTML object>"
      ]
     },
     "metadata": {},
     "output_type": "display_data"
    },
    {
     "data": {
      "text/html": [],
      "text/plain": [
       "<IPython.core.display.HTML object>"
      ]
     },
     "metadata": {},
     "output_type": "display_data"
    },
    {
     "data": {
      "text/html": [],
      "text/plain": [
       "<IPython.core.display.HTML object>"
      ]
     },
     "metadata": {},
     "output_type": "display_data"
    },
    {
     "data": {
      "text/html": [],
      "text/plain": [
       "<IPython.core.display.HTML object>"
      ]
     },
     "metadata": {},
     "output_type": "display_data"
    },
    {
     "data": {
      "text/html": [],
      "text/plain": [
       "<IPython.core.display.HTML object>"
      ]
     },
     "metadata": {},
     "output_type": "display_data"
    },
    {
     "data": {
      "text/html": [],
      "text/plain": [
       "<IPython.core.display.HTML object>"
      ]
     },
     "metadata": {},
     "output_type": "display_data"
    },
    {
     "data": {
      "text/html": [],
      "text/plain": [
       "<IPython.core.display.HTML object>"
      ]
     },
     "metadata": {},
     "output_type": "display_data"
    },
    {
     "data": {
      "text/html": [],
      "text/plain": [
       "<IPython.core.display.HTML object>"
      ]
     },
     "metadata": {},
     "output_type": "display_data"
    },
    {
     "data": {
      "text/html": [],
      "text/plain": [
       "<IPython.core.display.HTML object>"
      ]
     },
     "metadata": {},
     "output_type": "display_data"
    },
    {
     "data": {
      "text/html": [],
      "text/plain": [
       "<IPython.core.display.HTML object>"
      ]
     },
     "metadata": {},
     "output_type": "display_data"
    },
    {
     "data": {
      "text/html": [],
      "text/plain": [
       "<IPython.core.display.HTML object>"
      ]
     },
     "metadata": {},
     "output_type": "display_data"
    },
    {
     "data": {
      "text/html": [],
      "text/plain": [
       "<IPython.core.display.HTML object>"
      ]
     },
     "metadata": {},
     "output_type": "display_data"
    },
    {
     "data": {
      "text/html": [],
      "text/plain": [
       "<IPython.core.display.HTML object>"
      ]
     },
     "metadata": {},
     "output_type": "display_data"
    },
    {
     "data": {
      "text/html": [],
      "text/plain": [
       "<IPython.core.display.HTML object>"
      ]
     },
     "metadata": {},
     "output_type": "display_data"
    },
    {
     "data": {
      "text/html": [],
      "text/plain": [
       "<IPython.core.display.HTML object>"
      ]
     },
     "metadata": {},
     "output_type": "display_data"
    },
    {
     "data": {
      "text/html": [],
      "text/plain": [
       "<IPython.core.display.HTML object>"
      ]
     },
     "metadata": {},
     "output_type": "display_data"
    },
    {
     "data": {
      "text/html": [],
      "text/plain": [
       "<IPython.core.display.HTML object>"
      ]
     },
     "metadata": {},
     "output_type": "display_data"
    },
    {
     "data": {
      "text/html": [],
      "text/plain": [
       "<IPython.core.display.HTML object>"
      ]
     },
     "metadata": {},
     "output_type": "display_data"
    },
    {
     "data": {
      "text/html": [],
      "text/plain": [
       "<IPython.core.display.HTML object>"
      ]
     },
     "metadata": {},
     "output_type": "display_data"
    },
    {
     "data": {
      "text/html": [],
      "text/plain": [
       "<IPython.core.display.HTML object>"
      ]
     },
     "metadata": {},
     "output_type": "display_data"
    },
    {
     "data": {
      "text/html": [],
      "text/plain": [
       "<IPython.core.display.HTML object>"
      ]
     },
     "metadata": {},
     "output_type": "display_data"
    },
    {
     "data": {
      "text/html": [],
      "text/plain": [
       "<IPython.core.display.HTML object>"
      ]
     },
     "metadata": {},
     "output_type": "display_data"
    },
    {
     "data": {
      "text/html": [],
      "text/plain": [
       "<IPython.core.display.HTML object>"
      ]
     },
     "metadata": {},
     "output_type": "display_data"
    },
    {
     "data": {
      "text/html": [],
      "text/plain": [
       "<IPython.core.display.HTML object>"
      ]
     },
     "metadata": {},
     "output_type": "display_data"
    },
    {
     "data": {
      "text/html": [],
      "text/plain": [
       "<IPython.core.display.HTML object>"
      ]
     },
     "metadata": {},
     "output_type": "display_data"
    },
    {
     "data": {
      "text/html": [],
      "text/plain": [
       "<IPython.core.display.HTML object>"
      ]
     },
     "metadata": {},
     "output_type": "display_data"
    },
    {
     "data": {
      "text/html": [],
      "text/plain": [
       "<IPython.core.display.HTML object>"
      ]
     },
     "metadata": {},
     "output_type": "display_data"
    },
    {
     "data": {
      "text/html": [],
      "text/plain": [
       "<IPython.core.display.HTML object>"
      ]
     },
     "metadata": {},
     "output_type": "display_data"
    },
    {
     "data": {
      "text/html": [],
      "text/plain": [
       "<IPython.core.display.HTML object>"
      ]
     },
     "metadata": {},
     "output_type": "display_data"
    },
    {
     "data": {
      "text/html": [],
      "text/plain": [
       "<IPython.core.display.HTML object>"
      ]
     },
     "metadata": {},
     "output_type": "display_data"
    },
    {
     "data": {
      "text/html": [],
      "text/plain": [
       "<IPython.core.display.HTML object>"
      ]
     },
     "metadata": {},
     "output_type": "display_data"
    },
    {
     "data": {
      "text/html": [],
      "text/plain": [
       "<IPython.core.display.HTML object>"
      ]
     },
     "metadata": {},
     "output_type": "display_data"
    },
    {
     "data": {
      "text/html": [],
      "text/plain": [
       "<IPython.core.display.HTML object>"
      ]
     },
     "metadata": {},
     "output_type": "display_data"
    },
    {
     "data": {
      "text/html": [],
      "text/plain": [
       "<IPython.core.display.HTML object>"
      ]
     },
     "metadata": {},
     "output_type": "display_data"
    },
    {
     "data": {
      "text/html": [],
      "text/plain": [
       "<IPython.core.display.HTML object>"
      ]
     },
     "metadata": {},
     "output_type": "display_data"
    },
    {
     "data": {
      "text/html": [],
      "text/plain": [
       "<IPython.core.display.HTML object>"
      ]
     },
     "metadata": {},
     "output_type": "display_data"
    },
    {
     "data": {
      "text/html": [],
      "text/plain": [
       "<IPython.core.display.HTML object>"
      ]
     },
     "metadata": {},
     "output_type": "display_data"
    },
    {
     "data": {
      "text/html": [],
      "text/plain": [
       "<IPython.core.display.HTML object>"
      ]
     },
     "metadata": {},
     "output_type": "display_data"
    },
    {
     "data": {
      "text/html": [],
      "text/plain": [
       "<IPython.core.display.HTML object>"
      ]
     },
     "metadata": {},
     "output_type": "display_data"
    },
    {
     "data": {
      "text/html": [],
      "text/plain": [
       "<IPython.core.display.HTML object>"
      ]
     },
     "metadata": {},
     "output_type": "display_data"
    },
    {
     "data": {
      "text/html": [],
      "text/plain": [
       "<IPython.core.display.HTML object>"
      ]
     },
     "metadata": {},
     "output_type": "display_data"
    },
    {
     "data": {
      "text/html": [],
      "text/plain": [
       "<IPython.core.display.HTML object>"
      ]
     },
     "metadata": {},
     "output_type": "display_data"
    },
    {
     "data": {
      "text/html": [],
      "text/plain": [
       "<IPython.core.display.HTML object>"
      ]
     },
     "metadata": {},
     "output_type": "display_data"
    },
    {
     "data": {
      "text/html": [],
      "text/plain": [
       "<IPython.core.display.HTML object>"
      ]
     },
     "metadata": {},
     "output_type": "display_data"
    },
    {
     "data": {
      "text/html": [],
      "text/plain": [
       "<IPython.core.display.HTML object>"
      ]
     },
     "metadata": {},
     "output_type": "display_data"
    },
    {
     "data": {
      "text/html": [],
      "text/plain": [
       "<IPython.core.display.HTML object>"
      ]
     },
     "metadata": {},
     "output_type": "display_data"
    },
    {
     "data": {
      "text/html": [],
      "text/plain": [
       "<IPython.core.display.HTML object>"
      ]
     },
     "metadata": {},
     "output_type": "display_data"
    },
    {
     "data": {
      "text/html": [],
      "text/plain": [
       "<IPython.core.display.HTML object>"
      ]
     },
     "metadata": {},
     "output_type": "display_data"
    }
   ],
   "source": [
    "lr_x_train = []\n",
    "lr_y_train = []\n",
    "\n",
    "dataset = x_train\n",
    "labels = y_train\n",
    "\n",
    "for i in range(0, dataset.shape[0]):\n",
    "    label = labels.iloc[i]\n",
    "    label_num = le.transform([label])[0]\n",
    "    text = dataset.iloc[i]\n",
    "    \n",
    "    roberta_pred_prob_arr = predictor.predict_proba([text])[0] \n",
    "    roberta_pred = np.argmax(roberta_pred_prob_arr)\n",
    "    roberta_vals = list(roberta_pred_prob_arr)\n",
    "    roberta_vals.append(roberta_pred)\n",
    "    \n",
    "    svm_pred_prob_arr = pipe.predict_proba([text])[0]\n",
    "    svm_pred = np.argmax(svm_pred_prob_arr)\n",
    "    svm_vals = list(svm_pred_prob_arr)\n",
    "    svm_vals.append(svm_pred)\n",
    "    \n",
    "    lr_x_train.append(roberta_vals + svm_vals)\n",
    "    lr_y_train.append(label_num)\n",
    "   "
   ]
  },
  {
   "cell_type": "markdown",
   "metadata": {
    "heading_collapsed": true
   },
   "source": [
    "### Training LRegression Model"
   ]
  },
  {
   "cell_type": "code",
   "execution_count": 68,
   "metadata": {
    "hidden": true
   },
   "outputs": [
    {
     "name": "stderr",
     "output_type": "stream",
     "text": [
      "C:\\Users\\Amer\\Miniconda3\\envs\\nlp\\lib\\site-packages\\sklearn\\utils\\validation.py:724: DataConversionWarning: A column-vector y was passed when a 1d array was expected. Please change the shape of y to (n_samples, ), for example using ravel().\n",
      "  y = column_or_1d(y, warn=True)\n"
     ]
    },
    {
     "data": {
      "text/plain": [
       "LogisticRegression(C=1.0, class_weight=None, dual=False, fit_intercept=True,\n",
       "                   intercept_scaling=1, l1_ratio=None, max_iter=100,\n",
       "                   multi_class='warn', n_jobs=None, penalty='l2',\n",
       "                   random_state=None, solver='warn', tol=0.0001, verbose=0,\n",
       "                   warm_start=False)"
      ]
     },
     "execution_count": 68,
     "metadata": {},
     "output_type": "execute_result"
    }
   ],
   "source": [
    "lr_x_train_pd = pd.DataFrame(lr_x_train)\n",
    "lr_y_train_pd = pd.DataFrame(lr_y_train)\n",
    "\n",
    "\n",
    "lr_out = LogisticRegression()\n",
    "lr_out.fit(lr_x_train_pd, lr_y_train_pd)"
   ]
  }
 ],
 "metadata": {
  "celltoolbar": "Initialization Cell",
  "kernelspec": {
   "display_name": "Python 3",
   "language": "python",
   "name": "python3"
  },
  "language_info": {
   "codemirror_mode": {
    "name": "ipython",
    "version": 3
   },
   "file_extension": ".py",
   "mimetype": "text/x-python",
   "name": "python",
   "nbconvert_exporter": "python",
   "pygments_lexer": "ipython3",
   "version": "3.6.10"
  },
  "toc": {
   "base_numbering": 1,
   "nav_menu": {},
   "number_sections": true,
   "sideBar": true,
   "skip_h1_title": false,
   "title_cell": "Table of Contents",
   "title_sidebar": "Contents",
   "toc_cell": false,
   "toc_position": {
    "height": "calc(100% - 180px)",
    "left": "10px",
    "top": "150px",
    "width": "307.56px"
   },
   "toc_section_display": true,
   "toc_window_display": true
  }
 },
 "nbformat": 4,
 "nbformat_minor": 4
}
